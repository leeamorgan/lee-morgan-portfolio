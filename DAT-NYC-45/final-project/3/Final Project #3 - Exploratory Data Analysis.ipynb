{
 "cells": [
  {
   "cell_type": "markdown",
   "metadata": {},
   "source": [
    "# Predicting Online Credit Card Applications (Digital Advertising)\n",
    "*Final Project #3: Exploratory Data Analysis*\n",
    "<br>*Jan 28, 2017*"
   ]
  },
  {
   "cell_type": "markdown",
   "metadata": {},
   "source": [
    "## I. Import Packages and Data"
   ]
  },
  {
   "cell_type": "code",
   "execution_count": 191,
   "metadata": {
    "collapsed": false
   },
   "outputs": [],
   "source": [
    "import pandas as pd\n",
    "import numpy as np\n",
    "import seaborn as sb\n",
    "import matplotlib.pyplot as plt\n",
    "%matplotlib inline\n",
    "\n",
    "# Set the global default size of matplotlib figures to 10 inches wide by 5 inches tall\n",
    "#plt.style.use('ggplot')\n",
    "#import numpy as np\n",
    "#import os"
   ]
  },
  {
   "cell_type": "code",
   "execution_count": 2,
   "metadata": {
    "collapsed": false
   },
   "outputs": [
    {
     "data": {
      "text/html": [
       "<div>\n",
       "<table border=\"1\" class=\"dataframe\">\n",
       "  <thead>\n",
       "    <tr style=\"text-align: right;\">\n",
       "      <th></th>\n",
       "      <th>User_ID</th>\n",
       "      <th>Impressions</th>\n",
       "      <th>TimeDiff_Minutes</th>\n",
       "      <th>TimeDiff_Minutes_AVG</th>\n",
       "      <th>Funnel_Upper_Imp</th>\n",
       "      <th>Funnel_Middle_Imp</th>\n",
       "      <th>Funnel_Lower_Imp</th>\n",
       "      <th>Campaign_Message_Travel_Imp</th>\n",
       "      <th>Campaign_Message_Service_Imp</th>\n",
       "      <th>Campaign_Message_Family_Travel_Imp</th>\n",
       "      <th>...</th>\n",
       "      <th>Creative_Size_320x480_Imp</th>\n",
       "      <th>Creative_Size_Uknown_Imp</th>\n",
       "      <th>Device_Desktop_Imp</th>\n",
       "      <th>Device_Other_Imp</th>\n",
       "      <th>Device_Mobile_Imp</th>\n",
       "      <th>Active_View_Eligible_Impressions</th>\n",
       "      <th>Active_View_Measurable_Impressions</th>\n",
       "      <th>Active_View_Viewable_Impressions</th>\n",
       "      <th>Clicks</th>\n",
       "      <th>Conversions</th>\n",
       "    </tr>\n",
       "  </thead>\n",
       "  <tbody>\n",
       "    <tr>\n",
       "      <th>0</th>\n",
       "      <td>AMsySZYlP3l94iys9P9WaBXIWE6B</td>\n",
       "      <td>3</td>\n",
       "      <td>2.0</td>\n",
       "      <td>1.00</td>\n",
       "      <td>0</td>\n",
       "      <td>3</td>\n",
       "      <td>0</td>\n",
       "      <td>0</td>\n",
       "      <td>3</td>\n",
       "      <td>0</td>\n",
       "      <td>...</td>\n",
       "      <td>0</td>\n",
       "      <td>0</td>\n",
       "      <td>0</td>\n",
       "      <td>0</td>\n",
       "      <td>3</td>\n",
       "      <td>0</td>\n",
       "      <td>0</td>\n",
       "      <td>0</td>\n",
       "      <td>NaN</td>\n",
       "      <td>NaN</td>\n",
       "    </tr>\n",
       "    <tr>\n",
       "      <th>1</th>\n",
       "      <td>AMsySZbdCy7kK0BqCq38AvgzDJ7y</td>\n",
       "      <td>3</td>\n",
       "      <td>1.0</td>\n",
       "      <td>0.50</td>\n",
       "      <td>0</td>\n",
       "      <td>3</td>\n",
       "      <td>0</td>\n",
       "      <td>3</td>\n",
       "      <td>0</td>\n",
       "      <td>0</td>\n",
       "      <td>...</td>\n",
       "      <td>0</td>\n",
       "      <td>0</td>\n",
       "      <td>3</td>\n",
       "      <td>0</td>\n",
       "      <td>0</td>\n",
       "      <td>3</td>\n",
       "      <td>3</td>\n",
       "      <td>1</td>\n",
       "      <td>NaN</td>\n",
       "      <td>NaN</td>\n",
       "    </tr>\n",
       "    <tr>\n",
       "      <th>2</th>\n",
       "      <td>AMsySZbsx0jjk_iOfpRCVx2ss3v8</td>\n",
       "      <td>2</td>\n",
       "      <td>12.0</td>\n",
       "      <td>12.00</td>\n",
       "      <td>0</td>\n",
       "      <td>2</td>\n",
       "      <td>0</td>\n",
       "      <td>0</td>\n",
       "      <td>0</td>\n",
       "      <td>0</td>\n",
       "      <td>...</td>\n",
       "      <td>0</td>\n",
       "      <td>0</td>\n",
       "      <td>2</td>\n",
       "      <td>0</td>\n",
       "      <td>0</td>\n",
       "      <td>2</td>\n",
       "      <td>2</td>\n",
       "      <td>1</td>\n",
       "      <td>NaN</td>\n",
       "      <td>NaN</td>\n",
       "    </tr>\n",
       "    <tr>\n",
       "      <th>3</th>\n",
       "      <td>AMsySZZnAR-zSA0aCGVZkfhupUhU</td>\n",
       "      <td>5</td>\n",
       "      <td>23033.0</td>\n",
       "      <td>5758.25</td>\n",
       "      <td>0</td>\n",
       "      <td>5</td>\n",
       "      <td>0</td>\n",
       "      <td>0</td>\n",
       "      <td>0</td>\n",
       "      <td>0</td>\n",
       "      <td>...</td>\n",
       "      <td>0</td>\n",
       "      <td>0</td>\n",
       "      <td>0</td>\n",
       "      <td>0</td>\n",
       "      <td>5</td>\n",
       "      <td>5</td>\n",
       "      <td>5</td>\n",
       "      <td>5</td>\n",
       "      <td>NaN</td>\n",
       "      <td>NaN</td>\n",
       "    </tr>\n",
       "    <tr>\n",
       "      <th>4</th>\n",
       "      <td>AMsySZb1yHw6ewPTnb7h39vBdCh8</td>\n",
       "      <td>2</td>\n",
       "      <td>188.0</td>\n",
       "      <td>188.00</td>\n",
       "      <td>0</td>\n",
       "      <td>2</td>\n",
       "      <td>0</td>\n",
       "      <td>0</td>\n",
       "      <td>0</td>\n",
       "      <td>0</td>\n",
       "      <td>...</td>\n",
       "      <td>0</td>\n",
       "      <td>0</td>\n",
       "      <td>2</td>\n",
       "      <td>0</td>\n",
       "      <td>0</td>\n",
       "      <td>2</td>\n",
       "      <td>2</td>\n",
       "      <td>1</td>\n",
       "      <td>NaN</td>\n",
       "      <td>NaN</td>\n",
       "    </tr>\n",
       "  </tbody>\n",
       "</table>\n",
       "<p>5 rows × 36 columns</p>\n",
       "</div>"
      ],
      "text/plain": [
       "                        User_ID  Impressions  TimeDiff_Minutes  \\\n",
       "0  AMsySZYlP3l94iys9P9WaBXIWE6B            3               2.0   \n",
       "1  AMsySZbdCy7kK0BqCq38AvgzDJ7y            3               1.0   \n",
       "2  AMsySZbsx0jjk_iOfpRCVx2ss3v8            2              12.0   \n",
       "3  AMsySZZnAR-zSA0aCGVZkfhupUhU            5           23033.0   \n",
       "4  AMsySZb1yHw6ewPTnb7h39vBdCh8            2             188.0   \n",
       "\n",
       "   TimeDiff_Minutes_AVG  Funnel_Upper_Imp  Funnel_Middle_Imp  \\\n",
       "0                  1.00                 0                  3   \n",
       "1                  0.50                 0                  3   \n",
       "2                 12.00                 0                  2   \n",
       "3               5758.25                 0                  5   \n",
       "4                188.00                 0                  2   \n",
       "\n",
       "   Funnel_Lower_Imp  Campaign_Message_Travel_Imp  \\\n",
       "0                 0                            0   \n",
       "1                 0                            3   \n",
       "2                 0                            0   \n",
       "3                 0                            0   \n",
       "4                 0                            0   \n",
       "\n",
       "   Campaign_Message_Service_Imp  Campaign_Message_Family_Travel_Imp  \\\n",
       "0                             3                                   0   \n",
       "1                             0                                   0   \n",
       "2                             0                                   0   \n",
       "3                             0                                   0   \n",
       "4                             0                                   0   \n",
       "\n",
       "      ...       Creative_Size_320x480_Imp  Creative_Size_Uknown_Imp  \\\n",
       "0     ...                               0                         0   \n",
       "1     ...                               0                         0   \n",
       "2     ...                               0                         0   \n",
       "3     ...                               0                         0   \n",
       "4     ...                               0                         0   \n",
       "\n",
       "   Device_Desktop_Imp  Device_Other_Imp  Device_Mobile_Imp  \\\n",
       "0                   0                 0                  3   \n",
       "1                   3                 0                  0   \n",
       "2                   2                 0                  0   \n",
       "3                   0                 0                  5   \n",
       "4                   2                 0                  0   \n",
       "\n",
       "   Active_View_Eligible_Impressions  Active_View_Measurable_Impressions  \\\n",
       "0                                 0                                   0   \n",
       "1                                 3                                   3   \n",
       "2                                 2                                   2   \n",
       "3                                 5                                   5   \n",
       "4                                 2                                   2   \n",
       "\n",
       "   Active_View_Viewable_Impressions  Clicks  Conversions  \n",
       "0                                 0     NaN          NaN  \n",
       "1                                 1     NaN          NaN  \n",
       "2                                 1     NaN          NaN  \n",
       "3                                 5     NaN          NaN  \n",
       "4                                 1     NaN          NaN  \n",
       "\n",
       "[5 rows x 36 columns]"
      ]
     },
     "execution_count": 2,
     "metadata": {},
     "output_type": "execute_result"
    }
   ],
   "source": [
    "data = pd.read_csv('../data/DATA_FOR_MODEL_20perc.csv', sep=',')\n",
    "data.head()"
   ]
  },
  {
   "cell_type": "markdown",
   "metadata": {},
   "source": [
    "## II. Dataset Description\n",
    "*Update from Final Project #2 since the data was manipulated to this format in SQL*\n",
    "* **Time frame:** Nov 8-Dec 31, 2016\n",
    "* **Scope:**\n",
    "    * Canada\n",
    "    * All of the client's campaigns and strategies \n",
    "    * Only ads served via DoubleClick Bid Manager (DBM)\n",
    "* **Observations at User-level:** The original datasets are at the event-level, e.g. each ad impression.  For this exploratory data analysis, we have already used the **user_id** dimension to collapse the datasets so we have a row for each user.  Therefore, each row of data summarizes the ad exposure for each user during the time period.\n",
    "\n",
    "Field|Data Type|Type of Variable|Description\n",
    "---|---|---|---\n",
    "User_ID|String|N/A|Unique Identified for each user\n",
    "Impressions|Integer|Continuous|Total of ads shown to the user\n",
    "TimeDiff_Minutes|Float|Continuous|Total time in minutes between first and last impression, Null if only one impression\n",
    "TimeDiff_Minutes_AVG|Float|Continuous|Average time in minutes between ad impresions, Null if only one impression\n",
    "Funnel_Upper_Imp|Integer|Continuous|Total impressions from Upper Funnel campaigns\n",
    "Funnel_Middle_Imp|Integer|Continuous|Total impressions from Middle Funnel campaigns\n",
    "Funnel_Lower_Imp|Integer|Continuous|Total impressions from Lower Funnel campaigns\n",
    "Campaign_Message_Travel_Imp|Integer|Continuous|Total impressions from ads with a \"Travel\" message\n",
    "Campaign_Message_Service_Imp|Integer|Continuous|Total impressions from ads with a \"Service\" message\n",
    "Campaign_Message_Family_Travel_Imp|Integer|Continuous|Total impressions from ads with a \"Family Travel\" message\n",
    "Campaign_Card_Cash_Rewards_Imp|Integer|Continuous|Total impressions from ads with a \"Cash Rewards\" message\n",
    "Campaign_Card_Premium_Rewards_Imp|Integer|Continuous|Total impressions from ads with a \"Premium Rewards\" message\n",
    "Campaign_Card_Other_Imp|Integer|Continuous|Total impressions from ads with a \"Other Card\" message\n",
    "Creative_Type_Display_Imp|Integer|Continuous|Total impressions from creative type \"Display\"\n",
    "Creative_Type_TrueView_Imp|Integer|Continuous|Total impressions from creative type \"TrueView\"\n",
    "Creative_Type_RichMediaExpanding_Imp|Integer|Continuous|Total impressions from creative type \"Rich Media Expanding\"\n",
    "Creative_Type_RichMedia_Imp|Integer|Continuous|Total impressions from creative type \"Rich Media Display\"\n",
    "Creative_Size_728x90_Imp|Integer|Continuous|Total impressions from creative size 728x90\n",
    "Creative_Size_300x600_Imp|Integer|Continuous|Total impressions from creative size 300x600\n",
    "Creative_Size_300x250_Imp|Integer|Continuous|Total impressions from creative size 300x250\n",
    "Creative_Size_160x600_Imp|Integer|Continuous|Total impressions from creative size 160x600\n",
    "Creative_Size_468x60_Imp|Integer|Continuous|Total impressions from creative size 468x60\n",
    "Creative_Size_300x50_Imp|Integer|Continuous|Total impressions from creative size 300x50\n",
    "Creative_Size_320x50_Imp|Integer|Continuous|Total impressions from creative size 320x50\n",
    "Creative_Size_320x420_Imp|Integer|Continuous|Total impressions from creative size 320x420\n",
    "Creative_Size_480x320_Imp|Integer|Continuous|Total impressions from creative size 480x320\n",
    "Creative_Size_320x480_Imp|Integer|Continuous|Total impressions from creative size 320x480\n",
    "Creative_Size_Uknown_Imp|Integer|Continuous|Total impressions from unknown creative size\n",
    "Device_Desktop_Imp|Integer|Continuous|Total impressions from desktops\n",
    "Device_Other_Imp|Integer|Continuous|Total impressions from mobile devices\n",
    "Device_Mobile_Imp|Integer|Continuous|Total impressions from other devices (e.g. gaming consoles)\n",
    "Active_View_Eligible_Impressions|Integer|Continuous|Total impressions that were eligible for viewability measurement\n",
    "Active_View_Measurable_Impressions|Integer|Continuous|Total impressions that were measureable\n",
    "Active_View_Viewable_Impressions|Integer|Continuous|Total impressions that viewable\n",
    "Clicks|Float|Continuous|Total ad clicks\n",
    "Conversions|Float|Continuous|Total conversions, i.e. online credit card applications"
   ]
  },
  {
   "cell_type": "markdown",
   "metadata": {},
   "source": [
    "## III. Data Cleaning & New Columns"
   ]
  },
  {
   "cell_type": "markdown",
   "metadata": {},
   "source": [
    "### A. Handle missing data"
   ]
  },
  {
   "cell_type": "code",
   "execution_count": 3,
   "metadata": {
    "collapsed": false
   },
   "outputs": [
    {
     "data": {
      "text/plain": [
       "Conversions                             3036278\n",
       "Clicks                                  2978667\n",
       "TimeDiff_Minutes                        1313000\n",
       "TimeDiff_Minutes_AVG                    1313000\n",
       "Campaign_Card_Cash_Rewards_Imp                0\n",
       "Creative_Type_RichMediaExpanding_Imp          0\n",
       "Creative_Type_TrueView_Imp                    0\n",
       "Creative_Type_Display_Imp                     0\n",
       "Campaign_Card_Other_Imp                       0\n",
       "Campaign_Card_Premium_Rewards_Imp             0\n",
       "Campaign_Message_Service_Imp                  0\n",
       "Campaign_Message_Family_Travel_Imp            0\n",
       "Campaign_Message_Travel_Imp                   0\n",
       "Funnel_Lower_Imp                              0\n",
       "Funnel_Middle_Imp                             0\n",
       "Funnel_Upper_Imp                              0\n",
       "Impressions                                   0\n",
       "Creative_Type_RichMedia_Imp                   0\n",
       "Creative_Size_728x90_Imp                      0\n",
       "Creative_Size_300x600_Imp                     0\n",
       "Creative_Size_Uknown_Imp                      0\n",
       "Active_View_Viewable_Impressions              0\n",
       "Active_View_Measurable_Impressions            0\n",
       "Active_View_Eligible_Impressions              0\n",
       "Device_Mobile_Imp                             0\n",
       "Device_Other_Imp                              0\n",
       "Device_Desktop_Imp                            0\n",
       "Creative_Size_320x480_Imp                     0\n",
       "Creative_Size_300x250_Imp                     0\n",
       "Creative_Size_480x320_Imp                     0\n",
       "Creative_Size_320x420_Imp                     0\n",
       "Creative_Size_320x50_Imp                      0\n",
       "Creative_Size_300x50_Imp                      0\n",
       "Creative_Size_468x60_Imp                      0\n",
       "Creative_Size_160x600_Imp                     0\n",
       "User_ID                                       0\n",
       "dtype: int64"
      ]
     },
     "execution_count": 3,
     "metadata": {},
     "output_type": "execute_result"
    }
   ],
   "source": [
    "# Find columns with null values\n",
    "data.isnull().sum().sort_values(ascending=False)"
   ]
  },
  {
   "cell_type": "markdown",
   "metadata": {
    "collapsed": false
   },
   "source": [
    "* **For Clicks and Conversions:** convert NULL values to zero\n",
    "* **For TimeDiff_Minutes and TimeDiff_Minutes_AVG:** leave as is for now since it is null when there was only one ad impression. To input into a model, we could possible change this to the mean values, but for exploratory analysis we will leave as NULL."
   ]
  },
  {
   "cell_type": "code",
   "execution_count": 4,
   "metadata": {
    "collapsed": false
   },
   "outputs": [],
   "source": [
    "# For Clicks,Conversion, convert NULL values to zero\n",
    "data['Clicks'].fillna(value=0,inplace=True)\n",
    "data['Conversions'].fillna(value=0,inplace=True)"
   ]
  },
  {
   "cell_type": "code",
   "execution_count": 5,
   "metadata": {
    "collapsed": false
   },
   "outputs": [
    {
     "name": "stdout",
     "output_type": "stream",
     "text": [
      "<class 'pandas.core.frame.DataFrame'>\n",
      "RangeIndex: 3036639 entries, 0 to 3036638\n",
      "Data columns (total 4 columns):\n",
      "Clicks                  3036639 non-null float64\n",
      "Conversions             3036639 non-null float64\n",
      "TimeDiff_Minutes        1723639 non-null float64\n",
      "TimeDiff_Minutes_AVG    1723639 non-null float64\n",
      "dtypes: float64(4)\n",
      "memory usage: 92.7 MB\n"
     ]
    }
   ],
   "source": [
    "data[['Clicks','Conversions','TimeDiff_Minutes','TimeDiff_Minutes_AVG']].info(null_counts=True)"
   ]
  },
  {
   "cell_type": "markdown",
   "metadata": {},
   "source": [
    "### B. Create Class Variable we will Predict"
   ]
  },
  {
   "cell_type": "markdown",
   "metadata": {},
   "source": [
    "Create a new categorical variable **Converted**, which will be 1 if the the user converted at least once, and zero if the user did not convert."
   ]
  },
  {
   "cell_type": "code",
   "execution_count": 6,
   "metadata": {
    "collapsed": false
   },
   "outputs": [
    {
     "data": {
      "text/plain": [
       "0    3036278\n",
       "1        361\n",
       "Name: Converted, dtype: int64"
      ]
     },
     "execution_count": 6,
     "metadata": {},
     "output_type": "execute_result"
    }
   ],
   "source": [
    "data['Converted'] = pd.Categorical([1 if x>0 else 0 for x in data['Conversions']])\n",
    "data['Converted'].value_counts()"
   ]
  },
  {
   "cell_type": "markdown",
   "metadata": {},
   "source": [
    "### C. Convert time features from Minutes to Hours and Days"
   ]
  },
  {
   "cell_type": "code",
   "execution_count": 202,
   "metadata": {
    "collapsed": false
   },
   "outputs": [],
   "source": [
    "data['TimeDiff_Hours'] = data['TimeDiff_Minutes']/60\n",
    "data['TimeDiff_Hours_AVG'] = data['TimeDiff_Minutes_AVG']/60\n",
    "\n",
    "data['TimeDiff_Days'] = data['TimeDiff_Minutes']/60/24\n",
    "data['TimeDiff_Days_AVG'] = data['TimeDiff_Minutes_AVG']/60/24"
   ]
  },
  {
   "cell_type": "code",
   "execution_count": 215,
   "metadata": {
    "collapsed": false
   },
   "outputs": [
    {
     "data": {
      "text/html": [
       "<div>\n",
       "<table border=\"1\" class=\"dataframe\">\n",
       "  <thead>\n",
       "    <tr style=\"text-align: right;\">\n",
       "      <th></th>\n",
       "      <th>TimeDiff_Minutes</th>\n",
       "      <th>TimeDiff_Hours</th>\n",
       "      <th>TimeDiff_Days</th>\n",
       "    </tr>\n",
       "  </thead>\n",
       "  <tbody>\n",
       "    <tr>\n",
       "      <th>2731794</th>\n",
       "      <td>3.0</td>\n",
       "      <td>0.05</td>\n",
       "      <td>0.002083</td>\n",
       "    </tr>\n",
       "    <tr>\n",
       "      <th>1393999</th>\n",
       "      <td>NaN</td>\n",
       "      <td>NaN</td>\n",
       "      <td>NaN</td>\n",
       "    </tr>\n",
       "    <tr>\n",
       "      <th>1872718</th>\n",
       "      <td>1581.0</td>\n",
       "      <td>26.35</td>\n",
       "      <td>1.097917</td>\n",
       "    </tr>\n",
       "    <tr>\n",
       "      <th>2462880</th>\n",
       "      <td>NaN</td>\n",
       "      <td>NaN</td>\n",
       "      <td>NaN</td>\n",
       "    </tr>\n",
       "    <tr>\n",
       "      <th>153765</th>\n",
       "      <td>0.0</td>\n",
       "      <td>0.00</td>\n",
       "      <td>0.000000</td>\n",
       "    </tr>\n",
       "  </tbody>\n",
       "</table>\n",
       "</div>"
      ],
      "text/plain": [
       "         TimeDiff_Minutes  TimeDiff_Hours  TimeDiff_Days\n",
       "2731794               3.0            0.05       0.002083\n",
       "1393999               NaN             NaN            NaN\n",
       "1872718            1581.0           26.35       1.097917\n",
       "2462880               NaN             NaN            NaN\n",
       "153765                0.0            0.00       0.000000"
      ]
     },
     "execution_count": 215,
     "metadata": {},
     "output_type": "execute_result"
    }
   ],
   "source": [
    "data[['TimeDiff_Minutes','TimeDiff_Hours','TimeDiff_Days']].sample(5)"
   ]
  },
  {
   "cell_type": "code",
   "execution_count": 217,
   "metadata": {
    "collapsed": false
   },
   "outputs": [
    {
     "data": {
      "text/html": [
       "<div>\n",
       "<table border=\"1\" class=\"dataframe\">\n",
       "  <thead>\n",
       "    <tr style=\"text-align: right;\">\n",
       "      <th></th>\n",
       "      <th>TimeDiff_Minutes_AVG</th>\n",
       "      <th>TimeDiff_Hours_AVG</th>\n",
       "      <th>TimeDiff_Days_AVG</th>\n",
       "    </tr>\n",
       "  </thead>\n",
       "  <tbody>\n",
       "    <tr>\n",
       "      <th>866149</th>\n",
       "      <td>NaN</td>\n",
       "      <td>NaN</td>\n",
       "      <td>NaN</td>\n",
       "    </tr>\n",
       "    <tr>\n",
       "      <th>2534528</th>\n",
       "      <td>3.000000</td>\n",
       "      <td>0.050000</td>\n",
       "      <td>0.002083</td>\n",
       "    </tr>\n",
       "    <tr>\n",
       "      <th>2182309</th>\n",
       "      <td>NaN</td>\n",
       "      <td>NaN</td>\n",
       "      <td>NaN</td>\n",
       "    </tr>\n",
       "    <tr>\n",
       "      <th>2391297</th>\n",
       "      <td>3043.888889</td>\n",
       "      <td>50.731481</td>\n",
       "      <td>2.113812</td>\n",
       "    </tr>\n",
       "    <tr>\n",
       "      <th>3007419</th>\n",
       "      <td>2885.571429</td>\n",
       "      <td>48.092857</td>\n",
       "      <td>2.003869</td>\n",
       "    </tr>\n",
       "  </tbody>\n",
       "</table>\n",
       "</div>"
      ],
      "text/plain": [
       "         TimeDiff_Minutes_AVG  TimeDiff_Hours_AVG  TimeDiff_Days_AVG\n",
       "866149                    NaN                 NaN                NaN\n",
       "2534528              3.000000            0.050000           0.002083\n",
       "2182309                   NaN                 NaN                NaN\n",
       "2391297           3043.888889           50.731481           2.113812\n",
       "3007419           2885.571429           48.092857           2.003869"
      ]
     },
     "execution_count": 217,
     "metadata": {},
     "output_type": "execute_result"
    }
   ],
   "source": [
    "data[['TimeDiff_Minutes_AVG','TimeDiff_Hours_AVG','TimeDiff_Days_AVG']].sample(5)"
   ]
  },
  {
   "cell_type": "markdown",
   "metadata": {
    "collapsed": false
   },
   "source": [
    "## IV. Analysis"
   ]
  },
  {
   "cell_type": "code",
   "execution_count": 7,
   "metadata": {
    "collapsed": true
   },
   "outputs": [],
   "source": [
    "#Define function for graphing distribution\n",
    "#Define function for graphing boxplots"
   ]
  },
  {
   "cell_type": "markdown",
   "metadata": {},
   "source": [
    "### A. Table Summary"
   ]
  },
  {
   "cell_type": "code",
   "execution_count": 8,
   "metadata": {
    "collapsed": false
   },
   "outputs": [
    {
     "data": {
      "text/plain": [
       "(3036639, 37)"
      ]
     },
     "execution_count": 8,
     "metadata": {},
     "output_type": "execute_result"
    }
   ],
   "source": [
    "#Observations (i.e. number of users)\n",
    "data.shape"
   ]
  },
  {
   "cell_type": "code",
   "execution_count": 9,
   "metadata": {
    "collapsed": false
   },
   "outputs": [
    {
     "data": {
      "text/html": [
       "<div>\n",
       "<table border=\"1\" class=\"dataframe\">\n",
       "  <thead>\n",
       "    <tr style=\"text-align: right;\">\n",
       "      <th></th>\n",
       "      <th>count</th>\n",
       "      <th>mean</th>\n",
       "      <th>std</th>\n",
       "      <th>min</th>\n",
       "      <th>25%</th>\n",
       "      <th>50%</th>\n",
       "      <th>75%</th>\n",
       "      <th>max</th>\n",
       "    </tr>\n",
       "  </thead>\n",
       "  <tbody>\n",
       "    <tr>\n",
       "      <th>Impressions</th>\n",
       "      <td>3036639.0</td>\n",
       "      <td>4.895185</td>\n",
       "      <td>16.007951</td>\n",
       "      <td>1.0</td>\n",
       "      <td>1.0</td>\n",
       "      <td>2.0</td>\n",
       "      <td>3.0</td>\n",
       "      <td>5600.0</td>\n",
       "    </tr>\n",
       "    <tr>\n",
       "      <th>TimeDiff_Minutes</th>\n",
       "      <td>1723639.0</td>\n",
       "      <td>11500.443955</td>\n",
       "      <td>17081.564854</td>\n",
       "      <td>0.0</td>\n",
       "      <td>4.0</td>\n",
       "      <td>1481.0</td>\n",
       "      <td>18270.0</td>\n",
       "      <td>76528.0</td>\n",
       "    </tr>\n",
       "    <tr>\n",
       "      <th>TimeDiff_Minutes_AVG</th>\n",
       "      <td>1723639.0</td>\n",
       "      <td>2872.849551</td>\n",
       "      <td>6229.652206</td>\n",
       "      <td>0.0</td>\n",
       "      <td>2.0</td>\n",
       "      <td>416.0</td>\n",
       "      <td>2910.0</td>\n",
       "      <td>76164.0</td>\n",
       "    </tr>\n",
       "    <tr>\n",
       "      <th>Funnel_Upper_Imp</th>\n",
       "      <td>3036639.0</td>\n",
       "      <td>0.697226</td>\n",
       "      <td>3.598055</td>\n",
       "      <td>0.0</td>\n",
       "      <td>0.0</td>\n",
       "      <td>0.0</td>\n",
       "      <td>0.0</td>\n",
       "      <td>279.0</td>\n",
       "    </tr>\n",
       "    <tr>\n",
       "      <th>Funnel_Middle_Imp</th>\n",
       "      <td>3036639.0</td>\n",
       "      <td>2.824682</td>\n",
       "      <td>6.536556</td>\n",
       "      <td>0.0</td>\n",
       "      <td>1.0</td>\n",
       "      <td>1.0</td>\n",
       "      <td>3.0</td>\n",
       "      <td>2126.0</td>\n",
       "    </tr>\n",
       "    <tr>\n",
       "      <th>Funnel_Lower_Imp</th>\n",
       "      <td>3036639.0</td>\n",
       "      <td>1.373277</td>\n",
       "      <td>13.176749</td>\n",
       "      <td>0.0</td>\n",
       "      <td>0.0</td>\n",
       "      <td>0.0</td>\n",
       "      <td>0.0</td>\n",
       "      <td>5600.0</td>\n",
       "    </tr>\n",
       "    <tr>\n",
       "      <th>Campaign_Message_Travel_Imp</th>\n",
       "      <td>3036639.0</td>\n",
       "      <td>1.027747</td>\n",
       "      <td>7.017979</td>\n",
       "      <td>0.0</td>\n",
       "      <td>0.0</td>\n",
       "      <td>0.0</td>\n",
       "      <td>0.0</td>\n",
       "      <td>2454.0</td>\n",
       "    </tr>\n",
       "    <tr>\n",
       "      <th>Campaign_Message_Service_Imp</th>\n",
       "      <td>3036639.0</td>\n",
       "      <td>1.302376</td>\n",
       "      <td>8.466440</td>\n",
       "      <td>0.0</td>\n",
       "      <td>0.0</td>\n",
       "      <td>0.0</td>\n",
       "      <td>0.0</td>\n",
       "      <td>3429.0</td>\n",
       "    </tr>\n",
       "    <tr>\n",
       "      <th>Campaign_Message_Family_Travel_Imp</th>\n",
       "      <td>3036639.0</td>\n",
       "      <td>0.453913</td>\n",
       "      <td>2.628486</td>\n",
       "      <td>0.0</td>\n",
       "      <td>0.0</td>\n",
       "      <td>0.0</td>\n",
       "      <td>0.0</td>\n",
       "      <td>477.0</td>\n",
       "    </tr>\n",
       "    <tr>\n",
       "      <th>Campaign_Card_Cash_Rewards_Imp</th>\n",
       "      <td>3036639.0</td>\n",
       "      <td>1.133945</td>\n",
       "      <td>6.950091</td>\n",
       "      <td>0.0</td>\n",
       "      <td>0.0</td>\n",
       "      <td>0.0</td>\n",
       "      <td>1.0</td>\n",
       "      <td>4373.0</td>\n",
       "    </tr>\n",
       "    <tr>\n",
       "      <th>Campaign_Card_Premium_Rewards_Imp</th>\n",
       "      <td>3036639.0</td>\n",
       "      <td>0.960407</td>\n",
       "      <td>3.314858</td>\n",
       "      <td>0.0</td>\n",
       "      <td>0.0</td>\n",
       "      <td>0.0</td>\n",
       "      <td>1.0</td>\n",
       "      <td>1227.0</td>\n",
       "    </tr>\n",
       "    <tr>\n",
       "      <th>Campaign_Card_Other_Imp</th>\n",
       "      <td>3036639.0</td>\n",
       "      <td>0.016798</td>\n",
       "      <td>1.181684</td>\n",
       "      <td>0.0</td>\n",
       "      <td>0.0</td>\n",
       "      <td>0.0</td>\n",
       "      <td>0.0</td>\n",
       "      <td>1174.0</td>\n",
       "    </tr>\n",
       "    <tr>\n",
       "      <th>Creative_Type_Display_Imp</th>\n",
       "      <td>3036639.0</td>\n",
       "      <td>3.061948</td>\n",
       "      <td>13.277539</td>\n",
       "      <td>0.0</td>\n",
       "      <td>0.0</td>\n",
       "      <td>1.0</td>\n",
       "      <td>2.0</td>\n",
       "      <td>3756.0</td>\n",
       "    </tr>\n",
       "    <tr>\n",
       "      <th>Creative_Type_TrueView_Imp</th>\n",
       "      <td>3036639.0</td>\n",
       "      <td>0.823099</td>\n",
       "      <td>3.831842</td>\n",
       "      <td>0.0</td>\n",
       "      <td>0.0</td>\n",
       "      <td>0.0</td>\n",
       "      <td>0.0</td>\n",
       "      <td>297.0</td>\n",
       "    </tr>\n",
       "    <tr>\n",
       "      <th>Creative_Type_RichMediaExpanding_Imp</th>\n",
       "      <td>3036639.0</td>\n",
       "      <td>0.425200</td>\n",
       "      <td>2.228224</td>\n",
       "      <td>0.0</td>\n",
       "      <td>0.0</td>\n",
       "      <td>0.0</td>\n",
       "      <td>0.0</td>\n",
       "      <td>399.0</td>\n",
       "    </tr>\n",
       "    <tr>\n",
       "      <th>Creative_Type_RichMedia_Imp</th>\n",
       "      <td>3036639.0</td>\n",
       "      <td>0.584938</td>\n",
       "      <td>4.211837</td>\n",
       "      <td>0.0</td>\n",
       "      <td>0.0</td>\n",
       "      <td>0.0</td>\n",
       "      <td>0.0</td>\n",
       "      <td>3789.0</td>\n",
       "    </tr>\n",
       "    <tr>\n",
       "      <th>Creative_Size_728x90_Imp</th>\n",
       "      <td>3036639.0</td>\n",
       "      <td>0.563200</td>\n",
       "      <td>5.065178</td>\n",
       "      <td>0.0</td>\n",
       "      <td>0.0</td>\n",
       "      <td>0.0</td>\n",
       "      <td>0.0</td>\n",
       "      <td>3635.0</td>\n",
       "    </tr>\n",
       "    <tr>\n",
       "      <th>Creative_Size_300x600_Imp</th>\n",
       "      <td>3036639.0</td>\n",
       "      <td>0.045220</td>\n",
       "      <td>0.479129</td>\n",
       "      <td>0.0</td>\n",
       "      <td>0.0</td>\n",
       "      <td>0.0</td>\n",
       "      <td>0.0</td>\n",
       "      <td>159.0</td>\n",
       "    </tr>\n",
       "    <tr>\n",
       "      <th>Creative_Size_300x250_Imp</th>\n",
       "      <td>3036639.0</td>\n",
       "      <td>2.386248</td>\n",
       "      <td>10.230217</td>\n",
       "      <td>0.0</td>\n",
       "      <td>0.0</td>\n",
       "      <td>1.0</td>\n",
       "      <td>2.0</td>\n",
       "      <td>3768.0</td>\n",
       "    </tr>\n",
       "    <tr>\n",
       "      <th>Creative_Size_160x600_Imp</th>\n",
       "      <td>3036639.0</td>\n",
       "      <td>0.769748</td>\n",
       "      <td>4.418337</td>\n",
       "      <td>0.0</td>\n",
       "      <td>0.0</td>\n",
       "      <td>0.0</td>\n",
       "      <td>0.0</td>\n",
       "      <td>1709.0</td>\n",
       "    </tr>\n",
       "    <tr>\n",
       "      <th>Creative_Size_468x60_Imp</th>\n",
       "      <td>3036639.0</td>\n",
       "      <td>0.000000</td>\n",
       "      <td>0.000000</td>\n",
       "      <td>0.0</td>\n",
       "      <td>0.0</td>\n",
       "      <td>0.0</td>\n",
       "      <td>0.0</td>\n",
       "      <td>0.0</td>\n",
       "    </tr>\n",
       "    <tr>\n",
       "      <th>Creative_Size_300x50_Imp</th>\n",
       "      <td>3036639.0</td>\n",
       "      <td>0.011115</td>\n",
       "      <td>0.271626</td>\n",
       "      <td>0.0</td>\n",
       "      <td>0.0</td>\n",
       "      <td>0.0</td>\n",
       "      <td>0.0</td>\n",
       "      <td>132.0</td>\n",
       "    </tr>\n",
       "    <tr>\n",
       "      <th>Creative_Size_320x50_Imp</th>\n",
       "      <td>3036639.0</td>\n",
       "      <td>0.291092</td>\n",
       "      <td>1.514900</td>\n",
       "      <td>0.0</td>\n",
       "      <td>0.0</td>\n",
       "      <td>0.0</td>\n",
       "      <td>0.0</td>\n",
       "      <td>215.0</td>\n",
       "    </tr>\n",
       "    <tr>\n",
       "      <th>Creative_Size_320x420_Imp</th>\n",
       "      <td>3036639.0</td>\n",
       "      <td>0.000700</td>\n",
       "      <td>0.039706</td>\n",
       "      <td>0.0</td>\n",
       "      <td>0.0</td>\n",
       "      <td>0.0</td>\n",
       "      <td>0.0</td>\n",
       "      <td>20.0</td>\n",
       "    </tr>\n",
       "    <tr>\n",
       "      <th>Creative_Size_480x320_Imp</th>\n",
       "      <td>3036639.0</td>\n",
       "      <td>0.000230</td>\n",
       "      <td>0.021208</td>\n",
       "      <td>0.0</td>\n",
       "      <td>0.0</td>\n",
       "      <td>0.0</td>\n",
       "      <td>0.0</td>\n",
       "      <td>11.0</td>\n",
       "    </tr>\n",
       "    <tr>\n",
       "      <th>Creative_Size_320x480_Imp</th>\n",
       "      <td>3036639.0</td>\n",
       "      <td>0.004533</td>\n",
       "      <td>0.130060</td>\n",
       "      <td>0.0</td>\n",
       "      <td>0.0</td>\n",
       "      <td>0.0</td>\n",
       "      <td>0.0</td>\n",
       "      <td>22.0</td>\n",
       "    </tr>\n",
       "    <tr>\n",
       "      <th>Creative_Size_Uknown_Imp</th>\n",
       "      <td>3036639.0</td>\n",
       "      <td>0.823099</td>\n",
       "      <td>3.831842</td>\n",
       "      <td>0.0</td>\n",
       "      <td>0.0</td>\n",
       "      <td>0.0</td>\n",
       "      <td>0.0</td>\n",
       "      <td>297.0</td>\n",
       "    </tr>\n",
       "    <tr>\n",
       "      <th>Device_Desktop_Imp</th>\n",
       "      <td>3036639.0</td>\n",
       "      <td>3.775509</td>\n",
       "      <td>15.833624</td>\n",
       "      <td>0.0</td>\n",
       "      <td>0.0</td>\n",
       "      <td>1.0</td>\n",
       "      <td>3.0</td>\n",
       "      <td>5600.0</td>\n",
       "    </tr>\n",
       "    <tr>\n",
       "      <th>Device_Other_Imp</th>\n",
       "      <td>3036639.0</td>\n",
       "      <td>0.133676</td>\n",
       "      <td>1.373923</td>\n",
       "      <td>0.0</td>\n",
       "      <td>0.0</td>\n",
       "      <td>0.0</td>\n",
       "      <td>0.0</td>\n",
       "      <td>240.0</td>\n",
       "    </tr>\n",
       "    <tr>\n",
       "      <th>Device_Mobile_Imp</th>\n",
       "      <td>3036639.0</td>\n",
       "      <td>0.986001</td>\n",
       "      <td>3.517615</td>\n",
       "      <td>0.0</td>\n",
       "      <td>0.0</td>\n",
       "      <td>0.0</td>\n",
       "      <td>1.0</td>\n",
       "      <td>399.0</td>\n",
       "    </tr>\n",
       "    <tr>\n",
       "      <th>Active_View_Eligible_Impressions</th>\n",
       "      <td>3036639.0</td>\n",
       "      <td>3.662687</td>\n",
       "      <td>14.771905</td>\n",
       "      <td>0.0</td>\n",
       "      <td>0.0</td>\n",
       "      <td>1.0</td>\n",
       "      <td>3.0</td>\n",
       "      <td>5600.0</td>\n",
       "    </tr>\n",
       "    <tr>\n",
       "      <th>Active_View_Measurable_Impressions</th>\n",
       "      <td>3036639.0</td>\n",
       "      <td>3.470005</td>\n",
       "      <td>14.300888</td>\n",
       "      <td>-8.0</td>\n",
       "      <td>0.0</td>\n",
       "      <td>1.0</td>\n",
       "      <td>3.0</td>\n",
       "      <td>5600.0</td>\n",
       "    </tr>\n",
       "    <tr>\n",
       "      <th>Active_View_Viewable_Impressions</th>\n",
       "      <td>3036639.0</td>\n",
       "      <td>2.083404</td>\n",
       "      <td>10.465145</td>\n",
       "      <td>0.0</td>\n",
       "      <td>0.0</td>\n",
       "      <td>1.0</td>\n",
       "      <td>2.0</td>\n",
       "      <td>5311.0</td>\n",
       "    </tr>\n",
       "    <tr>\n",
       "      <th>Clicks</th>\n",
       "      <td>3036639.0</td>\n",
       "      <td>0.030889</td>\n",
       "      <td>0.443608</td>\n",
       "      <td>0.0</td>\n",
       "      <td>0.0</td>\n",
       "      <td>0.0</td>\n",
       "      <td>0.0</td>\n",
       "      <td>290.0</td>\n",
       "    </tr>\n",
       "    <tr>\n",
       "      <th>Conversions</th>\n",
       "      <td>3036639.0</td>\n",
       "      <td>0.000131</td>\n",
       "      <td>0.013022</td>\n",
       "      <td>0.0</td>\n",
       "      <td>0.0</td>\n",
       "      <td>0.0</td>\n",
       "      <td>0.0</td>\n",
       "      <td>6.0</td>\n",
       "    </tr>\n",
       "  </tbody>\n",
       "</table>\n",
       "</div>"
      ],
      "text/plain": [
       "                                          count          mean           std  \\\n",
       "Impressions                           3036639.0      4.895185     16.007951   \n",
       "TimeDiff_Minutes                      1723639.0  11500.443955  17081.564854   \n",
       "TimeDiff_Minutes_AVG                  1723639.0   2872.849551   6229.652206   \n",
       "Funnel_Upper_Imp                      3036639.0      0.697226      3.598055   \n",
       "Funnel_Middle_Imp                     3036639.0      2.824682      6.536556   \n",
       "Funnel_Lower_Imp                      3036639.0      1.373277     13.176749   \n",
       "Campaign_Message_Travel_Imp           3036639.0      1.027747      7.017979   \n",
       "Campaign_Message_Service_Imp          3036639.0      1.302376      8.466440   \n",
       "Campaign_Message_Family_Travel_Imp    3036639.0      0.453913      2.628486   \n",
       "Campaign_Card_Cash_Rewards_Imp        3036639.0      1.133945      6.950091   \n",
       "Campaign_Card_Premium_Rewards_Imp     3036639.0      0.960407      3.314858   \n",
       "Campaign_Card_Other_Imp               3036639.0      0.016798      1.181684   \n",
       "Creative_Type_Display_Imp             3036639.0      3.061948     13.277539   \n",
       "Creative_Type_TrueView_Imp            3036639.0      0.823099      3.831842   \n",
       "Creative_Type_RichMediaExpanding_Imp  3036639.0      0.425200      2.228224   \n",
       "Creative_Type_RichMedia_Imp           3036639.0      0.584938      4.211837   \n",
       "Creative_Size_728x90_Imp              3036639.0      0.563200      5.065178   \n",
       "Creative_Size_300x600_Imp             3036639.0      0.045220      0.479129   \n",
       "Creative_Size_300x250_Imp             3036639.0      2.386248     10.230217   \n",
       "Creative_Size_160x600_Imp             3036639.0      0.769748      4.418337   \n",
       "Creative_Size_468x60_Imp              3036639.0      0.000000      0.000000   \n",
       "Creative_Size_300x50_Imp              3036639.0      0.011115      0.271626   \n",
       "Creative_Size_320x50_Imp              3036639.0      0.291092      1.514900   \n",
       "Creative_Size_320x420_Imp             3036639.0      0.000700      0.039706   \n",
       "Creative_Size_480x320_Imp             3036639.0      0.000230      0.021208   \n",
       "Creative_Size_320x480_Imp             3036639.0      0.004533      0.130060   \n",
       "Creative_Size_Uknown_Imp              3036639.0      0.823099      3.831842   \n",
       "Device_Desktop_Imp                    3036639.0      3.775509     15.833624   \n",
       "Device_Other_Imp                      3036639.0      0.133676      1.373923   \n",
       "Device_Mobile_Imp                     3036639.0      0.986001      3.517615   \n",
       "Active_View_Eligible_Impressions      3036639.0      3.662687     14.771905   \n",
       "Active_View_Measurable_Impressions    3036639.0      3.470005     14.300888   \n",
       "Active_View_Viewable_Impressions      3036639.0      2.083404     10.465145   \n",
       "Clicks                                3036639.0      0.030889      0.443608   \n",
       "Conversions                           3036639.0      0.000131      0.013022   \n",
       "\n",
       "                                      min  25%     50%      75%      max  \n",
       "Impressions                           1.0  1.0     2.0      3.0   5600.0  \n",
       "TimeDiff_Minutes                      0.0  4.0  1481.0  18270.0  76528.0  \n",
       "TimeDiff_Minutes_AVG                  0.0  2.0   416.0   2910.0  76164.0  \n",
       "Funnel_Upper_Imp                      0.0  0.0     0.0      0.0    279.0  \n",
       "Funnel_Middle_Imp                     0.0  1.0     1.0      3.0   2126.0  \n",
       "Funnel_Lower_Imp                      0.0  0.0     0.0      0.0   5600.0  \n",
       "Campaign_Message_Travel_Imp           0.0  0.0     0.0      0.0   2454.0  \n",
       "Campaign_Message_Service_Imp          0.0  0.0     0.0      0.0   3429.0  \n",
       "Campaign_Message_Family_Travel_Imp    0.0  0.0     0.0      0.0    477.0  \n",
       "Campaign_Card_Cash_Rewards_Imp        0.0  0.0     0.0      1.0   4373.0  \n",
       "Campaign_Card_Premium_Rewards_Imp     0.0  0.0     0.0      1.0   1227.0  \n",
       "Campaign_Card_Other_Imp               0.0  0.0     0.0      0.0   1174.0  \n",
       "Creative_Type_Display_Imp             0.0  0.0     1.0      2.0   3756.0  \n",
       "Creative_Type_TrueView_Imp            0.0  0.0     0.0      0.0    297.0  \n",
       "Creative_Type_RichMediaExpanding_Imp  0.0  0.0     0.0      0.0    399.0  \n",
       "Creative_Type_RichMedia_Imp           0.0  0.0     0.0      0.0   3789.0  \n",
       "Creative_Size_728x90_Imp              0.0  0.0     0.0      0.0   3635.0  \n",
       "Creative_Size_300x600_Imp             0.0  0.0     0.0      0.0    159.0  \n",
       "Creative_Size_300x250_Imp             0.0  0.0     1.0      2.0   3768.0  \n",
       "Creative_Size_160x600_Imp             0.0  0.0     0.0      0.0   1709.0  \n",
       "Creative_Size_468x60_Imp              0.0  0.0     0.0      0.0      0.0  \n",
       "Creative_Size_300x50_Imp              0.0  0.0     0.0      0.0    132.0  \n",
       "Creative_Size_320x50_Imp              0.0  0.0     0.0      0.0    215.0  \n",
       "Creative_Size_320x420_Imp             0.0  0.0     0.0      0.0     20.0  \n",
       "Creative_Size_480x320_Imp             0.0  0.0     0.0      0.0     11.0  \n",
       "Creative_Size_320x480_Imp             0.0  0.0     0.0      0.0     22.0  \n",
       "Creative_Size_Uknown_Imp              0.0  0.0     0.0      0.0    297.0  \n",
       "Device_Desktop_Imp                    0.0  0.0     1.0      3.0   5600.0  \n",
       "Device_Other_Imp                      0.0  0.0     0.0      0.0    240.0  \n",
       "Device_Mobile_Imp                     0.0  0.0     0.0      1.0    399.0  \n",
       "Active_View_Eligible_Impressions      0.0  0.0     1.0      3.0   5600.0  \n",
       "Active_View_Measurable_Impressions   -8.0  0.0     1.0      3.0   5600.0  \n",
       "Active_View_Viewable_Impressions      0.0  0.0     1.0      2.0   5311.0  \n",
       "Clicks                                0.0  0.0     0.0      0.0    290.0  \n",
       "Conversions                           0.0  0.0     0.0      0.0      6.0  "
      ]
     },
     "execution_count": 9,
     "metadata": {},
     "output_type": "execute_result"
    }
   ],
   "source": [
    "data.describe().transpose()"
   ]
  },
  {
   "cell_type": "code",
   "execution_count": 10,
   "metadata": {
    "collapsed": false
   },
   "outputs": [
    {
     "name": "stdout",
     "output_type": "stream",
     "text": [
      "Total Users: 3036639\n",
      "Total Impressions: 14864911\n",
      "Average Frequency: 4.89518543363\n",
      "\n",
      "Total Clicks: 93798.0\n",
      "Total Conversions: 399.0\n",
      "Conversions per User: 0.0131395269573 %\n"
     ]
    }
   ],
   "source": [
    "# Get intuition for total users, total impressions, total clicks, total conversions\n",
    "print 'Total Users:',data['User_ID'].count()\n",
    "print 'Total Impressions:',data['Impressions'].sum()\n",
    "print 'Average Frequency:',float(data['Impressions'].sum())/data['User_ID'].count()\n",
    "print ''\n",
    "print 'Total Clicks:',data['Clicks'].sum()\n",
    "print 'Total Conversions:',data['Conversions'].sum()\n",
    "print 'Conversions per User:',float(data['Conversions'].sum())/data['User_ID'].count()*100,\"%\""
   ]
  },
  {
   "cell_type": "markdown",
   "metadata": {},
   "source": [
    "### B. Define Chart/Analysis Functions"
   ]
  },
  {
   "cell_type": "code",
   "execution_count": 231,
   "metadata": {
    "collapsed": true
   },
   "outputs": [],
   "source": [
    "def plot_histograms(data,feature,max_value,bins,alpha):\n",
    "    #Plot histograms together\n",
    "    plt.figure(1, figsize=(12, 4))\n",
    "    \n",
    "    plt.hist(data.loc[(data[\"Converted\"]==1) & (data[feature]<=max_value),feature],\n",
    "             bins=bins,\n",
    "             alpha=alpha,\n",
    "             normed=True,\n",
    "             label=\"Converted=1\")\n",
    "    \n",
    "    plt.hist(data.loc[(data[\"Converted\"]==0) & (data[feature]<=max_value),feature],\n",
    "             bins=bins,\n",
    "             alpha=alpha,\n",
    "             normed=True,\n",
    "             label=\"Convert=0\")\n",
    "    \n",
    "    plt.legend()\n",
    "    plt.title(\"Histogram of {} (Max Plotted:{})\".format(feature,max_value))\n",
    "    plt.xlabel(feature)\n",
    "    plt.ylabel('Normalized Frequency')"
   ]
  },
  {
   "cell_type": "code",
   "execution_count": 159,
   "metadata": {
    "collapsed": true
   },
   "outputs": [],
   "source": [
    "def likelihood_to_convert(data,feature,max_value,alpha):\n",
    "    #Calculate percent of converted users by values of feature\n",
    "    groupby = data.groupby([feature,'Converted'])['Converted'].count()\n",
    "    not_converted = groupby.loc[:,0]\n",
    "    converted = groupby.loc[:,1]\n",
    "    percent_converted = converted / (not_converted+converted) * 100\n",
    "    \n",
    "    temp=pd.concat([converted,not_converted,percent_converted],axis=1)\n",
    "    temp.columns=['Coverted','Not_Converted','Percent_Converted']\n",
    "    temp.fillna(0,inplace=True)\n",
    "    \n",
    "    #Plot Scatter of percent converted users vs values of feature on x-axis\n",
    "    plt.figure(1, figsize=(12, 4))\n",
    "    \n",
    "    #Full Graph\n",
    "    plt.subplot(1,2,1)\n",
    "    plt.scatter(temp.index,temp['Percent_Converted'],alpha=alpha)\n",
    "    \n",
    "    plt.title(\"Likelihood to Covert by {} (All Values)\".format(feature))\n",
    "    plt.xlabel(feature)\n",
    "    plt.ylabel('Percent Users Converted')\n",
    "    \n",
    "    plt.ylim(ymin=0)\n",
    "    plt.xlim(xmin=0)\n",
    "    \n",
    "    #Full Graph\n",
    "    plt.subplot(1,2,2)\n",
    "    plt.scatter(temp.index[temp.index<max_value],\n",
    "                temp.loc[temp.index<max_value,'Percent_Converted'],\n",
    "                alpha=0.7)\n",
    "    \n",
    "    plt.title(\"Likelihood to Covert by {} (Max Plotted:{})\".format(feature,max_value))\n",
    "    plt.xlabel(feature)\n",
    "    plt.ylabel('Percent Users Converted')\n",
    "    \n",
    "    plt.ylim(ymin=0)\n",
    "    plt.xlim(xmin=0)"
   ]
  },
  {
   "cell_type": "code",
   "execution_count": 196,
   "metadata": {
    "collapsed": true
   },
   "outputs": [],
   "source": [
    "def feature_range(data,feature):\n",
    "    print feature\n",
    "    print data.pivot_table(values='Impressions', index=['Converted'], aggfunc=[np.min,np.max])"
   ]
  },
  {
   "cell_type": "markdown",
   "metadata": {
    "collapsed": true
   },
   "source": [
    "### C. Impressions"
   ]
  },
  {
   "cell_type": "code",
   "execution_count": 197,
   "metadata": {
    "collapsed": false
   },
   "outputs": [
    {
     "name": "stdout",
     "output_type": "stream",
     "text": [
      "Impression\n",
      "           amin  amax\n",
      "Converted            \n",
      "0             1  5600\n",
      "1             1   577\n"
     ]
    }
   ],
   "source": [
    "feature_range(data,'Impression')"
   ]
  },
  {
   "cell_type": "code",
   "execution_count": 232,
   "metadata": {
    "collapsed": false
   },
   "outputs": [
    {
     "data": {
      "image/png": "[encoded data removed]",
      "text/plain": [
       "<matplotlib.figure.Figure at 0x1180f2090>"
      ]
     },
     "metadata": {},
     "output_type": "display_data"
    }
   ],
   "source": [
    "plot_histograms(data=data,feature='Impressions',max_value=50,bins=50,alpha=.7)"
   ]
  },
  {
   "cell_type": "code",
   "execution_count": 219,
   "metadata": {
    "collapsed": false
   },
   "outputs": [
    {
     "data": {
      "image/png": "[encoded data removed]",
      "text/plain": [
       "<matplotlib.figure.Figure at 0x116b35150>"
      ]
     },
     "metadata": {},
     "output_type": "display_data"
    }
   ],
   "source": [
    "likelihood_to_convert(data=data,feature='Impressions',max_value=50,alpha=0.7)"
   ]
  },
  {
   "cell_type": "markdown",
   "metadata": {},
   "source": [
    "### D. Time difference between ads"
   ]
  },
  {
   "cell_type": "markdown",
   "metadata": {},
   "source": [
    "**Note: ** Charts below ignore NULL values (i.e. when user only received one impression)"
   ]
  },
  {
   "cell_type": "markdown",
   "metadata": {},
   "source": [
    "#### Hours"
   ]
  },
  {
   "cell_type": "code",
   "execution_count": null,
   "metadata": {
    "collapsed": true
   },
   "outputs": [],
   "source": [
    "d"
   ]
  },
  {
   "cell_type": "code",
   "execution_count": 235,
   "metadata": {
    "collapsed": false
   },
   "outputs": [
    {
     "data": {
      "image/png": "[encoded data removed]",
      "text/plain": [
       "<matplotlib.figure.Figure at 0x11a155210>"
      ]
     },
     "metadata": {},
     "output_type": "display_data"
    }
   ],
   "source": [
    "#Minutes\n",
    "plot_histograms(data=data,feature='TimeDiff_Hours',max_value=60,bins=12,alpha=.7)"
   ]
  },
  {
   "cell_type": "code",
   "execution_count": null,
   "metadata": {
    "collapsed": true
   },
   "outputs": [],
   "source": []
  }
 ],
 "metadata": {
  "anaconda-cloud": {},
  "kernelspec": {
   "display_name": "Python [conda root]",
   "language": "python",
   "name": "conda-root-py"
  },
  "language_info": {
   "codemirror_mode": {
    "name": "ipython",
    "version": 2
   },
   "file_extension": ".py",
   "mimetype": "text/x-python",
   "name": "python",
   "nbconvert_exporter": "python",
   "pygments_lexer": "ipython2",
   "version": "2.7.12"
  }
 },
 "nbformat": 4,
 "nbformat_minor": 1
}
