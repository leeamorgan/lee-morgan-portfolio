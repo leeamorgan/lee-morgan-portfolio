{
 "cells": [
  {
   "cell_type": "markdown",
   "metadata": {},
   "source": [
    "# Predicting Online Credit Card Applications (Digital Advertising)\n",
    "*Final Project #4: Modeling Performance*\n",
    "<br>*Feb 5, 2017*"
   ]
  },
  {
   "cell_type": "markdown",
   "metadata": {},
   "source": [
    "## Summary of Exploratory Data Analysis"
   ]
  },
  {
   "cell_type": "markdown",
   "metadata": {
    "collapsed": true
   },
   "source": [
    "During EDA, we determined the following insights to guide us in developing our model:\n",
    "* The event we are planning to predict is very rare:\n",
    "    * **Conversions per User: 0.0130062273738 %**\n",
    "* Most features had some positive correlation with our dependent variable, with the exception of the following features:\n",
    "    * TimeDiff_Days_AVG (Average time between ad impressions)\n",
    "    * Creative_Type_RichMediaExpanding_Imp\n",
    "    * Some Creative Sizes\n",
    "* **Correlated Features**: Many features are heavily correlated with each other. \n",
    "* **Outliers:** All of the features in our dataset have outliers at large values (e.g. a user shown more than 1000 impressions over 2 months).  When building our model, we will ignore any users that saw more the 3 standard deviations above the mean of impressions to avoid having outliers bias the model."
   ]
  },
  {
   "cell_type": "markdown",
   "metadata": {},
   "source": [
    "## Approach\n",
    "We will take the follow steps to develop and tune our model:\n",
    "\n",
    "* We will develop a classifier using **Logistic Regression**.  The reason for choosing this representation is mainly due to the need to develop intuitive explanations of the model to our end client (a non-technical audience).\n",
    "* We will use **L1 regularization** to reduce the number of features in our model, especially because of many correlated features.\n",
    "* Our scoring method will be **AUC (Area Under the Curve)**.  We chose AUC because the event we are predicting is rare.  We are adapting this scoring method based on how the medical field uses it to score the quality of signals for rare diseases.\n",
    "* We will use our final model to calculate **ROI** and **Net Value** at different thresholds to classify a positive prediction based on our model's predicted probabilities.  We will identify the threshold that maximizes **Net Value**.\n",
    "* Due to the very large size of our dataset, we plan to use a 20% random sample for developing our model."
   ]
  },
  {
   "cell_type": "markdown",
   "metadata": {},
   "source": [
    "## Define Business Performance Metrics\n",
    "\n",
    "While we will use AUC to evaluate the quality of our models, we also want to caclulate business performance metrics of **ROI** and **Net Value**, as defined below.  Our focus will be to increase **Net Value** from an ad campaign, but we will also calculate ROI for reference.\n",
    "\n",
    "To calculate these metrics, we need define how we will interpret the confusion matrix:\n",
    "\n",
    "|True Class: Positive|True Class: Negative\n",
    "------------------------------|:-------------:|:-------------:\n",
    "**Predicted Class: Positive** |True Positives |False Positives\n",
    "**Predicted Class: Negative** |False Negatives|True Negatives\n",
    "\n",
    "Since we plan to use our model to predict how we should design our ad campaigns, we can interpret the predicted class to help us identify whether or not we'd like to reach users with a similar ad exposure:\n",
    "* **Positive Predicted Class:** Spend on user because of high likelihood to convert\n",
    "* **Negative Predicted Calls:** Do not spend on user\n",
    "\n",
    "For example, if we predict a positive class for an observation in our dataset that was reached by 10 video ads and 15 display ads, we would plan on spending on similar users like this in the future.\n",
    "\n",
    "Based on this interpretation, we can develop a cost-benefit methodology based on the confusion matrix:\n",
    "\n",
    "Cost-Benefit Matrix|True Class: Positive|True Class: Negative\n",
    "-----------------------------|:------------------------------------------:|:-------------:\n",
    "**Predicted Class Positive** |Application Value<br>- Cost of Reaching User|-Cost of Reaching User\n",
    "**Predicted Class Negative** |0|0\n",
    "**Assumptions:**\n",
    "* **ApplicationValue** = \\$500 (The average value of an online credit card application)\n",
    "* **ReachCost** = \\$0.033827 (The average cost of reaching a single user for our campaign)\n",
    "\n",
    "\n",
    "Using this interpretation allows us to define the following **ROI** and **Net Value** calculations:\n",
    "\n",
    "\\begin{equation*}\n",
    "ROI = \\frac{Total Value}{Total Cost} - 1\n",
    "\\end{equation*}\n",
    "\n",
    "\\begin{equation*}\n",
    "Net Value = Total Value - Total Cost\n",
    "\\end{equation*}\n",
    "\n",
    "\\begin{equation*}\n",
    "Total Value = ApplicationValue * TP\n",
    "\\end{equation*}\n",
    "\n",
    "\\begin{equation*}\n",
    "Total Cost = ReachCost * (TP + FP)\n",
    "\\end{equation*}\n",
    "\n",
    "Where:\n",
    "* TP: True Positives\n",
    "* FP: False Positives\n",
    "\n",
    "Once we have determined our best classifier with AUC and `gridsearchsv`, we can calculate the **Net Value** and **ROI** from using or classifier."
   ]
  },
  {
   "cell_type": "markdown",
   "metadata": {},
   "source": [
    "## Important Data and Data Cleaning"
   ]
  },
  {
   "cell_type": "code",
   "execution_count": 1,
   "metadata": {
    "collapsed": true
   },
   "outputs": [],
   "source": [
    "import pandas as pd\n",
    "import numpy as np\n",
    "import seaborn as sb\n",
    "import matplotlib.pyplot as plt\n",
    "from sklearn.model_selection import train_test_split\n",
    "from sklearn.metrics import confusion_matrix\n",
    "from sklearn.preprocessing import StandardScaler\n",
    "from sklearn.model_selection import ShuffleSplit\n",
    "from sklearn.model_selection import GridSearchCV\n",
    "from sklearn.linear_model import LogisticRegression\n",
    "from sk_modelcurves.learning_curve import draw_learning_curve\n",
    "from sklearn.metrics import roc_curve, auc\n",
    "%matplotlib inline"
   ]
  },
  {
   "cell_type": "code",
   "execution_count": 2,
   "metadata": {
    "collapsed": false
   },
   "outputs": [
    {
     "data": {
      "text/html": [
       "<div>\n",
       "<table border=\"1\" class=\"dataframe\">\n",
       "  <thead>\n",
       "    <tr style=\"text-align: right;\">\n",
       "      <th></th>\n",
       "      <th>User_ID</th>\n",
       "      <th>Impressions</th>\n",
       "      <th>TimeDiff_Minutes</th>\n",
       "      <th>TimeDiff_Minutes_AVG</th>\n",
       "      <th>Funnel_Upper_Imp</th>\n",
       "      <th>Funnel_Middle_Imp</th>\n",
       "      <th>Funnel_Lower_Imp</th>\n",
       "      <th>Campaign_Message_Travel_Imp</th>\n",
       "      <th>Campaign_Message_Service_Imp</th>\n",
       "      <th>Campaign_Message_Family_Travel_Imp</th>\n",
       "      <th>...</th>\n",
       "      <th>Creative_Size_320x480_Imp</th>\n",
       "      <th>Creative_Size_Uknown_Imp</th>\n",
       "      <th>Device_Desktop_Imp</th>\n",
       "      <th>Device_Other_Imp</th>\n",
       "      <th>Device_Mobile_Imp</th>\n",
       "      <th>Active_View_Eligible_Impressions</th>\n",
       "      <th>Active_View_Measurable_Impressions</th>\n",
       "      <th>Active_View_Viewable_Impressions</th>\n",
       "      <th>Clicks</th>\n",
       "      <th>Conversions</th>\n",
       "    </tr>\n",
       "  </thead>\n",
       "  <tbody>\n",
       "    <tr>\n",
       "      <th>0</th>\n",
       "      <td>AMsySZYlP3l94iys9P9WaBXIWE6B</td>\n",
       "      <td>3</td>\n",
       "      <td>2.0</td>\n",
       "      <td>1.000000</td>\n",
       "      <td>0</td>\n",
       "      <td>3</td>\n",
       "      <td>0</td>\n",
       "      <td>0</td>\n",
       "      <td>3</td>\n",
       "      <td>0</td>\n",
       "      <td>...</td>\n",
       "      <td>0</td>\n",
       "      <td>0</td>\n",
       "      <td>0</td>\n",
       "      <td>0</td>\n",
       "      <td>3</td>\n",
       "      <td>0</td>\n",
       "      <td>0</td>\n",
       "      <td>0</td>\n",
       "      <td>NaN</td>\n",
       "      <td>NaN</td>\n",
       "    </tr>\n",
       "    <tr>\n",
       "      <th>1</th>\n",
       "      <td>AMsySZbdCy7kK0BqCq38AvgzDJ7y</td>\n",
       "      <td>3</td>\n",
       "      <td>1.0</td>\n",
       "      <td>0.500000</td>\n",
       "      <td>0</td>\n",
       "      <td>3</td>\n",
       "      <td>0</td>\n",
       "      <td>3</td>\n",
       "      <td>0</td>\n",
       "      <td>0</td>\n",
       "      <td>...</td>\n",
       "      <td>0</td>\n",
       "      <td>0</td>\n",
       "      <td>3</td>\n",
       "      <td>0</td>\n",
       "      <td>0</td>\n",
       "      <td>3</td>\n",
       "      <td>3</td>\n",
       "      <td>1</td>\n",
       "      <td>NaN</td>\n",
       "      <td>NaN</td>\n",
       "    </tr>\n",
       "    <tr>\n",
       "      <th>2</th>\n",
       "      <td>AMsySZbsx0jjk_iOfpRCVx2ss3v8</td>\n",
       "      <td>2</td>\n",
       "      <td>12.0</td>\n",
       "      <td>12.000000</td>\n",
       "      <td>0</td>\n",
       "      <td>2</td>\n",
       "      <td>0</td>\n",
       "      <td>0</td>\n",
       "      <td>0</td>\n",
       "      <td>0</td>\n",
       "      <td>...</td>\n",
       "      <td>0</td>\n",
       "      <td>0</td>\n",
       "      <td>2</td>\n",
       "      <td>0</td>\n",
       "      <td>0</td>\n",
       "      <td>2</td>\n",
       "      <td>2</td>\n",
       "      <td>1</td>\n",
       "      <td>NaN</td>\n",
       "      <td>NaN</td>\n",
       "    </tr>\n",
       "    <tr>\n",
       "      <th>3</th>\n",
       "      <td>AMsySZZnAR-zSA0aCGVZkfhupUhU</td>\n",
       "      <td>5</td>\n",
       "      <td>23033.0</td>\n",
       "      <td>5758.250000</td>\n",
       "      <td>0</td>\n",
       "      <td>5</td>\n",
       "      <td>0</td>\n",
       "      <td>0</td>\n",
       "      <td>0</td>\n",
       "      <td>0</td>\n",
       "      <td>...</td>\n",
       "      <td>0</td>\n",
       "      <td>0</td>\n",
       "      <td>0</td>\n",
       "      <td>0</td>\n",
       "      <td>5</td>\n",
       "      <td>5</td>\n",
       "      <td>5</td>\n",
       "      <td>5</td>\n",
       "      <td>NaN</td>\n",
       "      <td>NaN</td>\n",
       "    </tr>\n",
       "    <tr>\n",
       "      <th>4</th>\n",
       "      <td>AMsySZb1yHw6ewPTnb7h39vBdCh8</td>\n",
       "      <td>2</td>\n",
       "      <td>188.0</td>\n",
       "      <td>188.000000</td>\n",
       "      <td>0</td>\n",
       "      <td>2</td>\n",
       "      <td>0</td>\n",
       "      <td>0</td>\n",
       "      <td>0</td>\n",
       "      <td>0</td>\n",
       "      <td>...</td>\n",
       "      <td>0</td>\n",
       "      <td>0</td>\n",
       "      <td>2</td>\n",
       "      <td>0</td>\n",
       "      <td>0</td>\n",
       "      <td>2</td>\n",
       "      <td>2</td>\n",
       "      <td>1</td>\n",
       "      <td>NaN</td>\n",
       "      <td>NaN</td>\n",
       "    </tr>\n",
       "    <tr>\n",
       "      <th>5</th>\n",
       "      <td>AMsySZbMUcclS_w01crSZ23CgZsa</td>\n",
       "      <td>1</td>\n",
       "      <td>NaN</td>\n",
       "      <td>NaN</td>\n",
       "      <td>0</td>\n",
       "      <td>1</td>\n",
       "      <td>0</td>\n",
       "      <td>0</td>\n",
       "      <td>0</td>\n",
       "      <td>0</td>\n",
       "      <td>...</td>\n",
       "      <td>0</td>\n",
       "      <td>0</td>\n",
       "      <td>0</td>\n",
       "      <td>0</td>\n",
       "      <td>1</td>\n",
       "      <td>1</td>\n",
       "      <td>1</td>\n",
       "      <td>0</td>\n",
       "      <td>NaN</td>\n",
       "      <td>NaN</td>\n",
       "    </tr>\n",
       "    <tr>\n",
       "      <th>6</th>\n",
       "      <td>AMsySZbN3U0Y-dpMwJBHb5KWpB6S</td>\n",
       "      <td>444</td>\n",
       "      <td>73303.0</td>\n",
       "      <td>165.469526</td>\n",
       "      <td>0</td>\n",
       "      <td>85</td>\n",
       "      <td>359</td>\n",
       "      <td>283</td>\n",
       "      <td>161</td>\n",
       "      <td>0</td>\n",
       "      <td>...</td>\n",
       "      <td>0</td>\n",
       "      <td>85</td>\n",
       "      <td>444</td>\n",
       "      <td>0</td>\n",
       "      <td>0</td>\n",
       "      <td>359</td>\n",
       "      <td>359</td>\n",
       "      <td>314</td>\n",
       "      <td>NaN</td>\n",
       "      <td>NaN</td>\n",
       "    </tr>\n",
       "    <tr>\n",
       "      <th>7</th>\n",
       "      <td>AMsySZZYbLJhgekE6XQ52ea1bpKb</td>\n",
       "      <td>2</td>\n",
       "      <td>80.0</td>\n",
       "      <td>80.000000</td>\n",
       "      <td>0</td>\n",
       "      <td>2</td>\n",
       "      <td>0</td>\n",
       "      <td>0</td>\n",
       "      <td>0</td>\n",
       "      <td>0</td>\n",
       "      <td>...</td>\n",
       "      <td>0</td>\n",
       "      <td>0</td>\n",
       "      <td>2</td>\n",
       "      <td>0</td>\n",
       "      <td>0</td>\n",
       "      <td>2</td>\n",
       "      <td>2</td>\n",
       "      <td>1</td>\n",
       "      <td>NaN</td>\n",
       "      <td>NaN</td>\n",
       "    </tr>\n",
       "    <tr>\n",
       "      <th>8</th>\n",
       "      <td>AMsySZaWJ0IyUoZmTqnYg4_LsylU</td>\n",
       "      <td>1</td>\n",
       "      <td>NaN</td>\n",
       "      <td>NaN</td>\n",
       "      <td>0</td>\n",
       "      <td>1</td>\n",
       "      <td>0</td>\n",
       "      <td>0</td>\n",
       "      <td>0</td>\n",
       "      <td>0</td>\n",
       "      <td>...</td>\n",
       "      <td>0</td>\n",
       "      <td>0</td>\n",
       "      <td>1</td>\n",
       "      <td>0</td>\n",
       "      <td>0</td>\n",
       "      <td>1</td>\n",
       "      <td>1</td>\n",
       "      <td>0</td>\n",
       "      <td>NaN</td>\n",
       "      <td>NaN</td>\n",
       "    </tr>\n",
       "    <tr>\n",
       "      <th>9</th>\n",
       "      <td>AMsySZbQxjkNdQtKIjG1m3fso1u_</td>\n",
       "      <td>9</td>\n",
       "      <td>56231.0</td>\n",
       "      <td>7028.875000</td>\n",
       "      <td>0</td>\n",
       "      <td>9</td>\n",
       "      <td>0</td>\n",
       "      <td>0</td>\n",
       "      <td>0</td>\n",
       "      <td>0</td>\n",
       "      <td>...</td>\n",
       "      <td>0</td>\n",
       "      <td>0</td>\n",
       "      <td>0</td>\n",
       "      <td>0</td>\n",
       "      <td>9</td>\n",
       "      <td>7</td>\n",
       "      <td>7</td>\n",
       "      <td>3</td>\n",
       "      <td>NaN</td>\n",
       "      <td>NaN</td>\n",
       "    </tr>\n",
       "  </tbody>\n",
       "</table>\n",
       "<p>10 rows × 36 columns</p>\n",
       "</div>"
      ],
      "text/plain": [
       "                        User_ID  Impressions  TimeDiff_Minutes  \\\n",
       "0  AMsySZYlP3l94iys9P9WaBXIWE6B            3               2.0   \n",
       "1  AMsySZbdCy7kK0BqCq38AvgzDJ7y            3               1.0   \n",
       "2  AMsySZbsx0jjk_iOfpRCVx2ss3v8            2              12.0   \n",
       "3  AMsySZZnAR-zSA0aCGVZkfhupUhU            5           23033.0   \n",
       "4  AMsySZb1yHw6ewPTnb7h39vBdCh8            2             188.0   \n",
       "5  AMsySZbMUcclS_w01crSZ23CgZsa            1               NaN   \n",
       "6  AMsySZbN3U0Y-dpMwJBHb5KWpB6S          444           73303.0   \n",
       "7  AMsySZZYbLJhgekE6XQ52ea1bpKb            2              80.0   \n",
       "8  AMsySZaWJ0IyUoZmTqnYg4_LsylU            1               NaN   \n",
       "9  AMsySZbQxjkNdQtKIjG1m3fso1u_            9           56231.0   \n",
       "\n",
       "   TimeDiff_Minutes_AVG  Funnel_Upper_Imp  Funnel_Middle_Imp  \\\n",
       "0              1.000000                 0                  3   \n",
       "1              0.500000                 0                  3   \n",
       "2             12.000000                 0                  2   \n",
       "3           5758.250000                 0                  5   \n",
       "4            188.000000                 0                  2   \n",
       "5                   NaN                 0                  1   \n",
       "6            165.469526                 0                 85   \n",
       "7             80.000000                 0                  2   \n",
       "8                   NaN                 0                  1   \n",
       "9           7028.875000                 0                  9   \n",
       "\n",
       "   Funnel_Lower_Imp  Campaign_Message_Travel_Imp  \\\n",
       "0                 0                            0   \n",
       "1                 0                            3   \n",
       "2                 0                            0   \n",
       "3                 0                            0   \n",
       "4                 0                            0   \n",
       "5                 0                            0   \n",
       "6               359                          283   \n",
       "7                 0                            0   \n",
       "8                 0                            0   \n",
       "9                 0                            0   \n",
       "\n",
       "   Campaign_Message_Service_Imp  Campaign_Message_Family_Travel_Imp  \\\n",
       "0                             3                                   0   \n",
       "1                             0                                   0   \n",
       "2                             0                                   0   \n",
       "3                             0                                   0   \n",
       "4                             0                                   0   \n",
       "5                             0                                   0   \n",
       "6                           161                                   0   \n",
       "7                             0                                   0   \n",
       "8                             0                                   0   \n",
       "9                             0                                   0   \n",
       "\n",
       "      ...       Creative_Size_320x480_Imp  Creative_Size_Uknown_Imp  \\\n",
       "0     ...                               0                         0   \n",
       "1     ...                               0                         0   \n",
       "2     ...                               0                         0   \n",
       "3     ...                               0                         0   \n",
       "4     ...                               0                         0   \n",
       "5     ...                               0                         0   \n",
       "6     ...                               0                        85   \n",
       "7     ...                               0                         0   \n",
       "8     ...                               0                         0   \n",
       "9     ...                               0                         0   \n",
       "\n",
       "   Device_Desktop_Imp  Device_Other_Imp  Device_Mobile_Imp  \\\n",
       "0                   0                 0                  3   \n",
       "1                   3                 0                  0   \n",
       "2                   2                 0                  0   \n",
       "3                   0                 0                  5   \n",
       "4                   2                 0                  0   \n",
       "5                   0                 0                  1   \n",
       "6                 444                 0                  0   \n",
       "7                   2                 0                  0   \n",
       "8                   1                 0                  0   \n",
       "9                   0                 0                  9   \n",
       "\n",
       "   Active_View_Eligible_Impressions  Active_View_Measurable_Impressions  \\\n",
       "0                                 0                                   0   \n",
       "1                                 3                                   3   \n",
       "2                                 2                                   2   \n",
       "3                                 5                                   5   \n",
       "4                                 2                                   2   \n",
       "5                                 1                                   1   \n",
       "6                               359                                 359   \n",
       "7                                 2                                   2   \n",
       "8                                 1                                   1   \n",
       "9                                 7                                   7   \n",
       "\n",
       "   Active_View_Viewable_Impressions  Clicks  Conversions  \n",
       "0                                 0     NaN          NaN  \n",
       "1                                 1     NaN          NaN  \n",
       "2                                 1     NaN          NaN  \n",
       "3                                 5     NaN          NaN  \n",
       "4                                 1     NaN          NaN  \n",
       "5                                 0     NaN          NaN  \n",
       "6                               314     NaN          NaN  \n",
       "7                                 1     NaN          NaN  \n",
       "8                                 0     NaN          NaN  \n",
       "9                                 3     NaN          NaN  \n",
       "\n",
       "[10 rows x 36 columns]"
      ]
     },
     "execution_count": 2,
     "metadata": {},
     "output_type": "execute_result"
    }
   ],
   "source": [
    "data = pd.read_csv('../data/DATA_FOR_MODEL_20perc.csv', sep=',')\n",
    "#data = pd.read_csv('../data/DATA_FOR_MODEL_FULL.csv', sep=',')\n",
    "data.head(10)"
   ]
  },
  {
   "cell_type": "markdown",
   "metadata": {},
   "source": [
    "## Handle Missing Data"
   ]
  },
  {
   "cell_type": "code",
   "execution_count": 3,
   "metadata": {
    "collapsed": false
   },
   "outputs": [],
   "source": [
    "# For Clicks,Conversion, convert NULL values to zero\n",
    "data['Clicks'].fillna(value=0,inplace=True)\n",
    "data['Conversions'].fillna(value=0,inplace=True)\n",
    "\n",
    "# Create a new categorical feature Converted, which will be 1 if the the user converted at least once, \n",
    "# and 0 if the user did not convert.\n",
    "data['Converted'] = pd.Categorical([1 if x>0 else 0 for x in data['Conversions']])\n",
    "\n",
    "# For TimeDiff_Minutes and TimeDiff_AVG, it is NULL when we only have 1 impression\n",
    "# For now, replace with the median value and then add columns flagging the rows where we did this\n",
    "# We will explore other options for handling this data in the feature engineering section\n",
    "data['TimeDiff_NULL_FLAG'] = pd.Categorical(data['TimeDiff_Minutes'].isnull())\n",
    "\n",
    "data['TimeDiff_Minutes'].fillna(value=data['TimeDiff_Minutes'].median(),inplace=True)\n",
    "data['TimeDiff_Minutes_AVG'].fillna(value=data['TimeDiff_Minutes_AVG'].median(),inplace=True)"
   ]
  },
  {
   "cell_type": "code",
   "execution_count": 4,
   "metadata": {
    "collapsed": false,
    "scrolled": true
   },
   "outputs": [
    {
     "data": {
      "text/plain": [
       "User_ID                                 0\n",
       "Impressions                             0\n",
       "TimeDiff_Minutes                        0\n",
       "TimeDiff_Minutes_AVG                    0\n",
       "Funnel_Upper_Imp                        0\n",
       "Funnel_Middle_Imp                       0\n",
       "Funnel_Lower_Imp                        0\n",
       "Campaign_Message_Travel_Imp             0\n",
       "Campaign_Message_Service_Imp            0\n",
       "Campaign_Message_Family_Travel_Imp      0\n",
       "Campaign_Card_Cash_Rewards_Imp          0\n",
       "Campaign_Card_Premium_Rewards_Imp       0\n",
       "Campaign_Card_Other_Imp                 0\n",
       "Creative_Type_Display_Imp               0\n",
       "Creative_Type_TrueView_Imp              0\n",
       "Creative_Type_RichMediaExpanding_Imp    0\n",
       "Creative_Type_RichMedia_Imp             0\n",
       "Creative_Size_728x90_Imp                0\n",
       "Creative_Size_300x600_Imp               0\n",
       "Creative_Size_300x250_Imp               0\n",
       "Creative_Size_160x600_Imp               0\n",
       "Creative_Size_468x60_Imp                0\n",
       "Creative_Size_300x50_Imp                0\n",
       "Creative_Size_320x50_Imp                0\n",
       "Creative_Size_320x420_Imp               0\n",
       "Creative_Size_480x320_Imp               0\n",
       "Creative_Size_320x480_Imp               0\n",
       "Creative_Size_Uknown_Imp                0\n",
       "Device_Desktop_Imp                      0\n",
       "Device_Other_Imp                        0\n",
       "Device_Mobile_Imp                       0\n",
       "Active_View_Eligible_Impressions        0\n",
       "Active_View_Measurable_Impressions      0\n",
       "Active_View_Viewable_Impressions        0\n",
       "Clicks                                  0\n",
       "Conversions                             0\n",
       "Converted                               0\n",
       "TimeDiff_NULL_FLAG                      0\n",
       "dtype: int64"
      ]
     },
     "execution_count": 4,
     "metadata": {},
     "output_type": "execute_result"
    }
   ],
   "source": [
    "# confirm no nulls left dataset\n",
    "data.isnull().sum()"
   ]
  },
  {
   "cell_type": "code",
   "execution_count": 5,
   "metadata": {
    "collapsed": false
   },
   "outputs": [
    {
     "data": {
      "text/plain": [
       "count    3.036639e+06\n",
       "mean     4.895185e+00\n",
       "std      1.600795e+01\n",
       "min      1.000000e+00\n",
       "25%      1.000000e+00\n",
       "50%      2.000000e+00\n",
       "75%      3.000000e+00\n",
       "max      5.600000e+03\n",
       "Name: Impressions, dtype: float64"
      ]
     },
     "execution_count": 5,
     "metadata": {},
     "output_type": "execute_result"
    }
   ],
   "source": [
    "#Show the distribution of impressions\n",
    "data['Impressions'].describe()"
   ]
  },
  {
   "cell_type": "code",
   "execution_count": 6,
   "metadata": {
    "collapsed": false
   },
   "outputs": [
    {
     "name": "stdout",
     "output_type": "stream",
     "text": [
      "5600\n",
      "50\n"
     ]
    }
   ],
   "source": [
    "#Remove outliers (users with more than ~50 impressions, 3 standard devs above the mean of 4.9 impressions)\n",
    "print max(data['Impressions'])\n",
    "data = data[data['Impressions']<=50]\n",
    "print max(data['Impressions'])"
   ]
  },
  {
   "cell_type": "code",
   "execution_count": 7,
   "metadata": {
    "collapsed": false
   },
   "outputs": [],
   "source": [
    "X=data.drop(['User_ID','Conversions','Converted'],axis=1)\n",
    "y=data['Converted']"
   ]
  },
  {
   "cell_type": "code",
   "execution_count": 8,
   "metadata": {
    "collapsed": true
   },
   "outputs": [],
   "source": [
    "# Split into Train/Test \n",
    "X_train, X_test, y_train, y_test = train_test_split(X,y,test_size=0.2,random_state=7)"
   ]
  },
  {
   "cell_type": "markdown",
   "metadata": {},
   "source": [
    "## Business Performance Functions and Baseline Benchmark"
   ]
  },
  {
   "cell_type": "code",
   "execution_count": 9,
   "metadata": {
    "collapsed": true
   },
   "outputs": [],
   "source": [
    "# Define ROI function\n",
    "# *See section \"Define Business Performance Metrics\" for more details\n",
    "def ROI(y,y_pred,app_value,avg_user_cost):\n",
    "    tn, fp, fn, tp = confusion_matrix(y_true=y, y_pred=y_pred).ravel()\n",
    "    \n",
    "    total_value=float(tp*app_value)\n",
    "    total_cost=float((tp+fp)*avg_user_cost)\n",
    "    ROI=total_value/total_cost-1\n",
    "    \n",
    "    return ROI"
   ]
  },
  {
   "cell_type": "code",
   "execution_count": 10,
   "metadata": {
    "collapsed": true
   },
   "outputs": [],
   "source": [
    "# Define Net Value function\n",
    "# *See section \"Define Business Performance Metrics\" for more details\n",
    "def Net_Value(y,y_pred,app_value,avg_user_cost):\n",
    "    tn, fp, fn, tp = confusion_matrix(y_true=y, y_pred=y_pred).ravel()\n",
    "    \n",
    "    total_value=float(tp*app_value)\n",
    "    total_cost=float((tp+fp)*avg_user_cost)\n",
    "    Net_Value=total_value-total_cost\n",
    "    \n",
    "    return Net_Value"
   ]
  },
  {
   "cell_type": "markdown",
   "metadata": {},
   "source": [
    "#### Basline Performance\n",
    "Get baseline performance by assuming we predicted a positive prediction for all of our dataset observations.  In other words, this represents how exactly how the ad campaign ran (we reached all of the users in the dataset with ads).\n",
    "\n",
    "**NOTE:** Baseline benchmark should be calculated on test dataset for comparison when evaluating our models."
   ]
  },
  {
   "cell_type": "code",
   "execution_count": 11,
   "metadata": {
    "collapsed": false
   },
   "outputs": [],
   "source": [
    "# Assumptions:\n",
    "#    Value of credit card application=$500\n",
    "#    Avg cost of reaching a user=$0.033827\n",
    "ROI_benchmark = ROI(y=y_test,\n",
    "                    y_pred=np.ones(y_test.size),\n",
    "                    app_value=500,\n",
    "                    avg_user_cost=0.033827)\n",
    "Net_Value_benchmark = Net_Value(y=y_test,\n",
    "                                y_pred=np.ones(y_test.size),\n",
    "                                app_value=500,\n",
    "                                avg_user_cost=0.033827)"
   ]
  },
  {
   "cell_type": "code",
   "execution_count": 12,
   "metadata": {
    "collapsed": false
   },
   "outputs": [
    {
     "name": "stdout",
     "output_type": "stream",
     "text": [
      "Baseline Net Value: 15690\n",
      "Baseline ROI: 77.3%\n"
     ]
    }
   ],
   "source": [
    "print \"Baseline Net Value: {0:.0f}\".format(Net_Value_benchmark)\n",
    "print \"Baseline ROI: {0:.1f}%\".format(ROI_benchmark*100)"
   ]
  },
  {
   "cell_type": "markdown",
   "metadata": {},
   "source": [
    "## L1 Logistic Regression - All Existing Features"
   ]
  },
  {
   "cell_type": "markdown",
   "metadata": {
    "collapsed": true
   },
   "source": [
    "Use L1 regularization with Logistic Regression to Identify Important/Non-Important features."
   ]
  },
  {
   "cell_type": "code",
   "execution_count": 13,
   "metadata": {
    "collapsed": false
   },
   "outputs": [],
   "source": [
    "# Standardization: bring all of our features onto the same scale\n",
    "stdsc = StandardScaler()\n",
    "X_train_std = stdsc.fit_transform(X_train)\n",
    "X_test_std = stdsc.transform(X_test)"
   ]
  },
  {
   "cell_type": "code",
   "execution_count": 14,
   "metadata": {
    "collapsed": true
   },
   "outputs": [],
   "source": [
    "# Cross-validation: 5 cross validation iterations with 30% test / 70% train\n",
    "cv = ShuffleSplit(n_splits=5, test_size=0.3, random_state=0)"
   ]
  },
  {
   "cell_type": "code",
   "execution_count": 15,
   "metadata": {
    "collapsed": false
   },
   "outputs": [
    {
     "name": "stdout",
     "output_type": "stream",
     "text": [
      "CPU times: user 20min 25s, sys: 46 s, total: 21min 11s\n",
      "Wall time: 20min 29s\n"
     ]
    }
   ],
   "source": [
    "%%time\n",
    "logregL1 = LogisticRegression(penalty='l1')\n",
    "parameters = {'C': [0.01,0.05,0.1,0.3,0.5]}\n",
    "clf = GridSearchCV(logregL1, parameters, cv=cv,scoring=\"roc_auc\")\n",
    "clf.fit(pd.DataFrame(X_train_std), pd.Series(y_train))   #turning into pandas dataframe or series prevents an error"
   ]
  },
  {
   "cell_type": "code",
   "execution_count": 16,
   "metadata": {
    "collapsed": false
   },
   "outputs": [
    {
     "name": "stdout",
     "output_type": "stream",
     "text": [
      "Best model parameters are: {'C': 0.05}\n",
      "Best AUC model score is: 0.731115600673\n"
     ]
    }
   ],
   "source": [
    "print \"Best model parameters are: {}\".format(clf.best_params_)\n",
    "print \"Best AUC model score is: {}\".format(clf.best_score_)"
   ]
  },
  {
   "cell_type": "markdown",
   "metadata": {},
   "source": [
    "**Notes**\n",
    "* **AUC of 0.7311** is a \"Fair\" quality model\n",
    "* Good start, but we will see if we can improve this score with some new features\n",
    "* Before that, we will:\n",
    "    * Review the current model coefficients\n",
    "    * Plot distribution of predicted probabilites\n",
    "    * Draw the learning curve\n",
    "    * Plot the ROC against the Test data for reference"
   ]
  },
  {
   "cell_type": "markdown",
   "metadata": {},
   "source": [
    "#### Show Coefficients"
   ]
  },
  {
   "cell_type": "code",
   "execution_count": 17,
   "metadata": {
    "collapsed": true
   },
   "outputs": [],
   "source": [
    "best_logreg = clf.best_estimator_"
   ]
  },
  {
   "cell_type": "code",
   "execution_count": 18,
   "metadata": {
    "collapsed": false
   },
   "outputs": [],
   "source": [
    "best_coeff=pd.DataFrame({'Features':X.columns,\n",
    "                         'Coefficients':best_logreg.coef_[0]})"
   ]
  },
  {
   "cell_type": "code",
   "execution_count": 19,
   "metadata": {
    "collapsed": false
   },
   "outputs": [
    {
     "data": {
      "text/html": [
       "<div>\n",
       "<table border=\"1\" class=\"dataframe\">\n",
       "  <thead>\n",
       "    <tr style=\"text-align: right;\">\n",
       "      <th></th>\n",
       "      <th>Coefficients</th>\n",
       "      <th>Features</th>\n",
       "    </tr>\n",
       "  </thead>\n",
       "  <tbody>\n",
       "    <tr>\n",
       "      <th>0</th>\n",
       "      <td>0.0</td>\n",
       "      <td>Impressions</td>\n",
       "    </tr>\n",
       "    <tr>\n",
       "      <th>2</th>\n",
       "      <td>0.0</td>\n",
       "      <td>TimeDiff_Minutes_AVG</td>\n",
       "    </tr>\n",
       "    <tr>\n",
       "      <th>3</th>\n",
       "      <td>0.0</td>\n",
       "      <td>Funnel_Upper_Imp</td>\n",
       "    </tr>\n",
       "    <tr>\n",
       "      <th>6</th>\n",
       "      <td>0.0</td>\n",
       "      <td>Campaign_Message_Travel_Imp</td>\n",
       "    </tr>\n",
       "    <tr>\n",
       "      <th>7</th>\n",
       "      <td>0.0</td>\n",
       "      <td>Campaign_Message_Service_Imp</td>\n",
       "    </tr>\n",
       "    <tr>\n",
       "      <th>12</th>\n",
       "      <td>0.0</td>\n",
       "      <td>Creative_Type_Display_Imp</td>\n",
       "    </tr>\n",
       "    <tr>\n",
       "      <th>13</th>\n",
       "      <td>0.0</td>\n",
       "      <td>Creative_Type_TrueView_Imp</td>\n",
       "    </tr>\n",
       "    <tr>\n",
       "      <th>14</th>\n",
       "      <td>0.0</td>\n",
       "      <td>Creative_Type_RichMediaExpanding_Imp</td>\n",
       "    </tr>\n",
       "    <tr>\n",
       "      <th>15</th>\n",
       "      <td>0.0</td>\n",
       "      <td>Creative_Type_RichMedia_Imp</td>\n",
       "    </tr>\n",
       "    <tr>\n",
       "      <th>16</th>\n",
       "      <td>0.0</td>\n",
       "      <td>Creative_Size_728x90_Imp</td>\n",
       "    </tr>\n",
       "    <tr>\n",
       "      <th>17</th>\n",
       "      <td>0.0</td>\n",
       "      <td>Creative_Size_300x600_Imp</td>\n",
       "    </tr>\n",
       "    <tr>\n",
       "      <th>18</th>\n",
       "      <td>0.0</td>\n",
       "      <td>Creative_Size_300x250_Imp</td>\n",
       "    </tr>\n",
       "    <tr>\n",
       "      <th>19</th>\n",
       "      <td>0.0</td>\n",
       "      <td>Creative_Size_160x600_Imp</td>\n",
       "    </tr>\n",
       "    <tr>\n",
       "      <th>20</th>\n",
       "      <td>0.0</td>\n",
       "      <td>Creative_Size_468x60_Imp</td>\n",
       "    </tr>\n",
       "    <tr>\n",
       "      <th>21</th>\n",
       "      <td>0.0</td>\n",
       "      <td>Creative_Size_300x50_Imp</td>\n",
       "    </tr>\n",
       "    <tr>\n",
       "      <th>24</th>\n",
       "      <td>0.0</td>\n",
       "      <td>Creative_Size_480x320_Imp</td>\n",
       "    </tr>\n",
       "    <tr>\n",
       "      <th>25</th>\n",
       "      <td>0.0</td>\n",
       "      <td>Creative_Size_320x480_Imp</td>\n",
       "    </tr>\n",
       "    <tr>\n",
       "      <th>26</th>\n",
       "      <td>0.0</td>\n",
       "      <td>Creative_Size_Uknown_Imp</td>\n",
       "    </tr>\n",
       "    <tr>\n",
       "      <th>30</th>\n",
       "      <td>0.0</td>\n",
       "      <td>Active_View_Eligible_Impressions</td>\n",
       "    </tr>\n",
       "    <tr>\n",
       "      <th>31</th>\n",
       "      <td>0.0</td>\n",
       "      <td>Active_View_Measurable_Impressions</td>\n",
       "    </tr>\n",
       "    <tr>\n",
       "      <th>32</th>\n",
       "      <td>0.0</td>\n",
       "      <td>Active_View_Viewable_Impressions</td>\n",
       "    </tr>\n",
       "  </tbody>\n",
       "</table>\n",
       "</div>"
      ],
      "text/plain": [
       "    Coefficients                              Features\n",
       "0            0.0                           Impressions\n",
       "2            0.0                  TimeDiff_Minutes_AVG\n",
       "3            0.0                      Funnel_Upper_Imp\n",
       "6            0.0           Campaign_Message_Travel_Imp\n",
       "7            0.0          Campaign_Message_Service_Imp\n",
       "12           0.0             Creative_Type_Display_Imp\n",
       "13           0.0            Creative_Type_TrueView_Imp\n",
       "14           0.0  Creative_Type_RichMediaExpanding_Imp\n",
       "15           0.0           Creative_Type_RichMedia_Imp\n",
       "16           0.0              Creative_Size_728x90_Imp\n",
       "17           0.0             Creative_Size_300x600_Imp\n",
       "18           0.0             Creative_Size_300x250_Imp\n",
       "19           0.0             Creative_Size_160x600_Imp\n",
       "20           0.0              Creative_Size_468x60_Imp\n",
       "21           0.0              Creative_Size_300x50_Imp\n",
       "24           0.0             Creative_Size_480x320_Imp\n",
       "25           0.0             Creative_Size_320x480_Imp\n",
       "26           0.0              Creative_Size_Uknown_Imp\n",
       "30           0.0      Active_View_Eligible_Impressions\n",
       "31           0.0    Active_View_Measurable_Impressions\n",
       "32           0.0      Active_View_Viewable_Impressions"
      ]
     },
     "execution_count": 19,
     "metadata": {},
     "output_type": "execute_result"
    }
   ],
   "source": [
    "# Show non-important / zero'd features\n",
    "best_coeff[best_coeff['Coefficients']==0]"
   ]
  },
  {
   "cell_type": "code",
   "execution_count": 20,
   "metadata": {
    "collapsed": false
   },
   "outputs": [
    {
     "data": {
      "text/html": [
       "<div>\n",
       "<table border=\"1\" class=\"dataframe\">\n",
       "  <thead>\n",
       "    <tr style=\"text-align: right;\">\n",
       "      <th></th>\n",
       "      <th>Coefficients</th>\n",
       "      <th>Features</th>\n",
       "    </tr>\n",
       "  </thead>\n",
       "  <tbody>\n",
       "    <tr>\n",
       "      <th>1</th>\n",
       "      <td>0.064720</td>\n",
       "      <td>TimeDiff_Minutes</td>\n",
       "    </tr>\n",
       "    <tr>\n",
       "      <th>4</th>\n",
       "      <td>-0.396822</td>\n",
       "      <td>Funnel_Middle_Imp</td>\n",
       "    </tr>\n",
       "    <tr>\n",
       "      <th>5</th>\n",
       "      <td>0.054926</td>\n",
       "      <td>Funnel_Lower_Imp</td>\n",
       "    </tr>\n",
       "    <tr>\n",
       "      <th>8</th>\n",
       "      <td>0.085186</td>\n",
       "      <td>Campaign_Message_Family_Travel_Imp</td>\n",
       "    </tr>\n",
       "    <tr>\n",
       "      <th>9</th>\n",
       "      <td>0.006750</td>\n",
       "      <td>Campaign_Card_Cash_Rewards_Imp</td>\n",
       "    </tr>\n",
       "    <tr>\n",
       "      <th>10</th>\n",
       "      <td>-0.049595</td>\n",
       "      <td>Campaign_Card_Premium_Rewards_Imp</td>\n",
       "    </tr>\n",
       "    <tr>\n",
       "      <th>11</th>\n",
       "      <td>0.021681</td>\n",
       "      <td>Campaign_Card_Other_Imp</td>\n",
       "    </tr>\n",
       "    <tr>\n",
       "      <th>22</th>\n",
       "      <td>-0.042020</td>\n",
       "      <td>Creative_Size_320x50_Imp</td>\n",
       "    </tr>\n",
       "    <tr>\n",
       "      <th>23</th>\n",
       "      <td>0.006210</td>\n",
       "      <td>Creative_Size_320x420_Imp</td>\n",
       "    </tr>\n",
       "    <tr>\n",
       "      <th>27</th>\n",
       "      <td>0.129398</td>\n",
       "      <td>Device_Desktop_Imp</td>\n",
       "    </tr>\n",
       "    <tr>\n",
       "      <th>28</th>\n",
       "      <td>-0.079051</td>\n",
       "      <td>Device_Other_Imp</td>\n",
       "    </tr>\n",
       "    <tr>\n",
       "      <th>29</th>\n",
       "      <td>-0.094717</td>\n",
       "      <td>Device_Mobile_Imp</td>\n",
       "    </tr>\n",
       "    <tr>\n",
       "      <th>33</th>\n",
       "      <td>0.011106</td>\n",
       "      <td>Clicks</td>\n",
       "    </tr>\n",
       "    <tr>\n",
       "      <th>34</th>\n",
       "      <td>-0.147505</td>\n",
       "      <td>TimeDiff_NULL_FLAG</td>\n",
       "    </tr>\n",
       "  </tbody>\n",
       "</table>\n",
       "</div>"
      ],
      "text/plain": [
       "    Coefficients                            Features\n",
       "1       0.064720                    TimeDiff_Minutes\n",
       "4      -0.396822                   Funnel_Middle_Imp\n",
       "5       0.054926                    Funnel_Lower_Imp\n",
       "8       0.085186  Campaign_Message_Family_Travel_Imp\n",
       "9       0.006750      Campaign_Card_Cash_Rewards_Imp\n",
       "10     -0.049595   Campaign_Card_Premium_Rewards_Imp\n",
       "11      0.021681             Campaign_Card_Other_Imp\n",
       "22     -0.042020            Creative_Size_320x50_Imp\n",
       "23      0.006210           Creative_Size_320x420_Imp\n",
       "27      0.129398                  Device_Desktop_Imp\n",
       "28     -0.079051                    Device_Other_Imp\n",
       "29     -0.094717                   Device_Mobile_Imp\n",
       "33      0.011106                              Clicks\n",
       "34     -0.147505                  TimeDiff_NULL_FLAG"
      ]
     },
     "execution_count": 20,
     "metadata": {},
     "output_type": "execute_result"
    }
   ],
   "source": [
    "#Show important features - save for later use\n",
    "kept_coeff=best_coeff[best_coeff['Coefficients']!=0]\n",
    "kept_coeff"
   ]
  },
  {
   "cell_type": "markdown",
   "metadata": {},
   "source": [
    "#### Draw Learning Curve"
   ]
  },
  {
   "cell_type": "code",
   "execution_count": 21,
   "metadata": {
    "collapsed": false,
    "scrolled": true
   },
   "outputs": [
    {
     "name": "stdout",
     "output_type": "stream",
     "text": [
      "CPU times: user 4min 59s, sys: 26.7 s, total: 5min 26s\n",
      "Wall time: 4min 50s\n"
     ]
    },
    {
     "data": {
      "text/plain": [
       "<module 'matplotlib.pyplot' from '//anaconda/lib/python2.7/site-packages/matplotlib/pyplot.pyc'>"
      ]
     },
     "execution_count": 21,
     "metadata": {},
     "output_type": "execute_result"
    },
    {
     "data": {
      "image/png": "[encoded data removed]",
      "text/plain": [
       "<matplotlib.figure.Figure at 0x15232cf10>"
      ]
     },
     "metadata": {},
     "output_type": "display_data"
    }
   ],
   "source": [
    "%%time\n",
    "draw_learning_curve(best_logreg, pd.DataFrame(X_train_std), pd.Series(y_train), scoring='roc_auc', cv=cv);"
   ]
  },
  {
   "cell_type": "markdown",
   "metadata": {},
   "source": [
    "**Notes:**\n",
    "* The flattening of the training score curve shows we likely would not get more value from more data\n",
    "* We do see the variance of the cross-validation score increase which could lead to overfitting\n",
    "* We also have some bias as the training set only reaches ~.76 AUC, which indicates that we could improve the model with additional features."
   ]
  },
  {
   "cell_type": "markdown",
   "metadata": {},
   "source": [
    "#### Plot distribution of Predicted Probabilities"
   ]
  },
  {
   "cell_type": "code",
   "execution_count": 22,
   "metadata": {
    "collapsed": false
   },
   "outputs": [
    {
     "data": {
      "image/png": "[encoded data removed]",
      "text/plain": [
       "<matplotlib.figure.Figure at 0x11b02f190>"
      ]
     },
     "metadata": {},
     "output_type": "display_data"
    }
   ],
   "source": [
    "#Distribution of predictions\n",
    "y_probs = best_logreg.predict_proba(X_train_std)[:,1]\n",
    "plt.hist(y_probs)\n",
    "plt.title(\"Distribution of Predicted Probabilities\")\n",
    "plt.xlabel(\"Predicted Probability to Apply for Credit Card\")\n",
    "plt.ylabel(\"Count of Observations (Users)\");"
   ]
  },
  {
   "cell_type": "code",
   "execution_count": 23,
   "metadata": {
    "collapsed": false
   },
   "outputs": [
    {
     "data": {
      "image/png": "[encoded data removed]",
      "text/plain": [
       "<matplotlib.figure.Figure at 0x128c884d0>"
      ]
     },
     "metadata": {},
     "output_type": "display_data"
    }
   ],
   "source": [
    "#Distribution of predictions (Zoom in at probabilites<0.03%)\n",
    "max_in_chart=0.0003\n",
    "plt.hist(y_probs[y_probs<max_in_chart],bins=20);\n",
    "plt.title(\"Distribution of Predicted Probabilities\")\n",
    "plt.xlabel(\"Predicted Probability to Apply for Credit Card\")\n",
    "plt.ylabel(\"Count of Observations (Users)\");"
   ]
  },
  {
   "cell_type": "markdown",
   "metadata": {},
   "source": [
    "**Notes**\n",
    "* The large peak in the middle is an indication of how how hard it is to distinquish our observations from each other\n",
    "* However, there is a long tail to the right as seen in the first graph"
   ]
  },
  {
   "cell_type": "markdown",
   "metadata": {},
   "source": [
    "#### Plot ROC/AUC on Test Dataset (Reference Point)"
   ]
  },
  {
   "cell_type": "code",
   "execution_count": 24,
   "metadata": {
    "collapsed": false
   },
   "outputs": [
    {
     "data": {
      "image/png": "[encoded data removed]",
      "text/plain": [
       "<matplotlib.figure.Figure at 0x14467bb50>"
      ]
     },
     "metadata": {},
     "output_type": "display_data"
    }
   ],
   "source": [
    "#Plot ROC\n",
    "y_probs_test=best_logreg.predict_proba(X_test_std)[:,1]\n",
    "fpr, tpr, thresholds = roc_curve(y_test, y_probs_test)\n",
    "plt.plot(fpr,tpr,label='Initial Best Model ROC')\n",
    "\n",
    "#Plot reference line\n",
    "z=np.linspace(0,1,20)\n",
    "plt.plot(z,z,label='Baseline');\n",
    "\n",
    "#Calculate AUC\n",
    "area=auc(fpr, tpr)\n",
    "plt.text(0.5, 0.3, 'AUC={0:0.4f}'.format(area), style='normal',\n",
    "         verticalalignment='center', horizontalalignment='center',\n",
    "         bbox={'facecolor':'red', 'alpha':0.5, 'pad':10})\n",
    "\n",
    "# AUC shading\n",
    "plt.fill_between(fpr, 0, tpr, where=tpr >= 0, facecolor='lightblue', interpolate=True,alpha=0.5)\n",
    "\n",
    "#Plot details\n",
    "plt.title(\"ROC on Test Data\")\n",
    "plt.xlabel(\"False Postive Rate (FPR)\")\n",
    "plt.ylabel(\"True Postive Rate (TPR)\")\n",
    "plt.legend(loc='right');"
   ]
  },
  {
   "cell_type": "markdown",
   "metadata": {},
   "source": [
    "**Notes**\n",
    "* AUC slightly improved from 0.7311 (Training Data cross-validation) to 0.7508 on the Test Data\n",
    "* We will keep this as a reference point to try to improve by adding new features in the next section"
   ]
  },
  {
   "cell_type": "markdown",
   "metadata": {},
   "source": [
    "## Try New Features"
   ]
  },
  {
   "cell_type": "markdown",
   "metadata": {},
   "source": [
    "We will create the following new features to try improve our model score:\n",
    "1. Funnel Halo Effect\n",
    "2. Categorical version of TimeDiff (time difference between first and last ad)\n",
    "3. Percent Viewable Impressions\n",
    "4. Combine Creative Sizes into buckets of Small, Medium, and Large"
   ]
  },
  {
   "cell_type": "markdown",
   "metadata": {},
   "source": [
    "### 1. Funnel Halo Effect\n",
    "We believe there is a potential halo effect from being reached by multiple stages of the marketing funnel.  Therefore, we will create 4 new features to capture these overlaps in ad exposure:\n",
    "* **Upper_and_Lower:** exposure to both Upper and Lower funnel ads\n",
    "* **Upper_and_Middle:** exposure to both Upper and Middle funnel ads\n",
    "* **Middle_Lower:** exposure to both Middel and Lower funnel ads\n",
    "* **Upper_Middle_Lower:** exposure to both Upper and Middle and Lower funnel ads"
   ]
  },
  {
   "cell_type": "code",
   "execution_count": 25,
   "metadata": {
    "collapsed": true
   },
   "outputs": [],
   "source": [
    "# Create new features\n",
    "data['Upper_and_Lower'] = data['Funnel_Upper_Imp']*data['Funnel_Lower_Imp']\n",
    "data['Upper_and_Middle'] = data['Funnel_Upper_Imp']*data['Funnel_Middle_Imp']\n",
    "data['Middle_Lower'] = data['Funnel_Middle_Imp']*data['Funnel_Lower_Imp']\n",
    "data['Upper_Middle_Lower'] = data['Funnel_Upper_Imp']*data['Funnel_Middle_Imp']*data['Funnel_Lower_Imp']"
   ]
  },
  {
   "cell_type": "code",
   "execution_count": 26,
   "metadata": {
    "collapsed": false
   },
   "outputs": [],
   "source": [
    "# Re-prepare the Features dataset\n",
    "# Keep only the features we found are important in our L1 regularization in our first model\n",
    "# Add new features\n",
    "features=kept_coeff['Features'].tolist() + ['Upper_and_Lower','Upper_and_Middle','Middle_Lower','Upper_Middle_Lower']\n",
    "X=data[features]\n",
    "\n",
    "# Split into Train/Test (random state ensures same breakdown)\n",
    "X_train, X_test, y_train, y_test = train_test_split(X,y,test_size=0.2,random_state=7)\n",
    "\n",
    "# Standardization: bring all of our features onto the same scale\n",
    "X_train_std = stdsc.fit_transform(X_train)\n",
    "X_test_std = stdsc.transform(X_test)"
   ]
  },
  {
   "cell_type": "code",
   "execution_count": 27,
   "metadata": {
    "collapsed": false
   },
   "outputs": [
    {
     "name": "stdout",
     "output_type": "stream",
     "text": [
      "CPU times: user 8min 49s, sys: 28.6 s, total: 9min 18s\n",
      "Wall time: 8min 39s\n"
     ]
    }
   ],
   "source": [
    "%%time\n",
    "logregL1 = LogisticRegression(penalty='l1')\n",
    "parameters = {'C': [0.01,0.05,0.1,0.3,0.5]}\n",
    "clf = GridSearchCV(logregL1, parameters, cv=cv,scoring=\"roc_auc\")\n",
    "clf.fit(pd.DataFrame(X_train_std), pd.Series(y_train))   #turning into pandas dataframe or series prevents an error"
   ]
  },
  {
   "cell_type": "code",
   "execution_count": 28,
   "metadata": {
    "collapsed": false
   },
   "outputs": [
    {
     "name": "stdout",
     "output_type": "stream",
     "text": [
      "Best model parameters are: {'C': 0.05}\n",
      "Best AUC model score is: 0.733025496751\n"
     ]
    }
   ],
   "source": [
    "print \"Best model parameters are: {}\".format(clf.best_params_)\n",
    "print \"Best AUC model score is: {}\".format(clf.best_score_)"
   ]
  },
  {
   "cell_type": "code",
   "execution_count": 29,
   "metadata": {
    "collapsed": false
   },
   "outputs": [
    {
     "data": {
      "text/html": [
       "<div>\n",
       "<table border=\"1\" class=\"dataframe\">\n",
       "  <thead>\n",
       "    <tr style=\"text-align: right;\">\n",
       "      <th></th>\n",
       "      <th>Coefficients</th>\n",
       "      <th>Features</th>\n",
       "    </tr>\n",
       "  </thead>\n",
       "  <tbody>\n",
       "    <tr>\n",
       "      <th>0</th>\n",
       "      <td>0.064409</td>\n",
       "      <td>TimeDiff_Minutes</td>\n",
       "    </tr>\n",
       "    <tr>\n",
       "      <th>1</th>\n",
       "      <td>-0.399242</td>\n",
       "      <td>Funnel_Middle_Imp</td>\n",
       "    </tr>\n",
       "    <tr>\n",
       "      <th>2</th>\n",
       "      <td>0.052847</td>\n",
       "      <td>Funnel_Lower_Imp</td>\n",
       "    </tr>\n",
       "    <tr>\n",
       "      <th>3</th>\n",
       "      <td>0.084409</td>\n",
       "      <td>Campaign_Message_Family_Travel_Imp</td>\n",
       "    </tr>\n",
       "    <tr>\n",
       "      <th>4</th>\n",
       "      <td>0.005707</td>\n",
       "      <td>Campaign_Card_Cash_Rewards_Imp</td>\n",
       "    </tr>\n",
       "    <tr>\n",
       "      <th>5</th>\n",
       "      <td>-0.050107</td>\n",
       "      <td>Campaign_Card_Premium_Rewards_Imp</td>\n",
       "    </tr>\n",
       "    <tr>\n",
       "      <th>6</th>\n",
       "      <td>0.021561</td>\n",
       "      <td>Campaign_Card_Other_Imp</td>\n",
       "    </tr>\n",
       "    <tr>\n",
       "      <th>7</th>\n",
       "      <td>-0.041602</td>\n",
       "      <td>Creative_Size_320x50_Imp</td>\n",
       "    </tr>\n",
       "    <tr>\n",
       "      <th>8</th>\n",
       "      <td>0.006205</td>\n",
       "      <td>Creative_Size_320x420_Imp</td>\n",
       "    </tr>\n",
       "    <tr>\n",
       "      <th>9</th>\n",
       "      <td>0.134870</td>\n",
       "      <td>Device_Desktop_Imp</td>\n",
       "    </tr>\n",
       "    <tr>\n",
       "      <th>10</th>\n",
       "      <td>-0.078709</td>\n",
       "      <td>Device_Other_Imp</td>\n",
       "    </tr>\n",
       "    <tr>\n",
       "      <th>11</th>\n",
       "      <td>-0.092411</td>\n",
       "      <td>Device_Mobile_Imp</td>\n",
       "    </tr>\n",
       "    <tr>\n",
       "      <th>12</th>\n",
       "      <td>0.011107</td>\n",
       "      <td>Clicks</td>\n",
       "    </tr>\n",
       "    <tr>\n",
       "      <th>13</th>\n",
       "      <td>-0.147124</td>\n",
       "      <td>TimeDiff_NULL_FLAG</td>\n",
       "    </tr>\n",
       "    <tr>\n",
       "      <th>14</th>\n",
       "      <td>-0.002371</td>\n",
       "      <td>Upper_and_Lower</td>\n",
       "    </tr>\n",
       "    <tr>\n",
       "      <th>15</th>\n",
       "      <td>0.000000</td>\n",
       "      <td>Upper_and_Middle</td>\n",
       "    </tr>\n",
       "    <tr>\n",
       "      <th>16</th>\n",
       "      <td>0.000000</td>\n",
       "      <td>Middle_Lower</td>\n",
       "    </tr>\n",
       "    <tr>\n",
       "      <th>17</th>\n",
       "      <td>0.000000</td>\n",
       "      <td>Upper_Middle_Lower</td>\n",
       "    </tr>\n",
       "  </tbody>\n",
       "</table>\n",
       "</div>"
      ],
      "text/plain": [
       "    Coefficients                            Features\n",
       "0       0.064409                    TimeDiff_Minutes\n",
       "1      -0.399242                   Funnel_Middle_Imp\n",
       "2       0.052847                    Funnel_Lower_Imp\n",
       "3       0.084409  Campaign_Message_Family_Travel_Imp\n",
       "4       0.005707      Campaign_Card_Cash_Rewards_Imp\n",
       "5      -0.050107   Campaign_Card_Premium_Rewards_Imp\n",
       "6       0.021561             Campaign_Card_Other_Imp\n",
       "7      -0.041602            Creative_Size_320x50_Imp\n",
       "8       0.006205           Creative_Size_320x420_Imp\n",
       "9       0.134870                  Device_Desktop_Imp\n",
       "10     -0.078709                    Device_Other_Imp\n",
       "11     -0.092411                   Device_Mobile_Imp\n",
       "12      0.011107                              Clicks\n",
       "13     -0.147124                  TimeDiff_NULL_FLAG\n",
       "14     -0.002371                     Upper_and_Lower\n",
       "15      0.000000                    Upper_and_Middle\n",
       "16      0.000000                        Middle_Lower\n",
       "17      0.000000                  Upper_Middle_Lower"
      ]
     },
     "execution_count": 29,
     "metadata": {},
     "output_type": "execute_result"
    }
   ],
   "source": [
    "best_coeff=pd.DataFrame({'Features':X.columns,\n",
    "                         'Coefficients':clf.best_estimator_.coef_[0]})\n",
    "best_coeff"
   ]
  },
  {
   "cell_type": "markdown",
   "metadata": {},
   "source": [
    "**Notes**\n",
    "* Small improvement in AUC from 0.7311 tot 0.7330\n",
    "* Minimual Improvemnt to AUC and the only feature add was \"Upper_and_Lower\" with a very low coefficient, perhaps not worth adding to final model"
   ]
  },
  {
   "cell_type": "markdown",
   "metadata": {},
   "source": [
    "### 2. Alternative Time-Difference Feature\n",
    "Change Time-Difference Feature to be categorical, with the following breakouts:\n",
    "* **Only One Impression:** User only received 1 impression (use this value as the reference point, don't include in model)\n",
    "* **TimeDiff_One_Day:** Mulitple Impressions in one day\n",
    "* **TimeDiff_1to7_Days:** Mulitple Impressions in one week (but more than a single day)\n",
    "* **TimeDiff_7plus:** Multiple Impressions over several days (but more than one week)"
   ]
  },
  {
   "cell_type": "code",
   "execution_count": 30,
   "metadata": {
    "collapsed": false
   },
   "outputs": [],
   "source": [
    "# Create new features\n",
    "data['TimeDiff_One_Day'] = pd.Categorical( (data['Impressions']>1) &\n",
    "                                           (data['TimeDiff_Minutes']<= (24*60)) ) \n",
    "data['TimeDiff_1to7_Days'] = pd.Categorical( (data['Impressions']>1) &\n",
    "                                             (data['TimeDiff_Minutes']> (24*60)) & \n",
    "                                            (data['TimeDiff_Minutes']<= (24*60*7)) )\n",
    "data['TimeDiff_7plus'] = pd.Categorical( (data['Impressions']>1) &\n",
    "                                             (data['TimeDiff_Minutes']> (24*60*7)) )"
   ]
  },
  {
   "cell_type": "code",
   "execution_count": 31,
   "metadata": {
    "collapsed": false
   },
   "outputs": [
    {
     "data": {
      "text/html": [
       "<div>\n",
       "<table border=\"1\" class=\"dataframe\">\n",
       "  <thead>\n",
       "    <tr style=\"text-align: right;\">\n",
       "      <th></th>\n",
       "      <th>Impressions</th>\n",
       "      <th>TimeDiff_Minutes</th>\n",
       "      <th>TimeDiff_One_Day</th>\n",
       "      <th>TimeDiff_1to7_Days</th>\n",
       "      <th>TimeDiff_7plus</th>\n",
       "    </tr>\n",
       "  </thead>\n",
       "  <tbody>\n",
       "    <tr>\n",
       "      <th>1575926</th>\n",
       "      <td>1</td>\n",
       "      <td>1481.0</td>\n",
       "      <td>False</td>\n",
       "      <td>False</td>\n",
       "      <td>False</td>\n",
       "    </tr>\n",
       "    <tr>\n",
       "      <th>1836159</th>\n",
       "      <td>31</td>\n",
       "      <td>42085.0</td>\n",
       "      <td>False</td>\n",
       "      <td>False</td>\n",
       "      <td>True</td>\n",
       "    </tr>\n",
       "    <tr>\n",
       "      <th>1787336</th>\n",
       "      <td>1</td>\n",
       "      <td>1481.0</td>\n",
       "      <td>False</td>\n",
       "      <td>False</td>\n",
       "      <td>False</td>\n",
       "    </tr>\n",
       "    <tr>\n",
       "      <th>2908957</th>\n",
       "      <td>1</td>\n",
       "      <td>1481.0</td>\n",
       "      <td>False</td>\n",
       "      <td>False</td>\n",
       "      <td>False</td>\n",
       "    </tr>\n",
       "    <tr>\n",
       "      <th>407642</th>\n",
       "      <td>2</td>\n",
       "      <td>3194.0</td>\n",
       "      <td>False</td>\n",
       "      <td>True</td>\n",
       "      <td>False</td>\n",
       "    </tr>\n",
       "    <tr>\n",
       "      <th>2677511</th>\n",
       "      <td>4</td>\n",
       "      <td>1578.0</td>\n",
       "      <td>False</td>\n",
       "      <td>True</td>\n",
       "      <td>False</td>\n",
       "    </tr>\n",
       "    <tr>\n",
       "      <th>2472893</th>\n",
       "      <td>1</td>\n",
       "      <td>1481.0</td>\n",
       "      <td>False</td>\n",
       "      <td>False</td>\n",
       "      <td>False</td>\n",
       "    </tr>\n",
       "    <tr>\n",
       "      <th>624369</th>\n",
       "      <td>2</td>\n",
       "      <td>14343.0</td>\n",
       "      <td>False</td>\n",
       "      <td>False</td>\n",
       "      <td>True</td>\n",
       "    </tr>\n",
       "    <tr>\n",
       "      <th>1508962</th>\n",
       "      <td>3</td>\n",
       "      <td>44.0</td>\n",
       "      <td>True</td>\n",
       "      <td>False</td>\n",
       "      <td>False</td>\n",
       "    </tr>\n",
       "    <tr>\n",
       "      <th>540444</th>\n",
       "      <td>1</td>\n",
       "      <td>1481.0</td>\n",
       "      <td>False</td>\n",
       "      <td>False</td>\n",
       "      <td>False</td>\n",
       "    </tr>\n",
       "  </tbody>\n",
       "</table>\n",
       "</div>"
      ],
      "text/plain": [
       "         Impressions  TimeDiff_Minutes TimeDiff_One_Day TimeDiff_1to7_Days  \\\n",
       "1575926            1            1481.0            False              False   \n",
       "1836159           31           42085.0            False              False   \n",
       "1787336            1            1481.0            False              False   \n",
       "2908957            1            1481.0            False              False   \n",
       "407642             2            3194.0            False               True   \n",
       "2677511            4            1578.0            False               True   \n",
       "2472893            1            1481.0            False              False   \n",
       "624369             2           14343.0            False              False   \n",
       "1508962            3              44.0             True              False   \n",
       "540444             1            1481.0            False              False   \n",
       "\n",
       "        TimeDiff_7plus  \n",
       "1575926          False  \n",
       "1836159           True  \n",
       "1787336          False  \n",
       "2908957          False  \n",
       "407642           False  \n",
       "2677511          False  \n",
       "2472893          False  \n",
       "624369            True  \n",
       "1508962          False  \n",
       "540444           False  "
      ]
     },
     "execution_count": 31,
     "metadata": {},
     "output_type": "execute_result"
    }
   ],
   "source": [
    "data[['Impressions','TimeDiff_Minutes','TimeDiff_One_Day','TimeDiff_1to7_Days','TimeDiff_7plus']].sample(10)"
   ]
  },
  {
   "cell_type": "code",
   "execution_count": 32,
   "metadata": {
    "collapsed": true
   },
   "outputs": [],
   "source": [
    "# Re-prepare the Features dataset\n",
    "# Keep only the features we found are important in our L1 regularization in our first model\n",
    "# Replace time features with new ones\n",
    "features=kept_coeff['Features'].tolist() + ['TimeDiff_One_Day','TimeDiff_1to7_Days','TimeDiff_7plus'] \n",
    "X=data[features]\n",
    "X=X.drop(['TimeDiff_Minutes','TimeDiff_NULL_FLAG'],axis=1)\n",
    "\n",
    "# Split into Train/Test (random state ensures same breakdown)\n",
    "X_train, X_test, y_train, y_test = train_test_split(X,y,test_size=0.2,random_state=7)\n",
    "\n",
    "# Standardization: bring all of our features onto the same scale\n",
    "X_train_std = stdsc.fit_transform(X_train)\n",
    "X_test_std = stdsc.transform(X_test)"
   ]
  },
  {
   "cell_type": "code",
   "execution_count": 33,
   "metadata": {
    "collapsed": false
   },
   "outputs": [
    {
     "name": "stdout",
     "output_type": "stream",
     "text": [
      "CPU times: user 6min 45s, sys: 24.4 s, total: 7min 10s\n",
      "Wall time: 6min 32s\n"
     ]
    }
   ],
   "source": [
    "%%time\n",
    "logregL1 = LogisticRegression(penalty='l1')\n",
    "parameters = {'C': [0.01,0.05,0.1,0.3,0.5]}\n",
    "clf = GridSearchCV(logregL1, parameters, cv=cv,scoring=\"roc_auc\")\n",
    "clf.fit(pd.DataFrame(X_train_std), pd.Series(y_train))   #turning into pandas dataframe or series prevents an error"
   ]
  },
  {
   "cell_type": "code",
   "execution_count": 34,
   "metadata": {
    "collapsed": false
   },
   "outputs": [
    {
     "name": "stdout",
     "output_type": "stream",
     "text": [
      "Best model parameters are: {'C': 0.1}\n",
      "Best AUC model score is: 0.727870988727\n"
     ]
    }
   ],
   "source": [
    "print \"Best model parameters are: {}\".format(clf.best_params_)\n",
    "print \"Best AUC model score is: {}\".format(clf.best_score_)"
   ]
  },
  {
   "cell_type": "code",
   "execution_count": 35,
   "metadata": {
    "collapsed": false
   },
   "outputs": [
    {
     "data": {
      "text/html": [
       "<div>\n",
       "<table border=\"1\" class=\"dataframe\">\n",
       "  <thead>\n",
       "    <tr style=\"text-align: right;\">\n",
       "      <th></th>\n",
       "      <th>Coefficients</th>\n",
       "      <th>Features</th>\n",
       "    </tr>\n",
       "  </thead>\n",
       "  <tbody>\n",
       "    <tr>\n",
       "      <th>0</th>\n",
       "      <td>-0.688405</td>\n",
       "      <td>Funnel_Middle_Imp</td>\n",
       "    </tr>\n",
       "    <tr>\n",
       "      <th>1</th>\n",
       "      <td>0.013935</td>\n",
       "      <td>Funnel_Lower_Imp</td>\n",
       "    </tr>\n",
       "    <tr>\n",
       "      <th>2</th>\n",
       "      <td>0.207511</td>\n",
       "      <td>Campaign_Message_Family_Travel_Imp</td>\n",
       "    </tr>\n",
       "    <tr>\n",
       "      <th>3</th>\n",
       "      <td>0.070060</td>\n",
       "      <td>Campaign_Card_Cash_Rewards_Imp</td>\n",
       "    </tr>\n",
       "    <tr>\n",
       "      <th>4</th>\n",
       "      <td>-0.057239</td>\n",
       "      <td>Campaign_Card_Premium_Rewards_Imp</td>\n",
       "    </tr>\n",
       "    <tr>\n",
       "      <th>5</th>\n",
       "      <td>0.023785</td>\n",
       "      <td>Campaign_Card_Other_Imp</td>\n",
       "    </tr>\n",
       "    <tr>\n",
       "      <th>6</th>\n",
       "      <td>-0.122757</td>\n",
       "      <td>Creative_Size_320x50_Imp</td>\n",
       "    </tr>\n",
       "    <tr>\n",
       "      <th>7</th>\n",
       "      <td>0.009637</td>\n",
       "      <td>Creative_Size_320x420_Imp</td>\n",
       "    </tr>\n",
       "    <tr>\n",
       "      <th>8</th>\n",
       "      <td>0.139747</td>\n",
       "      <td>Device_Desktop_Imp</td>\n",
       "    </tr>\n",
       "    <tr>\n",
       "      <th>9</th>\n",
       "      <td>-0.291494</td>\n",
       "      <td>Device_Other_Imp</td>\n",
       "    </tr>\n",
       "    <tr>\n",
       "      <th>10</th>\n",
       "      <td>-0.227860</td>\n",
       "      <td>Device_Mobile_Imp</td>\n",
       "    </tr>\n",
       "    <tr>\n",
       "      <th>11</th>\n",
       "      <td>0.011262</td>\n",
       "      <td>Clicks</td>\n",
       "    </tr>\n",
       "    <tr>\n",
       "      <th>12</th>\n",
       "      <td>0.082781</td>\n",
       "      <td>TimeDiff_One_Day</td>\n",
       "    </tr>\n",
       "    <tr>\n",
       "      <th>13</th>\n",
       "      <td>0.196803</td>\n",
       "      <td>TimeDiff_1to7_Days</td>\n",
       "    </tr>\n",
       "    <tr>\n",
       "      <th>14</th>\n",
       "      <td>0.274356</td>\n",
       "      <td>TimeDiff_7plus</td>\n",
       "    </tr>\n",
       "  </tbody>\n",
       "</table>\n",
       "</div>"
      ],
      "text/plain": [
       "    Coefficients                            Features\n",
       "0      -0.688405                   Funnel_Middle_Imp\n",
       "1       0.013935                    Funnel_Lower_Imp\n",
       "2       0.207511  Campaign_Message_Family_Travel_Imp\n",
       "3       0.070060      Campaign_Card_Cash_Rewards_Imp\n",
       "4      -0.057239   Campaign_Card_Premium_Rewards_Imp\n",
       "5       0.023785             Campaign_Card_Other_Imp\n",
       "6      -0.122757            Creative_Size_320x50_Imp\n",
       "7       0.009637           Creative_Size_320x420_Imp\n",
       "8       0.139747                  Device_Desktop_Imp\n",
       "9      -0.291494                    Device_Other_Imp\n",
       "10     -0.227860                   Device_Mobile_Imp\n",
       "11      0.011262                              Clicks\n",
       "12      0.082781                    TimeDiff_One_Day\n",
       "13      0.196803                  TimeDiff_1to7_Days\n",
       "14      0.274356                      TimeDiff_7plus"
      ]
     },
     "execution_count": 35,
     "metadata": {},
     "output_type": "execute_result"
    }
   ],
   "source": [
    "best_coeff=pd.DataFrame({'Features':X.columns,\n",
    "                         'Coefficients':clf.best_estimator_.coef_[0]})\n",
    "best_coeff"
   ]
  },
  {
   "cell_type": "markdown",
   "metadata": {},
   "source": [
    "**Notes**\n",
    "* AUC slightly worsened from 0.7311 to 0.7278 (minimal difference)\n",
    "* This representation is slightly more intuitive, perhaps keep this one."
   ]
  },
  {
   "cell_type": "markdown",
   "metadata": {},
   "source": [
    "### 3. Percent of Impressions Viewable\n",
    "We believe that the percent of impressions shown that were viewable could potentially be an important feature.  Viewable_Percent for each user will be defined as:\n",
    "\n",
    "\\begin{equation*}\n",
    "ViewablePercent = \\frac{ViewableImpressions}{MeasurableImpressions}\n",
    "\\end{equation*}"
   ]
  },
  {
   "cell_type": "code",
   "execution_count": 36,
   "metadata": {
    "collapsed": false
   },
   "outputs": [],
   "source": [
    "# Create new features\n",
    "data['Viewable_Percent'] = data['Active_View_Viewable_Impressions'] / data['Active_View_Measurable_Impressions']\n",
    "\n",
    "# Replace NULL/inf with zero (when measureable imp=0)\n",
    "data['Viewable_Percent'].fillna(0,inplace=True)\n",
    "data['Viewable_Percent']=data['Viewable_Percent'].replace(np.inf,0)\n",
    "\n",
    "# Some data issues may cause negative values or values above 1\n",
    "# For negative values, change to 0\n",
    "# For values above 1, change to 1\n",
    "data['Viewable_Percent']=[0 if x<0 else x for x in data['Viewable_Percent']]\n",
    "data['Viewable_Percent']=[1 if x>1 else x for x in data['Viewable_Percent']]"
   ]
  },
  {
   "cell_type": "code",
   "execution_count": 37,
   "metadata": {
    "collapsed": false
   },
   "outputs": [
    {
     "name": "stdout",
     "output_type": "stream",
     "text": [
      "1.0\n",
      "0.0\n"
     ]
    }
   ],
   "source": [
    "print max(data['Viewable_Percent'])\n",
    "print min(data['Viewable_Percent'])"
   ]
  },
  {
   "cell_type": "code",
   "execution_count": 38,
   "metadata": {
    "collapsed": false
   },
   "outputs": [
    {
     "data": {
      "text/html": [
       "<div>\n",
       "<table border=\"1\" class=\"dataframe\">\n",
       "  <thead>\n",
       "    <tr style=\"text-align: right;\">\n",
       "      <th></th>\n",
       "      <th>Active_View_Viewable_Impressions</th>\n",
       "      <th>Active_View_Measurable_Impressions</th>\n",
       "      <th>Viewable_Percent</th>\n",
       "    </tr>\n",
       "  </thead>\n",
       "  <tbody>\n",
       "    <tr>\n",
       "      <th>1479130</th>\n",
       "      <td>1</td>\n",
       "      <td>1</td>\n",
       "      <td>1.000000</td>\n",
       "    </tr>\n",
       "    <tr>\n",
       "      <th>2588016</th>\n",
       "      <td>1</td>\n",
       "      <td>2</td>\n",
       "      <td>0.500000</td>\n",
       "    </tr>\n",
       "    <tr>\n",
       "      <th>2229712</th>\n",
       "      <td>0</td>\n",
       "      <td>0</td>\n",
       "      <td>0.000000</td>\n",
       "    </tr>\n",
       "    <tr>\n",
       "      <th>175096</th>\n",
       "      <td>0</td>\n",
       "      <td>0</td>\n",
       "      <td>0.000000</td>\n",
       "    </tr>\n",
       "    <tr>\n",
       "      <th>2483638</th>\n",
       "      <td>2</td>\n",
       "      <td>3</td>\n",
       "      <td>0.666667</td>\n",
       "    </tr>\n",
       "  </tbody>\n",
       "</table>\n",
       "</div>"
      ],
      "text/plain": [
       "         Active_View_Viewable_Impressions  Active_View_Measurable_Impressions  \\\n",
       "1479130                                 1                                   1   \n",
       "2588016                                 1                                   2   \n",
       "2229712                                 0                                   0   \n",
       "175096                                  0                                   0   \n",
       "2483638                                 2                                   3   \n",
       "\n",
       "         Viewable_Percent  \n",
       "1479130          1.000000  \n",
       "2588016          0.500000  \n",
       "2229712          0.000000  \n",
       "175096           0.000000  \n",
       "2483638          0.666667  "
      ]
     },
     "execution_count": 38,
     "metadata": {},
     "output_type": "execute_result"
    }
   ],
   "source": [
    "data[['Active_View_Viewable_Impressions','Active_View_Measurable_Impressions','Viewable_Percent']].sample(5)"
   ]
  },
  {
   "cell_type": "code",
   "execution_count": 39,
   "metadata": {
    "collapsed": false
   },
   "outputs": [],
   "source": [
    "# Re-prepare the Features dataset\n",
    "# Keep only the features we found are important in our L1 regularization in our first model\n",
    "# Replace time features with new ones\n",
    "features=kept_coeff['Features'].tolist() + ['Viewable_Percent'] \n",
    "X=data[features]\n",
    "\n",
    "# Split into Train/Test (random state ensures same breakdown)\n",
    "X_train, X_test, y_train, y_test = train_test_split(X,y,test_size=0.2,random_state=7)\n",
    "\n",
    "# Standardization: bring all of our features onto the same scale\n",
    "X_train_std = stdsc.fit_transform(X_train)\n",
    "X_test_std = stdsc.transform(X_test)"
   ]
  },
  {
   "cell_type": "code",
   "execution_count": 40,
   "metadata": {
    "collapsed": false
   },
   "outputs": [
    {
     "name": "stdout",
     "output_type": "stream",
     "text": [
      "CPU times: user 6min 1s, sys: 24.4 s, total: 6min 26s\n",
      "Wall time: 6min 26s\n"
     ]
    }
   ],
   "source": [
    "%%time\n",
    "logregL1 = LogisticRegression(penalty='l1')\n",
    "parameters = {'C': [0.01,0.05,0.1,0.3,0.5]}\n",
    "clf = GridSearchCV(logregL1, parameters, cv=cv,scoring=\"roc_auc\")\n",
    "clf.fit(pd.DataFrame(X_train_std), pd.Series(y_train))   #turning into pandas dataframe or series prevents an error"
   ]
  },
  {
   "cell_type": "code",
   "execution_count": 41,
   "metadata": {
    "collapsed": false
   },
   "outputs": [
    {
     "name": "stdout",
     "output_type": "stream",
     "text": [
      "Best model parameters are: {'C': 0.05}\n",
      "Best AUC model score is: 0.73310390889\n"
     ]
    }
   ],
   "source": [
    "print \"Best model parameters are: {}\".format(clf.best_params_)\n",
    "print \"Best AUC model score is: {}\".format(clf.best_score_)"
   ]
  },
  {
   "cell_type": "code",
   "execution_count": 42,
   "metadata": {
    "collapsed": false
   },
   "outputs": [
    {
     "data": {
      "text/html": [
       "<div>\n",
       "<table border=\"1\" class=\"dataframe\">\n",
       "  <thead>\n",
       "    <tr style=\"text-align: right;\">\n",
       "      <th></th>\n",
       "      <th>Coefficients</th>\n",
       "      <th>Features</th>\n",
       "    </tr>\n",
       "  </thead>\n",
       "  <tbody>\n",
       "    <tr>\n",
       "      <th>0</th>\n",
       "      <td>0.064723</td>\n",
       "      <td>TimeDiff_Minutes</td>\n",
       "    </tr>\n",
       "    <tr>\n",
       "      <th>1</th>\n",
       "      <td>-0.396810</td>\n",
       "      <td>Funnel_Middle_Imp</td>\n",
       "    </tr>\n",
       "    <tr>\n",
       "      <th>2</th>\n",
       "      <td>0.054937</td>\n",
       "      <td>Funnel_Lower_Imp</td>\n",
       "    </tr>\n",
       "    <tr>\n",
       "      <th>3</th>\n",
       "      <td>0.085187</td>\n",
       "      <td>Campaign_Message_Family_Travel_Imp</td>\n",
       "    </tr>\n",
       "    <tr>\n",
       "      <th>4</th>\n",
       "      <td>0.006750</td>\n",
       "      <td>Campaign_Card_Cash_Rewards_Imp</td>\n",
       "    </tr>\n",
       "    <tr>\n",
       "      <th>5</th>\n",
       "      <td>-0.049597</td>\n",
       "      <td>Campaign_Card_Premium_Rewards_Imp</td>\n",
       "    </tr>\n",
       "    <tr>\n",
       "      <th>6</th>\n",
       "      <td>0.021681</td>\n",
       "      <td>Campaign_Card_Other_Imp</td>\n",
       "    </tr>\n",
       "    <tr>\n",
       "      <th>7</th>\n",
       "      <td>-0.042020</td>\n",
       "      <td>Creative_Size_320x50_Imp</td>\n",
       "    </tr>\n",
       "    <tr>\n",
       "      <th>8</th>\n",
       "      <td>0.006210</td>\n",
       "      <td>Creative_Size_320x420_Imp</td>\n",
       "    </tr>\n",
       "    <tr>\n",
       "      <th>9</th>\n",
       "      <td>0.129374</td>\n",
       "      <td>Device_Desktop_Imp</td>\n",
       "    </tr>\n",
       "    <tr>\n",
       "      <th>10</th>\n",
       "      <td>-0.079054</td>\n",
       "      <td>Device_Other_Imp</td>\n",
       "    </tr>\n",
       "    <tr>\n",
       "      <th>11</th>\n",
       "      <td>-0.094726</td>\n",
       "      <td>Device_Mobile_Imp</td>\n",
       "    </tr>\n",
       "    <tr>\n",
       "      <th>12</th>\n",
       "      <td>0.011106</td>\n",
       "      <td>Clicks</td>\n",
       "    </tr>\n",
       "    <tr>\n",
       "      <th>13</th>\n",
       "      <td>-0.147502</td>\n",
       "      <td>TimeDiff_NULL_FLAG</td>\n",
       "    </tr>\n",
       "    <tr>\n",
       "      <th>14</th>\n",
       "      <td>0.000000</td>\n",
       "      <td>Viewable_Percent</td>\n",
       "    </tr>\n",
       "  </tbody>\n",
       "</table>\n",
       "</div>"
      ],
      "text/plain": [
       "    Coefficients                            Features\n",
       "0       0.064723                    TimeDiff_Minutes\n",
       "1      -0.396810                   Funnel_Middle_Imp\n",
       "2       0.054937                    Funnel_Lower_Imp\n",
       "3       0.085187  Campaign_Message_Family_Travel_Imp\n",
       "4       0.006750      Campaign_Card_Cash_Rewards_Imp\n",
       "5      -0.049597   Campaign_Card_Premium_Rewards_Imp\n",
       "6       0.021681             Campaign_Card_Other_Imp\n",
       "7      -0.042020            Creative_Size_320x50_Imp\n",
       "8       0.006210           Creative_Size_320x420_Imp\n",
       "9       0.129374                  Device_Desktop_Imp\n",
       "10     -0.079054                    Device_Other_Imp\n",
       "11     -0.094726                   Device_Mobile_Imp\n",
       "12      0.011106                              Clicks\n",
       "13     -0.147502                  TimeDiff_NULL_FLAG\n",
       "14      0.000000                    Viewable_Percent"
      ]
     },
     "execution_count": 42,
     "metadata": {},
     "output_type": "execute_result"
    }
   ],
   "source": [
    "best_coeff=pd.DataFrame({'Features':X.columns,\n",
    "                         'Coefficients':clf.best_estimator_.coef_[0]})\n",
    "best_coeff"
   ]
  },
  {
   "cell_type": "markdown",
   "metadata": {},
   "source": [
    "**Notes:**\n",
    "* The new **Viewable_Percent** feature did not make it past regularization."
   ]
  },
  {
   "cell_type": "markdown",
   "metadata": {},
   "source": [
    "### 4. Alternative Creative Size Representation\n",
    "Instead of using each creative size as a separate feature, we can bucket the sizes by Small, Medium, and Large. Create new features as the **summation** of the creative size features.  We are using summation because each feature represents the impressions from that creative size, so if we group them together, we can sum the impressions.\n",
    "\n",
    "* **Small Creative Sizes:**\n",
    "    * Creative_Size_300x50_Imp\n",
    "    * Creative_Size_320x50_Imp\n",
    "    * Creative_Size_468x60_Imp\n",
    "* **Medium Creative Sizes:**\n",
    "    * Creative_Size_160x600_Imp\n",
    "    * Creative_Size_300x250_Imp\n",
    "    * Creative_Size_728x90_Imp\n",
    "* **Large Creative Sizes:**\n",
    "    * Creative_Size_300x600_Imp\n",
    "    * Creative_Size_320x420_Imp\n",
    "    * Creative_Size_320x480_Imp\n",
    "    * Creative_Size_480x320_Imp\n",
    "* **Creative_Size_Uknown_Imp**"
   ]
  },
  {
   "cell_type": "code",
   "execution_count": 43,
   "metadata": {
    "collapsed": false
   },
   "outputs": [],
   "source": [
    "# Create new features\n",
    "data['Creative_Small'] = data['Creative_Size_300x50_Imp'] + data['Creative_Size_468x60_Imp'] \\\n",
    "                        +data['Creative_Size_320x50_Imp']\n",
    "data['Creative_Medium'] = data['Creative_Size_160x600_Imp'] + data['Creative_Size_300x250_Imp']  \\\n",
    "                        + data['Creative_Size_728x90_Imp']\n",
    "data['Creative_Large'] = data['Creative_Size_300x600_Imp'] + data['Creative_Size_320x420_Imp'] \\\n",
    "                        + data['Creative_Size_320x480_Imp'] + data['Creative_Size_480x320_Imp']"
   ]
  },
  {
   "cell_type": "code",
   "execution_count": 44,
   "metadata": {
    "collapsed": true
   },
   "outputs": [],
   "source": [
    "# Re-prepare the Features dataset\n",
    "# Keep only the features we found are important in our L1 regularization in our first model\n",
    "# Replace creative size features with new ones\n",
    "features=kept_coeff['Features'].tolist() + ['Creative_Small','Creative_Medium','Creative_Large',\n",
    "                                            'Creative_Size_Uknown_Imp']\n",
    "X=data[features]\n",
    "X=X.drop(['Creative_Size_728x90_Imp','Creative_Size_300x600_Imp','Creative_Size_300x250_Imp',\n",
    "         'Creative_Size_160x600_Imp','Creative_Size_468x60_Imp','Creative_Size_300x50_Imp',\n",
    "         'Creative_Size_320x420_Imp','Creative_Size_480x320_Imp','Creative_Size_320x480_Imp',\n",
    "         'Creative_Size_320x50_Imp'],\n",
    "       axis=1,\n",
    "       errors='ignore')\n",
    "\n",
    "# Split into Train/Test (random state ensures same breakdown)\n",
    "X_train, X_test, y_train, y_test = train_test_split(X,y,test_size=0.2,random_state=7)\n",
    "\n",
    "# Standardization: bring all of our features onto the same scale\n",
    "X_train_std = stdsc.fit_transform(X_train)\n",
    "X_test_std = stdsc.transform(X_test)"
   ]
  },
  {
   "cell_type": "code",
   "execution_count": 45,
   "metadata": {
    "collapsed": false
   },
   "outputs": [
    {
     "name": "stdout",
     "output_type": "stream",
     "text": [
      "CPU times: user 6min 59s, sys: 25.2 s, total: 7min 24s\n",
      "Wall time: 7min 24s\n"
     ]
    }
   ],
   "source": [
    "%%time\n",
    "logregL1 = LogisticRegression(penalty='l1')\n",
    "parameters = {'C': [0.01,0.05,0.1,0.3,0.5]}\n",
    "clf = GridSearchCV(logregL1, parameters, cv=cv,scoring=\"roc_auc\")\n",
    "clf.fit(pd.DataFrame(X_train_std), pd.Series(y_train))   #turning into pandas dataframe or series prevents an error"
   ]
  },
  {
   "cell_type": "code",
   "execution_count": 46,
   "metadata": {
    "collapsed": false
   },
   "outputs": [
    {
     "name": "stdout",
     "output_type": "stream",
     "text": [
      "Best model parameters are: {'C': 0.05}\n",
      "Best AUC model score is: 0.733388924039\n"
     ]
    }
   ],
   "source": [
    "print \"Best model parameters are: {}\".format(clf.best_params_)\n",
    "print \"Best AUC model score is: {}\".format(clf.best_score_)"
   ]
  },
  {
   "cell_type": "code",
   "execution_count": 47,
   "metadata": {
    "collapsed": false
   },
   "outputs": [
    {
     "data": {
      "text/html": [
       "<div>\n",
       "<table border=\"1\" class=\"dataframe\">\n",
       "  <thead>\n",
       "    <tr style=\"text-align: right;\">\n",
       "      <th></th>\n",
       "      <th>Coefficients</th>\n",
       "      <th>Features</th>\n",
       "    </tr>\n",
       "  </thead>\n",
       "  <tbody>\n",
       "    <tr>\n",
       "      <th>0</th>\n",
       "      <td>0.064250</td>\n",
       "      <td>TimeDiff_Minutes</td>\n",
       "    </tr>\n",
       "    <tr>\n",
       "      <th>1</th>\n",
       "      <td>-0.398011</td>\n",
       "      <td>Funnel_Middle_Imp</td>\n",
       "    </tr>\n",
       "    <tr>\n",
       "      <th>2</th>\n",
       "      <td>0.053692</td>\n",
       "      <td>Funnel_Lower_Imp</td>\n",
       "    </tr>\n",
       "    <tr>\n",
       "      <th>3</th>\n",
       "      <td>0.083944</td>\n",
       "      <td>Campaign_Message_Family_Travel_Imp</td>\n",
       "    </tr>\n",
       "    <tr>\n",
       "      <th>4</th>\n",
       "      <td>0.008112</td>\n",
       "      <td>Campaign_Card_Cash_Rewards_Imp</td>\n",
       "    </tr>\n",
       "    <tr>\n",
       "      <th>5</th>\n",
       "      <td>-0.051688</td>\n",
       "      <td>Campaign_Card_Premium_Rewards_Imp</td>\n",
       "    </tr>\n",
       "    <tr>\n",
       "      <th>6</th>\n",
       "      <td>0.021762</td>\n",
       "      <td>Campaign_Card_Other_Imp</td>\n",
       "    </tr>\n",
       "    <tr>\n",
       "      <th>7</th>\n",
       "      <td>0.131310</td>\n",
       "      <td>Device_Desktop_Imp</td>\n",
       "    </tr>\n",
       "    <tr>\n",
       "      <th>8</th>\n",
       "      <td>-0.078696</td>\n",
       "      <td>Device_Other_Imp</td>\n",
       "    </tr>\n",
       "    <tr>\n",
       "      <th>9</th>\n",
       "      <td>-0.106942</td>\n",
       "      <td>Device_Mobile_Imp</td>\n",
       "    </tr>\n",
       "    <tr>\n",
       "      <th>10</th>\n",
       "      <td>0.011111</td>\n",
       "      <td>Clicks</td>\n",
       "    </tr>\n",
       "    <tr>\n",
       "      <th>11</th>\n",
       "      <td>-0.147321</td>\n",
       "      <td>TimeDiff_NULL_FLAG</td>\n",
       "    </tr>\n",
       "    <tr>\n",
       "      <th>12</th>\n",
       "      <td>-0.013871</td>\n",
       "      <td>Creative_Small</td>\n",
       "    </tr>\n",
       "    <tr>\n",
       "      <th>13</th>\n",
       "      <td>0.000000</td>\n",
       "      <td>Creative_Medium</td>\n",
       "    </tr>\n",
       "    <tr>\n",
       "      <th>14</th>\n",
       "      <td>0.000000</td>\n",
       "      <td>Creative_Large</td>\n",
       "    </tr>\n",
       "    <tr>\n",
       "      <th>15</th>\n",
       "      <td>0.000000</td>\n",
       "      <td>Creative_Size_Uknown_Imp</td>\n",
       "    </tr>\n",
       "  </tbody>\n",
       "</table>\n",
       "</div>"
      ],
      "text/plain": [
       "    Coefficients                            Features\n",
       "0       0.064250                    TimeDiff_Minutes\n",
       "1      -0.398011                   Funnel_Middle_Imp\n",
       "2       0.053692                    Funnel_Lower_Imp\n",
       "3       0.083944  Campaign_Message_Family_Travel_Imp\n",
       "4       0.008112      Campaign_Card_Cash_Rewards_Imp\n",
       "5      -0.051688   Campaign_Card_Premium_Rewards_Imp\n",
       "6       0.021762             Campaign_Card_Other_Imp\n",
       "7       0.131310                  Device_Desktop_Imp\n",
       "8      -0.078696                    Device_Other_Imp\n",
       "9      -0.106942                   Device_Mobile_Imp\n",
       "10      0.011111                              Clicks\n",
       "11     -0.147321                  TimeDiff_NULL_FLAG\n",
       "12     -0.013871                      Creative_Small\n",
       "13      0.000000                     Creative_Medium\n",
       "14      0.000000                      Creative_Large\n",
       "15      0.000000            Creative_Size_Uknown_Imp"
      ]
     },
     "execution_count": 47,
     "metadata": {},
     "output_type": "execute_result"
    }
   ],
   "source": [
    "best_coeff=pd.DataFrame({'Features':X.columns,\n",
    "                         'Coefficients':clf.best_estimator_.coef_[0]})\n",
    "best_coeff"
   ]
  },
  {
   "cell_type": "markdown",
   "metadata": {},
   "source": [
    "**Notes:**\n",
    "* AUC slightly improved from 0.7311 to 0.7334\n",
    "* The only new feature that was included was **Creative_Small**, with slightly negative influence.\n",
    "* However, it may not be worth adding this representation due to minimal improvement."
   ]
  },
  {
   "cell_type": "markdown",
   "metadata": {},
   "source": [
    "## Final Model (Including New Features)\n",
    "Based on our exploration of new features, we will try include the new new TimeDiff features only.  This time we will try to use both L1 and L2 to see which one produces the best model."
   ]
  },
  {
   "cell_type": "markdown",
   "metadata": {},
   "source": [
    "#### Find Best Model"
   ]
  },
  {
   "cell_type": "code",
   "execution_count": 48,
   "metadata": {
    "collapsed": false
   },
   "outputs": [],
   "source": [
    "features=[\n",
    "'Funnel_Middle_Imp',\n",
    "'Funnel_Lower_Imp',\n",
    "'Campaign_Message_Family_Travel_Imp',\n",
    "'Campaign_Card_Cash_Rewards_Imp',\n",
    "'Campaign_Card_Premium_Rewards_Imp',\n",
    "'Campaign_Card_Other_Imp',\n",
    "'Device_Desktop_Imp',\n",
    "'Device_Other_Imp',\n",
    "'Device_Mobile_Imp',\n",
    "'Clicks',\n",
    "'TimeDiff_One_Day','TimeDiff_1to7_Days','TimeDiff_7plus']"
   ]
  },
  {
   "cell_type": "code",
   "execution_count": 49,
   "metadata": {
    "collapsed": false
   },
   "outputs": [],
   "source": [
    "X=data[features]\n",
    "\n",
    "# Split into Train/Test (random state ensures same breakdown)\n",
    "X_train, X_test, y_train, y_test = train_test_split(X,y,test_size=0.2,random_state=7)\n",
    "\n",
    "# Standardization: bring all of our features onto the same scale\n",
    "X_train_std = stdsc.fit_transform(X_train)\n",
    "X_test_std = stdsc.transform(X_test)"
   ]
  },
  {
   "cell_type": "code",
   "execution_count": 50,
   "metadata": {
    "collapsed": false
   },
   "outputs": [
    {
     "name": "stdout",
     "output_type": "stream",
     "text": [
      "CPU times: user 10min 9s, sys: 42.3 s, total: 10min 51s\n",
      "Wall time: 10min 51s\n"
     ]
    }
   ],
   "source": [
    "%%time\n",
    "logregL1 = LogisticRegression()\n",
    "parameters = {'C': [0.01,0.05,0.1,0.3,0.5],\n",
    "              'penalty':['l1','l2']}\n",
    "clf = GridSearchCV(logregL1, parameters, cv=cv,scoring=\"roc_auc\")\n",
    "clf.fit(pd.DataFrame(X_train_std), pd.Series(y_train))   #turning into pandas dataframe or series prevents an error"
   ]
  },
  {
   "cell_type": "code",
   "execution_count": 51,
   "metadata": {
    "collapsed": false
   },
   "outputs": [
    {
     "name": "stdout",
     "output_type": "stream",
     "text": [
      "Best model parameters are: {'penalty': 'l2', 'C': 0.01}\n",
      "Best AUC model score is: 0.735014886649\n"
     ]
    }
   ],
   "source": [
    "print \"Best model parameters are: {}\".format(clf.best_params_)\n",
    "print \"Best AUC model score is: {}\".format(clf.best_score_)"
   ]
  },
  {
   "cell_type": "markdown",
   "metadata": {},
   "source": [
    "* 0.7350 AUC is slight improvement over 0.7311"
   ]
  },
  {
   "cell_type": "code",
   "execution_count": 52,
   "metadata": {
    "collapsed": true
   },
   "outputs": [],
   "source": [
    "final_model=clf.best_estimator_"
   ]
  },
  {
   "cell_type": "code",
   "execution_count": 53,
   "metadata": {
    "collapsed": false
   },
   "outputs": [
    {
     "data": {
      "text/html": [
       "<div>\n",
       "<table border=\"1\" class=\"dataframe\">\n",
       "  <thead>\n",
       "    <tr style=\"text-align: right;\">\n",
       "      <th></th>\n",
       "      <th>Coefficients</th>\n",
       "      <th>Features</th>\n",
       "    </tr>\n",
       "  </thead>\n",
       "  <tbody>\n",
       "    <tr>\n",
       "      <th>0</th>\n",
       "      <td>-0.127673</td>\n",
       "      <td>Funnel_Middle_Imp</td>\n",
       "    </tr>\n",
       "    <tr>\n",
       "      <th>1</th>\n",
       "      <td>0.039189</td>\n",
       "      <td>Funnel_Lower_Imp</td>\n",
       "    </tr>\n",
       "    <tr>\n",
       "      <th>2</th>\n",
       "      <td>0.038157</td>\n",
       "      <td>Campaign_Message_Family_Travel_Imp</td>\n",
       "    </tr>\n",
       "    <tr>\n",
       "      <th>3</th>\n",
       "      <td>0.023612</td>\n",
       "      <td>Campaign_Card_Cash_Rewards_Imp</td>\n",
       "    </tr>\n",
       "    <tr>\n",
       "      <th>4</th>\n",
       "      <td>-0.022039</td>\n",
       "      <td>Campaign_Card_Premium_Rewards_Imp</td>\n",
       "    </tr>\n",
       "    <tr>\n",
       "      <th>5</th>\n",
       "      <td>0.019738</td>\n",
       "      <td>Campaign_Card_Other_Imp</td>\n",
       "    </tr>\n",
       "    <tr>\n",
       "      <th>6</th>\n",
       "      <td>0.041219</td>\n",
       "      <td>Device_Desktop_Imp</td>\n",
       "    </tr>\n",
       "    <tr>\n",
       "      <th>7</th>\n",
       "      <td>-0.043009</td>\n",
       "      <td>Device_Other_Imp</td>\n",
       "    </tr>\n",
       "    <tr>\n",
       "      <th>8</th>\n",
       "      <td>-0.026827</td>\n",
       "      <td>Device_Mobile_Imp</td>\n",
       "    </tr>\n",
       "    <tr>\n",
       "      <th>9</th>\n",
       "      <td>0.009595</td>\n",
       "      <td>Clicks</td>\n",
       "    </tr>\n",
       "    <tr>\n",
       "      <th>10</th>\n",
       "      <td>0.024293</td>\n",
       "      <td>TimeDiff_One_Day</td>\n",
       "    </tr>\n",
       "    <tr>\n",
       "      <th>11</th>\n",
       "      <td>0.054029</td>\n",
       "      <td>TimeDiff_1to7_Days</td>\n",
       "    </tr>\n",
       "    <tr>\n",
       "      <th>12</th>\n",
       "      <td>0.074653</td>\n",
       "      <td>TimeDiff_7plus</td>\n",
       "    </tr>\n",
       "  </tbody>\n",
       "</table>\n",
       "</div>"
      ],
      "text/plain": [
       "    Coefficients                            Features\n",
       "0      -0.127673                   Funnel_Middle_Imp\n",
       "1       0.039189                    Funnel_Lower_Imp\n",
       "2       0.038157  Campaign_Message_Family_Travel_Imp\n",
       "3       0.023612      Campaign_Card_Cash_Rewards_Imp\n",
       "4      -0.022039   Campaign_Card_Premium_Rewards_Imp\n",
       "5       0.019738             Campaign_Card_Other_Imp\n",
       "6       0.041219                  Device_Desktop_Imp\n",
       "7      -0.043009                    Device_Other_Imp\n",
       "8      -0.026827                   Device_Mobile_Imp\n",
       "9       0.009595                              Clicks\n",
       "10      0.024293                    TimeDiff_One_Day\n",
       "11      0.054029                  TimeDiff_1to7_Days\n",
       "12      0.074653                      TimeDiff_7plus"
      ]
     },
     "execution_count": 53,
     "metadata": {},
     "output_type": "execute_result"
    }
   ],
   "source": [
    "best_coeff=pd.DataFrame({'Features':X.columns,\n",
    "                         'Coefficients':final_model.coef_[0]})\n",
    "best_coeff"
   ]
  },
  {
   "cell_type": "markdown",
   "metadata": {},
   "source": [
    "#### Intuitive Explanation of Features"
   ]
  },
  {
   "cell_type": "code",
   "execution_count": 54,
   "metadata": {
    "collapsed": false,
    "scrolled": false
   },
   "outputs": [
    {
     "data": {
      "text/html": [
       "<div>\n",
       "<table border=\"1\" class=\"dataframe\">\n",
       "  <thead>\n",
       "    <tr style=\"text-align: right;\">\n",
       "      <th></th>\n",
       "      <th>Coefficients</th>\n",
       "      <th>Features</th>\n",
       "      <th>OddsRatio</th>\n",
       "    </tr>\n",
       "  </thead>\n",
       "  <tbody>\n",
       "    <tr>\n",
       "      <th>0</th>\n",
       "      <td>-0.127673</td>\n",
       "      <td>Funnel_Middle_Imp</td>\n",
       "      <td>0.880141</td>\n",
       "    </tr>\n",
       "    <tr>\n",
       "      <th>1</th>\n",
       "      <td>0.039189</td>\n",
       "      <td>Funnel_Lower_Imp</td>\n",
       "      <td>1.039967</td>\n",
       "    </tr>\n",
       "    <tr>\n",
       "      <th>2</th>\n",
       "      <td>0.038157</td>\n",
       "      <td>Campaign_Message_Family_Travel_Imp</td>\n",
       "      <td>1.038895</td>\n",
       "    </tr>\n",
       "    <tr>\n",
       "      <th>3</th>\n",
       "      <td>0.023612</td>\n",
       "      <td>Campaign_Card_Cash_Rewards_Imp</td>\n",
       "      <td>1.023893</td>\n",
       "    </tr>\n",
       "    <tr>\n",
       "      <th>4</th>\n",
       "      <td>-0.022039</td>\n",
       "      <td>Campaign_Card_Premium_Rewards_Imp</td>\n",
       "      <td>0.978202</td>\n",
       "    </tr>\n",
       "    <tr>\n",
       "      <th>5</th>\n",
       "      <td>0.019738</td>\n",
       "      <td>Campaign_Card_Other_Imp</td>\n",
       "      <td>1.019934</td>\n",
       "    </tr>\n",
       "    <tr>\n",
       "      <th>6</th>\n",
       "      <td>0.041219</td>\n",
       "      <td>Device_Desktop_Imp</td>\n",
       "      <td>1.042080</td>\n",
       "    </tr>\n",
       "    <tr>\n",
       "      <th>7</th>\n",
       "      <td>-0.043009</td>\n",
       "      <td>Device_Other_Imp</td>\n",
       "      <td>0.957903</td>\n",
       "    </tr>\n",
       "    <tr>\n",
       "      <th>8</th>\n",
       "      <td>-0.026827</td>\n",
       "      <td>Device_Mobile_Imp</td>\n",
       "      <td>0.973529</td>\n",
       "    </tr>\n",
       "    <tr>\n",
       "      <th>9</th>\n",
       "      <td>0.009595</td>\n",
       "      <td>Clicks</td>\n",
       "      <td>1.009642</td>\n",
       "    </tr>\n",
       "    <tr>\n",
       "      <th>10</th>\n",
       "      <td>0.024293</td>\n",
       "      <td>TimeDiff_One_Day</td>\n",
       "      <td>1.024590</td>\n",
       "    </tr>\n",
       "    <tr>\n",
       "      <th>11</th>\n",
       "      <td>0.054029</td>\n",
       "      <td>TimeDiff_1to7_Days</td>\n",
       "      <td>1.055515</td>\n",
       "    </tr>\n",
       "    <tr>\n",
       "      <th>12</th>\n",
       "      <td>0.074653</td>\n",
       "      <td>TimeDiff_7plus</td>\n",
       "      <td>1.077510</td>\n",
       "    </tr>\n",
       "  </tbody>\n",
       "</table>\n",
       "</div>"
      ],
      "text/plain": [
       "    Coefficients                            Features  OddsRatio\n",
       "0      -0.127673                   Funnel_Middle_Imp   0.880141\n",
       "1       0.039189                    Funnel_Lower_Imp   1.039967\n",
       "2       0.038157  Campaign_Message_Family_Travel_Imp   1.038895\n",
       "3       0.023612      Campaign_Card_Cash_Rewards_Imp   1.023893\n",
       "4      -0.022039   Campaign_Card_Premium_Rewards_Imp   0.978202\n",
       "5       0.019738             Campaign_Card_Other_Imp   1.019934\n",
       "6       0.041219                  Device_Desktop_Imp   1.042080\n",
       "7      -0.043009                    Device_Other_Imp   0.957903\n",
       "8      -0.026827                   Device_Mobile_Imp   0.973529\n",
       "9       0.009595                              Clicks   1.009642\n",
       "10      0.024293                    TimeDiff_One_Day   1.024590\n",
       "11      0.054029                  TimeDiff_1to7_Days   1.055515\n",
       "12      0.074653                      TimeDiff_7plus   1.077510"
      ]
     },
     "execution_count": 54,
     "metadata": {},
     "output_type": "execute_result"
    }
   ],
   "source": [
    "# Calculate Odds Ratios \n",
    "# For intuitive understanding of coefficients\n",
    "#kept_coeff['Odds_Ratios']=\n",
    "final_features=pd.concat([best_coeff,best_coeff['Coefficients'].apply(np.exp)],axis=1)\n",
    "final_features.columns=['Coefficients','Features','OddsRatio']\n",
    "final_features"
   ]
  },
  {
   "cell_type": "markdown",
   "metadata": {},
   "source": [
    "**Interpretation**\n",
    "For every standard deviation increase of 1 in the feature, the OddsRatio column shows the influence this has on the likelihood a user will apply for a credit card.  For example:\n",
    "* ~12% decrease in odds with a 1 standard deviation increase in Funnel_Middle_Imp\n",
    "* ~7.8% increase in odds when a user received several ads within 1 to 7 days (compared to just receiving one ad)."
   ]
  },
  {
   "cell_type": "markdown",
   "metadata": {},
   "source": [
    "#### Draw Learning Curve"
   ]
  },
  {
   "cell_type": "code",
   "execution_count": 55,
   "metadata": {
    "collapsed": false
   },
   "outputs": [
    {
     "name": "stdout",
     "output_type": "stream",
     "text": [
      "CPU times: user 2min 12s, sys: 11.4 s, total: 2min 23s\n",
      "Wall time: 2min 23s\n"
     ]
    },
    {
     "data": {
      "text/plain": [
       "<module 'matplotlib.pyplot' from '//anaconda/lib/python2.7/site-packages/matplotlib/pyplot.pyc'>"
      ]
     },
     "execution_count": 55,
     "metadata": {},
     "output_type": "execute_result"
    },
    {
     "data": {
      "image/png": "[encoded data removed]",
      "text/plain": [
       "<matplotlib.figure.Figure at 0x1182cbf50>"
      ]
     },
     "metadata": {},
     "output_type": "display_data"
    }
   ],
   "source": [
    "%%time\n",
    "draw_learning_curve(final_model, pd.DataFrame(X_train_std), pd.Series(y_train), scoring='roc_auc', cv=cv);"
   ]
  },
  {
   "cell_type": "markdown",
   "metadata": {},
   "source": [
    "**Note:** Adding our new feature has not helped address the bias in our model.  We will need to explore additional features to improve model performance."
   ]
  },
  {
   "cell_type": "markdown",
   "metadata": {},
   "source": [
    "#### Plot ROC/AUC on Test Dataset (Final Model)"
   ]
  },
  {
   "cell_type": "code",
   "execution_count": 56,
   "metadata": {
    "collapsed": false
   },
   "outputs": [
    {
     "data": {
      "image/png": "[encoded data removed]",
      "text/plain": [
       "<matplotlib.figure.Figure at 0x117e23790>"
      ]
     },
     "metadata": {},
     "output_type": "display_data"
    }
   ],
   "source": [
    "#Plot Final Model ROC\n",
    "y_probs_test=final_model.predict_proba(X_test_std)[:,1]\n",
    "fpr, tpr, thresholds = roc_curve(y_test, y_probs_test)\n",
    "plt.plot(fpr,tpr,label='Final Model ROC')\n",
    "\n",
    "#Plot reference line\n",
    "z=np.linspace(0,1,20)\n",
    "plt.plot(z,z,label='Baseline')\n",
    "\n",
    "#Calculate AUC\n",
    "area=auc(fpr, tpr)\n",
    "plt.text(0.5, 0.3, 'AUC={0:0.4f}'.format(area), style='normal',\n",
    "         verticalalignment='center', horizontalalignment='center',\n",
    "         bbox={'facecolor':'red', 'alpha':0.5, 'pad':10})\n",
    "\n",
    "# AUC shading\n",
    "plt.fill_between(fpr, 0, tpr, where=tpr >= 0, facecolor='lightblue', interpolate=True,alpha=0.5)\n",
    "\n",
    "#Plot details\n",
    "plt.title(\"ROC on Test Data\")\n",
    "plt.xlabel(\"False Postive Rate (FPR)\")\n",
    "plt.ylabel(\"True Postive Rate (TPR)\")\n",
    "plt.legend(loc='right');"
   ]
  },
  {
   "cell_type": "markdown",
   "metadata": {},
   "source": [
    "**Notes:**\n",
    "* AUC for Initial Model: 0.7508\n",
    "* AUC for Final Model: 0.7940\n",
    "\n",
    "Adding new features and switching to L2 regularization helped to slighlt improve the AUC score against test data."
   ]
  },
  {
   "cell_type": "markdown",
   "metadata": {},
   "source": [
    "#### Draw Relationship X & Y vs Probabilty to Apply for Credit Card"
   ]
  },
  {
   "cell_type": "code",
   "execution_count": 57,
   "metadata": {
    "collapsed": false
   },
   "outputs": [
    {
     "data": {
      "image/png": "[encoded data removed]",
      "text/plain": [
       "<matplotlib.figure.Figure at 0x11809b810>"
      ]
     },
     "metadata": {},
     "output_type": "display_data"
    }
   ],
   "source": [
    "# Plot Funnel_Middle_Imp Histogragam\n",
    "plt.hist(data.loc[data[\"Converted\"]==1,'Funnel_Middle_Imp'],alpha=0.7,label=\"Converted=1\",normed=True,bins=50)\n",
    "plt.hist(data.loc[data[\"Converted\"]==0,'Funnel_Middle_Imp'],alpha=0.7,label=\"Converted=0\",normed=True,bins=50)\n",
    "plt.legend()\n",
    "plt.title(\"Histogram of Funnel_Middle_Imp\")\n",
    "plt.xlabel(\"Funnel_Middle_Imp\")\n",
    "plt.ylabel(\"Normalized Frequency\");"
   ]
  },
  {
   "cell_type": "code",
   "execution_count": 58,
   "metadata": {
    "collapsed": false
   },
   "outputs": [
    {
     "data": {
      "image/png": "[encoded data removed]",
      "text/plain": [
       "<matplotlib.figure.Figure at 0x11a33f750>"
      ]
     },
     "metadata": {},
     "output_type": "display_data"
    }
   ],
   "source": [
    "# Plot Funnel_Middle_Imp Histogragam\n",
    "plt.hist(data.loc[data[\"Converted\"]==1,'TimeDiff_7plus'],alpha=0.7,label=\"Converted=1\",normed=True,bins=5)#\n",
    "plt.hist(data.loc[data[\"Converted\"]==0,'TimeDiff_7plus'],alpha=0.7,label=\"Converted=0\",normed=True,bins=5)\n",
    "plt.legend()\n",
    "plt.title(\"Histogram of TimeDiff_7plus\")\n",
    "plt.xlabel(\"TimeDiff_7plus\")\n",
    "plt.ylabel(\"Normalized Frequency\");"
   ]
  },
  {
   "cell_type": "markdown",
   "metadata": {},
   "source": [
    "## Business Metrics on Final Model"
   ]
  },
  {
   "cell_type": "markdown",
   "metadata": {},
   "source": [
    "We can now use our final model to calculate **ROI** and **Net Value**.  We will use the signal of predicted probability to determine whether or not we want to reach a user with ads. We will test which threshold on this signal that will maximize **Net Value** from the ad campaign. In essence, we are deciding on which ways we do or do not want to reach our users with ads (e.g. too many middle funnel impressions)."
   ]
  },
  {
   "cell_type": "code",
   "execution_count": 59,
   "metadata": {
    "collapsed": false
   },
   "outputs": [
    {
     "data": {
      "text/html": [
       "<div>\n",
       "<table border=\"1\" class=\"dataframe\">\n",
       "  <thead>\n",
       "    <tr style=\"text-align: right;\">\n",
       "      <th></th>\n",
       "      <th>thresholds</th>\n",
       "      <th>tpr</th>\n",
       "      <th>fpr</th>\n",
       "    </tr>\n",
       "  </thead>\n",
       "  <tbody>\n",
       "    <tr>\n",
       "      <th>0</th>\n",
       "      <td>1.020387</td>\n",
       "      <td>0.0</td>\n",
       "      <td>0.000000</td>\n",
       "    </tr>\n",
       "    <tr>\n",
       "      <th>1</th>\n",
       "      <td>0.020387</td>\n",
       "      <td>0.0</td>\n",
       "      <td>0.000002</td>\n",
       "    </tr>\n",
       "    <tr>\n",
       "      <th>2</th>\n",
       "      <td>0.009091</td>\n",
       "      <td>0.0</td>\n",
       "      <td>0.000023</td>\n",
       "    </tr>\n",
       "    <tr>\n",
       "      <th>3</th>\n",
       "      <td>0.007893</td>\n",
       "      <td>0.0</td>\n",
       "      <td>0.000027</td>\n",
       "    </tr>\n",
       "    <tr>\n",
       "      <th>4</th>\n",
       "      <td>0.004824</td>\n",
       "      <td>0.0</td>\n",
       "      <td>0.000052</td>\n",
       "    </tr>\n",
       "  </tbody>\n",
       "</table>\n",
       "</div>"
      ],
      "text/plain": [
       "   thresholds  tpr       fpr\n",
       "0    1.020387  0.0  0.000000\n",
       "1    0.020387  0.0  0.000002\n",
       "2    0.009091  0.0  0.000023\n",
       "3    0.007893  0.0  0.000027\n",
       "4    0.004824  0.0  0.000052"
      ]
     },
     "execution_count": 59,
     "metadata": {},
     "output_type": "execute_result"
    }
   ],
   "source": [
    "# Make Dataframe with the threshold value corresponding to the TPR and FPR in the ROC curve\n",
    "roc_df = pd.DataFrame({'thresholds':thresholds,\n",
    "                       'tpr':tpr,\n",
    "                       'fpr':fpr}, columns=['thresholds','tpr','fpr'])\n",
    "roc_df.head()"
   ]
  },
  {
   "cell_type": "code",
   "execution_count": 60,
   "metadata": {
    "collapsed": false
   },
   "outputs": [
    {
     "data": {
      "text/html": [
       "<div>\n",
       "<table border=\"1\" class=\"dataframe\">\n",
       "  <thead>\n",
       "    <tr style=\"text-align: right;\">\n",
       "      <th></th>\n",
       "      <th>thresholds</th>\n",
       "      <th>tpr</th>\n",
       "      <th>fpr</th>\n",
       "    </tr>\n",
       "  </thead>\n",
       "  <tbody>\n",
       "    <tr>\n",
       "      <th>2229</th>\n",
       "      <td>0.000641</td>\n",
       "      <td>0.097222</td>\n",
       "      <td>0.017031</td>\n",
       "    </tr>\n",
       "    <tr>\n",
       "      <th>2229</th>\n",
       "      <td>0.000641</td>\n",
       "      <td>0.097222</td>\n",
       "      <td>0.017031</td>\n",
       "    </tr>\n",
       "    <tr>\n",
       "      <th>2560</th>\n",
       "      <td>0.000618</td>\n",
       "      <td>0.111111</td>\n",
       "      <td>0.019859</td>\n",
       "    </tr>\n",
       "    <tr>\n",
       "      <th>2750</th>\n",
       "      <td>0.000606</td>\n",
       "      <td>0.125000</td>\n",
       "      <td>0.021535</td>\n",
       "    </tr>\n",
       "    <tr>\n",
       "      <th>3161</th>\n",
       "      <td>0.000585</td>\n",
       "      <td>0.138889</td>\n",
       "      <td>0.025444</td>\n",
       "    </tr>\n",
       "    <tr>\n",
       "      <th>3161</th>\n",
       "      <td>0.000585</td>\n",
       "      <td>0.138889</td>\n",
       "      <td>0.025444</td>\n",
       "    </tr>\n",
       "    <tr>\n",
       "      <th>3244</th>\n",
       "      <td>0.000581</td>\n",
       "      <td>0.152778</td>\n",
       "      <td>0.026264</td>\n",
       "    </tr>\n",
       "    <tr>\n",
       "      <th>3328</th>\n",
       "      <td>0.000578</td>\n",
       "      <td>0.166667</td>\n",
       "      <td>0.027068</td>\n",
       "    </tr>\n",
       "    <tr>\n",
       "      <th>3328</th>\n",
       "      <td>0.000578</td>\n",
       "      <td>0.166667</td>\n",
       "      <td>0.027068</td>\n",
       "    </tr>\n",
       "    <tr>\n",
       "      <th>3596</th>\n",
       "      <td>0.000566</td>\n",
       "      <td>0.180556</td>\n",
       "      <td>0.030142</td>\n",
       "    </tr>\n",
       "  </tbody>\n",
       "</table>\n",
       "</div>"
      ],
      "text/plain": [
       "      thresholds       tpr       fpr\n",
       "2229    0.000641  0.097222  0.017031\n",
       "2229    0.000641  0.097222  0.017031\n",
       "2560    0.000618  0.111111  0.019859\n",
       "2750    0.000606  0.125000  0.021535\n",
       "3161    0.000585  0.138889  0.025444\n",
       "3161    0.000585  0.138889  0.025444\n",
       "3244    0.000581  0.152778  0.026264\n",
       "3328    0.000578  0.166667  0.027068\n",
       "3328    0.000578  0.166667  0.027068\n",
       "3596    0.000566  0.180556  0.030142"
      ]
     },
     "execution_count": 60,
     "metadata": {},
     "output_type": "execute_result"
    }
   ],
   "source": [
    "#For 100 threshold values between 0 and 1, get closest corresponding TPR/FPR\n",
    "breakouts=100\n",
    "roc_cuts=None\n",
    "roc_cuts=pd.DataFrame()\n",
    "for i in range(0,breakouts):\n",
    "    threshold_cut = i/float(breakouts)+0.1\n",
    "    temp=roc_df[roc_df['tpr']<=threshold_cut].sort_values(by='thresholds',ascending=True).head(1)\n",
    "    roc_cuts=pd.concat([roc_cuts,temp])\n",
    "roc_cuts.head(10)"
   ]
  },
  {
   "cell_type": "code",
   "execution_count": 61,
   "metadata": {
    "collapsed": false
   },
   "outputs": [
    {
     "name": "stdout",
     "output_type": "stream",
     "text": [
      "CPU times: user 2min 27s, sys: 5.66 s, total: 2min 33s\n",
      "Wall time: 2min 32s\n"
     ]
    }
   ],
   "source": [
    "%%time\n",
    "#Calculate ROI and Net Values for all 100 different thresholds between 0 and 1\n",
    "ROIs=[]\n",
    "Net_Values=[]\n",
    "for i in range(0,breakouts):\n",
    "    prob_threshold=roc_cuts.iloc[i,0]\n",
    "    scores = final_model.predict_proba(X_test_std)[:,1]\n",
    "    y_pred = [1 if x>=prob_threshold else 0 for x in scores]\n",
    "    \n",
    "    ROIs.append(ROI(y=y_test,y_pred=y_pred,app_value=500,avg_user_cost=0.033827))\n",
    "    Net_Values.append(Net_Value(y=y_test,y_pred=y_pred,app_value=500,avg_user_cost=0.033827))"
   ]
  },
  {
   "cell_type": "code",
   "execution_count": 62,
   "metadata": {
    "collapsed": false
   },
   "outputs": [
    {
     "data": {
      "text/html": [
       "<div>\n",
       "<table border=\"1\" class=\"dataframe\">\n",
       "  <thead>\n",
       "    <tr style=\"text-align: right;\">\n",
       "      <th></th>\n",
       "      <th>Net_Value</th>\n",
       "      <th>ROI</th>\n",
       "      <th>Thresholds</th>\n",
       "      <th>fpr</th>\n",
       "      <th>tpr</th>\n",
       "    </tr>\n",
       "  </thead>\n",
       "  <tbody>\n",
       "    <tr>\n",
       "      <th>2229</th>\n",
       "      <td>3153.915963</td>\n",
       "      <td>9.113151</td>\n",
       "      <td>0.000641</td>\n",
       "      <td>0.017031</td>\n",
       "      <td>0.097222</td>\n",
       "    </tr>\n",
       "    <tr>\n",
       "      <th>2229</th>\n",
       "      <td>3153.915963</td>\n",
       "      <td>9.113151</td>\n",
       "      <td>0.000641</td>\n",
       "      <td>0.017031</td>\n",
       "      <td>0.097222</td>\n",
       "    </tr>\n",
       "    <tr>\n",
       "      <th>2560</th>\n",
       "      <td>3596.443890</td>\n",
       "      <td>8.911881</td>\n",
       "      <td>0.000618</td>\n",
       "      <td>0.019859</td>\n",
       "      <td>0.111111</td>\n",
       "    </tr>\n",
       "    <tr>\n",
       "      <th>2750</th>\n",
       "      <td>4062.380101</td>\n",
       "      <td>9.282896</td>\n",
       "      <td>0.000606</td>\n",
       "      <td>0.021535</td>\n",
       "      <td>0.125000</td>\n",
       "    </tr>\n",
       "    <tr>\n",
       "      <th>3161</th>\n",
       "      <td>4482.954305</td>\n",
       "      <td>8.670325</td>\n",
       "      <td>0.000585</td>\n",
       "      <td>0.025444</td>\n",
       "      <td>0.138889</td>\n",
       "    </tr>\n",
       "  </tbody>\n",
       "</table>\n",
       "</div>"
      ],
      "text/plain": [
       "        Net_Value       ROI  Thresholds       fpr       tpr\n",
       "2229  3153.915963  9.113151    0.000641  0.017031  0.097222\n",
       "2229  3153.915963  9.113151    0.000641  0.017031  0.097222\n",
       "2560  3596.443890  8.911881    0.000618  0.019859  0.111111\n",
       "2750  4062.380101  9.282896    0.000606  0.021535  0.125000\n",
       "3161  4482.954305  8.670325    0.000585  0.025444  0.138889"
      ]
     },
     "execution_count": 62,
     "metadata": {},
     "output_type": "execute_result"
    }
   ],
   "source": [
    "business_metrics=pd.DataFrame({'Thresholds':roc_cuts['thresholds'],\n",
    "                       'tpr':roc_cuts['tpr'],\n",
    "                       'fpr':roc_cuts['fpr'],\n",
    "                       'ROI':ROIs,\n",
    "                       'Net_Value':Net_Values})\n",
    "business_metrics.head()"
   ]
  },
  {
   "cell_type": "markdown",
   "metadata": {},
   "source": [
    "**Notes on Charts:**\n",
    "* Plot Net Values and ROI vs TPR (True Positive Rate)\n",
    "* How high can we make TPR (by lowering the threshold) to maximize these values?"
   ]
  },
  {
   "cell_type": "markdown",
   "metadata": {},
   "source": [
    "#### Net Value"
   ]
  },
  {
   "cell_type": "code",
   "execution_count": 63,
   "metadata": {
    "collapsed": false
   },
   "outputs": [],
   "source": [
    "Max_Net_Value=max(business_metrics['Net_Value'])\n",
    "business_metrics_MaxNV=business_metrics[business_metrics['Net_Value']==Max_Net_Value].head(1)"
   ]
  },
  {
   "cell_type": "code",
   "execution_count": 64,
   "metadata": {
    "collapsed": false
   },
   "outputs": [
    {
     "data": {
      "image/png": "[encoded data removed]",
      "text/plain": [
       "<matplotlib.figure.Figure at 0x118364a50>"
      ]
     },
     "metadata": {},
     "output_type": "display_data"
    }
   ],
   "source": [
    "# Plot Net Values vs True Positive Rate\n",
    "plt.plot(business_metrics['tpr'],business_metrics['Net_Value'])\n",
    "plt.annotate('Max Net Value:$ {:.0f}\\nThreshold: {:.6f}'.format(Max_Net_Value,\n",
    "                                                                business_metrics_MaxNV['Thresholds'].values[0]),\n",
    "             xy=(business_metrics_MaxNV['tpr'],Max_Net_Value),\n",
    "             xytext=(0.5, Max_Net_Value), \n",
    "             arrowprops=dict(facecolor='black', shrink=0.05),\n",
    "             horizontalalignment='center', verticalalignment='center')\n",
    "\n",
    "# Plot Benchmark\n",
    "zx=np.linspace(0,1,20)\n",
    "zy=np.multiply(np.ones(20),Net_Value_benchmark)\n",
    "plt.plot(zx,zy,color='red')\n",
    "plt.text(0.02, Net_Value_benchmark+700, 'Benchmark: ${0:.0f}'.format(Net_Value_benchmark), style='normal',\n",
    "         verticalalignment='bottom', horizontalalignment='left',\n",
    "         bbox={'facecolor':'red', 'alpha':0.5, 'pad':5})\n",
    "\n",
    "#Plot details\n",
    "plt.title(\"Net Value vs TPR (Test Data)\")\n",
    "plt.xlabel(\"True Postive Rate (TPR)\")\n",
    "plt.ylabel(\"Net Value ($)\");"
   ]
  },
  {
   "cell_type": "markdown",
   "metadata": {},
   "source": [
    "#### ROI"
   ]
  },
  {
   "cell_type": "code",
   "execution_count": 65,
   "metadata": {
    "collapsed": false
   },
   "outputs": [
    {
     "data": {
      "image/png": "[encoded data removed]",
      "text/plain": [
       "<matplotlib.figure.Figure at 0x11835d4d0>"
      ]
     },
     "metadata": {},
     "output_type": "display_data"
    }
   ],
   "source": [
    "# Plot Net Values vs True Positive Rate\n",
    "plt.plot(business_metrics['tpr'],business_metrics['ROI']*100)\n",
    "plt.annotate('Max ROI: {:.2f}%\\nThreshold: {:.6f}'.format(business_metrics_MaxNV['ROI'].values[0]*100,\n",
    "                                                         business_metrics_MaxNV['Thresholds'].values[0]),\n",
    "             xy=(business_metrics_MaxNV['tpr'],business_metrics_MaxNV['ROI'].values[0]*100),\n",
    "             xytext=(0.5, business_metrics_MaxNV['ROI'].values[0]*100), \n",
    "             arrowprops=dict(facecolor='black', shrink=0.05),\n",
    "             horizontalalignment='center', verticalalignment='center')\n",
    "\n",
    "# Plot Benchmark\n",
    "zx=np.linspace(0,1,20)\n",
    "zy=np.multiply(np.ones(20),ROI_benchmark*100)\n",
    "plt.plot(zx,zy,color='red')\n",
    "plt.text(0.02, ROI_benchmark*100+30, 'Benchmark: {0:.2f}%'.format(ROI_benchmark*100), style='normal',\n",
    "         verticalalignment='bottom', horizontalalignment='left',\n",
    "         bbox={'facecolor':'red', 'alpha':0.5, 'pad':5})\n",
    "\n",
    "#Plot details\n",
    "plt.title(\"ROI vs TPR (Test Data)\")\n",
    "plt.xlabel(\"True Postive Rate (TPR)\")\n",
    "plt.ylabel(\"ROI (%)\");"
   ]
  },
  {
   "cell_type": "code",
   "execution_count": 66,
   "metadata": {
    "collapsed": false
   },
   "outputs": [
    {
     "data": {
      "text/plain": [
       "247.73031488421245"
      ]
     },
     "execution_count": 66,
     "metadata": {},
     "output_type": "execute_result"
    }
   ],
   "source": [
    "business_metrics_MaxNV['ROI'].values[0]*100"
   ]
  },
  {
   "cell_type": "markdown",
   "metadata": {
    "collapsed": true
   },
   "source": [
    "**Notes**\n",
    "* Using a threshold of 0.000419 on the predicted probabilities from our classifier, we can apply new logic for how to reach users with our ad campaign (based on past data) to maximize Net Value.\n",
    "* As a result:\n",
    "    * We can increase Net Value by **45% to \\$22,797** (test data only)\n",
    "    * We can increase ROI from **77% to 248%** (when maximizing Net Value).  There is room for even better ROI, but that would limit our Net Value."
   ]
  },
  {
   "cell_type": "markdown",
   "metadata": {},
   "source": [
    "## Conclusion\n",
    "\n",
    "When evaluated on test data, our final Logistic Regression classifier scored a 0.794 in AUC (Area Under the Curve), which is considered as ~\"Good\" quality signal.\n",
    "\n",
    "Our original goal was to determine which features of the ads shown to users influence their likelihood to apply for a credit card.  From our research we now have a good quality classifier for identifying users that are highly likely to apply based on the types ads we showed them. Therefore, we can review the coefficients in our model to determine which features have the strongest influence on the predicted probabilities of applying.\n",
    "\n",
    "Our results show that impressions from Middle Funnel campaigns (negative influence) and longer times between first and last ads (positive influence) are our two most influential features.  While these are not inline with our hypothesis, these are important findings that can drive further research and insights into designing improved ad campaigns in the futre.\n",
    "\n",
    "Some surpising results were that the following features were not included in our model:\n",
    "* Viewability and Viewable Impressions\n",
    "* Upper Funnel Impressions and Funnel Halo Effect features\n",
    "* Creative Type\n",
    "\n",
    "Also surprising was the strong negative coefficient for the Middle Funnel feature. It is interesting that our Middle Funnel impressions actually influence a user to be less likely to apply.  This makes me believe that we are seeing the result of some other driver that is correlated with a user being shown more Middle Funnel ads (e.g. they are naturally less inclined to apply because they are not actively searching for credit cards). We may possibly want to remove the Funnel features in the future.\n",
    "\n",
    "**Next Steps:**\n",
    "Based on our findings, I believe the best next steps are to try to get more features, whether from feature engineering or from additional data sources.  Some example options include:\n",
    "* What \"audience\" is a user from? (Are they in the market for credit cards? Did they just move?)\n",
    "* What site was the ad seen on?\n",
    "    * Site category\n",
    "    * Site quality (e.g. in Comscore's top 1000 sites)\n",
    "* How much was spent on ads on this user?"
   ]
  }
 ],
 "metadata": {
  "anaconda-cloud": {},
  "kernelspec": {
   "display_name": "Python [default]",
   "language": "python",
   "name": "python2"
  },
  "language_info": {
   "codemirror_mode": {
    "name": "ipython",
    "version": 2
   },
   "file_extension": ".py",
   "mimetype": "text/x-python",
   "name": "python",
   "nbconvert_exporter": "python",
   "pygments_lexer": "ipython2",
   "version": "2.7.12"
  }
 },
 "nbformat": 4,
 "nbformat_minor": 1
}
