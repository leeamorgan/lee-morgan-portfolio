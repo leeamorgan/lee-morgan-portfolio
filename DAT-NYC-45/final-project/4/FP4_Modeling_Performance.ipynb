{
 "cells": [
  {
   "cell_type": "markdown",
   "metadata": {},
   "source": [
    "# Predicting Online Credit Card Applications (Digital Advertising)\n",
    "*Final Project #4: Modeling Performance*\n",
    "<br>*Feb 5, 2017*"
   ]
  },
  {
   "cell_type": "markdown",
   "metadata": {},
   "source": [
    "## Summary of Exploratory Data Analysis"
   ]
  },
  {
   "cell_type": "markdown",
   "metadata": {
    "collapsed": true
   },
   "source": [
    "During our EDA, we determined the following insights to guide us in developing our model:\n",
    "* The event we are planning to predict is very rare:\n",
    "    * **Conversions per User: 0.0130062273738 %**\n",
    "* Most features had some positive correlation with our dependent variable, with the exception of the following features:\n",
    "    * TimeDiff_Days_AVG (Average time between ad impressions)\n",
    "    * Creative_Type_RichMediaExpanding_Imp\n",
    "    * Some Creative Sizes\n",
    "* **Correlated Features**: Many features are heavily correlated with each other. \n",
    "* **Outliers:** All of the features in our dataset have outliers at large values (e.g. a user shown more than 1000 impressions over 2 months).  When building our model, we will ignore any users that saw more the 3 standard deviations above the mean of impressions to avoid having outliers bias the model."
   ]
  },
  {
   "cell_type": "markdown",
   "metadata": {},
   "source": [
    "## Approach\n",
    "We will take the follow steps to develop and tune our model:\n",
    "\n",
    "* We will develop a classifier using **Logistic Regression**.  The reason for choosing this representation is mainly due to the need to develop intuitive explanations of the model to our end client (a non-technical audience).\n",
    "* We will use **L1 regularization** to reduce the number of features in our model, especially because of many correlated features.\n",
    "* Our scoring method will be **AUC (Area Under the Curve)**.  We chose AUC because the event we are predicting is rare.  We are adapting this scoring method based on how the medical field uses it to score the quality of signals for rare diseases.\n",
    "* Finally, we will use our final model to calculate **ROI** and **Net Value** at difference thresholds of the predicted probabilities of our model that we classify a positive prediction.  We will identify the threshold that maximizes **Net Value**.\n",
    "* Due to the very large size of our dataset, we plan to use a 20% random sample for developing our model."
   ]
  },
  {
   "cell_type": "markdown",
   "metadata": {},
   "source": [
    "## Define Business Performance Metrics\n",
    "\n",
    "While we will use AUC to evaluate the quality of our models, we also want to caclulate business performance metrics of **ROI** and **Net Value**, as defined below.  Our focus will be to increase **Net Value** from an ad campaign, but we will also calculate ROI for reference.\n",
    "\n",
    "To calculate these metrics, we need define how we will interpret the confusion matrix:\n",
    "\n",
    "|True Class: Positive|True Class: Negative\n",
    "------------------------------|:-------------:|:-------------:\n",
    "**Predicted Class: Positive** |True Positives |False Positives\n",
    "**Predicted Class: Negative** |False Negatives|True Negatives\n",
    "\n",
    "Since we plan to use our model to predict how we should design our ad campaigns, we can interpret the predicted class to help us identify whether or not we'd like to reach users with a similar ad exposure:\n",
    "* Positive Predicted Class: Spend on user because of high likelihood to convert\n",
    "* Negative Predicted Calls: **Do not** spend on user\n",
    "For example, if we predict a positive class for an observation in our dataset that was reached by 10 video ads and 15 display ads, we would plan on spending on similar users like this in the future.\n",
    "\n",
    "Based on this interpretation, we can develop a cost-benefit methodology based on the confusion matrix:\n",
    "\n",
    "|True Class: Positive|True Class: Negative\n",
    "-----------------------------|:------------------------------------------:|:-------------:\n",
    "**Predicted Class Positive** |Application Value<br>- Cost of Reaching User|-Cost of Reaching User\n",
    "**Predicted Class Negative** |0|0\n",
    "**Assumptions:**\n",
    "* **ApplicationValue** = \\$500 (The average value of a credit card application)\n",
    "* **ReachCost** = \\$0.033827 (The average cost of reaching a single user for our campaign)\n",
    "\n",
    "\n",
    "Using this interpretation allows us to define the following **ROI** and **Net Value** functions:\n",
    "\n",
    "\\begin{equation*}\n",
    "ROI = \\frac{Total Value}{Total Cost} - 1\n",
    "\\end{equation*}\n",
    "\n",
    "\\begin{equation*}\n",
    "Net Value = Total Value - Total Cost\n",
    "\\end{equation*}\n",
    "\n",
    "\\begin{equation*}\n",
    "Total Value = ApplicationValue * TP\n",
    "\\end{equation*}\n",
    "\n",
    "\\begin{equation*}\n",
    "Total Cost = ReachCost * (TP + FP)\n",
    "\\end{equation*}\n",
    "\n",
    "Once we have determined our best estimator with AUC and `gridsearchsv`, we can then tune our **threshold** for a postive signal based on the predicted probability from our logistic regression model.  We will tune the **threshold** to maximize **Net Value**."
   ]
  },
  {
   "cell_type": "markdown",
   "metadata": {},
   "source": [
    "## Important Data and Data Cleaning"
   ]
  },
  {
   "cell_type": "code",
   "execution_count": 2,
   "metadata": {
    "collapsed": true
   },
   "outputs": [],
   "source": [
    "import pandas as pd\n",
    "import numpy as np\n",
    "import seaborn as sb\n",
    "import matplotlib.pyplot as plt\n",
    "from sklearn.model_selection import train_test_split\n",
    "from sklearn.metrics import confusion_matrix\n",
    "from sklearn.preprocessing import StandardScaler\n",
    "from sklearn.model_selection import ShuffleSplit\n",
    "from sklearn.model_selection import GridSearchCV\n",
    "from sklearn.linear_model import LogisticRegression\n",
    "from sk_modelcurves.learning_curve import draw_learning_curve\n",
    "from sklearn.metrics import roc_curve, auc\n",
    "%matplotlib inline"
   ]
  },
  {
   "cell_type": "code",
   "execution_count": 3,
   "metadata": {
    "collapsed": false
   },
   "outputs": [
    {
     "data": {
      "text/html": [
       "<div>\n",
       "<table border=\"1\" class=\"dataframe\">\n",
       "  <thead>\n",
       "    <tr style=\"text-align: right;\">\n",
       "      <th></th>\n",
       "      <th>User_ID</th>\n",
       "      <th>Impressions</th>\n",
       "      <th>TimeDiff_Minutes</th>\n",
       "      <th>TimeDiff_Minutes_AVG</th>\n",
       "      <th>Funnel_Upper_Imp</th>\n",
       "      <th>Funnel_Middle_Imp</th>\n",
       "      <th>Funnel_Lower_Imp</th>\n",
       "      <th>Campaign_Message_Travel_Imp</th>\n",
       "      <th>Campaign_Message_Service_Imp</th>\n",
       "      <th>Campaign_Message_Family_Travel_Imp</th>\n",
       "      <th>...</th>\n",
       "      <th>Creative_Size_320x480_Imp</th>\n",
       "      <th>Creative_Size_Uknown_Imp</th>\n",
       "      <th>Device_Desktop_Imp</th>\n",
       "      <th>Device_Other_Imp</th>\n",
       "      <th>Device_Mobile_Imp</th>\n",
       "      <th>Active_View_Eligible_Impressions</th>\n",
       "      <th>Active_View_Measurable_Impressions</th>\n",
       "      <th>Active_View_Viewable_Impressions</th>\n",
       "      <th>Clicks</th>\n",
       "      <th>Conversions</th>\n",
       "    </tr>\n",
       "  </thead>\n",
       "  <tbody>\n",
       "    <tr>\n",
       "      <th>0</th>\n",
       "      <td>AMsySZYlP3l94iys9P9WaBXIWE6B</td>\n",
       "      <td>3</td>\n",
       "      <td>2.0</td>\n",
       "      <td>1.000000</td>\n",
       "      <td>0</td>\n",
       "      <td>3</td>\n",
       "      <td>0</td>\n",
       "      <td>0</td>\n",
       "      <td>3</td>\n",
       "      <td>0</td>\n",
       "      <td>...</td>\n",
       "      <td>0</td>\n",
       "      <td>0</td>\n",
       "      <td>0</td>\n",
       "      <td>0</td>\n",
       "      <td>3</td>\n",
       "      <td>0</td>\n",
       "      <td>0</td>\n",
       "      <td>0</td>\n",
       "      <td>NaN</td>\n",
       "      <td>NaN</td>\n",
       "    </tr>\n",
       "    <tr>\n",
       "      <th>1</th>\n",
       "      <td>AMsySZbdCy7kK0BqCq38AvgzDJ7y</td>\n",
       "      <td>3</td>\n",
       "      <td>1.0</td>\n",
       "      <td>0.500000</td>\n",
       "      <td>0</td>\n",
       "      <td>3</td>\n",
       "      <td>0</td>\n",
       "      <td>3</td>\n",
       "      <td>0</td>\n",
       "      <td>0</td>\n",
       "      <td>...</td>\n",
       "      <td>0</td>\n",
       "      <td>0</td>\n",
       "      <td>3</td>\n",
       "      <td>0</td>\n",
       "      <td>0</td>\n",
       "      <td>3</td>\n",
       "      <td>3</td>\n",
       "      <td>1</td>\n",
       "      <td>NaN</td>\n",
       "      <td>NaN</td>\n",
       "    </tr>\n",
       "    <tr>\n",
       "      <th>2</th>\n",
       "      <td>AMsySZbsx0jjk_iOfpRCVx2ss3v8</td>\n",
       "      <td>2</td>\n",
       "      <td>12.0</td>\n",
       "      <td>12.000000</td>\n",
       "      <td>0</td>\n",
       "      <td>2</td>\n",
       "      <td>0</td>\n",
       "      <td>0</td>\n",
       "      <td>0</td>\n",
       "      <td>0</td>\n",
       "      <td>...</td>\n",
       "      <td>0</td>\n",
       "      <td>0</td>\n",
       "      <td>2</td>\n",
       "      <td>0</td>\n",
       "      <td>0</td>\n",
       "      <td>2</td>\n",
       "      <td>2</td>\n",
       "      <td>1</td>\n",
       "      <td>NaN</td>\n",
       "      <td>NaN</td>\n",
       "    </tr>\n",
       "    <tr>\n",
       "      <th>3</th>\n",
       "      <td>AMsySZZnAR-zSA0aCGVZkfhupUhU</td>\n",
       "      <td>5</td>\n",
       "      <td>23033.0</td>\n",
       "      <td>5758.250000</td>\n",
       "      <td>0</td>\n",
       "      <td>5</td>\n",
       "      <td>0</td>\n",
       "      <td>0</td>\n",
       "      <td>0</td>\n",
       "      <td>0</td>\n",
       "      <td>...</td>\n",
       "      <td>0</td>\n",
       "      <td>0</td>\n",
       "      <td>0</td>\n",
       "      <td>0</td>\n",
       "      <td>5</td>\n",
       "      <td>5</td>\n",
       "      <td>5</td>\n",
       "      <td>5</td>\n",
       "      <td>NaN</td>\n",
       "      <td>NaN</td>\n",
       "    </tr>\n",
       "    <tr>\n",
       "      <th>4</th>\n",
       "      <td>AMsySZb1yHw6ewPTnb7h39vBdCh8</td>\n",
       "      <td>2</td>\n",
       "      <td>188.0</td>\n",
       "      <td>188.000000</td>\n",
       "      <td>0</td>\n",
       "      <td>2</td>\n",
       "      <td>0</td>\n",
       "      <td>0</td>\n",
       "      <td>0</td>\n",
       "      <td>0</td>\n",
       "      <td>...</td>\n",
       "      <td>0</td>\n",
       "      <td>0</td>\n",
       "      <td>2</td>\n",
       "      <td>0</td>\n",
       "      <td>0</td>\n",
       "      <td>2</td>\n",
       "      <td>2</td>\n",
       "      <td>1</td>\n",
       "      <td>NaN</td>\n",
       "      <td>NaN</td>\n",
       "    </tr>\n",
       "    <tr>\n",
       "      <th>5</th>\n",
       "      <td>AMsySZbMUcclS_w01crSZ23CgZsa</td>\n",
       "      <td>1</td>\n",
       "      <td>NaN</td>\n",
       "      <td>NaN</td>\n",
       "      <td>0</td>\n",
       "      <td>1</td>\n",
       "      <td>0</td>\n",
       "      <td>0</td>\n",
       "      <td>0</td>\n",
       "      <td>0</td>\n",
       "      <td>...</td>\n",
       "      <td>0</td>\n",
       "      <td>0</td>\n",
       "      <td>0</td>\n",
       "      <td>0</td>\n",
       "      <td>1</td>\n",
       "      <td>1</td>\n",
       "      <td>1</td>\n",
       "      <td>0</td>\n",
       "      <td>NaN</td>\n",
       "      <td>NaN</td>\n",
       "    </tr>\n",
       "    <tr>\n",
       "      <th>6</th>\n",
       "      <td>AMsySZbN3U0Y-dpMwJBHb5KWpB6S</td>\n",
       "      <td>444</td>\n",
       "      <td>73303.0</td>\n",
       "      <td>165.469526</td>\n",
       "      <td>0</td>\n",
       "      <td>85</td>\n",
       "      <td>359</td>\n",
       "      <td>283</td>\n",
       "      <td>161</td>\n",
       "      <td>0</td>\n",
       "      <td>...</td>\n",
       "      <td>0</td>\n",
       "      <td>85</td>\n",
       "      <td>444</td>\n",
       "      <td>0</td>\n",
       "      <td>0</td>\n",
       "      <td>359</td>\n",
       "      <td>359</td>\n",
       "      <td>314</td>\n",
       "      <td>NaN</td>\n",
       "      <td>NaN</td>\n",
       "    </tr>\n",
       "    <tr>\n",
       "      <th>7</th>\n",
       "      <td>AMsySZZYbLJhgekE6XQ52ea1bpKb</td>\n",
       "      <td>2</td>\n",
       "      <td>80.0</td>\n",
       "      <td>80.000000</td>\n",
       "      <td>0</td>\n",
       "      <td>2</td>\n",
       "      <td>0</td>\n",
       "      <td>0</td>\n",
       "      <td>0</td>\n",
       "      <td>0</td>\n",
       "      <td>...</td>\n",
       "      <td>0</td>\n",
       "      <td>0</td>\n",
       "      <td>2</td>\n",
       "      <td>0</td>\n",
       "      <td>0</td>\n",
       "      <td>2</td>\n",
       "      <td>2</td>\n",
       "      <td>1</td>\n",
       "      <td>NaN</td>\n",
       "      <td>NaN</td>\n",
       "    </tr>\n",
       "    <tr>\n",
       "      <th>8</th>\n",
       "      <td>AMsySZaWJ0IyUoZmTqnYg4_LsylU</td>\n",
       "      <td>1</td>\n",
       "      <td>NaN</td>\n",
       "      <td>NaN</td>\n",
       "      <td>0</td>\n",
       "      <td>1</td>\n",
       "      <td>0</td>\n",
       "      <td>0</td>\n",
       "      <td>0</td>\n",
       "      <td>0</td>\n",
       "      <td>...</td>\n",
       "      <td>0</td>\n",
       "      <td>0</td>\n",
       "      <td>1</td>\n",
       "      <td>0</td>\n",
       "      <td>0</td>\n",
       "      <td>1</td>\n",
       "      <td>1</td>\n",
       "      <td>0</td>\n",
       "      <td>NaN</td>\n",
       "      <td>NaN</td>\n",
       "    </tr>\n",
       "    <tr>\n",
       "      <th>9</th>\n",
       "      <td>AMsySZbQxjkNdQtKIjG1m3fso1u_</td>\n",
       "      <td>9</td>\n",
       "      <td>56231.0</td>\n",
       "      <td>7028.875000</td>\n",
       "      <td>0</td>\n",
       "      <td>9</td>\n",
       "      <td>0</td>\n",
       "      <td>0</td>\n",
       "      <td>0</td>\n",
       "      <td>0</td>\n",
       "      <td>...</td>\n",
       "      <td>0</td>\n",
       "      <td>0</td>\n",
       "      <td>0</td>\n",
       "      <td>0</td>\n",
       "      <td>9</td>\n",
       "      <td>7</td>\n",
       "      <td>7</td>\n",
       "      <td>3</td>\n",
       "      <td>NaN</td>\n",
       "      <td>NaN</td>\n",
       "    </tr>\n",
       "  </tbody>\n",
       "</table>\n",
       "<p>10 rows × 36 columns</p>\n",
       "</div>"
      ],
      "text/plain": [
       "                        User_ID  Impressions  TimeDiff_Minutes  \\\n",
       "0  AMsySZYlP3l94iys9P9WaBXIWE6B            3               2.0   \n",
       "1  AMsySZbdCy7kK0BqCq38AvgzDJ7y            3               1.0   \n",
       "2  AMsySZbsx0jjk_iOfpRCVx2ss3v8            2              12.0   \n",
       "3  AMsySZZnAR-zSA0aCGVZkfhupUhU            5           23033.0   \n",
       "4  AMsySZb1yHw6ewPTnb7h39vBdCh8            2             188.0   \n",
       "5  AMsySZbMUcclS_w01crSZ23CgZsa            1               NaN   \n",
       "6  AMsySZbN3U0Y-dpMwJBHb5KWpB6S          444           73303.0   \n",
       "7  AMsySZZYbLJhgekE6XQ52ea1bpKb            2              80.0   \n",
       "8  AMsySZaWJ0IyUoZmTqnYg4_LsylU            1               NaN   \n",
       "9  AMsySZbQxjkNdQtKIjG1m3fso1u_            9           56231.0   \n",
       "\n",
       "   TimeDiff_Minutes_AVG  Funnel_Upper_Imp  Funnel_Middle_Imp  \\\n",
       "0              1.000000                 0                  3   \n",
       "1              0.500000                 0                  3   \n",
       "2             12.000000                 0                  2   \n",
       "3           5758.250000                 0                  5   \n",
       "4            188.000000                 0                  2   \n",
       "5                   NaN                 0                  1   \n",
       "6            165.469526                 0                 85   \n",
       "7             80.000000                 0                  2   \n",
       "8                   NaN                 0                  1   \n",
       "9           7028.875000                 0                  9   \n",
       "\n",
       "   Funnel_Lower_Imp  Campaign_Message_Travel_Imp  \\\n",
       "0                 0                            0   \n",
       "1                 0                            3   \n",
       "2                 0                            0   \n",
       "3                 0                            0   \n",
       "4                 0                            0   \n",
       "5                 0                            0   \n",
       "6               359                          283   \n",
       "7                 0                            0   \n",
       "8                 0                            0   \n",
       "9                 0                            0   \n",
       "\n",
       "   Campaign_Message_Service_Imp  Campaign_Message_Family_Travel_Imp  \\\n",
       "0                             3                                   0   \n",
       "1                             0                                   0   \n",
       "2                             0                                   0   \n",
       "3                             0                                   0   \n",
       "4                             0                                   0   \n",
       "5                             0                                   0   \n",
       "6                           161                                   0   \n",
       "7                             0                                   0   \n",
       "8                             0                                   0   \n",
       "9                             0                                   0   \n",
       "\n",
       "      ...       Creative_Size_320x480_Imp  Creative_Size_Uknown_Imp  \\\n",
       "0     ...                               0                         0   \n",
       "1     ...                               0                         0   \n",
       "2     ...                               0                         0   \n",
       "3     ...                               0                         0   \n",
       "4     ...                               0                         0   \n",
       "5     ...                               0                         0   \n",
       "6     ...                               0                        85   \n",
       "7     ...                               0                         0   \n",
       "8     ...                               0                         0   \n",
       "9     ...                               0                         0   \n",
       "\n",
       "   Device_Desktop_Imp  Device_Other_Imp  Device_Mobile_Imp  \\\n",
       "0                   0                 0                  3   \n",
       "1                   3                 0                  0   \n",
       "2                   2                 0                  0   \n",
       "3                   0                 0                  5   \n",
       "4                   2                 0                  0   \n",
       "5                   0                 0                  1   \n",
       "6                 444                 0                  0   \n",
       "7                   2                 0                  0   \n",
       "8                   1                 0                  0   \n",
       "9                   0                 0                  9   \n",
       "\n",
       "   Active_View_Eligible_Impressions  Active_View_Measurable_Impressions  \\\n",
       "0                                 0                                   0   \n",
       "1                                 3                                   3   \n",
       "2                                 2                                   2   \n",
       "3                                 5                                   5   \n",
       "4                                 2                                   2   \n",
       "5                                 1                                   1   \n",
       "6                               359                                 359   \n",
       "7                                 2                                   2   \n",
       "8                                 1                                   1   \n",
       "9                                 7                                   7   \n",
       "\n",
       "   Active_View_Viewable_Impressions  Clicks  Conversions  \n",
       "0                                 0     NaN          NaN  \n",
       "1                                 1     NaN          NaN  \n",
       "2                                 1     NaN          NaN  \n",
       "3                                 5     NaN          NaN  \n",
       "4                                 1     NaN          NaN  \n",
       "5                                 0     NaN          NaN  \n",
       "6                               314     NaN          NaN  \n",
       "7                                 1     NaN          NaN  \n",
       "8                                 0     NaN          NaN  \n",
       "9                                 3     NaN          NaN  \n",
       "\n",
       "[10 rows x 36 columns]"
      ]
     },
     "execution_count": 3,
     "metadata": {},
     "output_type": "execute_result"
    }
   ],
   "source": [
    "data = pd.read_csv('../data/DATA_FOR_MODEL_20perc.csv', sep=',')\n",
    "#data = pd.read_csv('../data/DATA_FOR_MODEL_FULL.csv', sep=',')\n",
    "data.head(10)"
   ]
  },
  {
   "cell_type": "markdown",
   "metadata": {},
   "source": [
    "## Handle Missing Data"
   ]
  },
  {
   "cell_type": "code",
   "execution_count": 4,
   "metadata": {
    "collapsed": false
   },
   "outputs": [],
   "source": [
    "# For Clicks,Conversion, convert NULL values to zero\n",
    "data['Clicks'].fillna(value=0,inplace=True)\n",
    "data['Conversions'].fillna(value=0,inplace=True)\n",
    "\n",
    "# Create a new categorical feature Converted, which will be 1 if the the user converted at least once, \n",
    "# and 0 if the user did not convert.\n",
    "data['Converted'] = pd.Categorical([1 if x>0 else 0 for x in data['Conversions']])\n",
    "\n",
    "# For TimeDiff_Minutes and TimeDiff_AVG, it is NULL when we only have 1 impression\n",
    "# For now, replace with the median value and then add columns flagging the rows where we did this\n",
    "# We will explore other options for handling this data in the feature engineering section\n",
    "data['TimeDiff_NULL_FLAG'] = pd.Categorical(data['TimeDiff_Minutes'].isnull())\n",
    "\n",
    "data['TimeDiff_Minutes'].fillna(value=data['TimeDiff_Minutes'].median(),inplace=True)\n",
    "data['TimeDiff_Minutes_AVG'].fillna(value=data['TimeDiff_Minutes_AVG'].median(),inplace=True)"
   ]
  },
  {
   "cell_type": "code",
   "execution_count": 5,
   "metadata": {
    "collapsed": false,
    "scrolled": true
   },
   "outputs": [
    {
     "data": {
      "text/plain": [
       "User_ID                                 0\n",
       "Impressions                             0\n",
       "TimeDiff_Minutes                        0\n",
       "TimeDiff_Minutes_AVG                    0\n",
       "Funnel_Upper_Imp                        0\n",
       "Funnel_Middle_Imp                       0\n",
       "Funnel_Lower_Imp                        0\n",
       "Campaign_Message_Travel_Imp             0\n",
       "Campaign_Message_Service_Imp            0\n",
       "Campaign_Message_Family_Travel_Imp      0\n",
       "Campaign_Card_Cash_Rewards_Imp          0\n",
       "Campaign_Card_Premium_Rewards_Imp       0\n",
       "Campaign_Card_Other_Imp                 0\n",
       "Creative_Type_Display_Imp               0\n",
       "Creative_Type_TrueView_Imp              0\n",
       "Creative_Type_RichMediaExpanding_Imp    0\n",
       "Creative_Type_RichMedia_Imp             0\n",
       "Creative_Size_728x90_Imp                0\n",
       "Creative_Size_300x600_Imp               0\n",
       "Creative_Size_300x250_Imp               0\n",
       "Creative_Size_160x600_Imp               0\n",
       "Creative_Size_468x60_Imp                0\n",
       "Creative_Size_300x50_Imp                0\n",
       "Creative_Size_320x50_Imp                0\n",
       "Creative_Size_320x420_Imp               0\n",
       "Creative_Size_480x320_Imp               0\n",
       "Creative_Size_320x480_Imp               0\n",
       "Creative_Size_Uknown_Imp                0\n",
       "Device_Desktop_Imp                      0\n",
       "Device_Other_Imp                        0\n",
       "Device_Mobile_Imp                       0\n",
       "Active_View_Eligible_Impressions        0\n",
       "Active_View_Measurable_Impressions      0\n",
       "Active_View_Viewable_Impressions        0\n",
       "Clicks                                  0\n",
       "Conversions                             0\n",
       "Converted                               0\n",
       "TimeDiff_NULL_FLAG                      0\n",
       "dtype: int64"
      ]
     },
     "execution_count": 5,
     "metadata": {},
     "output_type": "execute_result"
    }
   ],
   "source": [
    "# confirm not nulls left dataset\n",
    "data.isnull().sum()"
   ]
  },
  {
   "cell_type": "code",
   "execution_count": 6,
   "metadata": {
    "collapsed": false
   },
   "outputs": [
    {
     "data": {
      "text/plain": [
       "count    3.036639e+06\n",
       "mean     4.895185e+00\n",
       "std      1.600795e+01\n",
       "min      1.000000e+00\n",
       "25%      1.000000e+00\n",
       "50%      2.000000e+00\n",
       "75%      3.000000e+00\n",
       "max      5.600000e+03\n",
       "Name: Impressions, dtype: float64"
      ]
     },
     "execution_count": 6,
     "metadata": {},
     "output_type": "execute_result"
    }
   ],
   "source": [
    "#Show the distribution of impressions (should affect all other rows features based on exploratory analysis)\n",
    "data['Impressions'].describe()"
   ]
  },
  {
   "cell_type": "code",
   "execution_count": 7,
   "metadata": {
    "collapsed": false
   },
   "outputs": [
    {
     "name": "stdout",
     "output_type": "stream",
     "text": [
      "5600\n",
      "50\n"
     ]
    }
   ],
   "source": [
    "#Remove outliers (users with more than ~50 impressions, 3 standard devs above the mean of 4.9 impressions)\n",
    "print max(data['Impressions'])\n",
    "data = data[data['Impressions']<=50]\n",
    "print max(data['Impressions'])"
   ]
  },
  {
   "cell_type": "code",
   "execution_count": 8,
   "metadata": {
    "collapsed": false
   },
   "outputs": [],
   "source": [
    "X=data.drop(['User_ID','Conversions','Converted'],axis=1)\n",
    "y=data['Converted']"
   ]
  },
  {
   "cell_type": "code",
   "execution_count": 9,
   "metadata": {
    "collapsed": true
   },
   "outputs": [],
   "source": [
    "# Split into Train/Test \n",
    "X_train, X_test, y_train, y_test = train_test_split(X,y,test_size=0.2,random_state=7)"
   ]
  },
  {
   "cell_type": "markdown",
   "metadata": {},
   "source": [
    "## Business Performance Functions and Baseline Benchmark"
   ]
  },
  {
   "cell_type": "code",
   "execution_count": 10,
   "metadata": {
    "collapsed": true
   },
   "outputs": [],
   "source": [
    "# Define ROI function\n",
    "# *See section \"Define Business Performance Metrics\" for more details\n",
    "def ROI(y,y_pred,app_value,avg_user_cost):\n",
    "    tn, fp, fn, tp = confusion_matrix(y_true=y, y_pred=y_pred).ravel()\n",
    "    \n",
    "    total_value=float(tp*app_value)\n",
    "    total_cost=float((tp+fp)*avg_user_cost)\n",
    "    ROI=total_value/total_cost-1\n",
    "    \n",
    "    return ROI"
   ]
  },
  {
   "cell_type": "code",
   "execution_count": 11,
   "metadata": {
    "collapsed": true
   },
   "outputs": [],
   "source": [
    "# Define New Value function\n",
    "# *See section \"Define Business Performance Metrics\" for more details\n",
    "def Net_Value(y,y_pred,app_value,avg_user_cost):\n",
    "    tn, fp, fn, tp = confusion_matrix(y_true=y, y_pred=y_pred).ravel()\n",
    "    \n",
    "    total_value=float(tp*app_value)\n",
    "    total_cost=float((tp+fp)*avg_user_cost)\n",
    "    Net_Value=total_value-total_cost\n",
    "    \n",
    "    return Net_Value"
   ]
  },
  {
   "cell_type": "markdown",
   "metadata": {},
   "source": [
    "#### Basline Performance\n",
    "Get baseline performance by assuming our classified producted \"1\" (or \"positive\") for all of our dataset observations.\n",
    "**NOTE:** Baseline benchmark should be calculated on test dataset."
   ]
  },
  {
   "cell_type": "code",
   "execution_count": 12,
   "metadata": {
    "collapsed": false
   },
   "outputs": [],
   "source": [
    "# Assumptions:\n",
    "#    Value of credit card application=$500\n",
    "#    Avg cost of reaching a user=$0.033827\n",
    "ROI_benchmark = ROI(y=y_test,\n",
    "                    y_pred=np.ones(y_test.size),\n",
    "                    app_value=500,\n",
    "                    avg_user_cost=0.033827)\n",
    "Net_Value_benchmark = Net_Value(y=y_test,\n",
    "                                y_pred=np.ones(y_test.size),\n",
    "                                app_value=500,\n",
    "                                avg_user_cost=0.033827)"
   ]
  },
  {
   "cell_type": "code",
   "execution_count": 13,
   "metadata": {
    "collapsed": false
   },
   "outputs": [
    {
     "name": "stdout",
     "output_type": "stream",
     "text": [
      "Baseline Net Value: 15690\n",
      "Baseline ROI: 77.3%\n"
     ]
    }
   ],
   "source": [
    "print \"Baseline Net Value: {0:.0f}\".format(Net_Value_benchmark)\n",
    "print \"Baseline ROI: {0:.1f}%\".format(ROI_benchmark*100)"
   ]
  },
  {
   "cell_type": "markdown",
   "metadata": {},
   "source": [
    "## L1 Logistic Regression - All Existing Features"
   ]
  },
  {
   "cell_type": "markdown",
   "metadata": {
    "collapsed": true
   },
   "source": [
    "Use L1 regularization with Logistic Regression to Identify Important/Non-Important features"
   ]
  },
  {
   "cell_type": "code",
   "execution_count": 14,
   "metadata": {
    "collapsed": false
   },
   "outputs": [],
   "source": [
    "# Standardization: bring all of our features onto the same scale\n",
    "stdsc = StandardScaler()\n",
    "X_train_std = stdsc.fit_transform(X_train)\n",
    "X_test_std = stdsc.transform(X_test)"
   ]
  },
  {
   "cell_type": "code",
   "execution_count": 15,
   "metadata": {
    "collapsed": true
   },
   "outputs": [],
   "source": [
    "# Cross-validation: 5 cross validation iterations with 30% test / 70% train\n",
    "cv = ShuffleSplit(n_splits=5, test_size=0.3, random_state=0)"
   ]
  },
  {
   "cell_type": "code",
   "execution_count": 16,
   "metadata": {
    "collapsed": false
   },
   "outputs": [
    {
     "name": "stdout",
     "output_type": "stream",
     "text": [
      "CPU times: user 20min 13s, sys: 44.4 s, total: 20min 58s\n",
      "Wall time: 20min 17s\n"
     ]
    }
   ],
   "source": [
    "%%time\n",
    "logregL1 = LogisticRegression(penalty='l1')\n",
    "parameters = {'C': [0.001,0.05,0.1,0.3,0.5]}\n",
    "clf = GridSearchCV(logregL1, parameters, cv=cv,scoring=\"roc_auc\")\n",
    "clf.fit(pd.DataFrame(X_train_std), pd.Series(y_train))   #turning into pandas dataframe or series prevents an error"
   ]
  },
  {
   "cell_type": "code",
   "execution_count": 17,
   "metadata": {
    "collapsed": false
   },
   "outputs": [
    {
     "name": "stdout",
     "output_type": "stream",
     "text": [
      "Best model parameters are: {'C': 0.05}\n",
      "Best AUC model score is: 0.731114239221\n"
     ]
    }
   ],
   "source": [
    "print \"Best model parameters are: {}\".format(clf.best_params_)\n",
    "print \"Best AUC model score is: {}\".format(clf.best_score_)"
   ]
  },
  {
   "cell_type": "markdown",
   "metadata": {},
   "source": [
    "**Notes**\n",
    "* **AUC of 0.7311** is \"Fair\" quality model\n",
    "* Good start, but we will see if can improve this score with some new features\n",
    "* Before that, we will:\n",
    "    * Review the current model coefficients\n",
    "    * Plot distribution of predicted probabilities\n",
    "    * Plot the ROC against the Test data for reference"
   ]
  },
  {
   "cell_type": "markdown",
   "metadata": {},
   "source": [
    "#### Show Coefficients"
   ]
  },
  {
   "cell_type": "code",
   "execution_count": 18,
   "metadata": {
    "collapsed": true
   },
   "outputs": [],
   "source": [
    "best_logreg = clf.best_estimator_"
   ]
  },
  {
   "cell_type": "code",
   "execution_count": 19,
   "metadata": {
    "collapsed": false
   },
   "outputs": [],
   "source": [
    "# Look at coefficients that are zero\n",
    "#lgl1_coeff = pd.DataFrame(zip(X.columns,logreg.coef_),columns=['Features','Coefficients'])\n",
    "best_coeff=pd.DataFrame({'Features':X.columns,\n",
    "                         'Coefficients':best_logreg.coef_[0]})"
   ]
  },
  {
   "cell_type": "code",
   "execution_count": 20,
   "metadata": {
    "collapsed": false
   },
   "outputs": [
    {
     "data": {
      "text/html": [
       "<div>\n",
       "<table border=\"1\" class=\"dataframe\">\n",
       "  <thead>\n",
       "    <tr style=\"text-align: right;\">\n",
       "      <th></th>\n",
       "      <th>Coefficients</th>\n",
       "      <th>Features</th>\n",
       "    </tr>\n",
       "  </thead>\n",
       "  <tbody>\n",
       "    <tr>\n",
       "      <th>0</th>\n",
       "      <td>0.0</td>\n",
       "      <td>Impressions</td>\n",
       "    </tr>\n",
       "    <tr>\n",
       "      <th>2</th>\n",
       "      <td>0.0</td>\n",
       "      <td>TimeDiff_Minutes_AVG</td>\n",
       "    </tr>\n",
       "    <tr>\n",
       "      <th>3</th>\n",
       "      <td>0.0</td>\n",
       "      <td>Funnel_Upper_Imp</td>\n",
       "    </tr>\n",
       "    <tr>\n",
       "      <th>6</th>\n",
       "      <td>0.0</td>\n",
       "      <td>Campaign_Message_Travel_Imp</td>\n",
       "    </tr>\n",
       "    <tr>\n",
       "      <th>7</th>\n",
       "      <td>0.0</td>\n",
       "      <td>Campaign_Message_Service_Imp</td>\n",
       "    </tr>\n",
       "    <tr>\n",
       "      <th>12</th>\n",
       "      <td>0.0</td>\n",
       "      <td>Creative_Type_Display_Imp</td>\n",
       "    </tr>\n",
       "    <tr>\n",
       "      <th>13</th>\n",
       "      <td>0.0</td>\n",
       "      <td>Creative_Type_TrueView_Imp</td>\n",
       "    </tr>\n",
       "    <tr>\n",
       "      <th>14</th>\n",
       "      <td>0.0</td>\n",
       "      <td>Creative_Type_RichMediaExpanding_Imp</td>\n",
       "    </tr>\n",
       "    <tr>\n",
       "      <th>15</th>\n",
       "      <td>0.0</td>\n",
       "      <td>Creative_Type_RichMedia_Imp</td>\n",
       "    </tr>\n",
       "    <tr>\n",
       "      <th>16</th>\n",
       "      <td>0.0</td>\n",
       "      <td>Creative_Size_728x90_Imp</td>\n",
       "    </tr>\n",
       "    <tr>\n",
       "      <th>17</th>\n",
       "      <td>0.0</td>\n",
       "      <td>Creative_Size_300x600_Imp</td>\n",
       "    </tr>\n",
       "    <tr>\n",
       "      <th>18</th>\n",
       "      <td>0.0</td>\n",
       "      <td>Creative_Size_300x250_Imp</td>\n",
       "    </tr>\n",
       "    <tr>\n",
       "      <th>19</th>\n",
       "      <td>0.0</td>\n",
       "      <td>Creative_Size_160x600_Imp</td>\n",
       "    </tr>\n",
       "    <tr>\n",
       "      <th>20</th>\n",
       "      <td>0.0</td>\n",
       "      <td>Creative_Size_468x60_Imp</td>\n",
       "    </tr>\n",
       "    <tr>\n",
       "      <th>21</th>\n",
       "      <td>0.0</td>\n",
       "      <td>Creative_Size_300x50_Imp</td>\n",
       "    </tr>\n",
       "    <tr>\n",
       "      <th>24</th>\n",
       "      <td>0.0</td>\n",
       "      <td>Creative_Size_480x320_Imp</td>\n",
       "    </tr>\n",
       "    <tr>\n",
       "      <th>25</th>\n",
       "      <td>0.0</td>\n",
       "      <td>Creative_Size_320x480_Imp</td>\n",
       "    </tr>\n",
       "    <tr>\n",
       "      <th>26</th>\n",
       "      <td>0.0</td>\n",
       "      <td>Creative_Size_Uknown_Imp</td>\n",
       "    </tr>\n",
       "    <tr>\n",
       "      <th>30</th>\n",
       "      <td>0.0</td>\n",
       "      <td>Active_View_Eligible_Impressions</td>\n",
       "    </tr>\n",
       "    <tr>\n",
       "      <th>31</th>\n",
       "      <td>0.0</td>\n",
       "      <td>Active_View_Measurable_Impressions</td>\n",
       "    </tr>\n",
       "    <tr>\n",
       "      <th>32</th>\n",
       "      <td>0.0</td>\n",
       "      <td>Active_View_Viewable_Impressions</td>\n",
       "    </tr>\n",
       "  </tbody>\n",
       "</table>\n",
       "</div>"
      ],
      "text/plain": [
       "    Coefficients                              Features\n",
       "0            0.0                           Impressions\n",
       "2            0.0                  TimeDiff_Minutes_AVG\n",
       "3            0.0                      Funnel_Upper_Imp\n",
       "6            0.0           Campaign_Message_Travel_Imp\n",
       "7            0.0          Campaign_Message_Service_Imp\n",
       "12           0.0             Creative_Type_Display_Imp\n",
       "13           0.0            Creative_Type_TrueView_Imp\n",
       "14           0.0  Creative_Type_RichMediaExpanding_Imp\n",
       "15           0.0           Creative_Type_RichMedia_Imp\n",
       "16           0.0              Creative_Size_728x90_Imp\n",
       "17           0.0             Creative_Size_300x600_Imp\n",
       "18           0.0             Creative_Size_300x250_Imp\n",
       "19           0.0             Creative_Size_160x600_Imp\n",
       "20           0.0              Creative_Size_468x60_Imp\n",
       "21           0.0              Creative_Size_300x50_Imp\n",
       "24           0.0             Creative_Size_480x320_Imp\n",
       "25           0.0             Creative_Size_320x480_Imp\n",
       "26           0.0              Creative_Size_Uknown_Imp\n",
       "30           0.0      Active_View_Eligible_Impressions\n",
       "31           0.0    Active_View_Measurable_Impressions\n",
       "32           0.0      Active_View_Viewable_Impressions"
      ]
     },
     "execution_count": 20,
     "metadata": {},
     "output_type": "execute_result"
    }
   ],
   "source": [
    "# Show non-important / zero'd features\n",
    "best_coeff[best_coeff['Coefficients']==0]"
   ]
  },
  {
   "cell_type": "code",
   "execution_count": 36,
   "metadata": {
    "collapsed": false
   },
   "outputs": [
    {
     "data": {
      "text/html": [
       "<div>\n",
       "<table border=\"1\" class=\"dataframe\">\n",
       "  <thead>\n",
       "    <tr style=\"text-align: right;\">\n",
       "      <th></th>\n",
       "      <th>Coefficients</th>\n",
       "      <th>Features</th>\n",
       "    </tr>\n",
       "  </thead>\n",
       "  <tbody>\n",
       "    <tr>\n",
       "      <th>1</th>\n",
       "      <td>0.064708</td>\n",
       "      <td>TimeDiff_Minutes</td>\n",
       "    </tr>\n",
       "    <tr>\n",
       "      <th>4</th>\n",
       "      <td>-0.396872</td>\n",
       "      <td>Funnel_Middle_Imp</td>\n",
       "    </tr>\n",
       "    <tr>\n",
       "      <th>5</th>\n",
       "      <td>0.054886</td>\n",
       "      <td>Funnel_Lower_Imp</td>\n",
       "    </tr>\n",
       "    <tr>\n",
       "      <th>8</th>\n",
       "      <td>0.085195</td>\n",
       "      <td>Campaign_Message_Family_Travel_Imp</td>\n",
       "    </tr>\n",
       "    <tr>\n",
       "      <th>9</th>\n",
       "      <td>0.006758</td>\n",
       "      <td>Campaign_Card_Cash_Rewards_Imp</td>\n",
       "    </tr>\n",
       "    <tr>\n",
       "      <th>10</th>\n",
       "      <td>-0.049589</td>\n",
       "      <td>Campaign_Card_Premium_Rewards_Imp</td>\n",
       "    </tr>\n",
       "    <tr>\n",
       "      <th>11</th>\n",
       "      <td>0.021682</td>\n",
       "      <td>Campaign_Card_Other_Imp</td>\n",
       "    </tr>\n",
       "    <tr>\n",
       "      <th>22</th>\n",
       "      <td>-0.042016</td>\n",
       "      <td>Creative_Size_320x50_Imp</td>\n",
       "    </tr>\n",
       "    <tr>\n",
       "      <th>23</th>\n",
       "      <td>0.006210</td>\n",
       "      <td>Creative_Size_320x420_Imp</td>\n",
       "    </tr>\n",
       "    <tr>\n",
       "      <th>27</th>\n",
       "      <td>0.129454</td>\n",
       "      <td>Device_Desktop_Imp</td>\n",
       "    </tr>\n",
       "    <tr>\n",
       "      <th>28</th>\n",
       "      <td>-0.079044</td>\n",
       "      <td>Device_Other_Imp</td>\n",
       "    </tr>\n",
       "    <tr>\n",
       "      <th>29</th>\n",
       "      <td>-0.094682</td>\n",
       "      <td>Device_Mobile_Imp</td>\n",
       "    </tr>\n",
       "    <tr>\n",
       "      <th>33</th>\n",
       "      <td>0.011106</td>\n",
       "      <td>Clicks</td>\n",
       "    </tr>\n",
       "    <tr>\n",
       "      <th>34</th>\n",
       "      <td>-0.147503</td>\n",
       "      <td>TimeDiff_NULL_FLAG</td>\n",
       "    </tr>\n",
       "  </tbody>\n",
       "</table>\n",
       "</div>"
      ],
      "text/plain": [
       "    Coefficients                            Features\n",
       "1       0.064708                    TimeDiff_Minutes\n",
       "4      -0.396872                   Funnel_Middle_Imp\n",
       "5       0.054886                    Funnel_Lower_Imp\n",
       "8       0.085195  Campaign_Message_Family_Travel_Imp\n",
       "9       0.006758      Campaign_Card_Cash_Rewards_Imp\n",
       "10     -0.049589   Campaign_Card_Premium_Rewards_Imp\n",
       "11      0.021682             Campaign_Card_Other_Imp\n",
       "22     -0.042016            Creative_Size_320x50_Imp\n",
       "23      0.006210           Creative_Size_320x420_Imp\n",
       "27      0.129454                  Device_Desktop_Imp\n",
       "28     -0.079044                    Device_Other_Imp\n",
       "29     -0.094682                   Device_Mobile_Imp\n",
       "33      0.011106                              Clicks\n",
       "34     -0.147503                  TimeDiff_NULL_FLAG"
      ]
     },
     "execution_count": 36,
     "metadata": {},
     "output_type": "execute_result"
    }
   ],
   "source": [
    "#Show important features\n",
    "kept_coeff=best_coeff[best_coeff['Coefficients']!=0]\n",
    "kept_coeff"
   ]
  },
  {
   "cell_type": "markdown",
   "metadata": {},
   "source": [
    "#### Draw Learning Curve"
   ]
  },
  {
   "cell_type": "code",
   "execution_count": 122,
   "metadata": {
    "collapsed": false,
    "scrolled": true
   },
   "outputs": [
    {
     "data": {
      "image/png": "[encoded data removed]",
      "text/plain": [
       "<matplotlib.figure.Figure at 0x11920d790>"
      ]
     },
     "metadata": {},
     "output_type": "display_data"
    }
   ],
   "source": [
    "%%time\n",
    "draw_learning_curve(best_logreg, pd.DataFrame(X_train_std), pd.Series(y_train), scoring='roc_auc', cv=cv);"
   ]
  },
  {
   "cell_type": "markdown",
   "metadata": {},
   "source": [
    "**Notes:**\n",
    "* The flattening of the training score curve shows we likely would not get more value from more data\n",
    "* We do see the variance of the cross-validation score increase which could lead to overfitting\n",
    "* We also have some Bias as the training set only reaches ~.76 AUC, whic indicates that we could improve the model with additional features."
   ]
  },
  {
   "cell_type": "markdown",
   "metadata": {},
   "source": [
    "#### Plot distribution of Predicted Probabilities"
   ]
  },
  {
   "cell_type": "code",
   "execution_count": 44,
   "metadata": {
    "collapsed": false
   },
   "outputs": [
    {
     "data": {
      "image/png": "[encoded data removed]",
      "text/plain": [
       "<matplotlib.figure.Figure at 0x1588df510>"
      ]
     },
     "metadata": {},
     "output_type": "display_data"
    }
   ],
   "source": [
    "#Distribution of predictions\n",
    "y_probs = best_logreg.predict_proba(X_test_std)[:,1]\n",
    "plt.hist(y_probs)\n",
    "plt.title(\"Distribution of Predicted Probabilities\")\n",
    "plt.xlabel(\"Predicted Probability to Apply for Credit Card\")\n",
    "plt.ylabel(\"Count of Observations (Users)\");"
   ]
  },
  {
   "cell_type": "code",
   "execution_count": 45,
   "metadata": {
    "collapsed": false
   },
   "outputs": [
    {
     "data": {
      "image/png": "[encoded data removed]",
      "text/plain": [
       "<matplotlib.figure.Figure at 0x117b62410>"
      ]
     },
     "metadata": {},
     "output_type": "display_data"
    }
   ],
   "source": [
    "#Distribution of predictions (Zoom in at probabilites<0.03%)\n",
    "max_in_chart=0.0003\n",
    "plt.hist(y_probs[y_probs<max_in_chart],bins=20);\n",
    "plt.title(\"Distribution of Predicted Probabilities\")\n",
    "plt.xlabel(\"Predicted Probability to Apply for Credit Card\")\n",
    "plt.ylabel(\"Count of Observations (Users)\");"
   ]
  },
  {
   "cell_type": "markdown",
   "metadata": {},
   "source": [
    "**Notes**\n",
    "* The large peak in the middle is an indication of how how hard it is to distinquish our observations from each other\n",
    "* However, there is a long tail to the right as seen in the first graph"
   ]
  },
  {
   "cell_type": "markdown",
   "metadata": {},
   "source": [
    "#### Plot ROC/AUC on Test Dataset (Reference Point)"
   ]
  },
  {
   "cell_type": "code",
   "execution_count": 46,
   "metadata": {
    "collapsed": false
   },
   "outputs": [
    {
     "data": {
      "image/png": "[encoded data removed]",
      "text/plain": [
       "<matplotlib.figure.Figure at 0x119968ed0>"
      ]
     },
     "metadata": {},
     "output_type": "display_data"
    }
   ],
   "source": [
    "#Plot ROC\n",
    "fpr, tpr, thresholds = roc_curve(y_test, y_probs)\n",
    "plt.plot(fpr,tpr,label='Initial Best Model ROC')\n",
    "\n",
    "#Plot reference line\n",
    "z=np.linspace(0,1,20)\n",
    "plt.plot(z,z,label='Baseline');\n",
    "\n",
    "#Calculate AUC\n",
    "area=auc(fpr, tpr)\n",
    "plt.text(0.5, 0.3, 'AUC={0:0.4f}'.format(area), style='normal',\n",
    "         verticalalignment='center', horizontalalignment='center',\n",
    "         bbox={'facecolor':'red', 'alpha':0.5, 'pad':10})\n",
    "\n",
    "# AUC shading\n",
    "x = np.linspace(0.0, 1, 11)\n",
    "plt.fill_between(fpr, 0, tpr, where=tpr >= 0, facecolor='lightblue', interpolate=True,alpha=0.5)\n",
    "\n",
    "#Plot details\n",
    "plt.title(\"ROC on Test Data\")\n",
    "plt.xlabel(\"False Postive Rate (FPR)\")\n",
    "plt.ylabel(\"True Postive Rate (TPR)\")\n",
    "plt.legend(loc='right');"
   ]
  },
  {
   "cell_type": "markdown",
   "metadata": {},
   "source": [
    "**Notes**\n",
    "* AUC slightly improve from 0.7311 (Training Data cross-validation) to 0.7508 on the Test Data\n",
    "* We will keep this as a reference point to try to improve by adding new features in the next section"
   ]
  },
  {
   "cell_type": "markdown",
   "metadata": {},
   "source": [
    "## Try New Features"
   ]
  },
  {
   "cell_type": "markdown",
   "metadata": {},
   "source": [
    "1. Funnel Halo Effect\n",
    "2. Categorical for Time Diff\n",
    "3. Percent Viewable Impressions\n",
    "4. Combined Creative Sizes in Small, Medium, Large"
   ]
  },
  {
   "cell_type": "markdown",
   "metadata": {},
   "source": [
    "### 1. Funnel Halo Effect\n",
    "We believe there is a potential halo effect from being reached by multiple stages of the marketing funnel.  Therefore, we will create 4 new features to capture these overlaps in ad exposure:\n",
    "* Upper_and_Lower\n",
    "* Upper_and_Middle\n",
    "* Middle_Lower\n",
    "* Upper_Middle_Lower"
   ]
  },
  {
   "cell_type": "code",
   "execution_count": 133,
   "metadata": {
    "collapsed": true
   },
   "outputs": [],
   "source": [
    "# Create new features\n",
    "data['Upper_and_Lower'] = data['Funnel_Upper_Imp']*data['Funnel_Lower_Imp']\n",
    "data['Upper_and_Middle'] = data['Funnel_Upper_Imp']*data['Funnel_Middle_Imp']\n",
    "data['Middle_Lower'] = data['Funnel_Middle_Imp']*data['Funnel_Lower_Imp']\n",
    "data['Upper_Middle_Lower'] = data['Funnel_Upper_Imp']*data['Funnel_Middle_Imp']*data['Funnel_Lower_Imp']"
   ]
  },
  {
   "cell_type": "code",
   "execution_count": 145,
   "metadata": {
    "collapsed": false
   },
   "outputs": [],
   "source": [
    "# Re-prepare the Features dataset\n",
    "# Keep only the features we found are important in our L1 regularization in our first model\n",
    "# Add new features\n",
    "features=kept_coeff['Features'].tolist() + ['Upper_and_Lower','Upper_and_Middle','Middle_Lower','Upper_Middle_Lower']\n",
    "X=data[features]\n",
    "\n",
    "# Split into Train/Test (random state ensures same breakdown)\n",
    "X_train, X_test, y_train, y_test = train_test_split(X,y,test_size=0.2,random_state=7)\n",
    "\n",
    "# Standardization: bring all of our features onto the same scale\n",
    "X_train_std = stdsc.fit_transform(X_train)\n",
    "X_test_std = stdsc.transform(X_test)"
   ]
  },
  {
   "cell_type": "code",
   "execution_count": 146,
   "metadata": {
    "collapsed": false
   },
   "outputs": [
    {
     "name": "stdout",
     "output_type": "stream",
     "text": [
      "CPU times: user 8min 36s, sys: 27.6 s, total: 9min 4s\n",
      "Wall time: 8min 24s\n"
     ]
    }
   ],
   "source": [
    "%%time\n",
    "logregL1 = LogisticRegression(penalty='l1')\n",
    "parameters = {'C': [0.001,0.05,0.1,0.3,0.5]}\n",
    "clf = GridSearchCV(logregL1, parameters, cv=cv,scoring=\"roc_auc\")\n",
    "clf.fit(pd.DataFrame(X_train_std), pd.Series(y_train))   #turning into pandas dataframe or series prevents an error"
   ]
  },
  {
   "cell_type": "code",
   "execution_count": 147,
   "metadata": {
    "collapsed": false
   },
   "outputs": [
    {
     "name": "stdout",
     "output_type": "stream",
     "text": [
      "Best model parameters are: {'C': 0.05}\n",
      "Best AUC model score is: 0.733026754188\n"
     ]
    }
   ],
   "source": [
    "print \"Best model parameters are: {}\".format(clf.best_params_)\n",
    "print \"Best AUC model score is: {}\".format(clf.best_score_)"
   ]
  },
  {
   "cell_type": "code",
   "execution_count": 152,
   "metadata": {
    "collapsed": false
   },
   "outputs": [
    {
     "data": {
      "text/html": [
       "<div>\n",
       "<table border=\"1\" class=\"dataframe\">\n",
       "  <thead>\n",
       "    <tr style=\"text-align: right;\">\n",
       "      <th></th>\n",
       "      <th>Coefficients</th>\n",
       "      <th>Features</th>\n",
       "    </tr>\n",
       "  </thead>\n",
       "  <tbody>\n",
       "    <tr>\n",
       "      <th>0</th>\n",
       "      <td>0.064403</td>\n",
       "      <td>TimeDiff_Minutes</td>\n",
       "    </tr>\n",
       "    <tr>\n",
       "      <th>1</th>\n",
       "      <td>-0.399255</td>\n",
       "      <td>Funnel_Middle_Imp</td>\n",
       "    </tr>\n",
       "    <tr>\n",
       "      <th>2</th>\n",
       "      <td>0.052844</td>\n",
       "      <td>Funnel_Lower_Imp</td>\n",
       "    </tr>\n",
       "    <tr>\n",
       "      <th>3</th>\n",
       "      <td>0.084410</td>\n",
       "      <td>Campaign_Message_Family_Travel_Imp</td>\n",
       "    </tr>\n",
       "    <tr>\n",
       "      <th>4</th>\n",
       "      <td>0.005709</td>\n",
       "      <td>Campaign_Card_Cash_Rewards_Imp</td>\n",
       "    </tr>\n",
       "    <tr>\n",
       "      <th>5</th>\n",
       "      <td>-0.050107</td>\n",
       "      <td>Campaign_Card_Premium_Rewards_Imp</td>\n",
       "    </tr>\n",
       "    <tr>\n",
       "      <th>6</th>\n",
       "      <td>0.021560</td>\n",
       "      <td>Campaign_Card_Other_Imp</td>\n",
       "    </tr>\n",
       "    <tr>\n",
       "      <th>7</th>\n",
       "      <td>-0.041603</td>\n",
       "      <td>Creative_Size_320x50_Imp</td>\n",
       "    </tr>\n",
       "    <tr>\n",
       "      <th>8</th>\n",
       "      <td>0.006205</td>\n",
       "      <td>Creative_Size_320x420_Imp</td>\n",
       "    </tr>\n",
       "    <tr>\n",
       "      <th>9</th>\n",
       "      <td>0.134881</td>\n",
       "      <td>Device_Desktop_Imp</td>\n",
       "    </tr>\n",
       "    <tr>\n",
       "      <th>10</th>\n",
       "      <td>-0.078709</td>\n",
       "      <td>Device_Other_Imp</td>\n",
       "    </tr>\n",
       "    <tr>\n",
       "      <th>11</th>\n",
       "      <td>-0.092407</td>\n",
       "      <td>Device_Mobile_Imp</td>\n",
       "    </tr>\n",
       "    <tr>\n",
       "      <th>12</th>\n",
       "      <td>0.011107</td>\n",
       "      <td>Clicks</td>\n",
       "    </tr>\n",
       "    <tr>\n",
       "      <th>13</th>\n",
       "      <td>-0.147124</td>\n",
       "      <td>TimeDiff_NULL_FLAG</td>\n",
       "    </tr>\n",
       "    <tr>\n",
       "      <th>14</th>\n",
       "      <td>-0.002371</td>\n",
       "      <td>Upper_and_Lower</td>\n",
       "    </tr>\n",
       "  </tbody>\n",
       "</table>\n",
       "</div>"
      ],
      "text/plain": [
       "    Coefficients                            Features\n",
       "0       0.064403                    TimeDiff_Minutes\n",
       "1      -0.399255                   Funnel_Middle_Imp\n",
       "2       0.052844                    Funnel_Lower_Imp\n",
       "3       0.084410  Campaign_Message_Family_Travel_Imp\n",
       "4       0.005709      Campaign_Card_Cash_Rewards_Imp\n",
       "5      -0.050107   Campaign_Card_Premium_Rewards_Imp\n",
       "6       0.021560             Campaign_Card_Other_Imp\n",
       "7      -0.041603            Creative_Size_320x50_Imp\n",
       "8       0.006205           Creative_Size_320x420_Imp\n",
       "9       0.134881                  Device_Desktop_Imp\n",
       "10     -0.078709                    Device_Other_Imp\n",
       "11     -0.092407                   Device_Mobile_Imp\n",
       "12      0.011107                              Clicks\n",
       "13     -0.147124                  TimeDiff_NULL_FLAG\n",
       "14     -0.002371                     Upper_and_Lower"
      ]
     },
     "execution_count": 152,
     "metadata": {},
     "output_type": "execute_result"
    }
   ],
   "source": [
    "best_coeff=pd.DataFrame({'Features':X.columns,\n",
    "                         'Coefficients':clf.best_estimator_.coef_[0]})\n",
    "best_coeff"
   ]
  },
  {
   "cell_type": "markdown",
   "metadata": {},
   "source": [
    "**Notes**\n",
    "* Small improvement in AUC from 0.7311 tot 0.7330\n",
    "* Minimual Improvemnt to AUC and the only \"Upper_and_Lower\" added, perhaps not worth adding to model"
   ]
  },
  {
   "cell_type": "markdown",
   "metadata": {},
   "source": [
    "### 2. Alternative Time-Difference Feature\n",
    "Change Time-Difference Feature to be categorical, with the following breakouts\n",
    "* **Only One Impression:** User only received 1 impression (use this category as the reference point, don't include in mode)\n",
    "* **TimeDiff_One_Day:** Mulitple Impressions in one day\n",
    "* **TimeDiff_1to7_Days:** Mulitple Impressions in one week (but more than a single day)\n",
    "* **TimeDiff_7plus:** Multiple Impressions over several days (more than one week)"
   ]
  },
  {
   "cell_type": "code",
   "execution_count": 47,
   "metadata": {
    "collapsed": false
   },
   "outputs": [],
   "source": [
    "# Create new features\n",
    "data['TimeDiff_One_Day'] = pd.Categorical( (data['Impressions']>1) &\n",
    "                                           (data['TimeDiff_Minutes']<= (24*60)) ) \n",
    "data['TimeDiff_1to7_Days'] = pd.Categorical( (data['Impressions']>1) &\n",
    "                                             (data['TimeDiff_Minutes']> (24*60)) & \n",
    "                                            (data['TimeDiff_Minutes']<= (24*60*7)) )\n",
    "data['TimeDiff_7plus'] = pd.Categorical( (data['Impressions']>1) &\n",
    "                                             (data['TimeDiff_Minutes']> (24*60*7)) )"
   ]
  },
  {
   "cell_type": "code",
   "execution_count": 50,
   "metadata": {
    "collapsed": false
   },
   "outputs": [
    {
     "data": {
      "text/html": [
       "<div>\n",
       "<table border=\"1\" class=\"dataframe\">\n",
       "  <thead>\n",
       "    <tr style=\"text-align: right;\">\n",
       "      <th></th>\n",
       "      <th>Impressions</th>\n",
       "      <th>TimeDiff_Minutes</th>\n",
       "      <th>TimeDiff_One_Day</th>\n",
       "      <th>TimeDiff_1to7_Days</th>\n",
       "      <th>TimeDiff_7plus</th>\n",
       "    </tr>\n",
       "  </thead>\n",
       "  <tbody>\n",
       "    <tr>\n",
       "      <th>1449060</th>\n",
       "      <td>1</td>\n",
       "      <td>1481.0</td>\n",
       "      <td>False</td>\n",
       "      <td>False</td>\n",
       "      <td>False</td>\n",
       "    </tr>\n",
       "    <tr>\n",
       "      <th>1181194</th>\n",
       "      <td>9</td>\n",
       "      <td>4608.0</td>\n",
       "      <td>False</td>\n",
       "      <td>True</td>\n",
       "      <td>False</td>\n",
       "    </tr>\n",
       "    <tr>\n",
       "      <th>2269738</th>\n",
       "      <td>1</td>\n",
       "      <td>1481.0</td>\n",
       "      <td>False</td>\n",
       "      <td>False</td>\n",
       "      <td>False</td>\n",
       "    </tr>\n",
       "    <tr>\n",
       "      <th>1946283</th>\n",
       "      <td>1</td>\n",
       "      <td>1481.0</td>\n",
       "      <td>False</td>\n",
       "      <td>False</td>\n",
       "      <td>False</td>\n",
       "    </tr>\n",
       "    <tr>\n",
       "      <th>2030945</th>\n",
       "      <td>3</td>\n",
       "      <td>8884.0</td>\n",
       "      <td>False</td>\n",
       "      <td>True</td>\n",
       "      <td>False</td>\n",
       "    </tr>\n",
       "    <tr>\n",
       "      <th>2775876</th>\n",
       "      <td>2</td>\n",
       "      <td>1.0</td>\n",
       "      <td>True</td>\n",
       "      <td>False</td>\n",
       "      <td>False</td>\n",
       "    </tr>\n",
       "    <tr>\n",
       "      <th>3015205</th>\n",
       "      <td>1</td>\n",
       "      <td>1481.0</td>\n",
       "      <td>False</td>\n",
       "      <td>False</td>\n",
       "      <td>False</td>\n",
       "    </tr>\n",
       "    <tr>\n",
       "      <th>1604817</th>\n",
       "      <td>4</td>\n",
       "      <td>211.0</td>\n",
       "      <td>True</td>\n",
       "      <td>False</td>\n",
       "      <td>False</td>\n",
       "    </tr>\n",
       "    <tr>\n",
       "      <th>1870112</th>\n",
       "      <td>1</td>\n",
       "      <td>1481.0</td>\n",
       "      <td>False</td>\n",
       "      <td>False</td>\n",
       "      <td>False</td>\n",
       "    </tr>\n",
       "    <tr>\n",
       "      <th>2728273</th>\n",
       "      <td>15</td>\n",
       "      <td>64870.0</td>\n",
       "      <td>False</td>\n",
       "      <td>False</td>\n",
       "      <td>True</td>\n",
       "    </tr>\n",
       "  </tbody>\n",
       "</table>\n",
       "</div>"
      ],
      "text/plain": [
       "         Impressions  TimeDiff_Minutes TimeDiff_One_Day TimeDiff_1to7_Days  \\\n",
       "1449060            1            1481.0            False              False   \n",
       "1181194            9            4608.0            False               True   \n",
       "2269738            1            1481.0            False              False   \n",
       "1946283            1            1481.0            False              False   \n",
       "2030945            3            8884.0            False               True   \n",
       "2775876            2               1.0             True              False   \n",
       "3015205            1            1481.0            False              False   \n",
       "1604817            4             211.0             True              False   \n",
       "1870112            1            1481.0            False              False   \n",
       "2728273           15           64870.0            False              False   \n",
       "\n",
       "        TimeDiff_7plus  \n",
       "1449060          False  \n",
       "1181194          False  \n",
       "2269738          False  \n",
       "1946283          False  \n",
       "2030945          False  \n",
       "2775876          False  \n",
       "3015205          False  \n",
       "1604817          False  \n",
       "1870112          False  \n",
       "2728273           True  "
      ]
     },
     "execution_count": 50,
     "metadata": {},
     "output_type": "execute_result"
    }
   ],
   "source": [
    "data[['Impressions','TimeDiff_Minutes','TimeDiff_One_Day','TimeDiff_1to7_Days','TimeDiff_7plus']].sample(10)"
   ]
  },
  {
   "cell_type": "code",
   "execution_count": 51,
   "metadata": {
    "collapsed": true
   },
   "outputs": [],
   "source": [
    "# Re-prepare the Features dataset\n",
    "# Keep only the features we found are important in our L1 regularization in our first model\n",
    "# Replace time features with new ones\n",
    "features=kept_coeff['Features'].tolist() + ['TimeDiff_One_Day','TimeDiff_1to7_Days','TimeDiff_7plus'] \n",
    "X=data[features]\n",
    "X=X.drop(['TimeDiff_Minutes','TimeDiff_NULL_FLAG'],axis=1)\n",
    "\n",
    "# Split into Train/Test (random state ensures same breakdown)\n",
    "X_train, X_test, y_train, y_test = train_test_split(X,y,test_size=0.2,random_state=7)\n",
    "\n",
    "# Standardization: bring all of our features onto the same scale\n",
    "X_train_std = stdsc.fit_transform(X_train)\n",
    "X_test_std = stdsc.transform(X_test)"
   ]
  },
  {
   "cell_type": "code",
   "execution_count": 52,
   "metadata": {
    "collapsed": false
   },
   "outputs": [
    {
     "name": "stdout",
     "output_type": "stream",
     "text": [
      "CPU times: user 7min 3s, sys: 26.2 s, total: 7min 29s\n",
      "Wall time: 6min 52s\n"
     ]
    }
   ],
   "source": [
    "%%time\n",
    "logregL1 = LogisticRegression(penalty='l1')\n",
    "parameters = {'C': [0.001,0.05,0.1,0.3,0.5]}\n",
    "clf = GridSearchCV(logregL1, parameters, cv=cv,scoring=\"roc_auc\")\n",
    "clf.fit(pd.DataFrame(X_train_std), pd.Series(y_train))   #turning into pandas dataframe or series prevents an error"
   ]
  },
  {
   "cell_type": "code",
   "execution_count": 53,
   "metadata": {
    "collapsed": false
   },
   "outputs": [
    {
     "name": "stdout",
     "output_type": "stream",
     "text": [
      "Best model parameters are: {'C': 0.1}\n",
      "Best AUC model score is: 0.727869693493\n"
     ]
    }
   ],
   "source": [
    "print \"Best model parameters are: {}\".format(clf.best_params_)\n",
    "print \"Best AUC model score is: {}\".format(clf.best_score_)"
   ]
  },
  {
   "cell_type": "code",
   "execution_count": 54,
   "metadata": {
    "collapsed": false
   },
   "outputs": [
    {
     "data": {
      "text/html": [
       "<div>\n",
       "<table border=\"1\" class=\"dataframe\">\n",
       "  <thead>\n",
       "    <tr style=\"text-align: right;\">\n",
       "      <th></th>\n",
       "      <th>Coefficients</th>\n",
       "      <th>Features</th>\n",
       "    </tr>\n",
       "  </thead>\n",
       "  <tbody>\n",
       "    <tr>\n",
       "      <th>0</th>\n",
       "      <td>-0.688399</td>\n",
       "      <td>Funnel_Middle_Imp</td>\n",
       "    </tr>\n",
       "    <tr>\n",
       "      <th>1</th>\n",
       "      <td>0.013938</td>\n",
       "      <td>Funnel_Lower_Imp</td>\n",
       "    </tr>\n",
       "    <tr>\n",
       "      <th>2</th>\n",
       "      <td>0.207509</td>\n",
       "      <td>Campaign_Message_Family_Travel_Imp</td>\n",
       "    </tr>\n",
       "    <tr>\n",
       "      <th>3</th>\n",
       "      <td>0.070059</td>\n",
       "      <td>Campaign_Card_Cash_Rewards_Imp</td>\n",
       "    </tr>\n",
       "    <tr>\n",
       "      <th>4</th>\n",
       "      <td>-0.057239</td>\n",
       "      <td>Campaign_Card_Premium_Rewards_Imp</td>\n",
       "    </tr>\n",
       "    <tr>\n",
       "      <th>5</th>\n",
       "      <td>0.023785</td>\n",
       "      <td>Campaign_Card_Other_Imp</td>\n",
       "    </tr>\n",
       "    <tr>\n",
       "      <th>6</th>\n",
       "      <td>-0.122755</td>\n",
       "      <td>Creative_Size_320x50_Imp</td>\n",
       "    </tr>\n",
       "    <tr>\n",
       "      <th>7</th>\n",
       "      <td>0.009637</td>\n",
       "      <td>Creative_Size_320x420_Imp</td>\n",
       "    </tr>\n",
       "    <tr>\n",
       "      <th>8</th>\n",
       "      <td>0.139749</td>\n",
       "      <td>Device_Desktop_Imp</td>\n",
       "    </tr>\n",
       "    <tr>\n",
       "      <th>9</th>\n",
       "      <td>-0.291493</td>\n",
       "      <td>Device_Other_Imp</td>\n",
       "    </tr>\n",
       "    <tr>\n",
       "      <th>10</th>\n",
       "      <td>-0.227858</td>\n",
       "      <td>Device_Mobile_Imp</td>\n",
       "    </tr>\n",
       "    <tr>\n",
       "      <th>11</th>\n",
       "      <td>0.011262</td>\n",
       "      <td>Clicks</td>\n",
       "    </tr>\n",
       "    <tr>\n",
       "      <th>12</th>\n",
       "      <td>0.082782</td>\n",
       "      <td>TimeDiff_One_Day</td>\n",
       "    </tr>\n",
       "    <tr>\n",
       "      <th>13</th>\n",
       "      <td>0.196803</td>\n",
       "      <td>TimeDiff_1to7_Days</td>\n",
       "    </tr>\n",
       "    <tr>\n",
       "      <th>14</th>\n",
       "      <td>0.274354</td>\n",
       "      <td>TimeDiff_7plus</td>\n",
       "    </tr>\n",
       "  </tbody>\n",
       "</table>\n",
       "</div>"
      ],
      "text/plain": [
       "    Coefficients                            Features\n",
       "0      -0.688399                   Funnel_Middle_Imp\n",
       "1       0.013938                    Funnel_Lower_Imp\n",
       "2       0.207509  Campaign_Message_Family_Travel_Imp\n",
       "3       0.070059      Campaign_Card_Cash_Rewards_Imp\n",
       "4      -0.057239   Campaign_Card_Premium_Rewards_Imp\n",
       "5       0.023785             Campaign_Card_Other_Imp\n",
       "6      -0.122755            Creative_Size_320x50_Imp\n",
       "7       0.009637           Creative_Size_320x420_Imp\n",
       "8       0.139749                  Device_Desktop_Imp\n",
       "9      -0.291493                    Device_Other_Imp\n",
       "10     -0.227858                   Device_Mobile_Imp\n",
       "11      0.011262                              Clicks\n",
       "12      0.082782                    TimeDiff_One_Day\n",
       "13      0.196803                  TimeDiff_1to7_Days\n",
       "14      0.274354                      TimeDiff_7plus"
      ]
     },
     "execution_count": 54,
     "metadata": {},
     "output_type": "execute_result"
    }
   ],
   "source": [
    "best_coeff=pd.DataFrame({'Features':X.columns,\n",
    "                         'Coefficients':clf.best_estimator_.coef_[0]})\n",
    "best_coeff"
   ]
  },
  {
   "cell_type": "markdown",
   "metadata": {},
   "source": [
    "**Notes**\n",
    "* AUC slightly worsened from 0.7311 to 0.7278 (minimal difference)\n",
    "* This representation is slightly more intuitive, perhaps keep this one."
   ]
  },
  {
   "cell_type": "markdown",
   "metadata": {},
   "source": [
    "### 3. Percent of Impressions Viewable\n",
    "We believe that the percent of impressions shown that were viewable could potentially be an important feature.  Viewable_Percent will be defined as:\n",
    "\n",
    "\\begin{equation*}\n",
    "ViewablePercent = \\frac{ViewableImpressions}{MeasurableImpressions}\n",
    "\\end{equation*}"
   ]
  },
  {
   "cell_type": "code",
   "execution_count": 78,
   "metadata": {
    "collapsed": false
   },
   "outputs": [],
   "source": [
    "# Create new features\n",
    "data['Viewable_Percent'] = data['Active_View_Viewable_Impressions'] / data['Active_View_Measurable_Impressions']\n",
    "\n",
    "# Replace NULL/inf with zero (penalizes causes where no impressions were measureable)\n",
    "data['Viewable_Percent'].fillna(0,inplace=True)\n",
    "data['Viewable_Percent']=data['Viewable_Percent'].replace(np.inf,0)\n",
    "\n",
    "# Some data issues may cause negative values or values above 1\n",
    "# For negative values, change to 0\n",
    "# For values above 1, change to 1\n",
    "data['Viewable_Percent']=[0 if x<0 else x for x in data['Viewable_Percent']]\n",
    "data['Viewable_Percent']=[1 if x>1 else x for x in data['Viewable_Percent']]"
   ]
  },
  {
   "cell_type": "code",
   "execution_count": 79,
   "metadata": {
    "collapsed": false
   },
   "outputs": [
    {
     "name": "stdout",
     "output_type": "stream",
     "text": [
      "1.0\n",
      "0.0\n"
     ]
    }
   ],
   "source": [
    "print max(data['Viewable_Percent'])\n",
    "print min(data['Viewable_Percent'])"
   ]
  },
  {
   "cell_type": "code",
   "execution_count": 80,
   "metadata": {
    "collapsed": false
   },
   "outputs": [
    {
     "data": {
      "text/html": [
       "<div>\n",
       "<table border=\"1\" class=\"dataframe\">\n",
       "  <thead>\n",
       "    <tr style=\"text-align: right;\">\n",
       "      <th></th>\n",
       "      <th>Active_View_Viewable_Impressions</th>\n",
       "      <th>Active_View_Measurable_Impressions</th>\n",
       "      <th>Viewable_Percent</th>\n",
       "    </tr>\n",
       "  </thead>\n",
       "  <tbody>\n",
       "    <tr>\n",
       "      <th>2724085</th>\n",
       "      <td>0</td>\n",
       "      <td>0</td>\n",
       "      <td>0.0</td>\n",
       "    </tr>\n",
       "    <tr>\n",
       "      <th>2648956</th>\n",
       "      <td>2</td>\n",
       "      <td>4</td>\n",
       "      <td>0.5</td>\n",
       "    </tr>\n",
       "    <tr>\n",
       "      <th>1896920</th>\n",
       "      <td>4</td>\n",
       "      <td>8</td>\n",
       "      <td>0.5</td>\n",
       "    </tr>\n",
       "    <tr>\n",
       "      <th>2046039</th>\n",
       "      <td>6</td>\n",
       "      <td>20</td>\n",
       "      <td>0.3</td>\n",
       "    </tr>\n",
       "    <tr>\n",
       "      <th>2202346</th>\n",
       "      <td>1</td>\n",
       "      <td>1</td>\n",
       "      <td>1.0</td>\n",
       "    </tr>\n",
       "  </tbody>\n",
       "</table>\n",
       "</div>"
      ],
      "text/plain": [
       "         Active_View_Viewable_Impressions  Active_View_Measurable_Impressions  \\\n",
       "2724085                                 0                                   0   \n",
       "2648956                                 2                                   4   \n",
       "1896920                                 4                                   8   \n",
       "2046039                                 6                                  20   \n",
       "2202346                                 1                                   1   \n",
       "\n",
       "         Viewable_Percent  \n",
       "2724085               0.0  \n",
       "2648956               0.5  \n",
       "1896920               0.5  \n",
       "2046039               0.3  \n",
       "2202346               1.0  "
      ]
     },
     "execution_count": 80,
     "metadata": {},
     "output_type": "execute_result"
    }
   ],
   "source": [
    "data[['Active_View_Viewable_Impressions','Active_View_Measurable_Impressions','Viewable_Percent']].sample(5)"
   ]
  },
  {
   "cell_type": "code",
   "execution_count": 81,
   "metadata": {
    "collapsed": false
   },
   "outputs": [],
   "source": [
    "# Re-prepare the Features dataset\n",
    "# Keep only the features we found are important in our L1 regularization in our first model\n",
    "# Replace time features with new ones\n",
    "features=kept_coeff['Features'].tolist() + ['Viewable_Percent'] \n",
    "X=data[features]\n",
    "\n",
    "# Split into Train/Test (random state ensures same breakdown)\n",
    "X_train, X_test, y_train, y_test = train_test_split(X,y,test_size=0.2,random_state=7)\n",
    "\n",
    "# Standardization: bring all of our features onto the same scale\n",
    "X_train_std = stdsc.fit_transform(X_train)\n",
    "X_test_std = stdsc.transform(X_test)"
   ]
  },
  {
   "cell_type": "code",
   "execution_count": 82,
   "metadata": {
    "collapsed": false
   },
   "outputs": [
    {
     "name": "stdout",
     "output_type": "stream",
     "text": [
      "CPU times: user 5min 50s, sys: 25.1 s, total: 6min 15s\n",
      "Wall time: 6min 15s\n"
     ]
    }
   ],
   "source": [
    "%%time\n",
    "logregL1 = LogisticRegression(penalty='l1')\n",
    "parameters = {'C': [0.001,0.05,0.1,0.3,0.5]}\n",
    "clf = GridSearchCV(logregL1, parameters, cv=cv,scoring=\"roc_auc\")\n",
    "clf.fit(pd.DataFrame(X_train_std), pd.Series(y_train))   #turning into pandas dataframe or series prevents an error"
   ]
  },
  {
   "cell_type": "code",
   "execution_count": 83,
   "metadata": {
    "collapsed": false
   },
   "outputs": [
    {
     "name": "stdout",
     "output_type": "stream",
     "text": [
      "Best model parameters are: {'C': 0.05}\n",
      "Best AUC model score is: 0.733110067906\n"
     ]
    }
   ],
   "source": [
    "print \"Best model parameters are: {}\".format(clf.best_params_)\n",
    "print \"Best AUC model score is: {}\".format(clf.best_score_)"
   ]
  },
  {
   "cell_type": "code",
   "execution_count": 87,
   "metadata": {
    "collapsed": false
   },
   "outputs": [
    {
     "data": {
      "text/html": [
       "<div>\n",
       "<table border=\"1\" class=\"dataframe\">\n",
       "  <thead>\n",
       "    <tr style=\"text-align: right;\">\n",
       "      <th></th>\n",
       "      <th>Coefficients</th>\n",
       "      <th>Features</th>\n",
       "    </tr>\n",
       "  </thead>\n",
       "  <tbody>\n",
       "    <tr>\n",
       "      <th>0</th>\n",
       "      <td>0.064722</td>\n",
       "      <td>TimeDiff_Minutes</td>\n",
       "    </tr>\n",
       "    <tr>\n",
       "      <th>1</th>\n",
       "      <td>-0.396829</td>\n",
       "      <td>Funnel_Middle_Imp</td>\n",
       "    </tr>\n",
       "    <tr>\n",
       "      <th>2</th>\n",
       "      <td>0.054921</td>\n",
       "      <td>Funnel_Lower_Imp</td>\n",
       "    </tr>\n",
       "    <tr>\n",
       "      <th>3</th>\n",
       "      <td>0.085190</td>\n",
       "      <td>Campaign_Message_Family_Travel_Imp</td>\n",
       "    </tr>\n",
       "    <tr>\n",
       "      <th>4</th>\n",
       "      <td>0.006752</td>\n",
       "      <td>Campaign_Card_Cash_Rewards_Imp</td>\n",
       "    </tr>\n",
       "    <tr>\n",
       "      <th>5</th>\n",
       "      <td>-0.049593</td>\n",
       "      <td>Campaign_Card_Premium_Rewards_Imp</td>\n",
       "    </tr>\n",
       "    <tr>\n",
       "      <th>6</th>\n",
       "      <td>0.021681</td>\n",
       "      <td>Campaign_Card_Other_Imp</td>\n",
       "    </tr>\n",
       "    <tr>\n",
       "      <th>7</th>\n",
       "      <td>-0.042019</td>\n",
       "      <td>Creative_Size_320x50_Imp</td>\n",
       "    </tr>\n",
       "    <tr>\n",
       "      <th>8</th>\n",
       "      <td>0.006210</td>\n",
       "      <td>Creative_Size_320x420_Imp</td>\n",
       "    </tr>\n",
       "    <tr>\n",
       "      <th>9</th>\n",
       "      <td>0.129397</td>\n",
       "      <td>Device_Desktop_Imp</td>\n",
       "    </tr>\n",
       "    <tr>\n",
       "      <th>10</th>\n",
       "      <td>-0.079052</td>\n",
       "      <td>Device_Other_Imp</td>\n",
       "    </tr>\n",
       "    <tr>\n",
       "      <th>11</th>\n",
       "      <td>-0.094715</td>\n",
       "      <td>Device_Mobile_Imp</td>\n",
       "    </tr>\n",
       "    <tr>\n",
       "      <th>12</th>\n",
       "      <td>0.011106</td>\n",
       "      <td>Clicks</td>\n",
       "    </tr>\n",
       "    <tr>\n",
       "      <th>13</th>\n",
       "      <td>-0.147503</td>\n",
       "      <td>TimeDiff_NULL_FLAG</td>\n",
       "    </tr>\n",
       "    <tr>\n",
       "      <th>14</th>\n",
       "      <td>0.000000</td>\n",
       "      <td>Viewable_Percent</td>\n",
       "    </tr>\n",
       "  </tbody>\n",
       "</table>\n",
       "</div>"
      ],
      "text/plain": [
       "    Coefficients                            Features\n",
       "0       0.064722                    TimeDiff_Minutes\n",
       "1      -0.396829                   Funnel_Middle_Imp\n",
       "2       0.054921                    Funnel_Lower_Imp\n",
       "3       0.085190  Campaign_Message_Family_Travel_Imp\n",
       "4       0.006752      Campaign_Card_Cash_Rewards_Imp\n",
       "5      -0.049593   Campaign_Card_Premium_Rewards_Imp\n",
       "6       0.021681             Campaign_Card_Other_Imp\n",
       "7      -0.042019            Creative_Size_320x50_Imp\n",
       "8       0.006210           Creative_Size_320x420_Imp\n",
       "9       0.129397                  Device_Desktop_Imp\n",
       "10     -0.079052                    Device_Other_Imp\n",
       "11     -0.094715                   Device_Mobile_Imp\n",
       "12      0.011106                              Clicks\n",
       "13     -0.147503                  TimeDiff_NULL_FLAG\n",
       "14      0.000000                    Viewable_Percent"
      ]
     },
     "execution_count": 87,
     "metadata": {},
     "output_type": "execute_result"
    }
   ],
   "source": [
    "best_coeff=pd.DataFrame({'Features':X.columns,\n",
    "                         'Coefficients':clf.best_estimator_.coef_[0]})\n",
    "best_coeff"
   ]
  },
  {
   "cell_type": "markdown",
   "metadata": {},
   "source": [
    "**Notes:**\n",
    "* The new feature did not make it past regularization"
   ]
  },
  {
   "cell_type": "markdown",
   "metadata": {},
   "source": [
    "### 4. Alternative Creative Size Representation\n",
    "Instead of using each creative as a feature, we can represent the creatives by Small,Medium, and Large. Create two new features as the **summation** of other creative size features.  We are using summation because each feature represents the impresions from that creative size, so if we group them together, we can sum the impressions.\n",
    "\n",
    "* **Small Creative Sizes:**\n",
    "    * Creative_Size_300x50_Imp\n",
    "    * Creative_Size_320x50_Imp\n",
    "    * Creative_Size_468x60_Imp\n",
    "* **Medium Creative Sizes:**\n",
    "    * Creative_Size_160x600_Imp\n",
    "    * Creative_Size_300x250_Imp\n",
    "    * Creative_Size_728x90_Imp\n",
    "* **Large Creative Sizes:**\n",
    "    * Creative_Size_300x600_Imp\n",
    "    * Creative_Size_320x420_Imp\n",
    "    * Creative_Size_320x480_Imp\n",
    "    * Creative_Size_480x320_Imp\n",
    "* **Creative_Size_Uknown_Imp**"
   ]
  },
  {
   "cell_type": "code",
   "execution_count": 123,
   "metadata": {
    "collapsed": false
   },
   "outputs": [],
   "source": [
    "# Create new features\n",
    "data['Creative_Small'] = data['Creative_Size_300x50_Imp'] + data['Creative_Size_468x60_Imp'] \\\n",
    "                        +data['Creative_Size_320x50_Imp']\n",
    "data['Creative_Medium'] = data['Creative_Size_160x600_Imp'] + data['Creative_Size_300x250_Imp']  \\\n",
    "                        + data['Creative_Size_728x90_Imp']\n",
    "data['Creative_Large'] = data['Creative_Size_300x600_Imp'] + data['Creative_Size_320x420_Imp'] \\\n",
    "                        + data['Creative_Size_320x480_Imp'] + data['Creative_Size_480x320_Imp']"
   ]
  },
  {
   "cell_type": "code",
   "execution_count": 124,
   "metadata": {
    "collapsed": true
   },
   "outputs": [],
   "source": [
    "# Re-prepare the Features dataset\n",
    "# Keep only the features we found are important in our L1 regularization in our first model\n",
    "# Replace creative size features with new ones\n",
    "features=kept_coeff['Features'].tolist() + ['Creative_Small','Creative_Medium','Creative_Large',\n",
    "                                            'Creative_Size_Uknown_Imp']\n",
    "X=data[features]\n",
    "X=X.drop(['Creative_Size_728x90_Imp','Creative_Size_300x600_Imp','Creative_Size_300x250_Imp',\n",
    "         'Creative_Size_160x600_Imp','Creative_Size_468x60_Imp','Creative_Size_300x50_Imp',\n",
    "         'Creative_Size_320x420_Imp','Creative_Size_480x320_Imp','Creative_Size_320x480_Imp',\n",
    "         'Creative_Size_320x50_Imp'],\n",
    "       axis=1,\n",
    "       errors='ignore')\n",
    "\n",
    "# Split into Train/Test (random state ensures same breakdown)\n",
    "X_train, X_test, y_train, y_test = train_test_split(X,y,test_size=0.2,random_state=7)\n",
    "\n",
    "# Standardization: bring all of our features onto the same scale\n",
    "X_train_std = stdsc.fit_transform(X_train)\n",
    "X_test_std = stdsc.transform(X_test)"
   ]
  },
  {
   "cell_type": "code",
   "execution_count": 125,
   "metadata": {
    "collapsed": false
   },
   "outputs": [
    {
     "name": "stdout",
     "output_type": "stream",
     "text": [
      "CPU times: user 6min 48s, sys: 26 s, total: 7min 14s\n",
      "Wall time: 7min 14s\n"
     ]
    }
   ],
   "source": [
    "%%time\n",
    "logregL1 = LogisticRegression(penalty='l1')\n",
    "parameters = {'C': [0.001,0.05,0.1,0.3,0.5]}\n",
    "clf = GridSearchCV(logregL1, parameters, cv=cv,scoring=\"roc_auc\")\n",
    "clf.fit(pd.DataFrame(X_train_std), pd.Series(y_train))   #turning into pandas dataframe or series prevents an error"
   ]
  },
  {
   "cell_type": "code",
   "execution_count": 126,
   "metadata": {
    "collapsed": false
   },
   "outputs": [
    {
     "name": "stdout",
     "output_type": "stream",
     "text": [
      "Best model parameters are: {'C': 0.05}\n",
      "Best AUC model score is: 0.733389193866\n"
     ]
    }
   ],
   "source": [
    "print \"Best model parameters are: {}\".format(clf.best_params_)\n",
    "print \"Best AUC model score is: {}\".format(clf.best_score_)"
   ]
  },
  {
   "cell_type": "code",
   "execution_count": 127,
   "metadata": {
    "collapsed": false
   },
   "outputs": [
    {
     "data": {
      "text/html": [
       "<div>\n",
       "<table border=\"1\" class=\"dataframe\">\n",
       "  <thead>\n",
       "    <tr style=\"text-align: right;\">\n",
       "      <th></th>\n",
       "      <th>Coefficients</th>\n",
       "      <th>Features</th>\n",
       "    </tr>\n",
       "  </thead>\n",
       "  <tbody>\n",
       "    <tr>\n",
       "      <th>0</th>\n",
       "      <td>0.064237</td>\n",
       "      <td>TimeDiff_Minutes</td>\n",
       "    </tr>\n",
       "    <tr>\n",
       "      <th>1</th>\n",
       "      <td>-0.398032</td>\n",
       "      <td>Funnel_Middle_Imp</td>\n",
       "    </tr>\n",
       "    <tr>\n",
       "      <th>2</th>\n",
       "      <td>0.053679</td>\n",
       "      <td>Funnel_Lower_Imp</td>\n",
       "    </tr>\n",
       "    <tr>\n",
       "      <th>3</th>\n",
       "      <td>0.083942</td>\n",
       "      <td>Campaign_Message_Family_Travel_Imp</td>\n",
       "    </tr>\n",
       "    <tr>\n",
       "      <th>4</th>\n",
       "      <td>0.008109</td>\n",
       "      <td>Campaign_Card_Cash_Rewards_Imp</td>\n",
       "    </tr>\n",
       "    <tr>\n",
       "      <th>5</th>\n",
       "      <td>-0.051690</td>\n",
       "      <td>Campaign_Card_Premium_Rewards_Imp</td>\n",
       "    </tr>\n",
       "    <tr>\n",
       "      <th>6</th>\n",
       "      <td>0.021762</td>\n",
       "      <td>Campaign_Card_Other_Imp</td>\n",
       "    </tr>\n",
       "    <tr>\n",
       "      <th>7</th>\n",
       "      <td>0.131341</td>\n",
       "      <td>Device_Desktop_Imp</td>\n",
       "    </tr>\n",
       "    <tr>\n",
       "      <th>8</th>\n",
       "      <td>-0.078691</td>\n",
       "      <td>Device_Other_Imp</td>\n",
       "    </tr>\n",
       "    <tr>\n",
       "      <th>9</th>\n",
       "      <td>-0.106923</td>\n",
       "      <td>Device_Mobile_Imp</td>\n",
       "    </tr>\n",
       "    <tr>\n",
       "      <th>10</th>\n",
       "      <td>0.011111</td>\n",
       "      <td>Clicks</td>\n",
       "    </tr>\n",
       "    <tr>\n",
       "      <th>11</th>\n",
       "      <td>-0.147322</td>\n",
       "      <td>TimeDiff_NULL_FLAG</td>\n",
       "    </tr>\n",
       "    <tr>\n",
       "      <th>12</th>\n",
       "      <td>-0.013871</td>\n",
       "      <td>Creative_Small</td>\n",
       "    </tr>\n",
       "    <tr>\n",
       "      <th>13</th>\n",
       "      <td>0.000000</td>\n",
       "      <td>Creative_Medium</td>\n",
       "    </tr>\n",
       "    <tr>\n",
       "      <th>14</th>\n",
       "      <td>0.000000</td>\n",
       "      <td>Creative_Large</td>\n",
       "    </tr>\n",
       "    <tr>\n",
       "      <th>15</th>\n",
       "      <td>0.000000</td>\n",
       "      <td>Creative_Size_Uknown_Imp</td>\n",
       "    </tr>\n",
       "  </tbody>\n",
       "</table>\n",
       "</div>"
      ],
      "text/plain": [
       "    Coefficients                            Features\n",
       "0       0.064237                    TimeDiff_Minutes\n",
       "1      -0.398032                   Funnel_Middle_Imp\n",
       "2       0.053679                    Funnel_Lower_Imp\n",
       "3       0.083942  Campaign_Message_Family_Travel_Imp\n",
       "4       0.008109      Campaign_Card_Cash_Rewards_Imp\n",
       "5      -0.051690   Campaign_Card_Premium_Rewards_Imp\n",
       "6       0.021762             Campaign_Card_Other_Imp\n",
       "7       0.131341                  Device_Desktop_Imp\n",
       "8      -0.078691                    Device_Other_Imp\n",
       "9      -0.106923                   Device_Mobile_Imp\n",
       "10      0.011111                              Clicks\n",
       "11     -0.147322                  TimeDiff_NULL_FLAG\n",
       "12     -0.013871                      Creative_Small\n",
       "13      0.000000                     Creative_Medium\n",
       "14      0.000000                      Creative_Large\n",
       "15      0.000000            Creative_Size_Uknown_Imp"
      ]
     },
     "execution_count": 127,
     "metadata": {},
     "output_type": "execute_result"
    }
   ],
   "source": [
    "best_coeff=pd.DataFrame({'Features':X.columns,\n",
    "                         'Coefficients':clf.best_estimator_.coef_[0]})\n",
    "best_coeff"
   ]
  },
  {
   "cell_type": "markdown",
   "metadata": {},
   "source": [
    "**Notes:**\n",
    "* AUC slightly improved from 0.7311 to 0.7334 (minimal difference)\n",
    "* The only new feature that was included was **Creative_Small**, with slightly negative influence, which may be reasonable.\n",
    "* This representation is slightly more intuitive, perhaps keep this one."
   ]
  },
  {
   "cell_type": "markdown",
   "metadata": {},
   "source": [
    "## Final Model (Including New Features)\n",
    "Based on our exploration of new features, we will try include the following additional features to our model.\n",
    "* New TimeDiff Features\n",
    "* New Creative Size Features"
   ]
  },
  {
   "cell_type": "markdown",
   "metadata": {},
   "source": [
    "#### Find Best Model"
   ]
  },
  {
   "cell_type": "code",
   "execution_count": null,
   "metadata": {
    "collapsed": false
   },
   "outputs": [],
   "source": [
    "features=[\n",
    "'Funnel_Middle_Imp',\n",
    "'Funnel_Lower_Imp',\n",
    "'Campaign_Message_Family_Travel_Imp',\n",
    "'Campaign_Card_Cash_Rewards_Imp',\n",
    "'Campaign_Card_Premium_Rewards_Imp',\n",
    "'Campaign_Card_Other_Imp',\n",
    "'Device_Desktop_Imp',\n",
    "'Device_Other_Imp',\n",
    "'Device_Mobile_Imp',\n",
    "'Clicks',\n",
    "'TimeDiff_One_Day','TimeDiff_1to7_Days','TimeDiff_7plus',\n",
    "'Creative_Small','Creative_Medium','Creative_Large','Creative_Size_Uknown_Imp'\n",
    "]"
   ]
  },
  {
   "cell_type": "code",
   "execution_count": null,
   "metadata": {
    "collapsed": false
   },
   "outputs": [],
   "source": [
    "X=data[features]\n",
    "\n",
    "# Split into Train/Test (random state ensures same breakdown)\n",
    "X_train, X_test, y_train, y_test = train_test_split(X,y,test_size=0.2,random_state=7)\n",
    "\n",
    "# Standardization: bring all of our features onto the same scale\n",
    "X_train_std = stdsc.fit_transform(X_train)\n",
    "X_test_std = stdsc.transform(X_test)"
   ]
  },
  {
   "cell_type": "code",
   "execution_count": null,
   "metadata": {
    "collapsed": false
   },
   "outputs": [],
   "source": [
    "%%time\n",
    "logregL1 = LogisticRegression()\n",
    "parameters = {'C': [0.001,0.05,0.1,0.3,0.5],\n",
    "              'penalty':['l1']}\n",
    "clf = GridSearchCV(logregL1, parameters, cv=cv,scoring=\"roc_auc\")\n",
    "clf.fit(pd.DataFrame(X_train_std), pd.Series(y_train))   #turning into pandas dataframe or series prevents an error"
   ]
  },
  {
   "cell_type": "code",
   "execution_count": null,
   "metadata": {
    "collapsed": false
   },
   "outputs": [],
   "source": [
    "print \"Best model parameters are: {}\".format(clf.best_params_)\n",
    "print \"Best AUC model score is: {}\".format(clf.best_score_)"
   ]
  },
  {
   "cell_type": "code",
   "execution_count": null,
   "metadata": {
    "collapsed": false
   },
   "outputs": [],
   "source": [
    "best_coeff=pd.DataFrame({'Features':X.columns,\n",
    "                         'Coefficients':clf.best_estimator_.coef_[0]})\n",
    "best_coeff"
   ]
  },
  {
   "cell_type": "markdown",
   "metadata": {},
   "source": [
    "#### Intuitive Explanation of Features"
   ]
  },
  {
   "cell_type": "code",
   "execution_count": 148,
   "metadata": {
    "collapsed": false,
    "scrolled": false
   },
   "outputs": [
    {
     "data": {
      "text/html": [
       "<div>\n",
       "<table border=\"1\" class=\"dataframe\">\n",
       "  <thead>\n",
       "    <tr style=\"text-align: right;\">\n",
       "      <th></th>\n",
       "      <th>Coefficients</th>\n",
       "      <th>Features</th>\n",
       "      <th>OddsRatio</th>\n",
       "    </tr>\n",
       "  </thead>\n",
       "  <tbody>\n",
       "    <tr>\n",
       "      <th>0</th>\n",
       "      <td>-0.014915</td>\n",
       "      <td>Funnel_Middle_Imp</td>\n",
       "      <td>0.985195</td>\n",
       "    </tr>\n",
       "    <tr>\n",
       "      <th>1</th>\n",
       "      <td>0.013501</td>\n",
       "      <td>Funnel_Lower_Imp</td>\n",
       "      <td>1.013592</td>\n",
       "    </tr>\n",
       "    <tr>\n",
       "      <th>2</th>\n",
       "      <td>0.004699</td>\n",
       "      <td>Campaign_Message_Family_Travel_Imp</td>\n",
       "      <td>1.004710</td>\n",
       "    </tr>\n",
       "    <tr>\n",
       "      <th>3</th>\n",
       "      <td>0.002376</td>\n",
       "      <td>Campaign_Card_Cash_Rewards_Imp</td>\n",
       "      <td>1.002379</td>\n",
       "    </tr>\n",
       "    <tr>\n",
       "      <th>4</th>\n",
       "      <td>-0.002568</td>\n",
       "      <td>Campaign_Card_Premium_Rewards_Imp</td>\n",
       "      <td>0.997436</td>\n",
       "    </tr>\n",
       "    <tr>\n",
       "      <th>5</th>\n",
       "      <td>0.009297</td>\n",
       "      <td>Campaign_Card_Other_Imp</td>\n",
       "      <td>1.009340</td>\n",
       "    </tr>\n",
       "    <tr>\n",
       "      <th>6</th>\n",
       "      <td>0.005772</td>\n",
       "      <td>Device_Desktop_Imp</td>\n",
       "      <td>1.005788</td>\n",
       "    </tr>\n",
       "    <tr>\n",
       "      <th>7</th>\n",
       "      <td>-0.007537</td>\n",
       "      <td>Device_Other_Imp</td>\n",
       "      <td>0.992491</td>\n",
       "    </tr>\n",
       "    <tr>\n",
       "      <th>8</th>\n",
       "      <td>-0.003880</td>\n",
       "      <td>Device_Mobile_Imp</td>\n",
       "      <td>0.996127</td>\n",
       "    </tr>\n",
       "    <tr>\n",
       "      <th>9</th>\n",
       "      <td>0.006900</td>\n",
       "      <td>Clicks</td>\n",
       "      <td>1.006924</td>\n",
       "    </tr>\n",
       "    <tr>\n",
       "      <th>10</th>\n",
       "      <td>-0.006070</td>\n",
       "      <td>TimeDiff_NULL_FLAG</td>\n",
       "      <td>0.993948</td>\n",
       "    </tr>\n",
       "    <tr>\n",
       "      <th>11</th>\n",
       "      <td>-0.003212</td>\n",
       "      <td>Upper_and_Lower</td>\n",
       "      <td>0.996793</td>\n",
       "    </tr>\n",
       "    <tr>\n",
       "      <th>12</th>\n",
       "      <td>-0.001722</td>\n",
       "      <td>Upper_and_Middle</td>\n",
       "      <td>0.998280</td>\n",
       "    </tr>\n",
       "    <tr>\n",
       "      <th>13</th>\n",
       "      <td>-0.003543</td>\n",
       "      <td>Middle_Lower</td>\n",
       "      <td>0.996464</td>\n",
       "    </tr>\n",
       "    <tr>\n",
       "      <th>14</th>\n",
       "      <td>0.001492</td>\n",
       "      <td>Upper_Middle_Lower</td>\n",
       "      <td>1.001493</td>\n",
       "    </tr>\n",
       "    <tr>\n",
       "      <th>15</th>\n",
       "      <td>-0.001620</td>\n",
       "      <td>TimeDiff_One_Day</td>\n",
       "      <td>0.998381</td>\n",
       "    </tr>\n",
       "    <tr>\n",
       "      <th>16</th>\n",
       "      <td>0.004706</td>\n",
       "      <td>TimeDiff_1to7_Days</td>\n",
       "      <td>1.004717</td>\n",
       "    </tr>\n",
       "    <tr>\n",
       "      <th>17</th>\n",
       "      <td>0.006133</td>\n",
       "      <td>TimeDiff_7plus</td>\n",
       "      <td>1.006152</td>\n",
       "    </tr>\n",
       "    <tr>\n",
       "      <th>18</th>\n",
       "      <td>-0.002678</td>\n",
       "      <td>Creative_Small</td>\n",
       "      <td>0.997325</td>\n",
       "    </tr>\n",
       "    <tr>\n",
       "      <th>19</th>\n",
       "      <td>-0.000077</td>\n",
       "      <td>Creative_Medium</td>\n",
       "      <td>0.999923</td>\n",
       "    </tr>\n",
       "    <tr>\n",
       "      <th>20</th>\n",
       "      <td>0.000241</td>\n",
       "      <td>Creative_Large</td>\n",
       "      <td>1.000241</td>\n",
       "    </tr>\n",
       "    <tr>\n",
       "      <th>21</th>\n",
       "      <td>0.005885</td>\n",
       "      <td>Creative_Size_Uknown_Imp</td>\n",
       "      <td>1.005902</td>\n",
       "    </tr>\n",
       "  </tbody>\n",
       "</table>\n",
       "</div>"
      ],
      "text/plain": [
       "    Coefficients                            Features  OddsRatio\n",
       "0      -0.014915                   Funnel_Middle_Imp   0.985195\n",
       "1       0.013501                    Funnel_Lower_Imp   1.013592\n",
       "2       0.004699  Campaign_Message_Family_Travel_Imp   1.004710\n",
       "3       0.002376      Campaign_Card_Cash_Rewards_Imp   1.002379\n",
       "4      -0.002568   Campaign_Card_Premium_Rewards_Imp   0.997436\n",
       "5       0.009297             Campaign_Card_Other_Imp   1.009340\n",
       "6       0.005772                  Device_Desktop_Imp   1.005788\n",
       "7      -0.007537                    Device_Other_Imp   0.992491\n",
       "8      -0.003880                   Device_Mobile_Imp   0.996127\n",
       "9       0.006900                              Clicks   1.006924\n",
       "10     -0.006070                  TimeDiff_NULL_FLAG   0.993948\n",
       "11     -0.003212                     Upper_and_Lower   0.996793\n",
       "12     -0.001722                    Upper_and_Middle   0.998280\n",
       "13     -0.003543                        Middle_Lower   0.996464\n",
       "14      0.001492                  Upper_Middle_Lower   1.001493\n",
       "15     -0.001620                    TimeDiff_One_Day   0.998381\n",
       "16      0.004706                  TimeDiff_1to7_Days   1.004717\n",
       "17      0.006133                      TimeDiff_7plus   1.006152\n",
       "18     -0.002678                      Creative_Small   0.997325\n",
       "19     -0.000077                     Creative_Medium   0.999923\n",
       "20      0.000241                      Creative_Large   1.000241\n",
       "21      0.005885            Creative_Size_Uknown_Imp   1.005902"
      ]
     },
     "execution_count": 148,
     "metadata": {},
     "output_type": "execute_result"
    }
   ],
   "source": [
    "# Calculate Odds Ratios \n",
    "# For intuitive understanding of coefficients\n",
    "#kept_coeff['Odds_Ratios']=\n",
    "final_features=pd.concat([final_features,final_features['Coefficients'].apply(np.exp)],axis=1)\n",
    "final_features.columns=['Coefficients','Features','OddsRatio']\n",
    "final_features"
   ]
  },
  {
   "cell_type": "markdown",
   "metadata": {},
   "source": [
    "**Interpretation**\n",
    "For every standard deviation increase of 1 in the feature, there is the following increase in the odds for applying for a credit card:\n",
    "\n",
    "Feature|Odds Improvment w/<br>Std Dev Increase of 1\n",
    "-------|:-----:\n",
    "TimeDiff_Minutes|6.69%\n",
    "Funnel_Middle_Imp|-32.76%\n",
    "Funnel_Lower_Imp|5.65%\n",
    "Campaign_Message_Family_Travel_Imp|8.89%\n",
    "Campaign_Card_Cash_Rewards_Imp|0.68%\n",
    "Campaign_Card_Premium_Rewards_Imp|-4.84%\n",
    "Campaign_Card_Other_Imp|2.19%\n",
    "Creative_Size_320x50_Imp|-4.11%\n",
    "Creative_Size_320x420_Imp|0.62%\n",
    "Device_Desktop_Imp|13.82%\n",
    "Device_Other_Imp|-7.60%\n",
    "Device_Mobile_Imp|-9.04%\n",
    "Clicks|1.12%\n",
    "TimeDiff_NULL_FLAG|-13.71%\n",
    "\n",
    "**Domain-Knowledge Notes**\n",
    "* It's interesting how much negative impact impressios to middle funnel has.  The potential explanation for this is that users that are being reached with middle-funnel campaigns are already less likely to be convert (compared to users who are already engaged with the client's brand and being reached with lower funnel campaigns).  It is still valuable to include this feature as it captures the difficulty converting users higher up in the marketing funnel.\n",
    "* An longer time between first and last impressions has a positive impact, possibly because being reminded about the credit card over a longer time-period allows the user to evaluate the need for the credit card.  It also makes sense that there's a penalty for when users only have 1 impression (TimeDiff_NULL_FLAG)\n",
    "* The Family Travel Message influence the most positively, we should review the ad creative and message for possible best practices.\n",
    "* Desktop impressions have the greatest positive influence.  One potential limiation/cause is because our users are in fact \"unique cookies\", so if a user saw ads on a mobile device, but switched to their desktop to apply for the credit, then we would not be able to see that in our data.  This may be causing a bias in our dataset that we should be aware of.\n",
    "* It's interesting how small the influence is from Clicks"
   ]
  },
  {
   "cell_type": "markdown",
   "metadata": {},
   "source": [
    "#### Draw Learning Curve"
   ]
  },
  {
   "cell_type": "code",
   "execution_count": null,
   "metadata": {
    "collapsed": true
   },
   "outputs": [],
   "source": []
  },
  {
   "cell_type": "markdown",
   "metadata": {},
   "source": [
    "#### Plot ROC/AUC on Test Dataset (Reference Point)"
   ]
  },
  {
   "cell_type": "code",
   "execution_count": null,
   "metadata": {
    "collapsed": true
   },
   "outputs": [],
   "source": []
  },
  {
   "cell_type": "markdown",
   "metadata": {},
   "source": [
    "#### Draw Relationship X & Y vs Probabilty to Apply for Credit Card"
   ]
  },
  {
   "cell_type": "code",
   "execution_count": null,
   "metadata": {
    "collapsed": true
   },
   "outputs": [],
   "source": []
  },
  {
   "cell_type": "markdown",
   "metadata": {},
   "source": [
    "## Business Metrics on Final Model"
   ]
  },
  {
   "cell_type": "markdown",
   "metadata": {},
   "source": [
    "With our final model, we now want to determine **ROI** and **Net Value** at various thresholds for the probability to convert for which we'd be willing to spend on our ad campaign.  We will use these graphs to determine the threshold that maximizes **Net Value**."
   ]
  },
  {
   "cell_type": "code",
   "execution_count": null,
   "metadata": {
    "collapsed": false
   },
   "outputs": [],
   "source": [
    "roc_df = pd.DataFrame({'thresholds':thresholds,\n",
    "                       'tpr':tpr,\n",
    "                       'fpr':fpr}, columns=['thresholds','tpr','fpr'])\n",
    "roc_df.head()"
   ]
  },
  {
   "cell_type": "code",
   "execution_count": null,
   "metadata": {
    "collapsed": false
   },
   "outputs": [],
   "source": [
    "#Get Threshold at various tpr and fpr\n",
    "breakouts=100\n",
    "roc_cuts=None\n",
    "roc_cuts=pd.DataFrame()\n",
    "for i in range(0,breakouts):\n",
    "    threshold_cut = i/float(breakouts)+0.1\n",
    "    temp=roc_df[roc_df['tpr']<=threshold_cut].sort_values(by='thresholds',ascending=True).head(1)\n",
    "    roc_cuts=pd.concat([roc_cuts,temp])\n",
    "roc_cuts"
   ]
  },
  {
   "cell_type": "code",
   "execution_count": null,
   "metadata": {
    "collapsed": false
   },
   "outputs": [],
   "source": [
    "#ROI benchmark\n",
    "# Get baseline value of campaign AS IS\n",
    "# Baseline scenario is we go after ALL the users in the dataset\n",
    "# Value of credit card application=$500\n",
    "# Avg cost of reaching user=$0.033827\n",
    "ROI(y=y_test,\n",
    "    y_pred=np.ones(y_test.size),  #predicting all will convert (or worthwhile going after)\n",
    "    app_value=500,\n",
    "    avg_user_cost=0.033827)"
   ]
  },
  {
   "cell_type": "code",
   "execution_count": null,
   "metadata": {
    "collapsed": false
   },
   "outputs": [],
   "source": [
    "%%time\n",
    "#breakouts=10\n",
    "#ROI_results=pd.DataFrame()\n",
    "#for i in range(0,breakouts):\n",
    "#    threshold_cut = i/10.+0.1\n",
    "#    roc_cuts=pd.concat([roc_cuts,temp])\n",
    "#roc_cuts\n",
    "\n",
    "ROIs=[]\n",
    "Net_Values=[]\n",
    "\n",
    "for i in range(0,breakouts):\n",
    "    prob_threshold=roc_cuts.iloc[i,0]\n",
    "    scores = best_logreg.predict_proba(X_test_std)[:,1]\n",
    "    y_pred = [1 if x>=prob_threshold else 0 for x in scores]\n",
    "    \n",
    "    ROIs.append(ROI(y=y_test,y_pred=y_pred,app_value=500,avg_user_cost=0.033827))\n",
    "    Net_Values.append(Net_Value(y=y_test,y_pred=y_pred,app_value=500,avg_user_cost=0.033827))"
   ]
  },
  {
   "cell_type": "code",
   "execution_count": null,
   "metadata": {
    "collapsed": false
   },
   "outputs": [],
   "source": [
    "value_df=pd.DataFrame({'Thresholds':roc_cuts['thresholds'],\n",
    "                       'tpr':roc_cuts['tpr'],\n",
    "                       'fpr':roc_cuts['fpr'],\n",
    "                       'ROI':ROIs,\n",
    "                       'Net_Value':Net_Values})\n",
    "\n",
    "\n",
    "value_df"
   ]
  },
  {
   "cell_type": "code",
   "execution_count": null,
   "metadata": {
    "collapsed": false
   },
   "outputs": [],
   "source": [
    "fig, ax1 = plt.subplots()\n",
    "ax1.plot(value_df['Thresholds'],value_df['ROI'])\n",
    "\n",
    "\n",
    "#ax1.plot(t, s1, 'b-')\n",
    "#ax1.set_xlabel('time (s)')\n",
    "# Make the y-axis label, ticks and tick labels match the line color.\n",
    "#ax1.set_ylabel('exp', color='b')\n",
    "#ax1.tick_params('y', colors='b')\n",
    "\n",
    "ax2 = ax1.twinx()\n",
    "ax2.plot(value_df['Thresholds'],value_df['Net_Value'])\n",
    "\n",
    "#s2 = np.sin(2 * np.pi * t)\n",
    "#ax2.plot(t, s2, 'r.')\n",
    "#ax2.set_ylabel('sin', color='r')\n",
    "#ax2.tick_params('y', colors='r')\n",
    "\n",
    "fig.tight_layout()"
   ]
  },
  {
   "cell_type": "code",
   "execution_count": null,
   "metadata": {
    "collapsed": false
   },
   "outputs": [],
   "source": [
    "plt.plot(value_df['tpr'],value_df['Net_Value']);"
   ]
  },
  {
   "cell_type": "code",
   "execution_count": null,
   "metadata": {
    "collapsed": false
   },
   "outputs": [],
   "source": [
    "plt.plot(value_df['tpr'],value_df['ROI']);"
   ]
  },
  {
   "cell_type": "code",
   "execution_count": null,
   "metadata": {
    "collapsed": true
   },
   "outputs": [],
   "source": []
  },
  {
   "cell_type": "markdown",
   "metadata": {},
   "source": [
    "## Conclusion\n",
    "\n",
    "Final model with XX AUC, is a Fair predictor\n",
    "\n",
    "Our original call was to determine which features of the ads shown to users influence their likelihood to apply for a credit card.  The the most influential features were:\n",
    "\n",
    "\n",
    "Some surpising results were that the following features were not included in our model:\n",
    "* dsf\n",
    "\n",
    "Also surprising were the negative coefficients for these features:\n",
    "\n",
    "\n",
    "\n",
    "Based on our learning curve, it is possile that we are seeing a lot of bias due to noise in our data.  One potential way to address this is to find new features that are more predictive of the credit card applications.  We could try more feature engineering, but I would also plan to use additinal features we did not have available for this data (which could be possible in the feature), such as:\n",
    "* What \"audience\" is a user from\n",
    "* What site was the ad seen on:\n",
    "    * Site category\n",
    "    * Site quality (In Comscore's top 1000 sites?)\n",
    "* "
   ]
  }
 ],
 "metadata": {
  "anaconda-cloud": {},
  "kernelspec": {
   "display_name": "Python [default]",
   "language": "python",
   "name": "python2"
  },
  "language_info": {
   "codemirror_mode": {
    "name": "ipython",
    "version": 2
   },
   "file_extension": ".py",
   "mimetype": "text/x-python",
   "name": "python",
   "nbconvert_exporter": "python",
   "pygments_lexer": "ipython2",
   "version": "2.7.12"
  }
 },
 "nbformat": 4,
 "nbformat_minor": 1
}
