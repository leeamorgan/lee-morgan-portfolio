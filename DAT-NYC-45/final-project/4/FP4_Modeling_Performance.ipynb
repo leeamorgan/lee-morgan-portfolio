{
 "cells": [
  {
   "cell_type": "markdown",
   "metadata": {},
   "source": [
    "## Summary of exploratory data analysis"
   ]
  },
  {
   "cell_type": "markdown",
   "metadata": {
    "collapsed": true
   },
   "source": [
    "The bullets that matter:\n",
    "    "
   ]
  },
  {
   "cell_type": "markdown",
   "metadata": {},
   "source": [
    "## Approach\n",
    "* L1 logistic regression\n",
    "    * Reason is so that cofficients are understable and intuitive to non-technical audience\n",
    "    * L1 to reduce features due to correlations identified in EDA\n",
    "* GridSearch on C value\n",
    "    * Use AUC metric, as a metric for the quality of the resulting signal of **predicted probabilities** to apply for a credit card\n",
    "    *  we will use AUC to evaluate the quality of our models with `gridsearchcv` as signal to identify converters\n",
    "    * Plot ROC to visualize\n",
    "* Experiment/Feature Engineering\n",
    "    * Based on above, remove the features identified by L1 LogReg before trying to add new features to experiment\n",
    "    * Funnel Halo Effect\n",
    "    * Categorical for Time Diff\n",
    "    * % Viewable Impressions\n",
    "* Business Performance Metrics\n",
    "    * Baseline will be provided for the campaign that ran in Q4 (see details more below)\n",
    "    * Model can be compared to this by using or model signal to \n"
   ]
  },
  {
   "cell_type": "markdown",
   "metadata": {},
   "source": [
    "## Define Business Performance Metrics\n",
    "\n",
    "While we will use AUC to evaluate the quality of our models with `gridsearchcv`, we also want to caclulate performance business performance metrics of **ROI** and **Net Value**, as defined below.  Our focus will be to increase **Net Value** from an ad campaign, but we will also calculate ROI for reference.\n",
    "\n",
    "To calculate these metrics, we need define how we will interpret the confusion matrix:\n",
    "\n",
    "|True Class: Positive|True Class: Negative\n",
    "------------------------------|:-------------:|:-------------:\n",
    "**Predicted Class: Positive** |True Positives |False Positives\n",
    "**Predicted Class: Negative** |False Negatives|True Negatives\n",
    "\n",
    "Since we plan to use our model to predict how we should design our ad campaigns, we can interpret the predicted class to help us identify whether or not we'd like to reach users in a similar way:\n",
    "* Positive: Signal to spend on user because of high likelihood to convert\n",
    "* Negative: Signal to **not** spend on user\n",
    "For example, if we predict a positive class for an observation in our dataset that was reached by 10 video ads and 15 display ads, we would plan on spend on similar users like this.\n",
    "\n",
    "Based on this interpretation, we can develope a cost-benefit methodology based on the confusion matrix:\n",
    "\n",
    "|True Class: Positive|True Class: Negative\n",
    "-----------------------------|:------------------------------------------:|:-------------:\n",
    "**Predicted Class Positive** |Application Value<br>- Cost of Reaching User|-Cost of Reaching User\n",
    "**Predicted Class Negative** |0|0\n",
    "**Assumptions**\n",
    "* **ApplicationValue** = \\$500 (The average value of a credit card application)\n",
    "* **ReachCost** = \\$0.033827 (The average cost of reaching a single user for our campaign)\n",
    "\n",
    "\n",
    "Using this interpretation allows us define the following **ROI** and **Net Value** functions:\n",
    "\n",
    "\\begin{equation*}\n",
    "ROI = \\frac{Total Value}{Total Cost} - 1\n",
    "\\end{equation*}\n",
    "\n",
    "\\begin{equation*}\n",
    "Net Value = Total Value - Total Cost\n",
    "\\end{equation*}\n",
    "\n",
    "\\begin{equation*}\n",
    "Total Value = ApplicationValue * TP\n",
    "\\end{equation*}\n",
    "\n",
    "\\begin{equation*}\n",
    "Total Cost = ReachCost * (TP + FP)\n",
    "\\end{equation*}\n",
    "\n",
    "Once we have determined our best estimator with AUC and `gridsearchsv`, we can then tune our **threshold** for a postive signal based on the predicted probability from our logistic regression model.  We will tune the **threshold** to maximize **Net Value**."
   ]
  },
  {
   "cell_type": "markdown",
   "metadata": {},
   "source": [
    "## Important Data and Data Cleaning"
   ]
  },
  {
   "cell_type": "code",
   "execution_count": 1,
   "metadata": {
    "collapsed": true
   },
   "outputs": [],
   "source": [
    "import pandas as pd\n",
    "import numpy as np\n",
    "import seaborn as sb\n",
    "import matplotlib.pyplot as plt\n",
    "from sklearn.metrics import make_scorer\n",
    "from sklearn.metrics import confusion_matrix\n",
    "from sklearn.linear_model import LogisticRegression\n",
    "from sklearn.model_selection import ShuffleSplit\n",
    "from sklearn.model_selection import train_test_split\n",
    "from sklearn.preprocessing import StandardScaler\n",
    "from sklearn.metrics import roc_curve, auc\n",
    "%matplotlib inline"
   ]
  },
  {
   "cell_type": "code",
   "execution_count": 2,
   "metadata": {
    "collapsed": false
   },
   "outputs": [
    {
     "data": {
      "text/html": [
       "<div>\n",
       "<table border=\"1\" class=\"dataframe\">\n",
       "  <thead>\n",
       "    <tr style=\"text-align: right;\">\n",
       "      <th></th>\n",
       "      <th>User_ID</th>\n",
       "      <th>Impressions</th>\n",
       "      <th>TimeDiff_Minutes</th>\n",
       "      <th>TimeDiff_Minutes_AVG</th>\n",
       "      <th>Funnel_Upper_Imp</th>\n",
       "      <th>Funnel_Middle_Imp</th>\n",
       "      <th>Funnel_Lower_Imp</th>\n",
       "      <th>Campaign_Message_Travel_Imp</th>\n",
       "      <th>Campaign_Message_Service_Imp</th>\n",
       "      <th>Campaign_Message_Family_Travel_Imp</th>\n",
       "      <th>...</th>\n",
       "      <th>Creative_Size_320x480_Imp</th>\n",
       "      <th>Creative_Size_Uknown_Imp</th>\n",
       "      <th>Device_Desktop_Imp</th>\n",
       "      <th>Device_Other_Imp</th>\n",
       "      <th>Device_Mobile_Imp</th>\n",
       "      <th>Active_View_Eligible_Impressions</th>\n",
       "      <th>Active_View_Measurable_Impressions</th>\n",
       "      <th>Active_View_Viewable_Impressions</th>\n",
       "      <th>Clicks</th>\n",
       "      <th>Conversions</th>\n",
       "    </tr>\n",
       "  </thead>\n",
       "  <tbody>\n",
       "    <tr>\n",
       "      <th>0</th>\n",
       "      <td>AMsySZb5URoHQAqFtc2yx7eWq2AQ</td>\n",
       "      <td>4</td>\n",
       "      <td>9.0</td>\n",
       "      <td>3.000000</td>\n",
       "      <td>0</td>\n",
       "      <td>4</td>\n",
       "      <td>0</td>\n",
       "      <td>0</td>\n",
       "      <td>0</td>\n",
       "      <td>0</td>\n",
       "      <td>...</td>\n",
       "      <td>0</td>\n",
       "      <td>0</td>\n",
       "      <td>4</td>\n",
       "      <td>0</td>\n",
       "      <td>0</td>\n",
       "      <td>4</td>\n",
       "      <td>4</td>\n",
       "      <td>1</td>\n",
       "      <td>NaN</td>\n",
       "      <td>NaN</td>\n",
       "    </tr>\n",
       "    <tr>\n",
       "      <th>1</th>\n",
       "      <td>AMsySZZBemBdfIkICNi3QoUi495D</td>\n",
       "      <td>2</td>\n",
       "      <td>39.0</td>\n",
       "      <td>39.000000</td>\n",
       "      <td>0</td>\n",
       "      <td>2</td>\n",
       "      <td>0</td>\n",
       "      <td>0</td>\n",
       "      <td>0</td>\n",
       "      <td>0</td>\n",
       "      <td>...</td>\n",
       "      <td>0</td>\n",
       "      <td>0</td>\n",
       "      <td>2</td>\n",
       "      <td>0</td>\n",
       "      <td>0</td>\n",
       "      <td>2</td>\n",
       "      <td>2</td>\n",
       "      <td>2</td>\n",
       "      <td>NaN</td>\n",
       "      <td>NaN</td>\n",
       "    </tr>\n",
       "    <tr>\n",
       "      <th>2</th>\n",
       "      <td>AMsySZYC0gKN-GlCxK2WHC9VbmRV</td>\n",
       "      <td>4</td>\n",
       "      <td>301.0</td>\n",
       "      <td>100.333333</td>\n",
       "      <td>0</td>\n",
       "      <td>4</td>\n",
       "      <td>0</td>\n",
       "      <td>0</td>\n",
       "      <td>0</td>\n",
       "      <td>0</td>\n",
       "      <td>...</td>\n",
       "      <td>0</td>\n",
       "      <td>0</td>\n",
       "      <td>4</td>\n",
       "      <td>0</td>\n",
       "      <td>0</td>\n",
       "      <td>4</td>\n",
       "      <td>4</td>\n",
       "      <td>3</td>\n",
       "      <td>NaN</td>\n",
       "      <td>NaN</td>\n",
       "    </tr>\n",
       "    <tr>\n",
       "      <th>3</th>\n",
       "      <td>AMsySZZYuKRxsvW7VFSOGRWlsYZ6</td>\n",
       "      <td>1</td>\n",
       "      <td>NaN</td>\n",
       "      <td>NaN</td>\n",
       "      <td>0</td>\n",
       "      <td>1</td>\n",
       "      <td>0</td>\n",
       "      <td>0</td>\n",
       "      <td>0</td>\n",
       "      <td>0</td>\n",
       "      <td>...</td>\n",
       "      <td>0</td>\n",
       "      <td>0</td>\n",
       "      <td>0</td>\n",
       "      <td>0</td>\n",
       "      <td>1</td>\n",
       "      <td>0</td>\n",
       "      <td>0</td>\n",
       "      <td>0</td>\n",
       "      <td>NaN</td>\n",
       "      <td>NaN</td>\n",
       "    </tr>\n",
       "    <tr>\n",
       "      <th>4</th>\n",
       "      <td>AMsySZarmBmNJttVh1RdvZNlN7d5</td>\n",
       "      <td>3</td>\n",
       "      <td>103.0</td>\n",
       "      <td>51.500000</td>\n",
       "      <td>0</td>\n",
       "      <td>3</td>\n",
       "      <td>0</td>\n",
       "      <td>0</td>\n",
       "      <td>0</td>\n",
       "      <td>0</td>\n",
       "      <td>...</td>\n",
       "      <td>0</td>\n",
       "      <td>0</td>\n",
       "      <td>3</td>\n",
       "      <td>0</td>\n",
       "      <td>0</td>\n",
       "      <td>3</td>\n",
       "      <td>3</td>\n",
       "      <td>1</td>\n",
       "      <td>NaN</td>\n",
       "      <td>NaN</td>\n",
       "    </tr>\n",
       "    <tr>\n",
       "      <th>5</th>\n",
       "      <td>AMsySZZF6A8-Mo46fGpuijpIL7cP</td>\n",
       "      <td>1</td>\n",
       "      <td>NaN</td>\n",
       "      <td>NaN</td>\n",
       "      <td>1</td>\n",
       "      <td>0</td>\n",
       "      <td>0</td>\n",
       "      <td>1</td>\n",
       "      <td>0</td>\n",
       "      <td>0</td>\n",
       "      <td>...</td>\n",
       "      <td>0</td>\n",
       "      <td>1</td>\n",
       "      <td>0</td>\n",
       "      <td>1</td>\n",
       "      <td>0</td>\n",
       "      <td>0</td>\n",
       "      <td>0</td>\n",
       "      <td>0</td>\n",
       "      <td>NaN</td>\n",
       "      <td>NaN</td>\n",
       "    </tr>\n",
       "    <tr>\n",
       "      <th>6</th>\n",
       "      <td>AMsySZaOxWidhMNLX5hVPrNdHPc7</td>\n",
       "      <td>1</td>\n",
       "      <td>NaN</td>\n",
       "      <td>NaN</td>\n",
       "      <td>0</td>\n",
       "      <td>1</td>\n",
       "      <td>0</td>\n",
       "      <td>0</td>\n",
       "      <td>0</td>\n",
       "      <td>0</td>\n",
       "      <td>...</td>\n",
       "      <td>0</td>\n",
       "      <td>0</td>\n",
       "      <td>0</td>\n",
       "      <td>0</td>\n",
       "      <td>1</td>\n",
       "      <td>0</td>\n",
       "      <td>0</td>\n",
       "      <td>0</td>\n",
       "      <td>NaN</td>\n",
       "      <td>NaN</td>\n",
       "    </tr>\n",
       "    <tr>\n",
       "      <th>7</th>\n",
       "      <td>AMsySZYY1IxHAlXNUPDIIleOGYBu</td>\n",
       "      <td>3</td>\n",
       "      <td>1.0</td>\n",
       "      <td>0.500000</td>\n",
       "      <td>0</td>\n",
       "      <td>3</td>\n",
       "      <td>0</td>\n",
       "      <td>0</td>\n",
       "      <td>0</td>\n",
       "      <td>0</td>\n",
       "      <td>...</td>\n",
       "      <td>0</td>\n",
       "      <td>0</td>\n",
       "      <td>3</td>\n",
       "      <td>0</td>\n",
       "      <td>0</td>\n",
       "      <td>3</td>\n",
       "      <td>2</td>\n",
       "      <td>2</td>\n",
       "      <td>NaN</td>\n",
       "      <td>NaN</td>\n",
       "    </tr>\n",
       "    <tr>\n",
       "      <th>8</th>\n",
       "      <td>AMsySZaGCfGA6E4bWakJjek7gQQo</td>\n",
       "      <td>1</td>\n",
       "      <td>NaN</td>\n",
       "      <td>NaN</td>\n",
       "      <td>0</td>\n",
       "      <td>1</td>\n",
       "      <td>0</td>\n",
       "      <td>1</td>\n",
       "      <td>0</td>\n",
       "      <td>0</td>\n",
       "      <td>...</td>\n",
       "      <td>0</td>\n",
       "      <td>0</td>\n",
       "      <td>1</td>\n",
       "      <td>0</td>\n",
       "      <td>0</td>\n",
       "      <td>1</td>\n",
       "      <td>1</td>\n",
       "      <td>0</td>\n",
       "      <td>NaN</td>\n",
       "      <td>NaN</td>\n",
       "    </tr>\n",
       "    <tr>\n",
       "      <th>9</th>\n",
       "      <td>AMsySZb1P1fsmv4REnCL0Ah_9Hcl</td>\n",
       "      <td>2</td>\n",
       "      <td>4.0</td>\n",
       "      <td>4.000000</td>\n",
       "      <td>2</td>\n",
       "      <td>0</td>\n",
       "      <td>0</td>\n",
       "      <td>1</td>\n",
       "      <td>1</td>\n",
       "      <td>0</td>\n",
       "      <td>...</td>\n",
       "      <td>0</td>\n",
       "      <td>2</td>\n",
       "      <td>2</td>\n",
       "      <td>0</td>\n",
       "      <td>0</td>\n",
       "      <td>0</td>\n",
       "      <td>0</td>\n",
       "      <td>0</td>\n",
       "      <td>NaN</td>\n",
       "      <td>NaN</td>\n",
       "    </tr>\n",
       "  </tbody>\n",
       "</table>\n",
       "<p>10 rows × 36 columns</p>\n",
       "</div>"
      ],
      "text/plain": [
       "                        User_ID  Impressions  TimeDiff_Minutes  \\\n",
       "0  AMsySZb5URoHQAqFtc2yx7eWq2AQ            4               9.0   \n",
       "1  AMsySZZBemBdfIkICNi3QoUi495D            2              39.0   \n",
       "2  AMsySZYC0gKN-GlCxK2WHC9VbmRV            4             301.0   \n",
       "3  AMsySZZYuKRxsvW7VFSOGRWlsYZ6            1               NaN   \n",
       "4  AMsySZarmBmNJttVh1RdvZNlN7d5            3             103.0   \n",
       "5  AMsySZZF6A8-Mo46fGpuijpIL7cP            1               NaN   \n",
       "6  AMsySZaOxWidhMNLX5hVPrNdHPc7            1               NaN   \n",
       "7  AMsySZYY1IxHAlXNUPDIIleOGYBu            3               1.0   \n",
       "8  AMsySZaGCfGA6E4bWakJjek7gQQo            1               NaN   \n",
       "9  AMsySZb1P1fsmv4REnCL0Ah_9Hcl            2               4.0   \n",
       "\n",
       "   TimeDiff_Minutes_AVG  Funnel_Upper_Imp  Funnel_Middle_Imp  \\\n",
       "0              3.000000                 0                  4   \n",
       "1             39.000000                 0                  2   \n",
       "2            100.333333                 0                  4   \n",
       "3                   NaN                 0                  1   \n",
       "4             51.500000                 0                  3   \n",
       "5                   NaN                 1                  0   \n",
       "6                   NaN                 0                  1   \n",
       "7              0.500000                 0                  3   \n",
       "8                   NaN                 0                  1   \n",
       "9              4.000000                 2                  0   \n",
       "\n",
       "   Funnel_Lower_Imp  Campaign_Message_Travel_Imp  \\\n",
       "0                 0                            0   \n",
       "1                 0                            0   \n",
       "2                 0                            0   \n",
       "3                 0                            0   \n",
       "4                 0                            0   \n",
       "5                 0                            1   \n",
       "6                 0                            0   \n",
       "7                 0                            0   \n",
       "8                 0                            1   \n",
       "9                 0                            1   \n",
       "\n",
       "   Campaign_Message_Service_Imp  Campaign_Message_Family_Travel_Imp  \\\n",
       "0                             0                                   0   \n",
       "1                             0                                   0   \n",
       "2                             0                                   0   \n",
       "3                             0                                   0   \n",
       "4                             0                                   0   \n",
       "5                             0                                   0   \n",
       "6                             0                                   0   \n",
       "7                             0                                   0   \n",
       "8                             0                                   0   \n",
       "9                             1                                   0   \n",
       "\n",
       "      ...       Creative_Size_320x480_Imp  Creative_Size_Uknown_Imp  \\\n",
       "0     ...                               0                         0   \n",
       "1     ...                               0                         0   \n",
       "2     ...                               0                         0   \n",
       "3     ...                               0                         0   \n",
       "4     ...                               0                         0   \n",
       "5     ...                               0                         1   \n",
       "6     ...                               0                         0   \n",
       "7     ...                               0                         0   \n",
       "8     ...                               0                         0   \n",
       "9     ...                               0                         2   \n",
       "\n",
       "   Device_Desktop_Imp  Device_Other_Imp  Device_Mobile_Imp  \\\n",
       "0                   4                 0                  0   \n",
       "1                   2                 0                  0   \n",
       "2                   4                 0                  0   \n",
       "3                   0                 0                  1   \n",
       "4                   3                 0                  0   \n",
       "5                   0                 1                  0   \n",
       "6                   0                 0                  1   \n",
       "7                   3                 0                  0   \n",
       "8                   1                 0                  0   \n",
       "9                   2                 0                  0   \n",
       "\n",
       "   Active_View_Eligible_Impressions  Active_View_Measurable_Impressions  \\\n",
       "0                                 4                                   4   \n",
       "1                                 2                                   2   \n",
       "2                                 4                                   4   \n",
       "3                                 0                                   0   \n",
       "4                                 3                                   3   \n",
       "5                                 0                                   0   \n",
       "6                                 0                                   0   \n",
       "7                                 3                                   2   \n",
       "8                                 1                                   1   \n",
       "9                                 0                                   0   \n",
       "\n",
       "   Active_View_Viewable_Impressions  Clicks  Conversions  \n",
       "0                                 1     NaN          NaN  \n",
       "1                                 2     NaN          NaN  \n",
       "2                                 3     NaN          NaN  \n",
       "3                                 0     NaN          NaN  \n",
       "4                                 1     NaN          NaN  \n",
       "5                                 0     NaN          NaN  \n",
       "6                                 0     NaN          NaN  \n",
       "7                                 2     NaN          NaN  \n",
       "8                                 0     NaN          NaN  \n",
       "9                                 0     NaN          NaN  \n",
       "\n",
       "[10 rows x 36 columns]"
      ]
     },
     "execution_count": 2,
     "metadata": {},
     "output_type": "execute_result"
    }
   ],
   "source": [
    "#data = pd.read_csv('../data/DATA_FOR_MODEL_20perc.csv', sep=',')\n",
    "data = pd.read_csv('../data/DATA_FOR_MODEL_FULL.csv', sep=',')\n",
    "data.head(10)"
   ]
  },
  {
   "cell_type": "markdown",
   "metadata": {},
   "source": [
    "## Handle Missing Data"
   ]
  },
  {
   "cell_type": "code",
   "execution_count": 3,
   "metadata": {
    "collapsed": false
   },
   "outputs": [],
   "source": [
    "# For Clicks,Conversion, convert NULL values to zero\n",
    "data['Clicks'].fillna(value=0,inplace=True)\n",
    "data['Conversions'].fillna(value=0,inplace=True)\n",
    "\n",
    "# Create a new categorical variable Converted, which will be 1 if the the user converted at least once, \n",
    "# and 0 if the user did not convert.\n",
    "data['Converted'] = pd.Categorical([1 if x>0 else 0 for x in data['Conversions']])\n",
    "\n",
    "# For TimeDiff_Minutes and TimeDiff_AVG, it is NULL when we only have 1 impression\n",
    "# For now, replace with the median value and then add columns flagging the rows where we did this\n",
    "# We will explore other options for handling this data in the feature engineering section\n",
    "data['TimeDiff_NULL_FLAG'] = pd.Categorical(data['TimeDiff_Minutes'].isnull())\n",
    "\n",
    "data['TimeDiff_Minutes'].fillna(value=data['TimeDiff_Minutes'].median(),inplace=True)\n",
    "data['TimeDiff_Minutes_AVG'].fillna(value=data['TimeDiff_Minutes_AVG'].median(),inplace=True)"
   ]
  },
  {
   "cell_type": "code",
   "execution_count": 4,
   "metadata": {
    "collapsed": false,
    "scrolled": true
   },
   "outputs": [
    {
     "data": {
      "text/plain": [
       "User_ID                                 0\n",
       "Impressions                             0\n",
       "TimeDiff_Minutes                        0\n",
       "TimeDiff_Minutes_AVG                    0\n",
       "Funnel_Upper_Imp                        0\n",
       "Funnel_Middle_Imp                       0\n",
       "Funnel_Lower_Imp                        0\n",
       "Campaign_Message_Travel_Imp             0\n",
       "Campaign_Message_Service_Imp            0\n",
       "Campaign_Message_Family_Travel_Imp      0\n",
       "Campaign_Card_Cash_Rewards_Imp          0\n",
       "Campaign_Card_Premium_Rewards_Imp       0\n",
       "Campaign_Card_Other_Imp                 0\n",
       "Creative_Type_Display_Imp               0\n",
       "Creative_Type_TrueView_Imp              0\n",
       "Creative_Type_RichMediaExpanding_Imp    0\n",
       "Creative_Type_RichMedia_Imp             0\n",
       "Creative_Size_728x90_Imp                0\n",
       "Creative_Size_300x600_Imp               0\n",
       "Creative_Size_300x250_Imp               0\n",
       "Creative_Size_160x600_Imp               0\n",
       "Creative_Size_468x60_Imp                0\n",
       "Creative_Size_300x50_Imp                0\n",
       "Creative_Size_320x50_Imp                0\n",
       "Creative_Size_320x420_Imp               0\n",
       "Creative_Size_480x320_Imp               0\n",
       "Creative_Size_320x480_Imp               0\n",
       "Creative_Size_Uknown_Imp                0\n",
       "Device_Desktop_Imp                      0\n",
       "Device_Other_Imp                        0\n",
       "Device_Mobile_Imp                       0\n",
       "Active_View_Eligible_Impressions        0\n",
       "Active_View_Measurable_Impressions      0\n",
       "Active_View_Viewable_Impressions        0\n",
       "Clicks                                  0\n",
       "Conversions                             0\n",
       "Converted                               0\n",
       "TimeDiff_NULL_FLAG                      0\n",
       "dtype: int64"
      ]
     },
     "execution_count": 4,
     "metadata": {},
     "output_type": "execute_result"
    }
   ],
   "source": [
    "# confirm not nulls left dataset\n",
    "data.isnull().sum()"
   ]
  },
  {
   "cell_type": "code",
   "execution_count": 5,
   "metadata": {
    "collapsed": false
   },
   "outputs": [
    {
     "data": {
      "text/plain": [
       "count    1.517734e+07\n",
       "mean     4.881202e+00\n",
       "std      1.534301e+01\n",
       "min      1.000000e+00\n",
       "25%      1.000000e+00\n",
       "50%      2.000000e+00\n",
       "75%      3.000000e+00\n",
       "max      5.600000e+03\n",
       "Name: Impressions, dtype: float64"
      ]
     },
     "execution_count": 5,
     "metadata": {},
     "output_type": "execute_result"
    }
   ],
   "source": [
    "#Show the distribution of impressions (should affect all other rows features based on exploratory analysis)\n",
    "data['Impressions'].describe()"
   ]
  },
  {
   "cell_type": "code",
   "execution_count": 6,
   "metadata": {
    "collapsed": false
   },
   "outputs": [
    {
     "name": "stdout",
     "output_type": "stream",
     "text": [
      "5600\n",
      "50\n"
     ]
    }
   ],
   "source": [
    "#Remove outliers (users with more than ~50 impressions, 3 standard devs above the mean of 4.9 impressions)\n",
    "print max(data['Impressions'])\n",
    "data = data[data['Impressions']<=50]\n",
    "print max(data['Impressions'])"
   ]
  },
  {
   "cell_type": "code",
   "execution_count": 7,
   "metadata": {
    "collapsed": false
   },
   "outputs": [],
   "source": [
    "X=data.drop(['User_ID','Conversions','Converted'],axis=1)\n",
    "y=data['Converted']"
   ]
  },
  {
   "cell_type": "markdown",
   "metadata": {},
   "source": [
    "## Business Performance Functions and Baseline Benchmark"
   ]
  },
  {
   "cell_type": "code",
   "execution_count": 9,
   "metadata": {
    "collapsed": true
   },
   "outputs": [],
   "source": [
    "# Define ROI function\n",
    "# *See section \"Define Business Performance Metrics\" for more details\n",
    "def ROI(y,y_pred,app_value,avg_user_cost):\n",
    "    tn, fp, fn, tp = confusion_matrix(y_true=y, y_pred=y_pred).ravel()\n",
    "    \n",
    "    total_value=float(tp*app_value)\n",
    "    total_cost=float((tp+fp)*avg_user_cost)\n",
    "    ROI=total_value/total_cost-1\n",
    "    \n",
    "    return ROI"
   ]
  },
  {
   "cell_type": "code",
   "execution_count": 10,
   "metadata": {
    "collapsed": true
   },
   "outputs": [],
   "source": [
    "# Define New Value function\n",
    "# *See section \"Define Business Performance Metrics\" for more details\n",
    "def Net_Value(y,y_pred,app_value,avg_user_cost):\n",
    "    tn, fp, fn, tp = confusion_matrix(y_true=y, y_pred=y_pred).ravel()\n",
    "    \n",
    "    total_value=float(tp*app_value)\n",
    "    total_cost=float((tp+fp)*avg_user_cost)\n",
    "    Net_Value=total_value-total_cost\n",
    "    \n",
    "    return Net_Value"
   ]
  },
  {
   "cell_type": "markdown",
   "metadata": {},
   "source": [
    "#### Basline Performance\n",
    "Get baseline performance by assuming our classified producted \"1\" (or \"positive\") for all of our dataset observations."
   ]
  },
  {
   "cell_type": "code",
   "execution_count": 12,
   "metadata": {
    "collapsed": false
   },
   "outputs": [],
   "source": [
    "# Assumptions:\n",
    "#    Value of credit card application=$500\n",
    "#    Avg cost of reaching a user=$0.033827\n",
    "ROI_benchmark = ROI(y=data['Converted'],\n",
    "                    y_pred=np.ones(data['Converted'].size),\n",
    "                    app_value=500,\n",
    "                    avg_user_cost=0.033827)\n",
    "Net_Value_benchmark = Net_Value(y=data['Converted'],\n",
    "                                y_pred=np.ones(data['Converted'].size),\n",
    "                                app_value=500,\n",
    "                                avg_user_cost=0.033827)"
   ]
  },
  {
   "cell_type": "markdown",
   "metadata": {},
   "source": [
    "plt."
   ]
  },
  {
   "cell_type": "code",
   "execution_count": null,
   "metadata": {
    "collapsed": true
   },
   "outputs": [],
   "source": [
    "# Convert ROI function into a model scorer\n",
    "# This factory function wraps scoring functions for use in GridSearchCV and cross_val_score\n",
    "ROI_scorer = make_scorer(ROI, app_value=500, avg_user_cost=0.033827, greater_is_better=True)"
   ]
  },
  {
   "cell_type": "markdown",
   "metadata": {},
   "source": [
    "## L1 Regressions (before new features)"
   ]
  },
  {
   "cell_type": "code",
   "execution_count": null,
   "metadata": {
    "collapsed": true
   },
   "outputs": [],
   "source": [
    "# Use L1 regularization with Logistic Regression to Identify Important/Non-Important variables"
   ]
  },
  {
   "cell_type": "code",
   "execution_count": null,
   "metadata": {
    "collapsed": false
   },
   "outputs": [],
   "source": [
    "# Split between train vs test\n",
    "#from sklearn.model_selection import train_test_split\n",
    "X_train, X_test, y_train, y_test = train_test_split(X,y,test_size=0.2,random_state=7)"
   ]
  },
  {
   "cell_type": "code",
   "execution_count": null,
   "metadata": {
    "collapsed": false
   },
   "outputs": [],
   "source": [
    "# standardization: bring all of our features onto the same scale\n",
    "# this makes it easier for ML algorithms to learn\n",
    "stdsc = StandardScaler()\n",
    "# transform our training features\n",
    "X_train_std = stdsc.fit_transform(X_train)\n",
    "# transform the testing features in the same way\n",
    "X_test_std = stdsc.transform(X_test)"
   ]
  },
  {
   "cell_type": "code",
   "execution_count": null,
   "metadata": {
    "collapsed": true
   },
   "outputs": [],
   "source": [
    "# 20 cross validation iterations with 30% test / 70% train\n",
    "#from sklearn.model_selection import ShuffleSplit\n",
    "cv = ShuffleSplit(n_splits=5, test_size=0.3, random_state=0)"
   ]
  },
  {
   "cell_type": "code",
   "execution_count": null,
   "metadata": {
    "collapsed": false
   },
   "outputs": [],
   "source": [
    "%%time\n",
    "from sklearn.model_selection import GridSearchCV\n",
    "# the parameters we want to search in a dictionary\n",
    "# use the parameter name from sklearn as the key\n",
    "# and the possible values you want to test as the values\n",
    "\n",
    "logregL1 = LogisticRegression(penalty='l1')\n",
    "parameters = {'C': [0.001,0.05,0.1,0.3,0.5]}\n",
    "clf = GridSearchCV(logregL1, parameters, cv=cv,scoring=\"roc_auc\")  #other options are \"recall\" an \"f1\"\n",
    "clf.fit(pd.DataFrame(X_train_std), pd.Series(y_train))   #turning into pandas dataframe or series prevents an issue"
   ]
  },
  {
   "cell_type": "code",
   "execution_count": null,
   "metadata": {
    "collapsed": false
   },
   "outputs": [],
   "source": [
    "print clf.best_params_, clf.best_score_"
   ]
  },
  {
   "cell_type": "code",
   "execution_count": null,
   "metadata": {
    "collapsed": false
   },
   "outputs": [],
   "source": [
    "clf.cv_results_"
   ]
  },
  {
   "cell_type": "code",
   "execution_count": null,
   "metadata": {
    "collapsed": true
   },
   "outputs": [],
   "source": [
    "best_logreg = clf.best_estimator_"
   ]
  },
  {
   "cell_type": "code",
   "execution_count": null,
   "metadata": {
    "collapsed": false
   },
   "outputs": [],
   "source": [
    "# Look at coefficients that are zero\n",
    "#lgl1_coeff = pd.DataFrame(zip(X.columns,logreg.coef_),columns=['Features','Coefficients'])\n",
    "best_coeff=pd.DataFrame({'Features':X.columns,\n",
    "                         'Coefficients':best_logreg.coef_[0]})\n",
    "#lgl1_coeff"
   ]
  },
  {
   "cell_type": "code",
   "execution_count": null,
   "metadata": {
    "collapsed": false
   },
   "outputs": [],
   "source": [
    "#Show features with coefficients as zero\n",
    "best_coeff[best_coeff['Coefficients']==0]"
   ]
  },
  {
   "cell_type": "code",
   "execution_count": null,
   "metadata": {
    "collapsed": false
   },
   "outputs": [],
   "source": [
    "best_coeff[best_coeff['Coefficients']!=0]"
   ]
  },
  {
   "cell_type": "code",
   "execution_count": null,
   "metadata": {
    "collapsed": false
   },
   "outputs": [],
   "source": [
    "#ROC curve (change this to Test?)\n",
    "scores = best_logreg.predict_proba(X_test_std)[:,1]\n",
    "fpr, tpr, thresholds = roc_curve(y_test, scores)# pos_label=2)\n",
    "plt.plot(fpr,tpr)\n",
    "\n",
    "z=np.linspace(0,1,20)\n",
    "plt.plot(z,z);"
   ]
  },
  {
   "cell_type": "code",
   "execution_count": null,
   "metadata": {
    "collapsed": false
   },
   "outputs": [],
   "source": [
    "auc(fpr, tpr)"
   ]
  },
  {
   "cell_type": "code",
   "execution_count": null,
   "metadata": {
    "collapsed": false
   },
   "outputs": [],
   "source": [
    "#Distribution of predictions\n",
    "plt.hist(scores);"
   ]
  },
  {
   "cell_type": "code",
   "execution_count": null,
   "metadata": {
    "collapsed": false
   },
   "outputs": [],
   "source": [
    "#Distribution of predictions (Zoom in)\n",
    "max_in_chart=0.0003\n",
    "plt.hist(scores[scores<max_in_chart],bins=20);\n",
    "#plt.xlim(xmin=0,xmax=.005)"
   ]
  },
  {
   "cell_type": "code",
   "execution_count": null,
   "metadata": {
    "collapsed": false
   },
   "outputs": [],
   "source": [
    "scores.shape"
   ]
  },
  {
   "cell_type": "code",
   "execution_count": null,
   "metadata": {
    "collapsed": false
   },
   "outputs": [],
   "source": [
    "roc_df = pd.DataFrame({'thresholds':thresholds,\n",
    "                  'tpr':tpr,\n",
    "                  'fpr':fpr}, columns=['thresholds','tpr','fpr'])\n",
    "roc_df.head()"
   ]
  },
  {
   "cell_type": "code",
   "execution_count": null,
   "metadata": {
    "collapsed": false
   },
   "outputs": [],
   "source": [
    "#Get Threshold at various tpr and fpr\n",
    "breakouts=100\n",
    "roc_cuts=None\n",
    "roc_cuts=pd.DataFrame()\n",
    "for i in range(0,breakouts):\n",
    "    threshold_cut = i/float(breakouts)+0.1\n",
    "    temp=roc_df[roc_df['tpr']<=threshold_cut].sort_values(by='thresholds',ascending=True).head(1)\n",
    "    roc_cuts=pd.concat([roc_cuts,temp])\n",
    "roc_cuts"
   ]
  },
  {
   "cell_type": "code",
   "execution_count": null,
   "metadata": {
    "collapsed": false
   },
   "outputs": [],
   "source": [
    "#ROI benchmark\n",
    "# Get baseline value of campaign AS IS\n",
    "# Baseline scenario is we go after ALL the users in the dataset\n",
    "# Value of credit card application=$500\n",
    "# Avg cost of reaching user=$0.033827\n",
    "ROI(y=y_test,\n",
    "    y_pred=np.ones(y_test.size),  #predicting all will convert (or worthwhile going after)\n",
    "    app_value=500,\n",
    "    avg_user_cost=0.033827)"
   ]
  },
  {
   "cell_type": "code",
   "execution_count": null,
   "metadata": {
    "collapsed": false
   },
   "outputs": [],
   "source": [
    "%%time\n",
    "#breakouts=10\n",
    "#ROI_results=pd.DataFrame()\n",
    "#for i in range(0,breakouts):\n",
    "#    threshold_cut = i/10.+0.1\n",
    "#    roc_cuts=pd.concat([roc_cuts,temp])\n",
    "#roc_cuts\n",
    "\n",
    "ROIs=[]\n",
    "Net_Values=[]\n",
    "\n",
    "for i in range(0,breakouts):\n",
    "    prob_threshold=roc_cuts.iloc[i,0]\n",
    "    scores = best_logreg.predict_proba(X_test_std)[:,1]\n",
    "    y_pred = [1 if x>=prob_threshold else 0 for x in scores]\n",
    "    \n",
    "    ROIs.append(ROI(y=y_test,y_pred=y_pred,app_value=500,avg_user_cost=0.033827))\n",
    "    Net_Values.append(Net_Value(y=y_test,y_pred=y_pred,app_value=500,avg_user_cost=0.033827))"
   ]
  },
  {
   "cell_type": "code",
   "execution_count": null,
   "metadata": {
    "collapsed": false
   },
   "outputs": [],
   "source": [
    "value_df=pd.DataFrame({'Thresholds':roc_cuts['thresholds'],\n",
    "                       'tpr':roc_cuts['tpr'],\n",
    "                       'fpr':roc_cuts['fpr'],\n",
    "                       'ROI':ROIs,\n",
    "                       'Net_Value':Net_Values})\n",
    "\n",
    "\n",
    "value_df"
   ]
  },
  {
   "cell_type": "code",
   "execution_count": null,
   "metadata": {
    "collapsed": false
   },
   "outputs": [],
   "source": [
    "fig, ax1 = plt.subplots()\n",
    "ax1.plot(value_df['Thresholds'],value_df['ROI'])\n",
    "\n",
    "\n",
    "#ax1.plot(t, s1, 'b-')\n",
    "#ax1.set_xlabel('time (s)')\n",
    "# Make the y-axis label, ticks and tick labels match the line color.\n",
    "#ax1.set_ylabel('exp', color='b')\n",
    "#ax1.tick_params('y', colors='b')\n",
    "\n",
    "ax2 = ax1.twinx()\n",
    "ax2.plot(value_df['Thresholds'],value_df['Net_Value'])\n",
    "\n",
    "#s2 = np.sin(2 * np.pi * t)\n",
    "#ax2.plot(t, s2, 'r.')\n",
    "#ax2.set_ylabel('sin', color='r')\n",
    "#ax2.tick_params('y', colors='r')\n",
    "\n",
    "fig.tight_layout()"
   ]
  },
  {
   "cell_type": "code",
   "execution_count": null,
   "metadata": {
    "collapsed": false
   },
   "outputs": [],
   "source": [
    "plt.plot(value_df['tpr'],value_df['Net_Value']);"
   ]
  },
  {
   "cell_type": "code",
   "execution_count": null,
   "metadata": {
    "collapsed": false
   },
   "outputs": [],
   "source": [
    "plt.plot(value_df['tpr'],value_df['ROI']);"
   ]
  },
  {
   "cell_type": "code",
   "execution_count": null,
   "metadata": {
    "collapsed": true
   },
   "outputs": [],
   "source": [
    "#Print the distribution of scares by actual 1 or 0 on test data? (like in ROC yt video)"
   ]
  },
  {
   "cell_type": "code",
   "execution_count": null,
   "metadata": {
    "collapsed": true
   },
   "outputs": [],
   "source": []
  },
  {
   "cell_type": "code",
   "execution_count": null,
   "metadata": {
    "collapsed": true
   },
   "outputs": [],
   "source": []
  },
  {
   "cell_type": "code",
   "execution_count": null,
   "metadata": {
    "collapsed": true
   },
   "outputs": [],
   "source": []
  },
  {
   "cell_type": "code",
   "execution_count": null,
   "metadata": {
    "collapsed": false
   },
   "outputs": [],
   "source": [
    "#np.exp(-0.167144)"
   ]
  },
  {
   "cell_type": "code",
   "execution_count": null,
   "metadata": {
    "collapsed": false,
    "scrolled": true
   },
   "outputs": [],
   "source": [
    "X.describe().transpose()"
   ]
  },
  {
   "cell_type": "code",
   "execution_count": null,
   "metadata": {
    "collapsed": true
   },
   "outputs": [],
   "source": []
  }
 ],
 "metadata": {
  "anaconda-cloud": {},
  "kernelspec": {
   "display_name": "Python [default]",
   "language": "python",
   "name": "python2"
  },
  "language_info": {
   "codemirror_mode": {
    "name": "ipython",
    "version": 2
   },
   "file_extension": ".py",
   "mimetype": "text/x-python",
   "name": "python",
   "nbconvert_exporter": "python",
   "pygments_lexer": "ipython2",
   "version": "2.7.12"
  }
 },
 "nbformat": 4,
 "nbformat_minor": 1
}
