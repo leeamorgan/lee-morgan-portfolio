{
 "cells": [
  {
   "cell_type": "markdown",
   "metadata": {},
   "source": [
    "## Summary of exploratory data analysis"
   ]
  },
  {
   "cell_type": "markdown",
   "metadata": {
    "collapsed": true
   },
   "source": [
    "The bullets that matter:\n",
    "    "
   ]
  },
  {
   "cell_type": "markdown",
   "metadata": {},
   "source": [
    "## Approach\n",
    "* L1 logistic regression\n",
    "    * Reason is so that cofficients are understable and intuitive to non-technical audience\n",
    "    * L1 to reduce features due to correlations identified in EDA\n",
    "* GridSearch on C value\n",
    "    * Use AUC metric, as a metric for the quality of the resulting signal of **predicted probabilities** to apply for a credit card\n",
    "    *  we will use AUC to evaluate the quality of our models with `gridsearchcv` as signal to identify converters\n",
    "    * Plot ROC to visualize\n",
    "* Experiment/Feature Engineering\n",
    "    * Based on above, remove the features identified by L1 LogReg before trying to add new features to experiment\n",
    "    * Funnel Halo Effect\n",
    "    * Categorical for Time Diff\n",
    "    * % Viewable Impressions\n",
    "    * Frequency buckets?\n",
    "* Business Performance Metrics\n",
    "    * Baseline will be provided for the campaign that ran in Q4 (see details more below)\n",
    "    * Model can be compared to this by using or model signal to \n"
   ]
  },
  {
   "cell_type": "markdown",
   "metadata": {},
   "source": [
    "## Define Business Performance Metrics\n",
    "\n",
    "While we will use AUC to evaluate the quality of our models with `gridsearchcv`, we also want to caclulate performance business performance metrics of **ROI** and **Net Value**, as defined below.  Our focus will be to increase **Net Value** from an ad campaign, but we will also calculate ROI for reference.\n",
    "\n",
    "To calculate these metrics, we need define how we will interpret the confusion matrix:\n",
    "\n",
    "|True Class: Positive|True Class: Negative\n",
    "------------------------------|:-------------:|:-------------:\n",
    "**Predicted Class: Positive** |True Positives |False Positives\n",
    "**Predicted Class: Negative** |False Negatives|True Negatives\n",
    "\n",
    "Since we plan to use our model to predict how we should design our ad campaigns, we can interpret the predicted class to help us identify whether or not we'd like to reach users in a similar way:\n",
    "* Positive: Signal to spend on user because of high likelihood to convert\n",
    "* Negative: Signal to **not** spend on user\n",
    "For example, if we predict a positive class for an observation in our dataset that was reached by 10 video ads and 15 display ads, we would plan on spend on similar users like this.\n",
    "\n",
    "Based on this interpretation, we can develope a cost-benefit methodology based on the confusion matrix:\n",
    "\n",
    "|True Class: Positive|True Class: Negative\n",
    "-----------------------------|:------------------------------------------:|:-------------:\n",
    "**Predicted Class Positive** |Application Value<br>- Cost of Reaching User|-Cost of Reaching User\n",
    "**Predicted Class Negative** |0|0\n",
    "**Assumptions**\n",
    "* **ApplicationValue** = \\$500 (The average value of a credit card application)\n",
    "* **ReachCost** = \\$0.033827 (The average cost of reaching a single user for our campaign)\n",
    "\n",
    "\n",
    "Using this interpretation allows us define the following **ROI** and **Net Value** functions:\n",
    "\n",
    "\\begin{equation*}\n",
    "ROI = \\frac{Total Value}{Total Cost} - 1\n",
    "\\end{equation*}\n",
    "\n",
    "\\begin{equation*}\n",
    "Net Value = Total Value - Total Cost\n",
    "\\end{equation*}\n",
    "\n",
    "\\begin{equation*}\n",
    "Total Value = ApplicationValue * TP\n",
    "\\end{equation*}\n",
    "\n",
    "\\begin{equation*}\n",
    "Total Cost = ReachCost * (TP + FP)\n",
    "\\end{equation*}\n",
    "\n",
    "Once we have determined our best estimator with AUC and `gridsearchsv`, we can then tune our **threshold** for a postive signal based on the predicted probability from our logistic regression model.  We will tune the **threshold** to maximize **Net Value**."
   ]
  },
  {
   "cell_type": "markdown",
   "metadata": {},
   "source": [
    "## Important Data and Data Cleaning"
   ]
  },
  {
   "cell_type": "code",
   "execution_count": 1,
   "metadata": {
    "collapsed": true
   },
   "outputs": [],
   "source": [
    "import pandas as pd\n",
    "import numpy as np\n",
    "import seaborn as sb\n",
    "import matplotlib.pyplot as plt\n",
    "from sklearn.model_selection import train_test_split\n",
    "from sklearn.metrics import confusion_matrix\n",
    "from sklearn.preprocessing import StandardScaler\n",
    "from sklearn.model_selection import ShuffleSplit\n",
    "from sklearn.model_selection import GridSearchCV\n",
    "from sklearn.linear_model import LogisticRegression\n",
    "from sklearn.metrics import roc_curve, auc\n",
    "%matplotlib inline"
   ]
  },
  {
   "cell_type": "code",
   "execution_count": 2,
   "metadata": {
    "collapsed": false
   },
   "outputs": [
    {
     "data": {
      "text/html": [
       "<div>\n",
       "<table border=\"1\" class=\"dataframe\">\n",
       "  <thead>\n",
       "    <tr style=\"text-align: right;\">\n",
       "      <th></th>\n",
       "      <th>User_ID</th>\n",
       "      <th>Impressions</th>\n",
       "      <th>TimeDiff_Minutes</th>\n",
       "      <th>TimeDiff_Minutes_AVG</th>\n",
       "      <th>Funnel_Upper_Imp</th>\n",
       "      <th>Funnel_Middle_Imp</th>\n",
       "      <th>Funnel_Lower_Imp</th>\n",
       "      <th>Campaign_Message_Travel_Imp</th>\n",
       "      <th>Campaign_Message_Service_Imp</th>\n",
       "      <th>Campaign_Message_Family_Travel_Imp</th>\n",
       "      <th>...</th>\n",
       "      <th>Creative_Size_320x480_Imp</th>\n",
       "      <th>Creative_Size_Uknown_Imp</th>\n",
       "      <th>Device_Desktop_Imp</th>\n",
       "      <th>Device_Other_Imp</th>\n",
       "      <th>Device_Mobile_Imp</th>\n",
       "      <th>Active_View_Eligible_Impressions</th>\n",
       "      <th>Active_View_Measurable_Impressions</th>\n",
       "      <th>Active_View_Viewable_Impressions</th>\n",
       "      <th>Clicks</th>\n",
       "      <th>Conversions</th>\n",
       "    </tr>\n",
       "  </thead>\n",
       "  <tbody>\n",
       "    <tr>\n",
       "      <th>0</th>\n",
       "      <td>AMsySZYlP3l94iys9P9WaBXIWE6B</td>\n",
       "      <td>3</td>\n",
       "      <td>2.0</td>\n",
       "      <td>1.000000</td>\n",
       "      <td>0</td>\n",
       "      <td>3</td>\n",
       "      <td>0</td>\n",
       "      <td>0</td>\n",
       "      <td>3</td>\n",
       "      <td>0</td>\n",
       "      <td>...</td>\n",
       "      <td>0</td>\n",
       "      <td>0</td>\n",
       "      <td>0</td>\n",
       "      <td>0</td>\n",
       "      <td>3</td>\n",
       "      <td>0</td>\n",
       "      <td>0</td>\n",
       "      <td>0</td>\n",
       "      <td>NaN</td>\n",
       "      <td>NaN</td>\n",
       "    </tr>\n",
       "    <tr>\n",
       "      <th>1</th>\n",
       "      <td>AMsySZbdCy7kK0BqCq38AvgzDJ7y</td>\n",
       "      <td>3</td>\n",
       "      <td>1.0</td>\n",
       "      <td>0.500000</td>\n",
       "      <td>0</td>\n",
       "      <td>3</td>\n",
       "      <td>0</td>\n",
       "      <td>3</td>\n",
       "      <td>0</td>\n",
       "      <td>0</td>\n",
       "      <td>...</td>\n",
       "      <td>0</td>\n",
       "      <td>0</td>\n",
       "      <td>3</td>\n",
       "      <td>0</td>\n",
       "      <td>0</td>\n",
       "      <td>3</td>\n",
       "      <td>3</td>\n",
       "      <td>1</td>\n",
       "      <td>NaN</td>\n",
       "      <td>NaN</td>\n",
       "    </tr>\n",
       "    <tr>\n",
       "      <th>2</th>\n",
       "      <td>AMsySZbsx0jjk_iOfpRCVx2ss3v8</td>\n",
       "      <td>2</td>\n",
       "      <td>12.0</td>\n",
       "      <td>12.000000</td>\n",
       "      <td>0</td>\n",
       "      <td>2</td>\n",
       "      <td>0</td>\n",
       "      <td>0</td>\n",
       "      <td>0</td>\n",
       "      <td>0</td>\n",
       "      <td>...</td>\n",
       "      <td>0</td>\n",
       "      <td>0</td>\n",
       "      <td>2</td>\n",
       "      <td>0</td>\n",
       "      <td>0</td>\n",
       "      <td>2</td>\n",
       "      <td>2</td>\n",
       "      <td>1</td>\n",
       "      <td>NaN</td>\n",
       "      <td>NaN</td>\n",
       "    </tr>\n",
       "    <tr>\n",
       "      <th>3</th>\n",
       "      <td>AMsySZZnAR-zSA0aCGVZkfhupUhU</td>\n",
       "      <td>5</td>\n",
       "      <td>23033.0</td>\n",
       "      <td>5758.250000</td>\n",
       "      <td>0</td>\n",
       "      <td>5</td>\n",
       "      <td>0</td>\n",
       "      <td>0</td>\n",
       "      <td>0</td>\n",
       "      <td>0</td>\n",
       "      <td>...</td>\n",
       "      <td>0</td>\n",
       "      <td>0</td>\n",
       "      <td>0</td>\n",
       "      <td>0</td>\n",
       "      <td>5</td>\n",
       "      <td>5</td>\n",
       "      <td>5</td>\n",
       "      <td>5</td>\n",
       "      <td>NaN</td>\n",
       "      <td>NaN</td>\n",
       "    </tr>\n",
       "    <tr>\n",
       "      <th>4</th>\n",
       "      <td>AMsySZb1yHw6ewPTnb7h39vBdCh8</td>\n",
       "      <td>2</td>\n",
       "      <td>188.0</td>\n",
       "      <td>188.000000</td>\n",
       "      <td>0</td>\n",
       "      <td>2</td>\n",
       "      <td>0</td>\n",
       "      <td>0</td>\n",
       "      <td>0</td>\n",
       "      <td>0</td>\n",
       "      <td>...</td>\n",
       "      <td>0</td>\n",
       "      <td>0</td>\n",
       "      <td>2</td>\n",
       "      <td>0</td>\n",
       "      <td>0</td>\n",
       "      <td>2</td>\n",
       "      <td>2</td>\n",
       "      <td>1</td>\n",
       "      <td>NaN</td>\n",
       "      <td>NaN</td>\n",
       "    </tr>\n",
       "    <tr>\n",
       "      <th>5</th>\n",
       "      <td>AMsySZbMUcclS_w01crSZ23CgZsa</td>\n",
       "      <td>1</td>\n",
       "      <td>NaN</td>\n",
       "      <td>NaN</td>\n",
       "      <td>0</td>\n",
       "      <td>1</td>\n",
       "      <td>0</td>\n",
       "      <td>0</td>\n",
       "      <td>0</td>\n",
       "      <td>0</td>\n",
       "      <td>...</td>\n",
       "      <td>0</td>\n",
       "      <td>0</td>\n",
       "      <td>0</td>\n",
       "      <td>0</td>\n",
       "      <td>1</td>\n",
       "      <td>1</td>\n",
       "      <td>1</td>\n",
       "      <td>0</td>\n",
       "      <td>NaN</td>\n",
       "      <td>NaN</td>\n",
       "    </tr>\n",
       "    <tr>\n",
       "      <th>6</th>\n",
       "      <td>AMsySZbN3U0Y-dpMwJBHb5KWpB6S</td>\n",
       "      <td>444</td>\n",
       "      <td>73303.0</td>\n",
       "      <td>165.469526</td>\n",
       "      <td>0</td>\n",
       "      <td>85</td>\n",
       "      <td>359</td>\n",
       "      <td>283</td>\n",
       "      <td>161</td>\n",
       "      <td>0</td>\n",
       "      <td>...</td>\n",
       "      <td>0</td>\n",
       "      <td>85</td>\n",
       "      <td>444</td>\n",
       "      <td>0</td>\n",
       "      <td>0</td>\n",
       "      <td>359</td>\n",
       "      <td>359</td>\n",
       "      <td>314</td>\n",
       "      <td>NaN</td>\n",
       "      <td>NaN</td>\n",
       "    </tr>\n",
       "    <tr>\n",
       "      <th>7</th>\n",
       "      <td>AMsySZZYbLJhgekE6XQ52ea1bpKb</td>\n",
       "      <td>2</td>\n",
       "      <td>80.0</td>\n",
       "      <td>80.000000</td>\n",
       "      <td>0</td>\n",
       "      <td>2</td>\n",
       "      <td>0</td>\n",
       "      <td>0</td>\n",
       "      <td>0</td>\n",
       "      <td>0</td>\n",
       "      <td>...</td>\n",
       "      <td>0</td>\n",
       "      <td>0</td>\n",
       "      <td>2</td>\n",
       "      <td>0</td>\n",
       "      <td>0</td>\n",
       "      <td>2</td>\n",
       "      <td>2</td>\n",
       "      <td>1</td>\n",
       "      <td>NaN</td>\n",
       "      <td>NaN</td>\n",
       "    </tr>\n",
       "    <tr>\n",
       "      <th>8</th>\n",
       "      <td>AMsySZaWJ0IyUoZmTqnYg4_LsylU</td>\n",
       "      <td>1</td>\n",
       "      <td>NaN</td>\n",
       "      <td>NaN</td>\n",
       "      <td>0</td>\n",
       "      <td>1</td>\n",
       "      <td>0</td>\n",
       "      <td>0</td>\n",
       "      <td>0</td>\n",
       "      <td>0</td>\n",
       "      <td>...</td>\n",
       "      <td>0</td>\n",
       "      <td>0</td>\n",
       "      <td>1</td>\n",
       "      <td>0</td>\n",
       "      <td>0</td>\n",
       "      <td>1</td>\n",
       "      <td>1</td>\n",
       "      <td>0</td>\n",
       "      <td>NaN</td>\n",
       "      <td>NaN</td>\n",
       "    </tr>\n",
       "    <tr>\n",
       "      <th>9</th>\n",
       "      <td>AMsySZbQxjkNdQtKIjG1m3fso1u_</td>\n",
       "      <td>9</td>\n",
       "      <td>56231.0</td>\n",
       "      <td>7028.875000</td>\n",
       "      <td>0</td>\n",
       "      <td>9</td>\n",
       "      <td>0</td>\n",
       "      <td>0</td>\n",
       "      <td>0</td>\n",
       "      <td>0</td>\n",
       "      <td>...</td>\n",
       "      <td>0</td>\n",
       "      <td>0</td>\n",
       "      <td>0</td>\n",
       "      <td>0</td>\n",
       "      <td>9</td>\n",
       "      <td>7</td>\n",
       "      <td>7</td>\n",
       "      <td>3</td>\n",
       "      <td>NaN</td>\n",
       "      <td>NaN</td>\n",
       "    </tr>\n",
       "  </tbody>\n",
       "</table>\n",
       "<p>10 rows × 36 columns</p>\n",
       "</div>"
      ],
      "text/plain": [
       "                        User_ID  Impressions  TimeDiff_Minutes  \\\n",
       "0  AMsySZYlP3l94iys9P9WaBXIWE6B            3               2.0   \n",
       "1  AMsySZbdCy7kK0BqCq38AvgzDJ7y            3               1.0   \n",
       "2  AMsySZbsx0jjk_iOfpRCVx2ss3v8            2              12.0   \n",
       "3  AMsySZZnAR-zSA0aCGVZkfhupUhU            5           23033.0   \n",
       "4  AMsySZb1yHw6ewPTnb7h39vBdCh8            2             188.0   \n",
       "5  AMsySZbMUcclS_w01crSZ23CgZsa            1               NaN   \n",
       "6  AMsySZbN3U0Y-dpMwJBHb5KWpB6S          444           73303.0   \n",
       "7  AMsySZZYbLJhgekE6XQ52ea1bpKb            2              80.0   \n",
       "8  AMsySZaWJ0IyUoZmTqnYg4_LsylU            1               NaN   \n",
       "9  AMsySZbQxjkNdQtKIjG1m3fso1u_            9           56231.0   \n",
       "\n",
       "   TimeDiff_Minutes_AVG  Funnel_Upper_Imp  Funnel_Middle_Imp  \\\n",
       "0              1.000000                 0                  3   \n",
       "1              0.500000                 0                  3   \n",
       "2             12.000000                 0                  2   \n",
       "3           5758.250000                 0                  5   \n",
       "4            188.000000                 0                  2   \n",
       "5                   NaN                 0                  1   \n",
       "6            165.469526                 0                 85   \n",
       "7             80.000000                 0                  2   \n",
       "8                   NaN                 0                  1   \n",
       "9           7028.875000                 0                  9   \n",
       "\n",
       "   Funnel_Lower_Imp  Campaign_Message_Travel_Imp  \\\n",
       "0                 0                            0   \n",
       "1                 0                            3   \n",
       "2                 0                            0   \n",
       "3                 0                            0   \n",
       "4                 0                            0   \n",
       "5                 0                            0   \n",
       "6               359                          283   \n",
       "7                 0                            0   \n",
       "8                 0                            0   \n",
       "9                 0                            0   \n",
       "\n",
       "   Campaign_Message_Service_Imp  Campaign_Message_Family_Travel_Imp  \\\n",
       "0                             3                                   0   \n",
       "1                             0                                   0   \n",
       "2                             0                                   0   \n",
       "3                             0                                   0   \n",
       "4                             0                                   0   \n",
       "5                             0                                   0   \n",
       "6                           161                                   0   \n",
       "7                             0                                   0   \n",
       "8                             0                                   0   \n",
       "9                             0                                   0   \n",
       "\n",
       "      ...       Creative_Size_320x480_Imp  Creative_Size_Uknown_Imp  \\\n",
       "0     ...                               0                         0   \n",
       "1     ...                               0                         0   \n",
       "2     ...                               0                         0   \n",
       "3     ...                               0                         0   \n",
       "4     ...                               0                         0   \n",
       "5     ...                               0                         0   \n",
       "6     ...                               0                        85   \n",
       "7     ...                               0                         0   \n",
       "8     ...                               0                         0   \n",
       "9     ...                               0                         0   \n",
       "\n",
       "   Device_Desktop_Imp  Device_Other_Imp  Device_Mobile_Imp  \\\n",
       "0                   0                 0                  3   \n",
       "1                   3                 0                  0   \n",
       "2                   2                 0                  0   \n",
       "3                   0                 0                  5   \n",
       "4                   2                 0                  0   \n",
       "5                   0                 0                  1   \n",
       "6                 444                 0                  0   \n",
       "7                   2                 0                  0   \n",
       "8                   1                 0                  0   \n",
       "9                   0                 0                  9   \n",
       "\n",
       "   Active_View_Eligible_Impressions  Active_View_Measurable_Impressions  \\\n",
       "0                                 0                                   0   \n",
       "1                                 3                                   3   \n",
       "2                                 2                                   2   \n",
       "3                                 5                                   5   \n",
       "4                                 2                                   2   \n",
       "5                                 1                                   1   \n",
       "6                               359                                 359   \n",
       "7                                 2                                   2   \n",
       "8                                 1                                   1   \n",
       "9                                 7                                   7   \n",
       "\n",
       "   Active_View_Viewable_Impressions  Clicks  Conversions  \n",
       "0                                 0     NaN          NaN  \n",
       "1                                 1     NaN          NaN  \n",
       "2                                 1     NaN          NaN  \n",
       "3                                 5     NaN          NaN  \n",
       "4                                 1     NaN          NaN  \n",
       "5                                 0     NaN          NaN  \n",
       "6                               314     NaN          NaN  \n",
       "7                                 1     NaN          NaN  \n",
       "8                                 0     NaN          NaN  \n",
       "9                                 3     NaN          NaN  \n",
       "\n",
       "[10 rows x 36 columns]"
      ]
     },
     "execution_count": 2,
     "metadata": {},
     "output_type": "execute_result"
    }
   ],
   "source": [
    "data = pd.read_csv('../data/DATA_FOR_MODEL_20perc.csv', sep=',')\n",
    "#data = pd.read_csv('../data/DATA_FOR_MODEL_FULL.csv', sep=',')\n",
    "data.head(10)"
   ]
  },
  {
   "cell_type": "markdown",
   "metadata": {},
   "source": [
    "## Handle Missing Data"
   ]
  },
  {
   "cell_type": "code",
   "execution_count": 3,
   "metadata": {
    "collapsed": false
   },
   "outputs": [],
   "source": [
    "# For Clicks,Conversion, convert NULL values to zero\n",
    "data['Clicks'].fillna(value=0,inplace=True)\n",
    "data['Conversions'].fillna(value=0,inplace=True)\n",
    "\n",
    "# Create a new categorical variable Converted, which will be 1 if the the user converted at least once, \n",
    "# and 0 if the user did not convert.\n",
    "data['Converted'] = pd.Categorical([1 if x>0 else 0 for x in data['Conversions']])\n",
    "\n",
    "# For TimeDiff_Minutes and TimeDiff_AVG, it is NULL when we only have 1 impression\n",
    "# For now, replace with the median value and then add columns flagging the rows where we did this\n",
    "# We will explore other options for handling this data in the feature engineering section\n",
    "data['TimeDiff_NULL_FLAG'] = pd.Categorical(data['TimeDiff_Minutes'].isnull())\n",
    "\n",
    "data['TimeDiff_Minutes'].fillna(value=data['TimeDiff_Minutes'].median(),inplace=True)\n",
    "data['TimeDiff_Minutes_AVG'].fillna(value=data['TimeDiff_Minutes_AVG'].median(),inplace=True)"
   ]
  },
  {
   "cell_type": "code",
   "execution_count": 4,
   "metadata": {
    "collapsed": false,
    "scrolled": true
   },
   "outputs": [
    {
     "data": {
      "text/plain": [
       "User_ID                                 0\n",
       "Impressions                             0\n",
       "TimeDiff_Minutes                        0\n",
       "TimeDiff_Minutes_AVG                    0\n",
       "Funnel_Upper_Imp                        0\n",
       "Funnel_Middle_Imp                       0\n",
       "Funnel_Lower_Imp                        0\n",
       "Campaign_Message_Travel_Imp             0\n",
       "Campaign_Message_Service_Imp            0\n",
       "Campaign_Message_Family_Travel_Imp      0\n",
       "Campaign_Card_Cash_Rewards_Imp          0\n",
       "Campaign_Card_Premium_Rewards_Imp       0\n",
       "Campaign_Card_Other_Imp                 0\n",
       "Creative_Type_Display_Imp               0\n",
       "Creative_Type_TrueView_Imp              0\n",
       "Creative_Type_RichMediaExpanding_Imp    0\n",
       "Creative_Type_RichMedia_Imp             0\n",
       "Creative_Size_728x90_Imp                0\n",
       "Creative_Size_300x600_Imp               0\n",
       "Creative_Size_300x250_Imp               0\n",
       "Creative_Size_160x600_Imp               0\n",
       "Creative_Size_468x60_Imp                0\n",
       "Creative_Size_300x50_Imp                0\n",
       "Creative_Size_320x50_Imp                0\n",
       "Creative_Size_320x420_Imp               0\n",
       "Creative_Size_480x320_Imp               0\n",
       "Creative_Size_320x480_Imp               0\n",
       "Creative_Size_Uknown_Imp                0\n",
       "Device_Desktop_Imp                      0\n",
       "Device_Other_Imp                        0\n",
       "Device_Mobile_Imp                       0\n",
       "Active_View_Eligible_Impressions        0\n",
       "Active_View_Measurable_Impressions      0\n",
       "Active_View_Viewable_Impressions        0\n",
       "Clicks                                  0\n",
       "Conversions                             0\n",
       "Converted                               0\n",
       "TimeDiff_NULL_FLAG                      0\n",
       "dtype: int64"
      ]
     },
     "execution_count": 4,
     "metadata": {},
     "output_type": "execute_result"
    }
   ],
   "source": [
    "# confirm not nulls left dataset\n",
    "data.isnull().sum()"
   ]
  },
  {
   "cell_type": "code",
   "execution_count": 5,
   "metadata": {
    "collapsed": false
   },
   "outputs": [
    {
     "data": {
      "text/plain": [
       "count    3.036639e+06\n",
       "mean     4.895185e+00\n",
       "std      1.600795e+01\n",
       "min      1.000000e+00\n",
       "25%      1.000000e+00\n",
       "50%      2.000000e+00\n",
       "75%      3.000000e+00\n",
       "max      5.600000e+03\n",
       "Name: Impressions, dtype: float64"
      ]
     },
     "execution_count": 5,
     "metadata": {},
     "output_type": "execute_result"
    }
   ],
   "source": [
    "#Show the distribution of impressions (should affect all other rows features based on exploratory analysis)\n",
    "data['Impressions'].describe()"
   ]
  },
  {
   "cell_type": "code",
   "execution_count": 6,
   "metadata": {
    "collapsed": false
   },
   "outputs": [
    {
     "name": "stdout",
     "output_type": "stream",
     "text": [
      "5600\n",
      "50\n"
     ]
    }
   ],
   "source": [
    "#Remove outliers (users with more than ~50 impressions, 3 standard devs above the mean of 4.9 impressions)\n",
    "print max(data['Impressions'])\n",
    "data = data[data['Impressions']<=50]\n",
    "print max(data['Impressions'])"
   ]
  },
  {
   "cell_type": "code",
   "execution_count": 7,
   "metadata": {
    "collapsed": false
   },
   "outputs": [],
   "source": [
    "X=data.drop(['User_ID','Conversions','Converted'],axis=1)\n",
    "y=data['Converted']"
   ]
  },
  {
   "cell_type": "code",
   "execution_count": 8,
   "metadata": {
    "collapsed": true
   },
   "outputs": [],
   "source": [
    "# Split into Train/Test \n",
    "X_train, X_test, y_train, y_test = train_test_split(X,y,test_size=0.2,random_state=7)"
   ]
  },
  {
   "cell_type": "markdown",
   "metadata": {},
   "source": [
    "## Business Performance Functions and Baseline Benchmark"
   ]
  },
  {
   "cell_type": "code",
   "execution_count": 9,
   "metadata": {
    "collapsed": true
   },
   "outputs": [],
   "source": [
    "# Define ROI function\n",
    "# *See section \"Define Business Performance Metrics\" for more details\n",
    "def ROI(y,y_pred,app_value,avg_user_cost):\n",
    "    tn, fp, fn, tp = confusion_matrix(y_true=y, y_pred=y_pred).ravel()\n",
    "    \n",
    "    total_value=float(tp*app_value)\n",
    "    total_cost=float((tp+fp)*avg_user_cost)\n",
    "    ROI=total_value/total_cost-1\n",
    "    \n",
    "    return ROI"
   ]
  },
  {
   "cell_type": "code",
   "execution_count": 10,
   "metadata": {
    "collapsed": true
   },
   "outputs": [],
   "source": [
    "# Define New Value function\n",
    "# *See section \"Define Business Performance Metrics\" for more details\n",
    "def Net_Value(y,y_pred,app_value,avg_user_cost):\n",
    "    tn, fp, fn, tp = confusion_matrix(y_true=y, y_pred=y_pred).ravel()\n",
    "    \n",
    "    total_value=float(tp*app_value)\n",
    "    total_cost=float((tp+fp)*avg_user_cost)\n",
    "    Net_Value=total_value-total_cost\n",
    "    \n",
    "    return Net_Value"
   ]
  },
  {
   "cell_type": "markdown",
   "metadata": {},
   "source": [
    "#### Basline Performance\n",
    "Get baseline performance by assuming our classified producted \"1\" (or \"positive\") for all of our dataset observations.\n",
    "**NOTE:** Baseline benchmark should be calculated on test dataset."
   ]
  },
  {
   "cell_type": "code",
   "execution_count": 11,
   "metadata": {
    "collapsed": false
   },
   "outputs": [],
   "source": [
    "# Assumptions:\n",
    "#    Value of credit card application=$500\n",
    "#    Avg cost of reaching a user=$0.033827\n",
    "ROI_benchmark = ROI(y=y_test,\n",
    "                    y_pred=np.ones(y_test.size),\n",
    "                    app_value=500,\n",
    "                    avg_user_cost=0.033827)\n",
    "Net_Value_benchmark = Net_Value(y=y_test,\n",
    "                                y_pred=np.ones(y_test.size),\n",
    "                                app_value=500,\n",
    "                                avg_user_cost=0.033827)"
   ]
  },
  {
   "cell_type": "code",
   "execution_count": 25,
   "metadata": {
    "collapsed": false
   },
   "outputs": [
    {
     "name": "stdout",
     "output_type": "stream",
     "text": [
      "Baseline Net Value: 15690\n",
      "Baseline ROI: 77.3%\n"
     ]
    }
   ],
   "source": [
    "print \"Baseline Net Value: {0:.0f}\".format(Net_Value_benchmark)\n",
    "print \"Baseline ROI: {0:.1f}%\".format(ROI_benchmark*100)"
   ]
  },
  {
   "cell_type": "markdown",
   "metadata": {},
   "source": [
    "## L1 Logistic Regression - All Existing Features"
   ]
  },
  {
   "cell_type": "markdown",
   "metadata": {
    "collapsed": true
   },
   "source": [
    "Use L1 regularization with Logistic Regression to Identify Important/Non-Important variables"
   ]
  },
  {
   "cell_type": "code",
   "execution_count": 26,
   "metadata": {
    "collapsed": false
   },
   "outputs": [],
   "source": [
    "# Standardization: bring all of our features onto the same scale\n",
    "stdsc = StandardScaler()\n",
    "X_train_std = stdsc.fit_transform(X_train)\n",
    "X_test_std = stdsc.transform(X_test)"
   ]
  },
  {
   "cell_type": "code",
   "execution_count": 27,
   "metadata": {
    "collapsed": true
   },
   "outputs": [],
   "source": [
    "# Cross-validation: 5 cross validation iterations with 30% test / 70% train\n",
    "cv = ShuffleSplit(n_splits=5, test_size=0.3, random_state=0)"
   ]
  },
  {
   "cell_type": "code",
   "execution_count": 28,
   "metadata": {
    "collapsed": false
   },
   "outputs": [
    {
     "name": "stdout",
     "output_type": "stream",
     "text": [
      "CPU times: user 20min 28s, sys: 48.9 s, total: 21min 17s\n",
      "Wall time: 20min 38s\n"
     ]
    }
   ],
   "source": [
    "%%time\n",
    "logregL1 = LogisticRegression(penalty='l1')\n",
    "parameters = {'C': [0.001,0.05,0.1,0.3,0.5]}\n",
    "clf = GridSearchCV(logregL1, parameters, cv=cv,scoring=\"roc_auc\")\n",
    "clf.fit(pd.DataFrame(X_train_std), pd.Series(y_train))   #turning into pandas dataframe or series prevents an error"
   ]
  },
  {
   "cell_type": "code",
   "execution_count": 29,
   "metadata": {
    "collapsed": false
   },
   "outputs": [
    {
     "name": "stdout",
     "output_type": "stream",
     "text": [
      "Best model parameters are: {'C': 0.05}\n",
      "Best AUC model score is: 0.731116033592\n"
     ]
    }
   ],
   "source": [
    "print \"Best model parameters are: {}\".format(clf.best_params_)\n",
    "print \"Best AUC model score is: {}\".format(clf.best_score_)"
   ]
  },
  {
   "cell_type": "markdown",
   "metadata": {},
   "source": [
    "**Notes**\n",
    "* **AUC of 0.73** is \"Fair\" quality model\n",
    "* Good start, but we will see if can improve this score with some new features\n",
    "* Before that, we will:\n",
    "    * Review the current model coefficients\n",
    "    * Plot distribution of predicted probabilities\n",
    "    * Plot the ROC against the Test data for reference"
   ]
  },
  {
   "cell_type": "markdown",
   "metadata": {},
   "source": [
    "#### Show Coefficients"
   ]
  },
  {
   "cell_type": "code",
   "execution_count": 30,
   "metadata": {
    "collapsed": true
   },
   "outputs": [],
   "source": [
    "best_logreg = clf.best_estimator_"
   ]
  },
  {
   "cell_type": "code",
   "execution_count": 95,
   "metadata": {
    "collapsed": false
   },
   "outputs": [],
   "source": [
    "# Look at coefficients that are zero\n",
    "#lgl1_coeff = pd.DataFrame(zip(X.columns,logreg.coef_),columns=['Features','Coefficients'])\n",
    "best_coeff=pd.DataFrame({'Features':X.columns,\n",
    "                         'Coefficients':best_logreg.coef_[0]})"
   ]
  },
  {
   "cell_type": "code",
   "execution_count": 97,
   "metadata": {
    "collapsed": false
   },
   "outputs": [
    {
     "data": {
      "text/html": [
       "<div>\n",
       "<table border=\"1\" class=\"dataframe\">\n",
       "  <thead>\n",
       "    <tr style=\"text-align: right;\">\n",
       "      <th></th>\n",
       "      <th>Coefficients</th>\n",
       "      <th>Features</th>\n",
       "    </tr>\n",
       "  </thead>\n",
       "  <tbody>\n",
       "    <tr>\n",
       "      <th>0</th>\n",
       "      <td>0.0</td>\n",
       "      <td>Impressions</td>\n",
       "    </tr>\n",
       "    <tr>\n",
       "      <th>2</th>\n",
       "      <td>0.0</td>\n",
       "      <td>TimeDiff_Minutes_AVG</td>\n",
       "    </tr>\n",
       "    <tr>\n",
       "      <th>3</th>\n",
       "      <td>0.0</td>\n",
       "      <td>Funnel_Upper_Imp</td>\n",
       "    </tr>\n",
       "    <tr>\n",
       "      <th>6</th>\n",
       "      <td>0.0</td>\n",
       "      <td>Campaign_Message_Travel_Imp</td>\n",
       "    </tr>\n",
       "    <tr>\n",
       "      <th>7</th>\n",
       "      <td>0.0</td>\n",
       "      <td>Campaign_Message_Service_Imp</td>\n",
       "    </tr>\n",
       "    <tr>\n",
       "      <th>12</th>\n",
       "      <td>0.0</td>\n",
       "      <td>Creative_Type_Display_Imp</td>\n",
       "    </tr>\n",
       "    <tr>\n",
       "      <th>13</th>\n",
       "      <td>0.0</td>\n",
       "      <td>Creative_Type_TrueView_Imp</td>\n",
       "    </tr>\n",
       "    <tr>\n",
       "      <th>14</th>\n",
       "      <td>0.0</td>\n",
       "      <td>Creative_Type_RichMediaExpanding_Imp</td>\n",
       "    </tr>\n",
       "    <tr>\n",
       "      <th>15</th>\n",
       "      <td>0.0</td>\n",
       "      <td>Creative_Type_RichMedia_Imp</td>\n",
       "    </tr>\n",
       "    <tr>\n",
       "      <th>16</th>\n",
       "      <td>0.0</td>\n",
       "      <td>Creative_Size_728x90_Imp</td>\n",
       "    </tr>\n",
       "    <tr>\n",
       "      <th>17</th>\n",
       "      <td>0.0</td>\n",
       "      <td>Creative_Size_300x600_Imp</td>\n",
       "    </tr>\n",
       "    <tr>\n",
       "      <th>18</th>\n",
       "      <td>0.0</td>\n",
       "      <td>Creative_Size_300x250_Imp</td>\n",
       "    </tr>\n",
       "    <tr>\n",
       "      <th>19</th>\n",
       "      <td>0.0</td>\n",
       "      <td>Creative_Size_160x600_Imp</td>\n",
       "    </tr>\n",
       "    <tr>\n",
       "      <th>20</th>\n",
       "      <td>0.0</td>\n",
       "      <td>Creative_Size_468x60_Imp</td>\n",
       "    </tr>\n",
       "    <tr>\n",
       "      <th>21</th>\n",
       "      <td>0.0</td>\n",
       "      <td>Creative_Size_300x50_Imp</td>\n",
       "    </tr>\n",
       "    <tr>\n",
       "      <th>24</th>\n",
       "      <td>0.0</td>\n",
       "      <td>Creative_Size_480x320_Imp</td>\n",
       "    </tr>\n",
       "    <tr>\n",
       "      <th>25</th>\n",
       "      <td>0.0</td>\n",
       "      <td>Creative_Size_320x480_Imp</td>\n",
       "    </tr>\n",
       "    <tr>\n",
       "      <th>26</th>\n",
       "      <td>0.0</td>\n",
       "      <td>Creative_Size_Uknown_Imp</td>\n",
       "    </tr>\n",
       "    <tr>\n",
       "      <th>30</th>\n",
       "      <td>0.0</td>\n",
       "      <td>Active_View_Eligible_Impressions</td>\n",
       "    </tr>\n",
       "    <tr>\n",
       "      <th>31</th>\n",
       "      <td>0.0</td>\n",
       "      <td>Active_View_Measurable_Impressions</td>\n",
       "    </tr>\n",
       "    <tr>\n",
       "      <th>32</th>\n",
       "      <td>0.0</td>\n",
       "      <td>Active_View_Viewable_Impressions</td>\n",
       "    </tr>\n",
       "  </tbody>\n",
       "</table>\n",
       "</div>"
      ],
      "text/plain": [
       "    Coefficients                              Features\n",
       "0            0.0                           Impressions\n",
       "2            0.0                  TimeDiff_Minutes_AVG\n",
       "3            0.0                      Funnel_Upper_Imp\n",
       "6            0.0           Campaign_Message_Travel_Imp\n",
       "7            0.0          Campaign_Message_Service_Imp\n",
       "12           0.0             Creative_Type_Display_Imp\n",
       "13           0.0            Creative_Type_TrueView_Imp\n",
       "14           0.0  Creative_Type_RichMediaExpanding_Imp\n",
       "15           0.0           Creative_Type_RichMedia_Imp\n",
       "16           0.0              Creative_Size_728x90_Imp\n",
       "17           0.0             Creative_Size_300x600_Imp\n",
       "18           0.0             Creative_Size_300x250_Imp\n",
       "19           0.0             Creative_Size_160x600_Imp\n",
       "20           0.0              Creative_Size_468x60_Imp\n",
       "21           0.0              Creative_Size_300x50_Imp\n",
       "24           0.0             Creative_Size_480x320_Imp\n",
       "25           0.0             Creative_Size_320x480_Imp\n",
       "26           0.0              Creative_Size_Uknown_Imp\n",
       "30           0.0      Active_View_Eligible_Impressions\n",
       "31           0.0    Active_View_Measurable_Impressions\n",
       "32           0.0      Active_View_Viewable_Impressions"
      ]
     },
     "execution_count": 97,
     "metadata": {},
     "output_type": "execute_result"
    }
   ],
   "source": [
    "# Show non-important / zero'd features\n",
    "best_coeff[best_coeff['Coefficients']==0]"
   ]
  },
  {
   "cell_type": "code",
   "execution_count": 115,
   "metadata": {
    "collapsed": false
   },
   "outputs": [
    {
     "data": {
      "text/html": [
       "<div>\n",
       "<table border=\"1\" class=\"dataframe\">\n",
       "  <thead>\n",
       "    <tr style=\"text-align: right;\">\n",
       "      <th></th>\n",
       "      <th>Coefficients</th>\n",
       "      <th>Features</th>\n",
       "    </tr>\n",
       "  </thead>\n",
       "  <tbody>\n",
       "    <tr>\n",
       "      <th>1</th>\n",
       "      <td>0.064719</td>\n",
       "      <td>TimeDiff_Minutes</td>\n",
       "    </tr>\n",
       "    <tr>\n",
       "      <th>4</th>\n",
       "      <td>-0.396835</td>\n",
       "      <td>Funnel_Middle_Imp</td>\n",
       "    </tr>\n",
       "    <tr>\n",
       "      <th>5</th>\n",
       "      <td>0.054916</td>\n",
       "      <td>Funnel_Lower_Imp</td>\n",
       "    </tr>\n",
       "    <tr>\n",
       "      <th>8</th>\n",
       "      <td>0.085190</td>\n",
       "      <td>Campaign_Message_Family_Travel_Imp</td>\n",
       "    </tr>\n",
       "    <tr>\n",
       "      <th>9</th>\n",
       "      <td>0.006753</td>\n",
       "      <td>Campaign_Card_Cash_Rewards_Imp</td>\n",
       "    </tr>\n",
       "    <tr>\n",
       "      <th>10</th>\n",
       "      <td>-0.049592</td>\n",
       "      <td>Campaign_Card_Premium_Rewards_Imp</td>\n",
       "    </tr>\n",
       "    <tr>\n",
       "      <th>11</th>\n",
       "      <td>0.021681</td>\n",
       "      <td>Campaign_Card_Other_Imp</td>\n",
       "    </tr>\n",
       "    <tr>\n",
       "      <th>22</th>\n",
       "      <td>-0.042019</td>\n",
       "      <td>Creative_Size_320x50_Imp</td>\n",
       "    </tr>\n",
       "    <tr>\n",
       "      <th>23</th>\n",
       "      <td>0.006210</td>\n",
       "      <td>Creative_Size_320x420_Imp</td>\n",
       "    </tr>\n",
       "    <tr>\n",
       "      <th>27</th>\n",
       "      <td>0.129406</td>\n",
       "      <td>Device_Desktop_Imp</td>\n",
       "    </tr>\n",
       "    <tr>\n",
       "      <th>28</th>\n",
       "      <td>-0.079050</td>\n",
       "      <td>Device_Other_Imp</td>\n",
       "    </tr>\n",
       "    <tr>\n",
       "      <th>29</th>\n",
       "      <td>-0.094709</td>\n",
       "      <td>Device_Mobile_Imp</td>\n",
       "    </tr>\n",
       "    <tr>\n",
       "      <th>33</th>\n",
       "      <td>0.011106</td>\n",
       "      <td>Clicks</td>\n",
       "    </tr>\n",
       "    <tr>\n",
       "      <th>34</th>\n",
       "      <td>-0.147504</td>\n",
       "      <td>TimeDiff_NULL_FLAG</td>\n",
       "    </tr>\n",
       "  </tbody>\n",
       "</table>\n",
       "</div>"
      ],
      "text/plain": [
       "    Coefficients                            Features\n",
       "1       0.064719                    TimeDiff_Minutes\n",
       "4      -0.396835                   Funnel_Middle_Imp\n",
       "5       0.054916                    Funnel_Lower_Imp\n",
       "8       0.085190  Campaign_Message_Family_Travel_Imp\n",
       "9       0.006753      Campaign_Card_Cash_Rewards_Imp\n",
       "10     -0.049592   Campaign_Card_Premium_Rewards_Imp\n",
       "11      0.021681             Campaign_Card_Other_Imp\n",
       "22     -0.042019            Creative_Size_320x50_Imp\n",
       "23      0.006210           Creative_Size_320x420_Imp\n",
       "27      0.129406                  Device_Desktop_Imp\n",
       "28     -0.079050                    Device_Other_Imp\n",
       "29     -0.094709                   Device_Mobile_Imp\n",
       "33      0.011106                              Clicks\n",
       "34     -0.147504                  TimeDiff_NULL_FLAG"
      ]
     },
     "execution_count": 115,
     "metadata": {},
     "output_type": "execute_result"
    }
   ],
   "source": [
    "#Show important features\n",
    "kept_coeff=best_coeff[best_coeff['Coefficients']!=0]\n",
    "kept_coeff"
   ]
  },
  {
   "cell_type": "code",
   "execution_count": 116,
   "metadata": {
    "collapsed": false
   },
   "outputs": [
    {
     "data": {
      "text/html": [
       "<div>\n",
       "<table border=\"1\" class=\"dataframe\">\n",
       "  <thead>\n",
       "    <tr style=\"text-align: right;\">\n",
       "      <th></th>\n",
       "      <th>Coefficients</th>\n",
       "      <th>Features</th>\n",
       "      <th>Odds_Ratios</th>\n",
       "    </tr>\n",
       "  </thead>\n",
       "  <tbody>\n",
       "    <tr>\n",
       "      <th>1</th>\n",
       "      <td>0.064719</td>\n",
       "      <td>TimeDiff_Minutes</td>\n",
       "      <td>1.066859</td>\n",
       "    </tr>\n",
       "    <tr>\n",
       "      <th>4</th>\n",
       "      <td>-0.396835</td>\n",
       "      <td>Funnel_Middle_Imp</td>\n",
       "      <td>0.672445</td>\n",
       "    </tr>\n",
       "    <tr>\n",
       "      <th>5</th>\n",
       "      <td>0.054916</td>\n",
       "      <td>Funnel_Lower_Imp</td>\n",
       "      <td>1.056452</td>\n",
       "    </tr>\n",
       "    <tr>\n",
       "      <th>8</th>\n",
       "      <td>0.085190</td>\n",
       "      <td>Campaign_Message_Family_Travel_Imp</td>\n",
       "      <td>1.088924</td>\n",
       "    </tr>\n",
       "    <tr>\n",
       "      <th>9</th>\n",
       "      <td>0.006753</td>\n",
       "      <td>Campaign_Card_Cash_Rewards_Imp</td>\n",
       "      <td>1.006775</td>\n",
       "    </tr>\n",
       "    <tr>\n",
       "      <th>10</th>\n",
       "      <td>-0.049592</td>\n",
       "      <td>Campaign_Card_Premium_Rewards_Imp</td>\n",
       "      <td>0.951617</td>\n",
       "    </tr>\n",
       "    <tr>\n",
       "      <th>11</th>\n",
       "      <td>0.021681</td>\n",
       "      <td>Campaign_Card_Other_Imp</td>\n",
       "      <td>1.021918</td>\n",
       "    </tr>\n",
       "    <tr>\n",
       "      <th>22</th>\n",
       "      <td>-0.042019</td>\n",
       "      <td>Creative_Size_320x50_Imp</td>\n",
       "      <td>0.958852</td>\n",
       "    </tr>\n",
       "    <tr>\n",
       "      <th>23</th>\n",
       "      <td>0.006210</td>\n",
       "      <td>Creative_Size_320x420_Imp</td>\n",
       "      <td>1.006230</td>\n",
       "    </tr>\n",
       "    <tr>\n",
       "      <th>27</th>\n",
       "      <td>0.129406</td>\n",
       "      <td>Device_Desktop_Imp</td>\n",
       "      <td>1.138153</td>\n",
       "    </tr>\n",
       "    <tr>\n",
       "      <th>28</th>\n",
       "      <td>-0.079050</td>\n",
       "      <td>Device_Other_Imp</td>\n",
       "      <td>0.923994</td>\n",
       "    </tr>\n",
       "    <tr>\n",
       "      <th>29</th>\n",
       "      <td>-0.094709</td>\n",
       "      <td>Device_Mobile_Imp</td>\n",
       "      <td>0.909638</td>\n",
       "    </tr>\n",
       "    <tr>\n",
       "      <th>33</th>\n",
       "      <td>0.011106</td>\n",
       "      <td>Clicks</td>\n",
       "      <td>1.011168</td>\n",
       "    </tr>\n",
       "    <tr>\n",
       "      <th>34</th>\n",
       "      <td>-0.147504</td>\n",
       "      <td>TimeDiff_NULL_FLAG</td>\n",
       "      <td>0.862859</td>\n",
       "    </tr>\n",
       "  </tbody>\n",
       "</table>\n",
       "</div>"
      ],
      "text/plain": [
       "    Coefficients                            Features  Odds_Ratios\n",
       "1       0.064719                    TimeDiff_Minutes     1.066859\n",
       "4      -0.396835                   Funnel_Middle_Imp     0.672445\n",
       "5       0.054916                    Funnel_Lower_Imp     1.056452\n",
       "8       0.085190  Campaign_Message_Family_Travel_Imp     1.088924\n",
       "9       0.006753      Campaign_Card_Cash_Rewards_Imp     1.006775\n",
       "10     -0.049592   Campaign_Card_Premium_Rewards_Imp     0.951617\n",
       "11      0.021681             Campaign_Card_Other_Imp     1.021918\n",
       "22     -0.042019            Creative_Size_320x50_Imp     0.958852\n",
       "23      0.006210           Creative_Size_320x420_Imp     1.006230\n",
       "27      0.129406                  Device_Desktop_Imp     1.138153\n",
       "28     -0.079050                    Device_Other_Imp     0.923994\n",
       "29     -0.094709                   Device_Mobile_Imp     0.909638\n",
       "33      0.011106                              Clicks     1.011168\n",
       "34     -0.147504                  TimeDiff_NULL_FLAG     0.862859"
      ]
     },
     "execution_count": 116,
     "metadata": {},
     "output_type": "execute_result"
    }
   ],
   "source": [
    "# Calculate Odds Ratios \n",
    "# For intuitive understanding of coefficients\n",
    "kept_coeff.loc[:,'Odds_Ratios']=kept_coeff['Coefficients'].apply(np.exp)\n",
    "kept_coeff"
   ]
  },
  {
   "cell_type": "markdown",
   "metadata": {},
   "source": [
    "**Interpretation**\n",
    "For every standard deviation increase of 1 in the feature, there is the following increase in the odds for applying for a credit card:\n",
    "\n",
    "Feature|Odds Improvment w/<br>Std Dev Increase of 1\n",
    "-------|:-----:\n",
    "TimeDiff_Minutes|6.69%\n",
    "Funnel_Middle_Imp|-32.76%\n",
    "Funnel_Lower_Imp|5.65%\n",
    "Campaign_Message_Family_Travel_Imp|8.89%\n",
    "Campaign_Card_Cash_Rewards_Imp|0.68%\n",
    "Campaign_Card_Premium_Rewards_Imp|-4.84%\n",
    "Campaign_Card_Other_Imp|2.19%\n",
    "Creative_Size_320x50_Imp|-4.11%\n",
    "Creative_Size_320x420_Imp|0.62%\n",
    "Device_Desktop_Imp|13.82%\n",
    "Device_Other_Imp|-7.60%\n",
    "Device_Mobile_Imp|-9.04%\n",
    "Clicks|1.12%\n",
    "TimeDiff_NULL_FLAG|-13.71%\n",
    "\n",
    "**Domain-Knowledge Notes**\n",
    "* It's interesting how much negative impact impressios to middle funnel has.  The potential explanation for this is that users that are being reached with middle-funnel campaigns are already less likely to be convert (compared to users who are already engaged with the client's brand and being reached with lower funnel campaigns).  It is still valuable to include this feature as it captures the difficulty converting users higher up in the marketing funnel.\n",
    "* An longer time between first and last impressions has a positive impact, possibly because being reminded about the credit card over a longer time-period allows the user to evaluate the need for the credit card.  It also makes sense that there's a penalty for when users only have 1 impression (TimeDiff_NULL_FLAG)\n",
    "* The Family Travel Message influence the most positively, we should review the ad creative and message for possible best practices.\n",
    "* Desktop impressions have the greatest positive influence.  One potential limiation/cause is because our users are in fact \"unique cookies\", so if a user saw ads on a mobile device, but switched to their desktop to apply for the credit, then we would not be able to see that in our data.  This may be causing a bias in our dataset that we should be aware of.\n",
    "* It's interesting how small the influence is from Clicks"
   ]
  },
  {
   "cell_type": "markdown",
   "metadata": {},
   "source": [
    "#### Plot distribution of Predicted Probabilities"
   ]
  },
  {
   "cell_type": "code",
   "execution_count": 118,
   "metadata": {
    "collapsed": false
   },
   "outputs": [
    {
     "data": {
      "image/png": "[encoded data removed]",
      "text/plain": [
       "<matplotlib.figure.Figure at 0x11bcd0550>"
      ]
     },
     "metadata": {},
     "output_type": "display_data"
    }
   ],
   "source": [
    "#Distribution of predictions\n",
    "plt.hist(scores);\n",
    "plt.title(\"Distribution of Predicted Probabilities\")\n",
    "plt.xlabel(\"Predicted Probability to Apply for Credit Card\")\n",
    "plt.ylabel(\"Count of Observations (Users)\");"
   ]
  },
  {
   "cell_type": "code",
   "execution_count": 119,
   "metadata": {
    "collapsed": false
   },
   "outputs": [
    {
     "data": {
      "image/png": "[encoded data removed]",
      "text/plain": [
       "<matplotlib.figure.Figure at 0x119f2e610>"
      ]
     },
     "metadata": {},
     "output_type": "display_data"
    }
   ],
   "source": [
    "#Distribution of predictions (Zoom in at probabilites<0.03%)\n",
    "max_in_chart=0.0003\n",
    "plt.hist(scores[scores<max_in_chart],bins=20);\n",
    "plt.title(\"Distribution of Predicted Probabilities\")\n",
    "plt.xlabel(\"Predicted Probability to Apply for Credit Card\")\n",
    "plt.ylabel(\"Count of Observations (Users)\");"
   ]
  },
  {
   "cell_type": "markdown",
   "metadata": {},
   "source": [
    "**Notes**\n",
    "* The large peak in the middle is an indication of how how hard it is to distinquish our observations from each other\n",
    "* However, there is a long tail to the right as seen in the first graph"
   ]
  },
  {
   "cell_type": "markdown",
   "metadata": {},
   "source": [
    "#### Plot ROC/AUC w/ Test Dataset (Reference Point)"
   ]
  },
  {
   "cell_type": "code",
   "execution_count": 120,
   "metadata": {
    "collapsed": false
   },
   "outputs": [
    {
     "data": {
      "image/png": "[encoded data removed]",
      "text/plain": [
       "<matplotlib.figure.Figure at 0x119f2e510>"
      ]
     },
     "metadata": {},
     "output_type": "display_data"
    }
   ],
   "source": [
    "#Plot ROC\n",
    "scores = best_logreg.predict_proba(X_test_std)[:,1]\n",
    "fpr, tpr, thresholds = roc_curve(y_test, scores)\n",
    "plt.plot(fpr,tpr,label='Initial Best Model ROC')\n",
    "\n",
    "#Plot reference line\n",
    "z=np.linspace(0,1,20)\n",
    "plt.plot(z,z,label='Baseline');\n",
    "\n",
    "#Calculate AUC\n",
    "area=auc(fpr, tpr)\n",
    "plt.text(0.5, 0.3, 'AUC={0:0.4f}'.format(area), style='normal',\n",
    "         verticalalignment='center', horizontalalignment='center',\n",
    "         bbox={'facecolor':'red', 'alpha':0.5, 'pad':10})\n",
    "\n",
    "# AUC shading\n",
    "x = np.linspace(0.0, 1, 11)\n",
    "plt.fill_between(fpr, 0, tpr, where=tpr >= 0, facecolor='lightblue', interpolate=True,alpha=0.5)\n",
    "\n",
    "#Plot details\n",
    "plt.title(\"ROC on Test Data\")\n",
    "plt.xlabel(\"False Postive Rate (FPR)\")\n",
    "plt.ylabel(\"True Postive Rate (TPR)\")\n",
    "plt.legend(loc='right');"
   ]
  },
  {
   "cell_type": "code",
   "execution_count": null,
   "metadata": {
    "collapsed": true
   },
   "outputs": [],
   "source": []
  },
  {
   "cell_type": "code",
   "execution_count": null,
   "metadata": {
    "collapsed": true
   },
   "outputs": [],
   "source": []
  },
  {
   "cell_type": "code",
   "execution_count": null,
   "metadata": {
    "collapsed": true
   },
   "outputs": [],
   "source": []
  },
  {
   "cell_type": "code",
   "execution_count": null,
   "metadata": {
    "collapsed": true
   },
   "outputs": [],
   "source": []
  },
  {
   "cell_type": "code",
   "execution_count": null,
   "metadata": {
    "collapsed": true
   },
   "outputs": [],
   "source": []
  },
  {
   "cell_type": "code",
   "execution_count": null,
   "metadata": {
    "collapsed": true
   },
   "outputs": [],
   "source": []
  },
  {
   "cell_type": "code",
   "execution_count": null,
   "metadata": {
    "collapsed": true
   },
   "outputs": [],
   "source": []
  },
  {
   "cell_type": "code",
   "execution_count": null,
   "metadata": {
    "collapsed": true
   },
   "outputs": [],
   "source": []
  },
  {
   "cell_type": "code",
   "execution_count": null,
   "metadata": {
    "collapsed": true
   },
   "outputs": [],
   "source": []
  },
  {
   "cell_type": "markdown",
   "metadata": {},
   "source": [
    "## Business Metrics on Final Model"
   ]
  },
  {
   "cell_type": "code",
   "execution_count": null,
   "metadata": {
    "collapsed": false
   },
   "outputs": [],
   "source": [
    "roc_df = pd.DataFrame({'thresholds':thresholds,\n",
    "                  'tpr':tpr,\n",
    "                  'fpr':fpr}, columns=['thresholds','tpr','fpr'])\n",
    "roc_df.head()"
   ]
  },
  {
   "cell_type": "code",
   "execution_count": null,
   "metadata": {
    "collapsed": false
   },
   "outputs": [],
   "source": [
    "#Get Threshold at various tpr and fpr\n",
    "breakouts=100\n",
    "roc_cuts=None\n",
    "roc_cuts=pd.DataFrame()\n",
    "for i in range(0,breakouts):\n",
    "    threshold_cut = i/float(breakouts)+0.1\n",
    "    temp=roc_df[roc_df['tpr']<=threshold_cut].sort_values(by='thresholds',ascending=True).head(1)\n",
    "    roc_cuts=pd.concat([roc_cuts,temp])\n",
    "roc_cuts"
   ]
  },
  {
   "cell_type": "code",
   "execution_count": null,
   "metadata": {
    "collapsed": false
   },
   "outputs": [],
   "source": [
    "#ROI benchmark\n",
    "# Get baseline value of campaign AS IS\n",
    "# Baseline scenario is we go after ALL the users in the dataset\n",
    "# Value of credit card application=$500\n",
    "# Avg cost of reaching user=$0.033827\n",
    "ROI(y=y_test,\n",
    "    y_pred=np.ones(y_test.size),  #predicting all will convert (or worthwhile going after)\n",
    "    app_value=500,\n",
    "    avg_user_cost=0.033827)"
   ]
  },
  {
   "cell_type": "code",
   "execution_count": null,
   "metadata": {
    "collapsed": false
   },
   "outputs": [],
   "source": [
    "%%time\n",
    "#breakouts=10\n",
    "#ROI_results=pd.DataFrame()\n",
    "#for i in range(0,breakouts):\n",
    "#    threshold_cut = i/10.+0.1\n",
    "#    roc_cuts=pd.concat([roc_cuts,temp])\n",
    "#roc_cuts\n",
    "\n",
    "ROIs=[]\n",
    "Net_Values=[]\n",
    "\n",
    "for i in range(0,breakouts):\n",
    "    prob_threshold=roc_cuts.iloc[i,0]\n",
    "    scores = best_logreg.predict_proba(X_test_std)[:,1]\n",
    "    y_pred = [1 if x>=prob_threshold else 0 for x in scores]\n",
    "    \n",
    "    ROIs.append(ROI(y=y_test,y_pred=y_pred,app_value=500,avg_user_cost=0.033827))\n",
    "    Net_Values.append(Net_Value(y=y_test,y_pred=y_pred,app_value=500,avg_user_cost=0.033827))"
   ]
  },
  {
   "cell_type": "code",
   "execution_count": null,
   "metadata": {
    "collapsed": false
   },
   "outputs": [],
   "source": [
    "value_df=pd.DataFrame({'Thresholds':roc_cuts['thresholds'],\n",
    "                       'tpr':roc_cuts['tpr'],\n",
    "                       'fpr':roc_cuts['fpr'],\n",
    "                       'ROI':ROIs,\n",
    "                       'Net_Value':Net_Values})\n",
    "\n",
    "\n",
    "value_df"
   ]
  },
  {
   "cell_type": "code",
   "execution_count": null,
   "metadata": {
    "collapsed": false
   },
   "outputs": [],
   "source": [
    "fig, ax1 = plt.subplots()\n",
    "ax1.plot(value_df['Thresholds'],value_df['ROI'])\n",
    "\n",
    "\n",
    "#ax1.plot(t, s1, 'b-')\n",
    "#ax1.set_xlabel('time (s)')\n",
    "# Make the y-axis label, ticks and tick labels match the line color.\n",
    "#ax1.set_ylabel('exp', color='b')\n",
    "#ax1.tick_params('y', colors='b')\n",
    "\n",
    "ax2 = ax1.twinx()\n",
    "ax2.plot(value_df['Thresholds'],value_df['Net_Value'])\n",
    "\n",
    "#s2 = np.sin(2 * np.pi * t)\n",
    "#ax2.plot(t, s2, 'r.')\n",
    "#ax2.set_ylabel('sin', color='r')\n",
    "#ax2.tick_params('y', colors='r')\n",
    "\n",
    "fig.tight_layout()"
   ]
  },
  {
   "cell_type": "code",
   "execution_count": null,
   "metadata": {
    "collapsed": false
   },
   "outputs": [],
   "source": [
    "plt.plot(value_df['tpr'],value_df['Net_Value']);"
   ]
  },
  {
   "cell_type": "code",
   "execution_count": null,
   "metadata": {
    "collapsed": false
   },
   "outputs": [],
   "source": [
    "plt.plot(value_df['tpr'],value_df['ROI']);"
   ]
  },
  {
   "cell_type": "code",
   "execution_count": null,
   "metadata": {
    "collapsed": true
   },
   "outputs": [],
   "source": [
    "#Print the distribution of scares by actual 1 or 0 on test data? (like in ROC yt video)"
   ]
  },
  {
   "cell_type": "code",
   "execution_count": null,
   "metadata": {
    "collapsed": true
   },
   "outputs": [],
   "source": []
  },
  {
   "cell_type": "code",
   "execution_count": null,
   "metadata": {
    "collapsed": true
   },
   "outputs": [],
   "source": []
  },
  {
   "cell_type": "code",
   "execution_count": null,
   "metadata": {
    "collapsed": true
   },
   "outputs": [],
   "source": []
  },
  {
   "cell_type": "code",
   "execution_count": null,
   "metadata": {
    "collapsed": false
   },
   "outputs": [],
   "source": [
    "#np.exp(-0.167144)"
   ]
  },
  {
   "cell_type": "code",
   "execution_count": null,
   "metadata": {
    "collapsed": true
   },
   "outputs": [],
   "source": []
  }
 ],
 "metadata": {
  "anaconda-cloud": {},
  "kernelspec": {
   "display_name": "Python [default]",
   "language": "python",
   "name": "python2"
  },
  "language_info": {
   "codemirror_mode": {
    "name": "ipython",
    "version": 2
   },
   "file_extension": ".py",
   "mimetype": "text/x-python",
   "name": "python",
   "nbconvert_exporter": "python",
   "pygments_lexer": "ipython2",
   "version": "2.7.12"
  }
 },
 "nbformat": 4,
 "nbformat_minor": 1
}
