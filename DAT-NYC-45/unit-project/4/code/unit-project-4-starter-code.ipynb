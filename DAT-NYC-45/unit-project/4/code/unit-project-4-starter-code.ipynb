{
 "cells": [
  {
   "cell_type": "markdown",
   "metadata": {},
   "source": [
    "# DS-NYC-45 | Unit Project 4: Notebook with Executive Summary\n",
    "\n",
    "In this project, you will summarize and present your analysis from Unit Projects 1-3."
   ]
  },
  {
   "cell_type": "markdown",
   "metadata": {},
   "source": [
    "> ## Question 1.  Introduction\n",
    "> Write a problem statement for this project."
   ]
  },
  {
   "cell_type": "markdown",
   "metadata": {},
   "source": [
    "### Problem Statement\n",
    "Determine the various factors that may influence admission into UCLA's graduate school. Using a sample of cross-sectional UCLA admissions data, we would like to explore the association of GRE score, GPA score, and Prestige with admission to UCLA's graduate school. We will test whether applicants will be more likely to be admitted into UCLA's graduate school when they have higher GRE and GPA scores, and when they come from a more prestigious alma mater."
   ]
  },
  {
   "cell_type": "markdown",
   "metadata": {},
   "source": [
    "> ## Question 2.  Dataset\n",
    "> Write up a description of your data and any cleaning that was completed."
   ]
  },
  {
   "cell_type": "markdown",
   "metadata": {},
   "source": [
    "### Dataset\n",
    "\n",
    "The dataset we will be analyzing includes 400 observations of UCLA students with the following data:\n",
    "\n",
    "Variable | Description | Type of Variable | Range\n",
    "---|---|---|---\n",
    "admit | 0 = Not admitted into UCLA, 1 = admitted into UCLA | Categorical | N/A\n",
    "gre | GRE (Graduate Record Examination) score | Continuous | 220-800\n",
    "gpa | GPA (Grade Point Average) score | Continuous | 2.26-4.00\n",
    "prestige | Prestige of applicant's alma mater, with 1 as highest tier (most prestigeous)<br> and 4 as the lowest tier (least prestigeous). | Categorical | N/A\n",
    "\n",
    "**Data Cleaning Steps**\n",
    "* 3 Obesrvations were excluded from the analysis due to missing data for either GRE, GPA, or Prestige\n",
    "* Created 4 new features based on the categorial feature **Prestige** (i.e. one-hot encoding):\n",
    "    * **prestige_1**: 1 if student from tier-1 undergraduate school, otherwise 0\n",
    "    * **prestige_2**: 1 if student from tier-2 undergraduate school, otherwise 0\n",
    "    * **prestige_3**: 1 if student from tier-3 undergraduate school, otherwise 0\n",
    "    * **prestige_4**: 1 if student from tier-4 undergraduate school, otherwise 0"
   ]
  },
  {
   "cell_type": "markdown",
   "metadata": {
    "collapsed": true
   },
   "source": [
    "> ## Question 3.  Demo\n",
    "> Provide a table that explains the data by admission status."
   ]
  },
  {
   "cell_type": "markdown",
   "metadata": {},
   "source": [
    "### Description of Data by Admission Status\n",
    "\n",
    "Feature | Admitted | Not Admitted\n",
    "---|---|---\n",
    "**admit**     |count=127|count=273\n",
    "**gre**       |mean=619, std=109  |mean=574, std=116\n",
    "**gpa**       |mean=3.49, std=0.37|mean=3.35, std=0.38\n",
    "**prestige_1**|count=33<br>|count=28\n",
    "**prestige_2**|count=53<br>|count=97\n",
    "**prestige_3**|count=28<br>|count=93\n",
    "**prestige_4**|count=12<br>|count=55\n"
   ]
  },
  {
   "cell_type": "markdown",
   "metadata": {},
   "source": [
    "> ## Question 4. Methods\n",
    "> Write up the methods used in your analysis."
   ]
  },
  {
   "cell_type": "markdown",
   "metadata": {},
   "source": [
    "### Analytical Methods\n",
    "**Exploratory Analysis**\n",
    "* Understand distribution of each feature:\n",
    "    * For GRE & GPA (Continous Features):\n",
    "        * Calculated Mean, Min, Max, Standard Deviation\n",
    "        * Created Box plots to understand distibution and identify possible outliers\n",
    "        * Created Histograms for a more detailed look at the distribution\n",
    "    * For Prestige (Categorical Feature):\n",
    "        * Created Histogram to understand the distribution of tiers\n",
    "* Calculated correlations between each feature to determine any potential colinearity.\n",
    "\n",
    "**Logistic Regression**\n",
    "* Potential Risks:\n",
    "    * We are assuming that GRE and GPA variables are uniformly distributed.  Their distributions were relatively close to make this assumption.\n",
    "    * We are also assuming no colinearity, but we did see some covariance between the features.\n",
    "* Manually calculated odds ratios for Prestige.\n",
    "* Fit Logistic Regression using GRE, GPA, and Prestige (using tier-1 as our reference). Used both **`statsmodels`** and **`sklearn`** to fit the model.\n",
    "* Calculated odds ratios based on model coefficients for each feature.\n",
    "* Predicted the probability of admission by undergraduate school tier (with GRE of 800 and GPA of 4) using our fitted models."
   ]
  },
  {
   "cell_type": "markdown",
   "metadata": {},
   "source": [
    "> ## Question 5. Results\n",
    "> Write up your results."
   ]
  },
  {
   "cell_type": "markdown",
   "metadata": {},
   "source": [
    "### Results\n",
    "\n",
    "Our goal was to determine how GRE, GPA, and undergraduate school Prestige influence admission into UCLA's graduate school. Below are our findings based on our Logistic Regression model.\n",
    "\n",
    "*Note: Results below are based on the model using `sklearn`*\n",
    "\n",
    "The odds of being addmitted into UCLA's graduate school, relative to Tier-1 undergraduate prestige:\n",
    "* Increases by 2.16% for every 1pt increase in GRE\n",
    "* Increases by 96.0% for every 1pt increase in GPA\n",
    "* Descreases by 46.7% when Prestige=2 (instead of Prestige=1)\n",
    "* Descreases by 71.4% when Prestige=3 (instead of Prestige=1)\n",
    "* Descreases by 72.2% when Prestige=4 (instead of Prestige=1)"
   ]
  },
  {
   "cell_type": "markdown",
   "metadata": {},
   "source": [
    "> ## Question 6. Visuals\n",
    "> Provide a table or visualization of these results."
   ]
  },
  {
   "cell_type": "markdown",
   "metadata": {},
   "source": [
    "### Visuals\n",
    "\n",
    "**Feature Distributions**\n",
    "![Distribution: Admit](../images/Admit_Distribution.png)\n",
    "![Distribution: GRE](../images/GRE_Dist.png)\n",
    "![Distribution: GPA](../images/GPA_Dist.png)\n",
    "![Distribution: Prestige](../images/Prestige_Dist.png)\n",
    "\n",
    "**Feature Correlations**\n",
    "\t\n",
    "|admit|gre|gpa|prestige\n",
    "---|---|---|---|---\n",
    "**admit**|1.000000|0.181202|0.174116|-0.243563\n",
    "**gre**|0.181202|1.000000|0.382408|-0.124533\n",
    "**gpa**|0.174116|0.382408|1.000000|-0.060976\n",
    "**prestige**|-0.243563|-0.124533|-0.060976|1.000000\n",
    "\n",
    "**Logistic Regression Cofficients & Odds Ratios**\n",
    "\n",
    "*Note: Model coeffificients and odds ratios are relative to prestige=1*\n",
    "\n",
    "Feature|Cofficient (`sklearn`)|Odds Ratio (`sklearn`)|Cofficient (`statsmodels`)|Odds Ratio (`statsmodels`)|\n",
    "----------|:---------:|:------:|:-------:|:------:\n",
    "gre       | 0.00215822|1.002161| 0.002218|1.002221\n",
    "gpa       | 0.67315495|1.960413| 0.779337|2.180027\n",
    "prestige_2|-0.62882239|0.533219|-0.680137|0.506548\n",
    "prestige_3|-1.25222745|0.285867|-1.338677|0.262192\n",
    "prestige_4|-1.56879212|0.208297|-1.553411|0.211525\n",
    "intercept |-3.51478687|N/A     |-3.876854|N/A"
   ]
  },
  {
   "cell_type": "markdown",
   "metadata": {},
   "source": [
    "> ## Question 7.  Discussion\n",
    "> Write up your discussion and future steps."
   ]
  },
  {
   "cell_type": "markdown",
   "metadata": {},
   "source": [
    "### Discusion and Next Steps\n",
    "\n",
    "**Conclusion**\n",
    "\n",
    "During this project we were able to determine the degree of influence that GRE scores, GPA, and the Prestige of the applicant's undergraduate school has on their probability to be admitted into UCLA.  Our results show that all features have significant impact on the probability to be admitted. We were also able to validate our hypothesis that applicants will be more likely to be admitted into UCLA's graduate school when they have higher GRE and GPA scores, and when they come from a more prestigious alma mater. \n",
    "\n",
    "**Next Steps**\n",
    "\n",
    "Now that we understand the association between GRE scores, GPA, and Prestige to admission, our next goal could be to build a rebust predictive model. Below are some considerations and next steps to achieve this:\n",
    "* We will need to split our data between Train and Test to properly evaluate the predictive power of our model. We can use cross-validation to assess models on the training data, but we will assess the performance of the final model based on the Test data.\n",
    "* We can adjust are Logistic Regression predictor by using L1, or L2 regularization.  We can also adjust the threshold for classifying admission based on the resulting probability to be admitted (e.g. doesn't need to be 0.5).\n",
    "* We can plot learning curves and determine whether we need to obtain more observations of data or new features to improve the predictive power of our model.\n",
    "* Also, in this study it was important to have a intuitive understanding of the model, but going forward we can test other predictors such as Random Forest and potentially try to improve models results by leveraging PCA."
   ]
  }
 ],
 "metadata": {
  "anaconda-cloud": {},
  "kernelspec": {
   "display_name": "Python [conda root]",
   "language": "python",
   "name": "conda-root-py"
  },
  "language_info": {
   "codemirror_mode": {
    "name": "ipython",
    "version": 2
   },
   "file_extension": ".py",
   "mimetype": "text/x-python",
   "name": "python",
   "nbconvert_exporter": "python",
   "pygments_lexer": "ipython2",
   "version": "2.7.12"
  }
 },
 "nbformat": 4,
 "nbformat_minor": 0
}
